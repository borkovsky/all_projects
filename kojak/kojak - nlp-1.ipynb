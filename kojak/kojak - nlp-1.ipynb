{
 "cells": [
  {
   "cell_type": "code",
   "execution_count": null,
   "metadata": {},
   "outputs": [],
   "source": [
    "import pandas as pd\n",
    "import numpy as np\n",
    "\n",
    "import matplotlib.pyplot as plt\n",
    "%matplotlib inline\n",
    "\n",
    "import seaborn as sns\n",
    "\n",
    "from keras.preprocessing.text import Tokenizer\n",
    "from keras.preprocessing.sequence import pad_sequences\n",
    "from keras.utils import to_categorical\n",
    "import re\n",
    "import codecs\n",
    "\n",
    "import spacy\n",
    "from sklearn.decomposition import NMF, LatentDirichletAllocation"
   ]
  },
  {
   "cell_type": "code",
   "execution_count": 58,
   "metadata": {},
   "outputs": [],
   "source": [
    "df_review = pd.read_csv('/Users/iris/Downloads/yelp_review.csv')\n",
    "df_tip = pd.read_csv('/Users/iris/Downloads/yelp_tip.csv')"
   ]
  },
  {
   "cell_type": "code",
   "execution_count": 59,
   "metadata": {},
   "outputs": [
    {
     "data": {
      "text/html": [
       "<div>\n",
       "<style scoped>\n",
       "    .dataframe tbody tr th:only-of-type {\n",
       "        vertical-align: middle;\n",
       "    }\n",
       "\n",
       "    .dataframe tbody tr th {\n",
       "        vertical-align: top;\n",
       "    }\n",
       "\n",
       "    .dataframe thead th {\n",
       "        text-align: right;\n",
       "    }\n",
       "</style>\n",
       "<table border=\"1\" class=\"dataframe\">\n",
       "  <thead>\n",
       "    <tr style=\"text-align: right;\">\n",
       "      <th></th>\n",
       "      <th>review_id</th>\n",
       "      <th>user_id</th>\n",
       "      <th>business_id</th>\n",
       "      <th>stars</th>\n",
       "      <th>date</th>\n",
       "      <th>text</th>\n",
       "      <th>useful</th>\n",
       "      <th>funny</th>\n",
       "      <th>cool</th>\n",
       "    </tr>\n",
       "  </thead>\n",
       "  <tbody>\n",
       "    <tr>\n",
       "      <th>0</th>\n",
       "      <td>vkVSCC7xljjrAI4UGfnKEQ</td>\n",
       "      <td>bv2nCi5Qv5vroFiqKGopiw</td>\n",
       "      <td>AEx2SYEUJmTxVVB18LlCwA</td>\n",
       "      <td>5</td>\n",
       "      <td>2016-05-28</td>\n",
       "      <td>Super simple place but amazing nonetheless. It...</td>\n",
       "      <td>0</td>\n",
       "      <td>0</td>\n",
       "      <td>0</td>\n",
       "    </tr>\n",
       "    <tr>\n",
       "      <th>1</th>\n",
       "      <td>n6QzIUObkYshz4dz2QRJTw</td>\n",
       "      <td>bv2nCi5Qv5vroFiqKGopiw</td>\n",
       "      <td>VR6GpWIda3SfvPC-lg9H3w</td>\n",
       "      <td>5</td>\n",
       "      <td>2016-05-28</td>\n",
       "      <td>Small unassuming place that changes their menu...</td>\n",
       "      <td>0</td>\n",
       "      <td>0</td>\n",
       "      <td>0</td>\n",
       "    </tr>\n",
       "  </tbody>\n",
       "</table>\n",
       "</div>"
      ],
      "text/plain": [
       "                review_id                 user_id             business_id  \\\n",
       "0  vkVSCC7xljjrAI4UGfnKEQ  bv2nCi5Qv5vroFiqKGopiw  AEx2SYEUJmTxVVB18LlCwA   \n",
       "1  n6QzIUObkYshz4dz2QRJTw  bv2nCi5Qv5vroFiqKGopiw  VR6GpWIda3SfvPC-lg9H3w   \n",
       "\n",
       "   stars        date                                               text  \\\n",
       "0      5  2016-05-28  Super simple place but amazing nonetheless. It...   \n",
       "1      5  2016-05-28  Small unassuming place that changes their menu...   \n",
       "\n",
       "   useful  funny  cool  \n",
       "0       0      0     0  \n",
       "1       0      0     0  "
      ]
     },
     "execution_count": 59,
     "metadata": {},
     "output_type": "execute_result"
    }
   ],
   "source": [
    "df_review.head(2)"
   ]
  },
  {
   "cell_type": "code",
   "execution_count": 60,
   "metadata": {},
   "outputs": [
    {
     "data": {
      "text/html": [
       "<div>\n",
       "<style scoped>\n",
       "    .dataframe tbody tr th:only-of-type {\n",
       "        vertical-align: middle;\n",
       "    }\n",
       "\n",
       "    .dataframe tbody tr th {\n",
       "        vertical-align: top;\n",
       "    }\n",
       "\n",
       "    .dataframe thead th {\n",
       "        text-align: right;\n",
       "    }\n",
       "</style>\n",
       "<table border=\"1\" class=\"dataframe\">\n",
       "  <thead>\n",
       "    <tr style=\"text-align: right;\">\n",
       "      <th></th>\n",
       "      <th>text</th>\n",
       "      <th>date</th>\n",
       "      <th>likes</th>\n",
       "      <th>business_id</th>\n",
       "      <th>user_id</th>\n",
       "    </tr>\n",
       "  </thead>\n",
       "  <tbody>\n",
       "    <tr>\n",
       "      <th>0</th>\n",
       "      <td>Great breakfast large portions and friendly wa...</td>\n",
       "      <td>2015-08-12</td>\n",
       "      <td>0</td>\n",
       "      <td>jH19V2I9fIslnNhDzPmdkA</td>\n",
       "      <td>ZcLKXikTHYOnYt5VYRO5sg</td>\n",
       "    </tr>\n",
       "    <tr>\n",
       "      <th>1</th>\n",
       "      <td>Nice place. Great staff.  A fixture in the tow...</td>\n",
       "      <td>2014-06-20</td>\n",
       "      <td>0</td>\n",
       "      <td>dAa0hB2yrnHzVmsCkN4YvQ</td>\n",
       "      <td>oaYhjqBbh18ZhU0bpyzSuw</td>\n",
       "    </tr>\n",
       "  </tbody>\n",
       "</table>\n",
       "</div>"
      ],
      "text/plain": [
       "                                                text        date  likes  \\\n",
       "0  Great breakfast large portions and friendly wa...  2015-08-12      0   \n",
       "1  Nice place. Great staff.  A fixture in the tow...  2014-06-20      0   \n",
       "\n",
       "              business_id                 user_id  \n",
       "0  jH19V2I9fIslnNhDzPmdkA  ZcLKXikTHYOnYt5VYRO5sg  \n",
       "1  dAa0hB2yrnHzVmsCkN4YvQ  oaYhjqBbh18ZhU0bpyzSuw  "
      ]
     },
     "execution_count": 60,
     "metadata": {},
     "output_type": "execute_result"
    }
   ],
   "source": [
    "df_tip.head(2)"
   ]
  },
  {
   "cell_type": "code",
   "execution_count": 61,
   "metadata": {},
   "outputs": [],
   "source": [
    "df = df_review.merge(df_tip[['text','business_id','user_id']], on = ['business_id','user_id'])\n",
    "#df1 = df1.merge(df2[['weeknum', 'datetime']], on=['weeknum'])"
   ]
  },
  {
   "cell_type": "code",
   "execution_count": 62,
   "metadata": {},
   "outputs": [],
   "source": [
    "df_business = pd.read_csv('/Users/iris/Downloads/yelp_business.csv')"
   ]
  },
  {
   "cell_type": "code",
   "execution_count": 63,
   "metadata": {},
   "outputs": [
    {
     "data": {
      "text/html": [
       "<div>\n",
       "<style scoped>\n",
       "    .dataframe tbody tr th:only-of-type {\n",
       "        vertical-align: middle;\n",
       "    }\n",
       "\n",
       "    .dataframe tbody tr th {\n",
       "        vertical-align: top;\n",
       "    }\n",
       "\n",
       "    .dataframe thead th {\n",
       "        text-align: right;\n",
       "    }\n",
       "</style>\n",
       "<table border=\"1\" class=\"dataframe\">\n",
       "  <thead>\n",
       "    <tr style=\"text-align: right;\">\n",
       "      <th></th>\n",
       "      <th>business_id</th>\n",
       "      <th>name</th>\n",
       "      <th>neighborhood</th>\n",
       "      <th>address</th>\n",
       "      <th>city</th>\n",
       "      <th>state</th>\n",
       "      <th>postal_code</th>\n",
       "      <th>latitude</th>\n",
       "      <th>longitude</th>\n",
       "      <th>stars</th>\n",
       "      <th>review_count</th>\n",
       "      <th>is_open</th>\n",
       "      <th>categories</th>\n",
       "    </tr>\n",
       "  </thead>\n",
       "  <tbody>\n",
       "    <tr>\n",
       "      <th>0</th>\n",
       "      <td>FYWN1wneV18bWNgQjJ2GNg</td>\n",
       "      <td>\"Dental by Design\"</td>\n",
       "      <td>NaN</td>\n",
       "      <td>\"4855 E Warner Rd, Ste B9\"</td>\n",
       "      <td>Ahwatukee</td>\n",
       "      <td>AZ</td>\n",
       "      <td>85044</td>\n",
       "      <td>33.330690</td>\n",
       "      <td>-111.978599</td>\n",
       "      <td>4.0</td>\n",
       "      <td>22</td>\n",
       "      <td>1</td>\n",
       "      <td>Dentists;General Dentistry;Health &amp; Medical;Or...</td>\n",
       "    </tr>\n",
       "    <tr>\n",
       "      <th>1</th>\n",
       "      <td>He-G7vWjzVUysIKrfNbPUQ</td>\n",
       "      <td>\"Stephen Szabo Salon\"</td>\n",
       "      <td>NaN</td>\n",
       "      <td>\"3101 Washington Rd\"</td>\n",
       "      <td>McMurray</td>\n",
       "      <td>PA</td>\n",
       "      <td>15317</td>\n",
       "      <td>40.291685</td>\n",
       "      <td>-80.104900</td>\n",
       "      <td>3.0</td>\n",
       "      <td>11</td>\n",
       "      <td>1</td>\n",
       "      <td>Hair Stylists;Hair Salons;Men's Hair Salons;Bl...</td>\n",
       "    </tr>\n",
       "  </tbody>\n",
       "</table>\n",
       "</div>"
      ],
      "text/plain": [
       "              business_id                   name neighborhood  \\\n",
       "0  FYWN1wneV18bWNgQjJ2GNg     \"Dental by Design\"          NaN   \n",
       "1  He-G7vWjzVUysIKrfNbPUQ  \"Stephen Szabo Salon\"          NaN   \n",
       "\n",
       "                      address       city state postal_code   latitude  \\\n",
       "0  \"4855 E Warner Rd, Ste B9\"  Ahwatukee    AZ       85044  33.330690   \n",
       "1        \"3101 Washington Rd\"   McMurray    PA       15317  40.291685   \n",
       "\n",
       "    longitude  stars  review_count  is_open  \\\n",
       "0 -111.978599    4.0            22        1   \n",
       "1  -80.104900    3.0            11        1   \n",
       "\n",
       "                                          categories  \n",
       "0  Dentists;General Dentistry;Health & Medical;Or...  \n",
       "1  Hair Stylists;Hair Salons;Men's Hair Salons;Bl...  "
      ]
     },
     "execution_count": 63,
     "metadata": {},
     "output_type": "execute_result"
    }
   ],
   "source": [
    "df_business.head(2)"
   ]
  },
  {
   "cell_type": "code",
   "execution_count": 64,
   "metadata": {},
   "outputs": [
    {
     "data": {
      "text/html": [
       "<div>\n",
       "<style scoped>\n",
       "    .dataframe tbody tr th:only-of-type {\n",
       "        vertical-align: middle;\n",
       "    }\n",
       "\n",
       "    .dataframe tbody tr th {\n",
       "        vertical-align: top;\n",
       "    }\n",
       "\n",
       "    .dataframe thead th {\n",
       "        text-align: right;\n",
       "    }\n",
       "</style>\n",
       "<table border=\"1\" class=\"dataframe\">\n",
       "  <thead>\n",
       "    <tr style=\"text-align: right;\">\n",
       "      <th></th>\n",
       "      <th>review_id</th>\n",
       "      <th>user_id</th>\n",
       "      <th>business_id</th>\n",
       "      <th>stars</th>\n",
       "      <th>date</th>\n",
       "      <th>text_x</th>\n",
       "      <th>useful</th>\n",
       "      <th>funny</th>\n",
       "      <th>cool</th>\n",
       "      <th>text_y</th>\n",
       "    </tr>\n",
       "  </thead>\n",
       "  <tbody>\n",
       "    <tr>\n",
       "      <th>0</th>\n",
       "      <td>YO54hQpIpY60GZBc0jzBDw</td>\n",
       "      <td>vaXJ7-xLrnD6FAEhUqYKwQ</td>\n",
       "      <td>poOnGeQlHEnWRAH9t_0KMg</td>\n",
       "      <td>5</td>\n",
       "      <td>2016-06-17</td>\n",
       "      <td>Great pizza and wings for the prize. Great fla...</td>\n",
       "      <td>0</td>\n",
       "      <td>0</td>\n",
       "      <td>0</td>\n",
       "      <td>Great pizza no wings for the prize</td>\n",
       "    </tr>\n",
       "    <tr>\n",
       "      <th>1</th>\n",
       "      <td>Ch_OvSABjH6bbxMetS9FUg</td>\n",
       "      <td>h7i58iukFZPAFgTF34mZJA</td>\n",
       "      <td>wvsadleYJavXp8u697GK6A</td>\n",
       "      <td>5</td>\n",
       "      <td>2011-07-22</td>\n",
       "      <td>Awsome place. See cindy shes great for nails. ...</td>\n",
       "      <td>6</td>\n",
       "      <td>0</td>\n",
       "      <td>1</td>\n",
       "      <td>Great place see cindy. Shes great</td>\n",
       "    </tr>\n",
       "  </tbody>\n",
       "</table>\n",
       "</div>"
      ],
      "text/plain": [
       "                review_id                 user_id             business_id  \\\n",
       "0  YO54hQpIpY60GZBc0jzBDw  vaXJ7-xLrnD6FAEhUqYKwQ  poOnGeQlHEnWRAH9t_0KMg   \n",
       "1  Ch_OvSABjH6bbxMetS9FUg  h7i58iukFZPAFgTF34mZJA  wvsadleYJavXp8u697GK6A   \n",
       "\n",
       "   stars        date                                             text_x  \\\n",
       "0      5  2016-06-17  Great pizza and wings for the prize. Great fla...   \n",
       "1      5  2011-07-22  Awsome place. See cindy shes great for nails. ...   \n",
       "\n",
       "   useful  funny  cool                              text_y  \n",
       "0       0      0     0  Great pizza no wings for the prize  \n",
       "1       6      0     1   Great place see cindy. Shes great  "
      ]
     },
     "execution_count": 64,
     "metadata": {},
     "output_type": "execute_result"
    }
   ],
   "source": [
    "df.head(2)"
   ]
  },
  {
   "cell_type": "code",
   "execution_count": 65,
   "metadata": {},
   "outputs": [],
   "source": [
    "df = df.merge(df_business[['categories','business_id']], on = ['business_id'])"
   ]
  },
  {
   "cell_type": "code",
   "execution_count": 66,
   "metadata": {},
   "outputs": [
    {
     "data": {
      "text/html": [
       "<div>\n",
       "<style scoped>\n",
       "    .dataframe tbody tr th:only-of-type {\n",
       "        vertical-align: middle;\n",
       "    }\n",
       "\n",
       "    .dataframe tbody tr th {\n",
       "        vertical-align: top;\n",
       "    }\n",
       "\n",
       "    .dataframe thead th {\n",
       "        text-align: right;\n",
       "    }\n",
       "</style>\n",
       "<table border=\"1\" class=\"dataframe\">\n",
       "  <thead>\n",
       "    <tr style=\"text-align: right;\">\n",
       "      <th></th>\n",
       "      <th>review_id</th>\n",
       "      <th>user_id</th>\n",
       "      <th>business_id</th>\n",
       "      <th>stars</th>\n",
       "      <th>date</th>\n",
       "      <th>text_x</th>\n",
       "      <th>useful</th>\n",
       "      <th>funny</th>\n",
       "      <th>cool</th>\n",
       "      <th>text_y</th>\n",
       "      <th>categories</th>\n",
       "    </tr>\n",
       "  </thead>\n",
       "  <tbody>\n",
       "    <tr>\n",
       "      <th>0</th>\n",
       "      <td>YO54hQpIpY60GZBc0jzBDw</td>\n",
       "      <td>vaXJ7-xLrnD6FAEhUqYKwQ</td>\n",
       "      <td>poOnGeQlHEnWRAH9t_0KMg</td>\n",
       "      <td>5</td>\n",
       "      <td>2016-06-17</td>\n",
       "      <td>Great pizza and wings for the prize. Great fla...</td>\n",
       "      <td>0</td>\n",
       "      <td>0</td>\n",
       "      <td>0</td>\n",
       "      <td>Great pizza no wings for the prize</td>\n",
       "      <td>Pizza;Restaurants</td>\n",
       "    </tr>\n",
       "    <tr>\n",
       "      <th>1</th>\n",
       "      <td>q7eMhn7eI-IGWPW-nopvJg</td>\n",
       "      <td>OeQ75FJxgprciKQ1JrSMJg</td>\n",
       "      <td>poOnGeQlHEnWRAH9t_0KMg</td>\n",
       "      <td>5</td>\n",
       "      <td>2016-11-19</td>\n",
       "      <td>Fantastic food &amp; great service! The crust of t...</td>\n",
       "      <td>0</td>\n",
       "      <td>0</td>\n",
       "      <td>0</td>\n",
       "      <td>Fantastic food &amp; great service! We will visit ...</td>\n",
       "      <td>Pizza;Restaurants</td>\n",
       "    </tr>\n",
       "  </tbody>\n",
       "</table>\n",
       "</div>"
      ],
      "text/plain": [
       "                review_id                 user_id             business_id  \\\n",
       "0  YO54hQpIpY60GZBc0jzBDw  vaXJ7-xLrnD6FAEhUqYKwQ  poOnGeQlHEnWRAH9t_0KMg   \n",
       "1  q7eMhn7eI-IGWPW-nopvJg  OeQ75FJxgprciKQ1JrSMJg  poOnGeQlHEnWRAH9t_0KMg   \n",
       "\n",
       "   stars        date                                             text_x  \\\n",
       "0      5  2016-06-17  Great pizza and wings for the prize. Great fla...   \n",
       "1      5  2016-11-19  Fantastic food & great service! The crust of t...   \n",
       "\n",
       "   useful  funny  cool                                             text_y  \\\n",
       "0       0      0     0                 Great pizza no wings for the prize   \n",
       "1       0      0     0  Fantastic food & great service! We will visit ...   \n",
       "\n",
       "          categories  \n",
       "0  Pizza;Restaurants  \n",
       "1  Pizza;Restaurants  "
      ]
     },
     "execution_count": 66,
     "metadata": {},
     "output_type": "execute_result"
    }
   ],
   "source": [
    "df.head(2)"
   ]
  },
  {
   "cell_type": "code",
   "execution_count": 67,
   "metadata": {},
   "outputs": [],
   "source": [
    "df = df[df['categories'].str.contains('Restaurants')]"
   ]
  },
  {
   "cell_type": "code",
   "execution_count": 68,
   "metadata": {},
   "outputs": [
    {
     "data": {
      "text/html": [
       "<div>\n",
       "<style scoped>\n",
       "    .dataframe tbody tr th:only-of-type {\n",
       "        vertical-align: middle;\n",
       "    }\n",
       "\n",
       "    .dataframe tbody tr th {\n",
       "        vertical-align: top;\n",
       "    }\n",
       "\n",
       "    .dataframe thead th {\n",
       "        text-align: right;\n",
       "    }\n",
       "</style>\n",
       "<table border=\"1\" class=\"dataframe\">\n",
       "  <thead>\n",
       "    <tr style=\"text-align: right;\">\n",
       "      <th></th>\n",
       "      <th>review_id</th>\n",
       "      <th>user_id</th>\n",
       "      <th>business_id</th>\n",
       "      <th>stars</th>\n",
       "      <th>date</th>\n",
       "      <th>text_x</th>\n",
       "      <th>useful</th>\n",
       "      <th>funny</th>\n",
       "      <th>cool</th>\n",
       "      <th>text_y</th>\n",
       "      <th>categories</th>\n",
       "    </tr>\n",
       "  </thead>\n",
       "  <tbody>\n",
       "    <tr>\n",
       "      <th>0</th>\n",
       "      <td>YO54hQpIpY60GZBc0jzBDw</td>\n",
       "      <td>vaXJ7-xLrnD6FAEhUqYKwQ</td>\n",
       "      <td>poOnGeQlHEnWRAH9t_0KMg</td>\n",
       "      <td>5</td>\n",
       "      <td>2016-06-17</td>\n",
       "      <td>Great pizza and wings for the prize. Great fla...</td>\n",
       "      <td>0</td>\n",
       "      <td>0</td>\n",
       "      <td>0</td>\n",
       "      <td>Great pizza no wings for the prize</td>\n",
       "      <td>Pizza;Restaurants</td>\n",
       "    </tr>\n",
       "    <tr>\n",
       "      <th>1</th>\n",
       "      <td>q7eMhn7eI-IGWPW-nopvJg</td>\n",
       "      <td>OeQ75FJxgprciKQ1JrSMJg</td>\n",
       "      <td>poOnGeQlHEnWRAH9t_0KMg</td>\n",
       "      <td>5</td>\n",
       "      <td>2016-11-19</td>\n",
       "      <td>Fantastic food &amp; great service! The crust of t...</td>\n",
       "      <td>0</td>\n",
       "      <td>0</td>\n",
       "      <td>0</td>\n",
       "      <td>Fantastic food &amp; great service! We will visit ...</td>\n",
       "      <td>Pizza;Restaurants</td>\n",
       "    </tr>\n",
       "  </tbody>\n",
       "</table>\n",
       "</div>"
      ],
      "text/plain": [
       "                review_id                 user_id             business_id  \\\n",
       "0  YO54hQpIpY60GZBc0jzBDw  vaXJ7-xLrnD6FAEhUqYKwQ  poOnGeQlHEnWRAH9t_0KMg   \n",
       "1  q7eMhn7eI-IGWPW-nopvJg  OeQ75FJxgprciKQ1JrSMJg  poOnGeQlHEnWRAH9t_0KMg   \n",
       "\n",
       "   stars        date                                             text_x  \\\n",
       "0      5  2016-06-17  Great pizza and wings for the prize. Great fla...   \n",
       "1      5  2016-11-19  Fantastic food & great service! The crust of t...   \n",
       "\n",
       "   useful  funny  cool                                             text_y  \\\n",
       "0       0      0     0                 Great pizza no wings for the prize   \n",
       "1       0      0     0  Fantastic food & great service! We will visit ...   \n",
       "\n",
       "          categories  \n",
       "0  Pizza;Restaurants  \n",
       "1  Pizza;Restaurants  "
      ]
     },
     "execution_count": 68,
     "metadata": {},
     "output_type": "execute_result"
    }
   ],
   "source": [
    "df.head(2)"
   ]
  },
  {
   "cell_type": "code",
   "execution_count": 69,
   "metadata": {},
   "outputs": [
    {
     "name": "stdout",
     "output_type": "stream",
     "text": [
      "<class 'pandas.core.frame.DataFrame'>\n",
      "Int64Index: 278322 entries, 0 to 432116\n",
      "Data columns (total 11 columns):\n",
      "review_id      278322 non-null object\n",
      "user_id        278322 non-null object\n",
      "business_id    278322 non-null object\n",
      "stars          278322 non-null int64\n",
      "date           278322 non-null object\n",
      "text_x         278322 non-null object\n",
      "useful         278322 non-null int64\n",
      "funny          278322 non-null int64\n",
      "cool           278322 non-null int64\n",
      "text_y         278321 non-null object\n",
      "categories     278322 non-null object\n",
      "dtypes: int64(4), object(7)\n",
      "memory usage: 25.5+ MB\n"
     ]
    }
   ],
   "source": [
    "df.info()"
   ]
  },
  {
   "cell_type": "code",
   "execution_count": 70,
   "metadata": {},
   "outputs": [
    {
     "data": {
      "text/html": [
       "<div>\n",
       "<style scoped>\n",
       "    .dataframe tbody tr th:only-of-type {\n",
       "        vertical-align: middle;\n",
       "    }\n",
       "\n",
       "    .dataframe tbody tr th {\n",
       "        vertical-align: top;\n",
       "    }\n",
       "\n",
       "    .dataframe thead th {\n",
       "        text-align: right;\n",
       "    }\n",
       "</style>\n",
       "<table border=\"1\" class=\"dataframe\">\n",
       "  <thead>\n",
       "    <tr style=\"text-align: right;\">\n",
       "      <th></th>\n",
       "      <th>stars</th>\n",
       "      <th>useful</th>\n",
       "      <th>funny</th>\n",
       "      <th>cool</th>\n",
       "    </tr>\n",
       "  </thead>\n",
       "  <tbody>\n",
       "    <tr>\n",
       "      <th>count</th>\n",
       "      <td>278322.000000</td>\n",
       "      <td>278322.000000</td>\n",
       "      <td>278322.000000</td>\n",
       "      <td>278322.000000</td>\n",
       "    </tr>\n",
       "    <tr>\n",
       "      <th>mean</th>\n",
       "      <td>4.047477</td>\n",
       "      <td>2.063588</td>\n",
       "      <td>0.977045</td>\n",
       "      <td>1.300990</td>\n",
       "    </tr>\n",
       "    <tr>\n",
       "      <th>std</th>\n",
       "      <td>1.194337</td>\n",
       "      <td>5.222447</td>\n",
       "      <td>4.122229</td>\n",
       "      <td>4.069802</td>\n",
       "    </tr>\n",
       "    <tr>\n",
       "      <th>min</th>\n",
       "      <td>1.000000</td>\n",
       "      <td>0.000000</td>\n",
       "      <td>0.000000</td>\n",
       "      <td>0.000000</td>\n",
       "    </tr>\n",
       "    <tr>\n",
       "      <th>25%</th>\n",
       "      <td>4.000000</td>\n",
       "      <td>0.000000</td>\n",
       "      <td>0.000000</td>\n",
       "      <td>0.000000</td>\n",
       "    </tr>\n",
       "    <tr>\n",
       "      <th>50%</th>\n",
       "      <td>4.000000</td>\n",
       "      <td>1.000000</td>\n",
       "      <td>0.000000</td>\n",
       "      <td>0.000000</td>\n",
       "    </tr>\n",
       "    <tr>\n",
       "      <th>75%</th>\n",
       "      <td>5.000000</td>\n",
       "      <td>2.000000</td>\n",
       "      <td>1.000000</td>\n",
       "      <td>1.000000</td>\n",
       "    </tr>\n",
       "    <tr>\n",
       "      <th>max</th>\n",
       "      <td>5.000000</td>\n",
       "      <td>786.000000</td>\n",
       "      <td>681.000000</td>\n",
       "      <td>228.000000</td>\n",
       "    </tr>\n",
       "  </tbody>\n",
       "</table>\n",
       "</div>"
      ],
      "text/plain": [
       "               stars         useful          funny           cool\n",
       "count  278322.000000  278322.000000  278322.000000  278322.000000\n",
       "mean        4.047477       2.063588       0.977045       1.300990\n",
       "std         1.194337       5.222447       4.122229       4.069802\n",
       "min         1.000000       0.000000       0.000000       0.000000\n",
       "25%         4.000000       0.000000       0.000000       0.000000\n",
       "50%         4.000000       1.000000       0.000000       0.000000\n",
       "75%         5.000000       2.000000       1.000000       1.000000\n",
       "max         5.000000     786.000000     681.000000     228.000000"
      ]
     },
     "execution_count": 70,
     "metadata": {},
     "output_type": "execute_result"
    }
   ],
   "source": [
    "df.describe()"
   ]
  },
  {
   "cell_type": "code",
   "execution_count": 71,
   "metadata": {},
   "outputs": [],
   "source": [
    "df.rename(columns = {'text_x':'review_text'}, inplace = True)"
   ]
  },
  {
   "cell_type": "code",
   "execution_count": 72,
   "metadata": {},
   "outputs": [],
   "source": [
    "df.rename(columns = {'text_y':'tip_text'}, inplace = True)"
   ]
  },
  {
   "cell_type": "code",
   "execution_count": 73,
   "metadata": {},
   "outputs": [
    {
     "data": {
      "text/plain": [
       "Index(['review_id', 'user_id', 'business_id', 'stars', 'date', 'review_text',\n",
       "       'useful', 'funny', 'cool', 'tip_text', 'categories'],\n",
       "      dtype='object')"
      ]
     },
     "execution_count": 73,
     "metadata": {},
     "output_type": "execute_result"
    }
   ],
   "source": [
    "df.columns"
   ]
  },
  {
   "cell_type": "code",
   "execution_count": 74,
   "metadata": {},
   "outputs": [
    {
     "data": {
      "text/html": [
       "<div>\n",
       "<style scoped>\n",
       "    .dataframe tbody tr th:only-of-type {\n",
       "        vertical-align: middle;\n",
       "    }\n",
       "\n",
       "    .dataframe tbody tr th {\n",
       "        vertical-align: top;\n",
       "    }\n",
       "\n",
       "    .dataframe thead th {\n",
       "        text-align: right;\n",
       "    }\n",
       "</style>\n",
       "<table border=\"1\" class=\"dataframe\">\n",
       "  <thead>\n",
       "    <tr style=\"text-align: right;\">\n",
       "      <th></th>\n",
       "      <th>review_id</th>\n",
       "      <th>user_id</th>\n",
       "      <th>business_id</th>\n",
       "      <th>stars</th>\n",
       "      <th>review_text</th>\n",
       "      <th>tip_text</th>\n",
       "      <th>categories</th>\n",
       "    </tr>\n",
       "  </thead>\n",
       "  <tbody>\n",
       "    <tr>\n",
       "      <th>0</th>\n",
       "      <td>YO54hQpIpY60GZBc0jzBDw</td>\n",
       "      <td>vaXJ7-xLrnD6FAEhUqYKwQ</td>\n",
       "      <td>poOnGeQlHEnWRAH9t_0KMg</td>\n",
       "      <td>5</td>\n",
       "      <td>Great pizza and wings for the prize. Great fla...</td>\n",
       "      <td>Great pizza no wings for the prize</td>\n",
       "      <td>Pizza;Restaurants</td>\n",
       "    </tr>\n",
       "    <tr>\n",
       "      <th>1</th>\n",
       "      <td>q7eMhn7eI-IGWPW-nopvJg</td>\n",
       "      <td>OeQ75FJxgprciKQ1JrSMJg</td>\n",
       "      <td>poOnGeQlHEnWRAH9t_0KMg</td>\n",
       "      <td>5</td>\n",
       "      <td>Fantastic food &amp; great service! The crust of t...</td>\n",
       "      <td>Fantastic food &amp; great service! We will visit ...</td>\n",
       "      <td>Pizza;Restaurants</td>\n",
       "    </tr>\n",
       "  </tbody>\n",
       "</table>\n",
       "</div>"
      ],
      "text/plain": [
       "                review_id                 user_id             business_id  \\\n",
       "0  YO54hQpIpY60GZBc0jzBDw  vaXJ7-xLrnD6FAEhUqYKwQ  poOnGeQlHEnWRAH9t_0KMg   \n",
       "1  q7eMhn7eI-IGWPW-nopvJg  OeQ75FJxgprciKQ1JrSMJg  poOnGeQlHEnWRAH9t_0KMg   \n",
       "\n",
       "   stars                                        review_text  \\\n",
       "0      5  Great pizza and wings for the prize. Great fla...   \n",
       "1      5  Fantastic food & great service! The crust of t...   \n",
       "\n",
       "                                            tip_text         categories  \n",
       "0                 Great pizza no wings for the prize  Pizza;Restaurants  \n",
       "1  Fantastic food & great service! We will visit ...  Pizza;Restaurants  "
      ]
     },
     "execution_count": 74,
     "metadata": {},
     "output_type": "execute_result"
    }
   ],
   "source": [
    "df = df.drop(['date','useful','funny','cool'], axis = 1)\n",
    "df.head(2)"
   ]
  },
  {
   "cell_type": "code",
   "execution_count": 75,
   "metadata": {},
   "outputs": [],
   "source": [
    "#dataframe[\"period\"] = dataframe[\"Year\"].map(str) + dataframe[\"quarter\"]\n",
    "df['total_text'] = df['review_text'].map(str) + df['tip_text']"
   ]
  },
  {
   "cell_type": "code",
   "execution_count": 76,
   "metadata": {},
   "outputs": [
    {
     "data": {
      "text/html": [
       "<div>\n",
       "<style scoped>\n",
       "    .dataframe tbody tr th:only-of-type {\n",
       "        vertical-align: middle;\n",
       "    }\n",
       "\n",
       "    .dataframe tbody tr th {\n",
       "        vertical-align: top;\n",
       "    }\n",
       "\n",
       "    .dataframe thead th {\n",
       "        text-align: right;\n",
       "    }\n",
       "</style>\n",
       "<table border=\"1\" class=\"dataframe\">\n",
       "  <thead>\n",
       "    <tr style=\"text-align: right;\">\n",
       "      <th></th>\n",
       "      <th>review_id</th>\n",
       "      <th>user_id</th>\n",
       "      <th>business_id</th>\n",
       "      <th>stars</th>\n",
       "      <th>review_text</th>\n",
       "      <th>tip_text</th>\n",
       "      <th>categories</th>\n",
       "      <th>total_text</th>\n",
       "    </tr>\n",
       "  </thead>\n",
       "  <tbody>\n",
       "    <tr>\n",
       "      <th>0</th>\n",
       "      <td>YO54hQpIpY60GZBc0jzBDw</td>\n",
       "      <td>vaXJ7-xLrnD6FAEhUqYKwQ</td>\n",
       "      <td>poOnGeQlHEnWRAH9t_0KMg</td>\n",
       "      <td>5</td>\n",
       "      <td>Great pizza and wings for the prize. Great fla...</td>\n",
       "      <td>Great pizza no wings for the prize</td>\n",
       "      <td>Pizza;Restaurants</td>\n",
       "      <td>Great pizza and wings for the prize. Great fla...</td>\n",
       "    </tr>\n",
       "    <tr>\n",
       "      <th>1</th>\n",
       "      <td>q7eMhn7eI-IGWPW-nopvJg</td>\n",
       "      <td>OeQ75FJxgprciKQ1JrSMJg</td>\n",
       "      <td>poOnGeQlHEnWRAH9t_0KMg</td>\n",
       "      <td>5</td>\n",
       "      <td>Fantastic food &amp; great service! The crust of t...</td>\n",
       "      <td>Fantastic food &amp; great service! We will visit ...</td>\n",
       "      <td>Pizza;Restaurants</td>\n",
       "      <td>Fantastic food &amp; great service! The crust of t...</td>\n",
       "    </tr>\n",
       "    <tr>\n",
       "      <th>2</th>\n",
       "      <td>OqBntzXW9HMjj-URJ4maQw</td>\n",
       "      <td>E9GB199tS9hUdolCzJQSWA</td>\n",
       "      <td>poOnGeQlHEnWRAH9t_0KMg</td>\n",
       "      <td>5</td>\n",
       "      <td>Prompt service. Great food.  I had the persona...</td>\n",
       "      <td>Yummy</td>\n",
       "      <td>Pizza;Restaurants</td>\n",
       "      <td>Prompt service. Great food.  I had the persona...</td>\n",
       "    </tr>\n",
       "    <tr>\n",
       "      <th>3</th>\n",
       "      <td>iAlleZpr9Ft_PlOJKJBo6Q</td>\n",
       "      <td>v9jVqXiGMEOmT7Z7uQh1jQ</td>\n",
       "      <td>poOnGeQlHEnWRAH9t_0KMg</td>\n",
       "      <td>4</td>\n",
       "      <td>Clean place, friendly staff. Pizza was delicio...</td>\n",
       "      <td>Clean place, friendly staff. Recommended.</td>\n",
       "      <td>Pizza;Restaurants</td>\n",
       "      <td>Clean place, friendly staff. Pizza was delicio...</td>\n",
       "    </tr>\n",
       "    <tr>\n",
       "      <th>4</th>\n",
       "      <td>ijqMDKCxwqfwzSbl3-co8A</td>\n",
       "      <td>OYUs6dWxPlQhg7NJjuJ3FQ</td>\n",
       "      <td>poOnGeQlHEnWRAH9t_0KMg</td>\n",
       "      <td>5</td>\n",
       "      <td>Really awesome pizza and wings! The salad was ...</td>\n",
       "      <td>Salads are fabulous, calzone is delicious ! Ma...</td>\n",
       "      <td>Pizza;Restaurants</td>\n",
       "      <td>Really awesome pizza and wings! The salad was ...</td>\n",
       "    </tr>\n",
       "  </tbody>\n",
       "</table>\n",
       "</div>"
      ],
      "text/plain": [
       "                review_id                 user_id             business_id  \\\n",
       "0  YO54hQpIpY60GZBc0jzBDw  vaXJ7-xLrnD6FAEhUqYKwQ  poOnGeQlHEnWRAH9t_0KMg   \n",
       "1  q7eMhn7eI-IGWPW-nopvJg  OeQ75FJxgprciKQ1JrSMJg  poOnGeQlHEnWRAH9t_0KMg   \n",
       "2  OqBntzXW9HMjj-URJ4maQw  E9GB199tS9hUdolCzJQSWA  poOnGeQlHEnWRAH9t_0KMg   \n",
       "3  iAlleZpr9Ft_PlOJKJBo6Q  v9jVqXiGMEOmT7Z7uQh1jQ  poOnGeQlHEnWRAH9t_0KMg   \n",
       "4  ijqMDKCxwqfwzSbl3-co8A  OYUs6dWxPlQhg7NJjuJ3FQ  poOnGeQlHEnWRAH9t_0KMg   \n",
       "\n",
       "   stars                                        review_text  \\\n",
       "0      5  Great pizza and wings for the prize. Great fla...   \n",
       "1      5  Fantastic food & great service! The crust of t...   \n",
       "2      5  Prompt service. Great food.  I had the persona...   \n",
       "3      4  Clean place, friendly staff. Pizza was delicio...   \n",
       "4      5  Really awesome pizza and wings! The salad was ...   \n",
       "\n",
       "                                            tip_text         categories  \\\n",
       "0                 Great pizza no wings for the prize  Pizza;Restaurants   \n",
       "1  Fantastic food & great service! We will visit ...  Pizza;Restaurants   \n",
       "2                                              Yummy  Pizza;Restaurants   \n",
       "3          Clean place, friendly staff. Recommended.  Pizza;Restaurants   \n",
       "4  Salads are fabulous, calzone is delicious ! Ma...  Pizza;Restaurants   \n",
       "\n",
       "                                          total_text  \n",
       "0  Great pizza and wings for the prize. Great fla...  \n",
       "1  Fantastic food & great service! The crust of t...  \n",
       "2  Prompt service. Great food.  I had the persona...  \n",
       "3  Clean place, friendly staff. Pizza was delicio...  \n",
       "4  Really awesome pizza and wings! The salad was ...  "
      ]
     },
     "execution_count": 76,
     "metadata": {},
     "output_type": "execute_result"
    }
   ],
   "source": [
    "df.head(5)"
   ]
  },
  {
   "cell_type": "code",
   "execution_count": 77,
   "metadata": {},
   "outputs": [],
   "source": [
    "#df.loc[df.review_id == 'ijqMDKCxwqfwzSbl3-co8A', 'total_text'].iloc[0]"
   ]
  },
  {
   "cell_type": "code",
   "execution_count": 80,
   "metadata": {},
   "outputs": [
    {
     "data": {
      "text/html": [
       "<div>\n",
       "<style scoped>\n",
       "    .dataframe tbody tr th:only-of-type {\n",
       "        vertical-align: middle;\n",
       "    }\n",
       "\n",
       "    .dataframe tbody tr th {\n",
       "        vertical-align: top;\n",
       "    }\n",
       "\n",
       "    .dataframe thead th {\n",
       "        text-align: right;\n",
       "    }\n",
       "</style>\n",
       "<table border=\"1\" class=\"dataframe\">\n",
       "  <thead>\n",
       "    <tr style=\"text-align: right;\">\n",
       "      <th></th>\n",
       "      <th>review_id</th>\n",
       "      <th>user_id</th>\n",
       "      <th>business_id</th>\n",
       "      <th>stars</th>\n",
       "      <th>review_text</th>\n",
       "      <th>tip_text</th>\n",
       "      <th>categories</th>\n",
       "      <th>total_text</th>\n",
       "    </tr>\n",
       "  </thead>\n",
       "  <tbody>\n",
       "    <tr>\n",
       "      <th>0</th>\n",
       "      <td>YO54hQpIpY60GZBc0jzBDw</td>\n",
       "      <td>vaXJ7-xLrnD6FAEhUqYKwQ</td>\n",
       "      <td>poOnGeQlHEnWRAH9t_0KMg</td>\n",
       "      <td>5</td>\n",
       "      <td>Great pizza and wings for the prize. Great fla...</td>\n",
       "      <td>Great pizza no wings for the prize</td>\n",
       "      <td>Pizza;Restaurants</td>\n",
       "      <td>Great pizza and wings for the prize. Great fla...</td>\n",
       "    </tr>\n",
       "    <tr>\n",
       "      <th>1</th>\n",
       "      <td>q7eMhn7eI-IGWPW-nopvJg</td>\n",
       "      <td>OeQ75FJxgprciKQ1JrSMJg</td>\n",
       "      <td>poOnGeQlHEnWRAH9t_0KMg</td>\n",
       "      <td>5</td>\n",
       "      <td>Fantastic food &amp; great service! The crust of t...</td>\n",
       "      <td>Fantastic food &amp; great service! We will visit ...</td>\n",
       "      <td>Pizza;Restaurants</td>\n",
       "      <td>Fantastic food &amp; great service! The crust of t...</td>\n",
       "    </tr>\n",
       "    <tr>\n",
       "      <th>2</th>\n",
       "      <td>OqBntzXW9HMjj-URJ4maQw</td>\n",
       "      <td>E9GB199tS9hUdolCzJQSWA</td>\n",
       "      <td>poOnGeQlHEnWRAH9t_0KMg</td>\n",
       "      <td>5</td>\n",
       "      <td>Prompt service. Great food.  I had the persona...</td>\n",
       "      <td>Yummy</td>\n",
       "      <td>Pizza;Restaurants</td>\n",
       "      <td>Prompt service. Great food.  I had the persona...</td>\n",
       "    </tr>\n",
       "    <tr>\n",
       "      <th>3</th>\n",
       "      <td>iAlleZpr9Ft_PlOJKJBo6Q</td>\n",
       "      <td>v9jVqXiGMEOmT7Z7uQh1jQ</td>\n",
       "      <td>poOnGeQlHEnWRAH9t_0KMg</td>\n",
       "      <td>4</td>\n",
       "      <td>Clean place, friendly staff. Pizza was delicio...</td>\n",
       "      <td>Clean place, friendly staff. Recommended.</td>\n",
       "      <td>Pizza;Restaurants</td>\n",
       "      <td>Clean place, friendly staff. Pizza was delicio...</td>\n",
       "    </tr>\n",
       "    <tr>\n",
       "      <th>4</th>\n",
       "      <td>ijqMDKCxwqfwzSbl3-co8A</td>\n",
       "      <td>OYUs6dWxPlQhg7NJjuJ3FQ</td>\n",
       "      <td>poOnGeQlHEnWRAH9t_0KMg</td>\n",
       "      <td>5</td>\n",
       "      <td>Really awesome pizza and wings! The salad was ...</td>\n",
       "      <td>Salads are fabulous, calzone is delicious ! Ma...</td>\n",
       "      <td>Pizza;Restaurants</td>\n",
       "      <td>Really awesome pizza and wings! The salad was ...</td>\n",
       "    </tr>\n",
       "  </tbody>\n",
       "</table>\n",
       "</div>"
      ],
      "text/plain": [
       "                review_id                 user_id             business_id  \\\n",
       "0  YO54hQpIpY60GZBc0jzBDw  vaXJ7-xLrnD6FAEhUqYKwQ  poOnGeQlHEnWRAH9t_0KMg   \n",
       "1  q7eMhn7eI-IGWPW-nopvJg  OeQ75FJxgprciKQ1JrSMJg  poOnGeQlHEnWRAH9t_0KMg   \n",
       "2  OqBntzXW9HMjj-URJ4maQw  E9GB199tS9hUdolCzJQSWA  poOnGeQlHEnWRAH9t_0KMg   \n",
       "3  iAlleZpr9Ft_PlOJKJBo6Q  v9jVqXiGMEOmT7Z7uQh1jQ  poOnGeQlHEnWRAH9t_0KMg   \n",
       "4  ijqMDKCxwqfwzSbl3-co8A  OYUs6dWxPlQhg7NJjuJ3FQ  poOnGeQlHEnWRAH9t_0KMg   \n",
       "\n",
       "   stars                                        review_text  \\\n",
       "0      5  Great pizza and wings for the prize. Great fla...   \n",
       "1      5  Fantastic food & great service! The crust of t...   \n",
       "2      5  Prompt service. Great food.  I had the persona...   \n",
       "3      4  Clean place, friendly staff. Pizza was delicio...   \n",
       "4      5  Really awesome pizza and wings! The salad was ...   \n",
       "\n",
       "                                            tip_text         categories  \\\n",
       "0                 Great pizza no wings for the prize  Pizza;Restaurants   \n",
       "1  Fantastic food & great service! We will visit ...  Pizza;Restaurants   \n",
       "2                                              Yummy  Pizza;Restaurants   \n",
       "3          Clean place, friendly staff. Recommended.  Pizza;Restaurants   \n",
       "4  Salads are fabulous, calzone is delicious ! Ma...  Pizza;Restaurants   \n",
       "\n",
       "                                          total_text  \n",
       "0  Great pizza and wings for the prize. Great fla...  \n",
       "1  Fantastic food & great service! The crust of t...  \n",
       "2  Prompt service. Great food.  I had the persona...  \n",
       "3  Clean place, friendly staff. Pizza was delicio...  \n",
       "4  Really awesome pizza and wings! The salad was ...  "
      ]
     },
     "execution_count": 80,
     "metadata": {},
     "output_type": "execute_result"
    }
   ],
   "source": [
    "##keep the reviews only to popular restaurants\n",
    "df_review = df[df['categories'].str.contains('Restaurants')]"
   ]
  },
  {
   "cell_type": "markdown",
   "metadata": {},
   "source": [
    "## Text clean up"
   ]
  },
  {
   "cell_type": "code",
   "execution_count": 81,
   "metadata": {},
   "outputs": [
    {
     "data": {
      "text/html": [
       "<div>\n",
       "<style scoped>\n",
       "    .dataframe tbody tr th:only-of-type {\n",
       "        vertical-align: middle;\n",
       "    }\n",
       "\n",
       "    .dataframe tbody tr th {\n",
       "        vertical-align: top;\n",
       "    }\n",
       "\n",
       "    .dataframe thead th {\n",
       "        text-align: right;\n",
       "    }\n",
       "</style>\n",
       "<table border=\"1\" class=\"dataframe\">\n",
       "  <thead>\n",
       "    <tr style=\"text-align: right;\">\n",
       "      <th></th>\n",
       "      <th>stars</th>\n",
       "      <th>review_text</th>\n",
       "      <th>tip_text</th>\n",
       "      <th>categories</th>\n",
       "      <th>total_text</th>\n",
       "    </tr>\n",
       "  </thead>\n",
       "  <tbody>\n",
       "    <tr>\n",
       "      <th>0</th>\n",
       "      <td>5</td>\n",
       "      <td>Great pizza and wings for the prize. Great fla...</td>\n",
       "      <td>Great pizza no wings for the prize</td>\n",
       "      <td>Pizza;Restaurants</td>\n",
       "      <td>Great pizza and wings for the prize. Great fla...</td>\n",
       "    </tr>\n",
       "    <tr>\n",
       "      <th>1</th>\n",
       "      <td>5</td>\n",
       "      <td>Fantastic food &amp; great service! The crust of t...</td>\n",
       "      <td>Fantastic food &amp; great service! We will visit ...</td>\n",
       "      <td>Pizza;Restaurants</td>\n",
       "      <td>Fantastic food &amp; great service! The crust of t...</td>\n",
       "    </tr>\n",
       "    <tr>\n",
       "      <th>2</th>\n",
       "      <td>5</td>\n",
       "      <td>Prompt service. Great food.  I had the persona...</td>\n",
       "      <td>Yummy</td>\n",
       "      <td>Pizza;Restaurants</td>\n",
       "      <td>Prompt service. Great food.  I had the persona...</td>\n",
       "    </tr>\n",
       "    <tr>\n",
       "      <th>3</th>\n",
       "      <td>4</td>\n",
       "      <td>Clean place, friendly staff. Pizza was delicio...</td>\n",
       "      <td>Clean place, friendly staff. Recommended.</td>\n",
       "      <td>Pizza;Restaurants</td>\n",
       "      <td>Clean place, friendly staff. Pizza was delicio...</td>\n",
       "    </tr>\n",
       "    <tr>\n",
       "      <th>4</th>\n",
       "      <td>5</td>\n",
       "      <td>Really awesome pizza and wings! The salad was ...</td>\n",
       "      <td>Salads are fabulous, calzone is delicious ! Ma...</td>\n",
       "      <td>Pizza;Restaurants</td>\n",
       "      <td>Really awesome pizza and wings! The salad was ...</td>\n",
       "    </tr>\n",
       "  </tbody>\n",
       "</table>\n",
       "</div>"
      ],
      "text/plain": [
       "   stars                                        review_text  \\\n",
       "0      5  Great pizza and wings for the prize. Great fla...   \n",
       "1      5  Fantastic food & great service! The crust of t...   \n",
       "2      5  Prompt service. Great food.  I had the persona...   \n",
       "3      4  Clean place, friendly staff. Pizza was delicio...   \n",
       "4      5  Really awesome pizza and wings! The salad was ...   \n",
       "\n",
       "                                            tip_text         categories  \\\n",
       "0                 Great pizza no wings for the prize  Pizza;Restaurants   \n",
       "1  Fantastic food & great service! We will visit ...  Pizza;Restaurants   \n",
       "2                                              Yummy  Pizza;Restaurants   \n",
       "3          Clean place, friendly staff. Recommended.  Pizza;Restaurants   \n",
       "4  Salads are fabulous, calzone is delicious ! Ma...  Pizza;Restaurants   \n",
       "\n",
       "                                          total_text  \n",
       "0  Great pizza and wings for the prize. Great fla...  \n",
       "1  Fantastic food & great service! The crust of t...  \n",
       "2  Prompt service. Great food.  I had the persona...  \n",
       "3  Clean place, friendly staff. Pizza was delicio...  \n",
       "4  Really awesome pizza and wings! The salad was ...  "
      ]
     },
     "execution_count": 81,
     "metadata": {},
     "output_type": "execute_result"
    }
   ],
   "source": [
    "df_review = df_review.drop(['review_id','user_id','business_id'],axis=1)\n",
    "df_review.head()"
   ]
  },
  {
   "cell_type": "code",
   "execution_count": 82,
   "metadata": {},
   "outputs": [
    {
     "data": {
      "text/plain": [
       "stars          False\n",
       "review_text    False\n",
       "tip_text        True\n",
       "categories     False\n",
       "total_text      True\n",
       "dtype: bool"
      ]
     },
     "execution_count": 82,
     "metadata": {},
     "output_type": "execute_result"
    }
   ],
   "source": [
    "df_review.isnull().any()"
   ]
  },
  {
   "cell_type": "code",
   "execution_count": 86,
   "metadata": {},
   "outputs": [
    {
     "name": "stdout",
     "output_type": "stream",
     "text": [
      "<class 'pandas.core.frame.DataFrame'>\n",
      "Int64Index: 278321 entries, 0 to 432116\n",
      "Data columns (total 5 columns):\n",
      "stars          278321 non-null int64\n",
      "review_text    278321 non-null object\n",
      "tip_text       278321 non-null object\n",
      "categories     278321 non-null object\n",
      "total_text     278321 non-null object\n",
      "dtypes: int64(1), object(4)\n",
      "memory usage: 12.7+ MB\n"
     ]
    }
   ],
   "source": [
    "df_review = df_review.dropna()\n",
    "df_review.isnull().any()\n",
    "df_review.info()"
   ]
  },
  {
   "cell_type": "code",
   "execution_count": 87,
   "metadata": {},
   "outputs": [
    {
     "data": {
      "image/png": "[encoded data removed]",
      "text/plain": [
       "<Figure size 432x288 with 1 Axes>"
      ]
     },
     "metadata": {},
     "output_type": "display_data"
    }
   ],
   "source": [
    "sns.countplot(df_review.stars);"
   ]
  },
  {
   "cell_type": "code",
   "execution_count": 88,
   "metadata": {},
   "outputs": [
    {
     "data": {
      "text/html": [
       "<div>\n",
       "<style scoped>\n",
       "    .dataframe tbody tr th:only-of-type {\n",
       "        vertical-align: middle;\n",
       "    }\n",
       "\n",
       "    .dataframe tbody tr th {\n",
       "        vertical-align: top;\n",
       "    }\n",
       "\n",
       "    .dataframe thead th {\n",
       "        text-align: right;\n",
       "    }\n",
       "</style>\n",
       "<table border=\"1\" class=\"dataframe\">\n",
       "  <thead>\n",
       "    <tr style=\"text-align: right;\">\n",
       "      <th></th>\n",
       "      <th>stars</th>\n",
       "      <th>review_text</th>\n",
       "      <th>tip_text</th>\n",
       "      <th>categories</th>\n",
       "      <th>total_text</th>\n",
       "    </tr>\n",
       "  </thead>\n",
       "  <tbody>\n",
       "    <tr>\n",
       "      <th>0</th>\n",
       "      <td>5</td>\n",
       "      <td>Great pizza and wings for the prize. Great fla...</td>\n",
       "      <td>Great pizza no wings for the prize</td>\n",
       "      <td>Pizza;Restaurants</td>\n",
       "      <td>Great pizza and wings for the prize. Great fla...</td>\n",
       "    </tr>\n",
       "    <tr>\n",
       "      <th>1</th>\n",
       "      <td>5</td>\n",
       "      <td>Fantastic food &amp; great service! The crust of t...</td>\n",
       "      <td>Fantastic food &amp; great service! We will visit ...</td>\n",
       "      <td>Pizza;Restaurants</td>\n",
       "      <td>Fantastic food &amp; great service! The crust of t...</td>\n",
       "    </tr>\n",
       "  </tbody>\n",
       "</table>\n",
       "</div>"
      ],
      "text/plain": [
       "   stars                                        review_text  \\\n",
       "0      5  Great pizza and wings for the prize. Great fla...   \n",
       "1      5  Fantastic food & great service! The crust of t...   \n",
       "\n",
       "                                            tip_text         categories  \\\n",
       "0                 Great pizza no wings for the prize  Pizza;Restaurants   \n",
       "1  Fantastic food & great service! We will visit ...  Pizza;Restaurants   \n",
       "\n",
       "                                          total_text  \n",
       "0  Great pizza and wings for the prize. Great fla...  \n",
       "1  Fantastic food & great service! The crust of t...  "
      ]
     },
     "execution_count": 88,
     "metadata": {},
     "output_type": "execute_result"
    }
   ],
   "source": [
    "df_review.head(2)"
   ]
  },
  {
   "cell_type": "code",
   "execution_count": 89,
   "metadata": {},
   "outputs": [
    {
     "data": {
      "text/html": [
       "<div>\n",
       "<style scoped>\n",
       "    .dataframe tbody tr th:only-of-type {\n",
       "        vertical-align: middle;\n",
       "    }\n",
       "\n",
       "    .dataframe tbody tr th {\n",
       "        vertical-align: top;\n",
       "    }\n",
       "\n",
       "    .dataframe thead th {\n",
       "        text-align: right;\n",
       "    }\n",
       "</style>\n",
       "<table border=\"1\" class=\"dataframe\">\n",
       "  <thead>\n",
       "    <tr style=\"text-align: right;\">\n",
       "      <th></th>\n",
       "      <th>review_text</th>\n",
       "      <th>tip_text</th>\n",
       "      <th>categories</th>\n",
       "      <th>total_text</th>\n",
       "      <th>label</th>\n",
       "    </tr>\n",
       "  </thead>\n",
       "  <tbody>\n",
       "    <tr>\n",
       "      <th>0</th>\n",
       "      <td>Great pizza and wings for the prize. Great fla...</td>\n",
       "      <td>Great pizza no wings for the prize</td>\n",
       "      <td>Pizza;Restaurants</td>\n",
       "      <td>Great pizza and wings for the prize. Great fla...</td>\n",
       "      <td>1</td>\n",
       "    </tr>\n",
       "    <tr>\n",
       "      <th>1</th>\n",
       "      <td>Fantastic food &amp; great service! The crust of t...</td>\n",
       "      <td>Fantastic food &amp; great service! We will visit ...</td>\n",
       "      <td>Pizza;Restaurants</td>\n",
       "      <td>Fantastic food &amp; great service! The crust of t...</td>\n",
       "      <td>1</td>\n",
       "    </tr>\n",
       "    <tr>\n",
       "      <th>2</th>\n",
       "      <td>Prompt service. Great food.  I had the persona...</td>\n",
       "      <td>Yummy</td>\n",
       "      <td>Pizza;Restaurants</td>\n",
       "      <td>Prompt service. Great food.  I had the persona...</td>\n",
       "      <td>1</td>\n",
       "    </tr>\n",
       "    <tr>\n",
       "      <th>3</th>\n",
       "      <td>Clean place, friendly staff. Pizza was delicio...</td>\n",
       "      <td>Clean place, friendly staff. Recommended.</td>\n",
       "      <td>Pizza;Restaurants</td>\n",
       "      <td>Clean place, friendly staff. Pizza was delicio...</td>\n",
       "      <td>1</td>\n",
       "    </tr>\n",
       "    <tr>\n",
       "      <th>4</th>\n",
       "      <td>Really awesome pizza and wings! The salad was ...</td>\n",
       "      <td>Salads are fabulous, calzone is delicious ! Ma...</td>\n",
       "      <td>Pizza;Restaurants</td>\n",
       "      <td>Really awesome pizza and wings! The salad was ...</td>\n",
       "      <td>1</td>\n",
       "    </tr>\n",
       "  </tbody>\n",
       "</table>\n",
       "</div>"
      ],
      "text/plain": [
       "                                         review_text  \\\n",
       "0  Great pizza and wings for the prize. Great fla...   \n",
       "1  Fantastic food & great service! The crust of t...   \n",
       "2  Prompt service. Great food.  I had the persona...   \n",
       "3  Clean place, friendly staff. Pizza was delicio...   \n",
       "4  Really awesome pizza and wings! The salad was ...   \n",
       "\n",
       "                                            tip_text         categories  \\\n",
       "0                 Great pizza no wings for the prize  Pizza;Restaurants   \n",
       "1  Fantastic food & great service! We will visit ...  Pizza;Restaurants   \n",
       "2                                              Yummy  Pizza;Restaurants   \n",
       "3          Clean place, friendly staff. Recommended.  Pizza;Restaurants   \n",
       "4  Salads are fabulous, calzone is delicious ! Ma...  Pizza;Restaurants   \n",
       "\n",
       "                                          total_text  label  \n",
       "0  Great pizza and wings for the prize. Great fla...      1  \n",
       "1  Fantastic food & great service! The crust of t...      1  \n",
       "2  Prompt service. Great food.  I had the persona...      1  \n",
       "3  Clean place, friendly staff. Pizza was delicio...      1  \n",
       "4  Really awesome pizza and wings! The salad was ...      1  "
      ]
     },
     "execution_count": 89,
     "metadata": {},
     "output_type": "execute_result"
    }
   ],
   "source": [
    "df_review['label'] = df_review['stars'].apply(lambda x: 1 if x>3 else 0)\n",
    "df_review = df_review.drop('stars',axis=1)\n",
    "df_review.head()"
   ]
  },
  {
   "cell_type": "code",
   "execution_count": 91,
   "metadata": {},
   "outputs": [],
   "source": [
    "nlp = spacy.load('en')"
   ]
  },
  {
   "cell_type": "code",
   "execution_count": 94,
   "metadata": {},
   "outputs": [],
   "source": [
    "text = df_review.total_text.values\n",
    "label = df_review.label.values"
   ]
  },
  {
   "cell_type": "code",
   "execution_count": 95,
   "metadata": {},
   "outputs": [
    {
     "data": {
      "text/plain": [
       "'Great pizza and wings for the prize. Great flavor! Wings were very good. Timely in the order.Great pizza no wings for the prize'"
      ]
     },
     "execution_count": 95,
     "metadata": {},
     "output_type": "execute_result"
    }
   ],
   "source": [
    "text[0]"
   ]
  },
  {
   "cell_type": "code",
   "execution_count": 97,
   "metadata": {},
   "outputs": [
    {
     "name": "stdout",
     "output_type": "stream",
     "text": [
      "0 : Great pizza and wings for the prize.\n",
      "1 : Great flavor!\n",
      "2 : Wings were very good.\n",
      "3 : Timely in the order.\n",
      "4 : Great pizza no wings for the prize\n"
     ]
    }
   ],
   "source": [
    "for i,sentance in enumerate(parsed_text.sents):\n",
    "    print(i,':',sentance)"
   ]
  },
  {
   "cell_type": "code",
   "execution_count": 99,
   "metadata": {},
   "outputs": [],
   "source": [
    "token_pos = [token.pos_ for token in nlp(text[10])]\n",
    "tokens = [token for token in nlp(text[10])]\n",
    "sd = list(zip(tokens,token_pos))\n",
    "sd = pd.DataFrame(sd,columns=['token','pos'])"
   ]
  },
  {
   "cell_type": "code",
   "execution_count": 102,
   "metadata": {},
   "outputs": [],
   "source": [
    "max_num_words = 1000\n",
    "max_seq_length = 100\n",
    "\n",
    "tokenizer = Tokenizer(num_words = max_num_words)"
   ]
  },
  {
   "cell_type": "code",
   "execution_count": 104,
   "metadata": {},
   "outputs": [
    {
     "data": {
      "text/plain": [
       "278321"
      ]
     },
     "execution_count": 104,
     "metadata": {},
     "output_type": "execute_result"
    }
   ],
   "source": [
    "len(text)"
   ]
  },
  {
   "cell_type": "code",
   "execution_count": 105,
   "metadata": {},
   "outputs": [
    {
     "data": {
      "text/html": [
       "<div>\n",
       "<style scoped>\n",
       "    .dataframe tbody tr th:only-of-type {\n",
       "        vertical-align: middle;\n",
       "    }\n",
       "\n",
       "    .dataframe tbody tr th {\n",
       "        vertical-align: top;\n",
       "    }\n",
       "\n",
       "    .dataframe thead th {\n",
       "        text-align: right;\n",
       "    }\n",
       "</style>\n",
       "<table border=\"1\" class=\"dataframe\">\n",
       "  <thead>\n",
       "    <tr style=\"text-align: right;\">\n",
       "      <th></th>\n",
       "      <th>review_text</th>\n",
       "      <th>tip_text</th>\n",
       "      <th>categories</th>\n",
       "      <th>total_text</th>\n",
       "      <th>label</th>\n",
       "    </tr>\n",
       "  </thead>\n",
       "  <tbody>\n",
       "    <tr>\n",
       "      <th>0</th>\n",
       "      <td>Great pizza and wings for the prize. Great fla...</td>\n",
       "      <td>Great pizza no wings for the prize</td>\n",
       "      <td>Pizza;Restaurants</td>\n",
       "      <td>Great pizza and wings for the prize. Great fla...</td>\n",
       "      <td>1</td>\n",
       "    </tr>\n",
       "    <tr>\n",
       "      <th>1</th>\n",
       "      <td>Fantastic food &amp; great service! The crust of t...</td>\n",
       "      <td>Fantastic food &amp; great service! We will visit ...</td>\n",
       "      <td>Pizza;Restaurants</td>\n",
       "      <td>Fantastic food &amp; great service! The crust of t...</td>\n",
       "      <td>1</td>\n",
       "    </tr>\n",
       "  </tbody>\n",
       "</table>\n",
       "</div>"
      ],
      "text/plain": [
       "                                         review_text  \\\n",
       "0  Great pizza and wings for the prize. Great fla...   \n",
       "1  Fantastic food & great service! The crust of t...   \n",
       "\n",
       "                                            tip_text         categories  \\\n",
       "0                 Great pizza no wings for the prize  Pizza;Restaurants   \n",
       "1  Fantastic food & great service! We will visit ...  Pizza;Restaurants   \n",
       "\n",
       "                                          total_text  label  \n",
       "0  Great pizza and wings for the prize. Great fla...      1  \n",
       "1  Fantastic food & great service! The crust of t...      1  "
      ]
     },
     "execution_count": 105,
     "metadata": {},
     "output_type": "execute_result"
    }
   ],
   "source": [
    "df_review.head(2)"
   ]
  },
  {
   "cell_type": "code",
   "execution_count": 114,
   "metadata": {},
   "outputs": [
    {
     "data": {
      "text/html": [
       "<div>\n",
       "<style scoped>\n",
       "    .dataframe tbody tr th:only-of-type {\n",
       "        vertical-align: middle;\n",
       "    }\n",
       "\n",
       "    .dataframe tbody tr th {\n",
       "        vertical-align: top;\n",
       "    }\n",
       "\n",
       "    .dataframe thead th {\n",
       "        text-align: right;\n",
       "    }\n",
       "</style>\n",
       "<table border=\"1\" class=\"dataframe\">\n",
       "  <thead>\n",
       "    <tr style=\"text-align: right;\">\n",
       "      <th></th>\n",
       "      <th>total_text</th>\n",
       "      <th>label</th>\n",
       "    </tr>\n",
       "  </thead>\n",
       "  <tbody>\n",
       "    <tr>\n",
       "      <th>0</th>\n",
       "      <td>Great pizza and wings for the prize. Great fla...</td>\n",
       "      <td>1</td>\n",
       "    </tr>\n",
       "    <tr>\n",
       "      <th>1</th>\n",
       "      <td>Fantastic food &amp; great service! The crust of t...</td>\n",
       "      <td>1</td>\n",
       "    </tr>\n",
       "    <tr>\n",
       "      <th>2</th>\n",
       "      <td>Prompt service. Great food.  I had the persona...</td>\n",
       "      <td>1</td>\n",
       "    </tr>\n",
       "    <tr>\n",
       "      <th>3</th>\n",
       "      <td>Clean place, friendly staff. Pizza was delicio...</td>\n",
       "      <td>1</td>\n",
       "    </tr>\n",
       "    <tr>\n",
       "      <th>4</th>\n",
       "      <td>Really awesome pizza and wings! The salad was ...</td>\n",
       "      <td>1</td>\n",
       "    </tr>\n",
       "  </tbody>\n",
       "</table>\n",
       "</div>"
      ],
      "text/plain": [
       "                                          total_text  label\n",
       "0  Great pizza and wings for the prize. Great fla...      1\n",
       "1  Fantastic food & great service! The crust of t...      1\n",
       "2  Prompt service. Great food.  I had the persona...      1\n",
       "3  Clean place, friendly staff. Pizza was delicio...      1\n",
       "4  Really awesome pizza and wings! The salad was ...      1"
      ]
     },
     "execution_count": 114,
     "metadata": {},
     "output_type": "execute_result"
    }
   ],
   "source": [
    "review_clean = df_review[['total_text','label']].copy()\n",
    "review_clean.head()"
   ]
  },
  {
   "cell_type": "code",
   "execution_count": 115,
   "metadata": {},
   "outputs": [
    {
     "data": {
      "text/html": [
       "<div>\n",
       "<style scoped>\n",
       "    .dataframe tbody tr th:only-of-type {\n",
       "        vertical-align: middle;\n",
       "    }\n",
       "\n",
       "    .dataframe tbody tr th {\n",
       "        vertical-align: top;\n",
       "    }\n",
       "\n",
       "    .dataframe thead th {\n",
       "        text-align: right;\n",
       "    }\n",
       "</style>\n",
       "<table border=\"1\" class=\"dataframe\">\n",
       "  <thead>\n",
       "    <tr style=\"text-align: right;\">\n",
       "      <th></th>\n",
       "      <th>total_text</th>\n",
       "      <th>label</th>\n",
       "    </tr>\n",
       "  </thead>\n",
       "  <tbody>\n",
       "    <tr>\n",
       "      <th>0</th>\n",
       "      <td>great pizza and wings for the prize  great fla...</td>\n",
       "      <td>1</td>\n",
       "    </tr>\n",
       "    <tr>\n",
       "      <th>1</th>\n",
       "      <td>fantastic food   great service! the crust of t...</td>\n",
       "      <td>1</td>\n",
       "    </tr>\n",
       "    <tr>\n",
       "      <th>2</th>\n",
       "      <td>prompt service  great food   i had the persona...</td>\n",
       "      <td>1</td>\n",
       "    </tr>\n",
       "    <tr>\n",
       "      <th>3</th>\n",
       "      <td>clean place, friendly staff  pizza was delicio...</td>\n",
       "      <td>1</td>\n",
       "    </tr>\n",
       "    <tr>\n",
       "      <th>4</th>\n",
       "      <td>really awesome pizza and wings! the salad was ...</td>\n",
       "      <td>1</td>\n",
       "    </tr>\n",
       "  </tbody>\n",
       "</table>\n",
       "</div>"
      ],
      "text/plain": [
       "                                          total_text  label\n",
       "0  great pizza and wings for the prize  great fla...      1\n",
       "1  fantastic food   great service! the crust of t...      1\n",
       "2  prompt service  great food   i had the persona...      1\n",
       "3  clean place, friendly staff  pizza was delicio...      1\n",
       "4  really awesome pizza and wings! the salad was ...      1"
      ]
     },
     "execution_count": 115,
     "metadata": {},
     "output_type": "execute_result"
    }
   ],
   "source": [
    "def  standardize_text (df, text_field):\n",
    "    \n",
    "    df[text_field] = df[text_field].str.replace(r\"http\\S+\", \"\")\n",
    "    df[text_field] = df[text_field].str.replace(r\"http\", \"\")\n",
    "    df[text_field] = df[text_field].str.replace(r\"@\\S+\", \"\")\n",
    "    df[text_field] = df[text_field].str.replace(r\"[^A-Za-z0-9(),!?@\\'\\`\\\"\\_\\n]\", \" \")\n",
    "    df[text_field] = df[text_field].str.replace(r\"@\", \"at\")\n",
    "    df[text_field] = df[text_field].str.lower()\n",
    "    return df\n",
    "\n",
    "review_clean = standardize_text(review_clean, \"total_text\")\n",
    "\n",
    "review_clean.to_csv(\"clean_data.csv\")\n",
    "review_clean.head()"
   ]
  },
  {
   "cell_type": "code",
   "execution_count": 116,
   "metadata": {},
   "outputs": [
    {
     "data": {
      "text/html": [
       "<div>\n",
       "<style scoped>\n",
       "    .dataframe tbody tr th:only-of-type {\n",
       "        vertical-align: middle;\n",
       "    }\n",
       "\n",
       "    .dataframe tbody tr th {\n",
       "        vertical-align: top;\n",
       "    }\n",
       "\n",
       "    .dataframe thead th {\n",
       "        text-align: right;\n",
       "    }\n",
       "</style>\n",
       "<table border=\"1\" class=\"dataframe\">\n",
       "  <thead>\n",
       "    <tr style=\"text-align: right;\">\n",
       "      <th></th>\n",
       "      <th>total_text</th>\n",
       "    </tr>\n",
       "    <tr>\n",
       "      <th>label</th>\n",
       "      <th></th>\n",
       "    </tr>\n",
       "  </thead>\n",
       "  <tbody>\n",
       "    <tr>\n",
       "      <th>0</th>\n",
       "      <td>64786</td>\n",
       "    </tr>\n",
       "    <tr>\n",
       "      <th>1</th>\n",
       "      <td>213535</td>\n",
       "    </tr>\n",
       "  </tbody>\n",
       "</table>\n",
       "</div>"
      ],
      "text/plain": [
       "       total_text\n",
       "label            \n",
       "0           64786\n",
       "1          213535"
      ]
     },
     "execution_count": 116,
     "metadata": {},
     "output_type": "execute_result"
    }
   ],
   "source": [
    "review_clean.groupby(\"label\").count()"
   ]
  },
  {
   "cell_type": "code",
   "execution_count": 118,
   "metadata": {},
   "outputs": [
    {
     "data": {
      "text/html": [
       "<div>\n",
       "<style scoped>\n",
       "    .dataframe tbody tr th:only-of-type {\n",
       "        vertical-align: middle;\n",
       "    }\n",
       "\n",
       "    .dataframe tbody tr th {\n",
       "        vertical-align: top;\n",
       "    }\n",
       "\n",
       "    .dataframe thead th {\n",
       "        text-align: right;\n",
       "    }\n",
       "</style>\n",
       "<table border=\"1\" class=\"dataframe\">\n",
       "  <thead>\n",
       "    <tr style=\"text-align: right;\">\n",
       "      <th></th>\n",
       "      <th>total_text</th>\n",
       "      <th>label</th>\n",
       "      <th>tokens</th>\n",
       "    </tr>\n",
       "  </thead>\n",
       "  <tbody>\n",
       "    <tr>\n",
       "      <th>0</th>\n",
       "      <td>great pizza and wings for the prize  great fla...</td>\n",
       "      <td>1</td>\n",
       "      <td>[great, pizza, and, wings, for, the, prize, gr...</td>\n",
       "    </tr>\n",
       "    <tr>\n",
       "      <th>1</th>\n",
       "      <td>fantastic food   great service! the crust of t...</td>\n",
       "      <td>1</td>\n",
       "      <td>[fantastic, food, great, service, the, crust, ...</td>\n",
       "    </tr>\n",
       "    <tr>\n",
       "      <th>2</th>\n",
       "      <td>prompt service  great food   i had the persona...</td>\n",
       "      <td>1</td>\n",
       "      <td>[prompt, service, great, food, i, had, the, pe...</td>\n",
       "    </tr>\n",
       "    <tr>\n",
       "      <th>3</th>\n",
       "      <td>clean place, friendly staff  pizza was delicio...</td>\n",
       "      <td>1</td>\n",
       "      <td>[clean, place, friendly, staff, pizza, was, de...</td>\n",
       "    </tr>\n",
       "    <tr>\n",
       "      <th>4</th>\n",
       "      <td>really awesome pizza and wings! the salad was ...</td>\n",
       "      <td>1</td>\n",
       "      <td>[really, awesome, pizza, and, wings, the, sala...</td>\n",
       "    </tr>\n",
       "  </tbody>\n",
       "</table>\n",
       "</div>"
      ],
      "text/plain": [
       "                                          total_text  label  \\\n",
       "0  great pizza and wings for the prize  great fla...      1   \n",
       "1  fantastic food   great service! the crust of t...      1   \n",
       "2  prompt service  great food   i had the persona...      1   \n",
       "3  clean place, friendly staff  pizza was delicio...      1   \n",
       "4  really awesome pizza and wings! the salad was ...      1   \n",
       "\n",
       "                                              tokens  \n",
       "0  [great, pizza, and, wings, for, the, prize, gr...  \n",
       "1  [fantastic, food, great, service, the, crust, ...  \n",
       "2  [prompt, service, great, food, i, had, the, pe...  \n",
       "3  [clean, place, friendly, staff, pizza, was, de...  \n",
       "4  [really, awesome, pizza, and, wings, the, sala...  "
      ]
     },
     "execution_count": 118,
     "metadata": {},
     "output_type": "execute_result"
    }
   ],
   "source": [
    "from nltk.tokenize import RegexpTokenizer\n",
    "\n",
    "tokenizer = RegexpTokenizer(r'\\w+')\n",
    "\n",
    "review_clean['tokens'] = review_clean['total_text'].apply(tokenizer.tokenize)\n",
    "review_clean.head()"
   ]
  },
  {
   "cell_type": "code",
   "execution_count": 126,
   "metadata": {
    "collapsed": true
   },
   "outputs": [
    {
     "name": "stdout",
     "output_type": "stream",
     "text": [
      "[nltk_data] Error loading wordnet: <urlopen error [Errno 8] nodename\n",
      "[nltk_data]     nor servname provided, or not known>\n"
     ]
    },
    {
     "data": {
      "text/plain": [
       "False"
      ]
     },
     "execution_count": 126,
     "metadata": {},
     "output_type": "execute_result"
    }
   ],
   "source": [
    "import nltk\n",
    "nltk.download('wordnet')"
   ]
  },
  {
   "cell_type": "code",
   "execution_count": 130,
   "metadata": {
    "collapsed": true
   },
   "outputs": [
    {
     "ename": "KeyboardInterrupt",
     "evalue": "",
     "output_type": "error",
     "traceback": [
      "\u001b[0;31m---------------------------------------------------------------------------\u001b[0m",
      "\u001b[0;31mKeyboardInterrupt\u001b[0m                         Traceback (most recent call last)",
      "\u001b[0;32m<ipython-input-130-1b9093fa4157>\u001b[0m in \u001b[0;36m<module>\u001b[0;34m()\u001b[0m\n\u001b[1;32m      6\u001b[0m \u001b[0;32mfor\u001b[0m \u001b[0melem\u001b[0m \u001b[0;32min\u001b[0m \u001b[0mreview_clean\u001b[0m\u001b[0;34m.\u001b[0m\u001b[0mtokens\u001b[0m\u001b[0;34m:\u001b[0m\u001b[0;34m\u001b[0m\u001b[0m\n\u001b[1;32m      7\u001b[0m     \u001b[0;32mfor\u001b[0m \u001b[0mword\u001b[0m \u001b[0;32min\u001b[0m \u001b[0melem\u001b[0m\u001b[0;34m:\u001b[0m\u001b[0;34m\u001b[0m\u001b[0m\n\u001b[0;32m----> 8\u001b[0;31m         \u001b[0mlemmatized\u001b[0m \u001b[0;34m=\u001b[0m \u001b[0mlmtzr\u001b[0m\u001b[0;34m.\u001b[0m\u001b[0mlemmatize\u001b[0m\u001b[0;34m(\u001b[0m\u001b[0mword\u001b[0m\u001b[0;34m)\u001b[0m\u001b[0;34m\u001b[0m\u001b[0m\n\u001b[0m\u001b[1;32m      9\u001b[0m         \u001b[0mlemma_s\u001b[0m\u001b[0;34m.\u001b[0m\u001b[0mappend\u001b[0m\u001b[0;34m(\u001b[0m\u001b[0mlemmatized\u001b[0m\u001b[0;34m)\u001b[0m\u001b[0;34m\u001b[0m\u001b[0m\n\u001b[1;32m     10\u001b[0m \u001b[0;34m\u001b[0m\u001b[0m\n",
      "\u001b[0;32m~/anaconda3/lib/python3.6/site-packages/nltk/stem/wordnet.py\u001b[0m in \u001b[0;36mlemmatize\u001b[0;34m(self, word, pos)\u001b[0m\n\u001b[1;32m     38\u001b[0m \u001b[0;34m\u001b[0m\u001b[0m\n\u001b[1;32m     39\u001b[0m     \u001b[0;32mdef\u001b[0m \u001b[0mlemmatize\u001b[0m\u001b[0;34m(\u001b[0m\u001b[0mself\u001b[0m\u001b[0;34m,\u001b[0m \u001b[0mword\u001b[0m\u001b[0;34m,\u001b[0m \u001b[0mpos\u001b[0m\u001b[0;34m=\u001b[0m\u001b[0mNOUN\u001b[0m\u001b[0;34m)\u001b[0m\u001b[0;34m:\u001b[0m\u001b[0;34m\u001b[0m\u001b[0m\n\u001b[0;32m---> 40\u001b[0;31m         \u001b[0mlemmas\u001b[0m \u001b[0;34m=\u001b[0m \u001b[0mwordnet\u001b[0m\u001b[0;34m.\u001b[0m\u001b[0m_morphy\u001b[0m\u001b[0;34m(\u001b[0m\u001b[0mword\u001b[0m\u001b[0;34m,\u001b[0m \u001b[0mpos\u001b[0m\u001b[0;34m)\u001b[0m\u001b[0;34m\u001b[0m\u001b[0m\n\u001b[0m\u001b[1;32m     41\u001b[0m         \u001b[0;32mreturn\u001b[0m \u001b[0mmin\u001b[0m\u001b[0;34m(\u001b[0m\u001b[0mlemmas\u001b[0m\u001b[0;34m,\u001b[0m \u001b[0mkey\u001b[0m\u001b[0;34m=\u001b[0m\u001b[0mlen\u001b[0m\u001b[0;34m)\u001b[0m \u001b[0;32mif\u001b[0m \u001b[0mlemmas\u001b[0m \u001b[0;32melse\u001b[0m \u001b[0mword\u001b[0m\u001b[0;34m\u001b[0m\u001b[0m\n\u001b[1;32m     42\u001b[0m \u001b[0;34m\u001b[0m\u001b[0m\n",
      "\u001b[0;32m~/anaconda3/lib/python3.6/site-packages/nltk/corpus/reader/wordnet.py\u001b[0m in \u001b[0;36m_morphy\u001b[0;34m(self, form, pos, check_exceptions)\u001b[0m\n\u001b[1;32m   1842\u001b[0m \u001b[0;34m\u001b[0m\u001b[0m\n\u001b[1;32m   1843\u001b[0m         \u001b[0;31m# 1. Apply rules once to the input to get y1, y2, y3, etc.\u001b[0m\u001b[0;34m\u001b[0m\u001b[0;34m\u001b[0m\u001b[0m\n\u001b[0;32m-> 1844\u001b[0;31m         \u001b[0mforms\u001b[0m \u001b[0;34m=\u001b[0m \u001b[0mapply_rules\u001b[0m\u001b[0;34m(\u001b[0m\u001b[0;34m[\u001b[0m\u001b[0mform\u001b[0m\u001b[0;34m]\u001b[0m\u001b[0;34m)\u001b[0m\u001b[0;34m\u001b[0m\u001b[0m\n\u001b[0m\u001b[1;32m   1845\u001b[0m \u001b[0;34m\u001b[0m\u001b[0m\n\u001b[1;32m   1846\u001b[0m         \u001b[0;31m# 2. Return all that are in the database (and check the original too)\u001b[0m\u001b[0;34m\u001b[0m\u001b[0;34m\u001b[0m\u001b[0m\n",
      "\u001b[0;32m~/anaconda3/lib/python3.6/site-packages/nltk/corpus/reader/wordnet.py\u001b[0m in \u001b[0;36mapply_rules\u001b[0;34m(forms)\u001b[0m\n\u001b[1;32m   1821\u001b[0m         \u001b[0;32mdef\u001b[0m \u001b[0mapply_rules\u001b[0m\u001b[0;34m(\u001b[0m\u001b[0mforms\u001b[0m\u001b[0;34m)\u001b[0m\u001b[0;34m:\u001b[0m\u001b[0;34m\u001b[0m\u001b[0m\n\u001b[1;32m   1822\u001b[0m             return [form[:-len(old)] + new\n\u001b[0;32m-> 1823\u001b[0;31m                     \u001b[0;32mfor\u001b[0m \u001b[0mform\u001b[0m \u001b[0;32min\u001b[0m \u001b[0mforms\u001b[0m\u001b[0;34m\u001b[0m\u001b[0m\n\u001b[0m\u001b[1;32m   1824\u001b[0m                     \u001b[0;32mfor\u001b[0m \u001b[0mold\u001b[0m\u001b[0;34m,\u001b[0m \u001b[0mnew\u001b[0m \u001b[0;32min\u001b[0m \u001b[0msubstitutions\u001b[0m\u001b[0;34m\u001b[0m\u001b[0m\n\u001b[1;32m   1825\u001b[0m                     if form.endswith(old)]\n",
      "\u001b[0;32m~/anaconda3/lib/python3.6/site-packages/nltk/corpus/reader/wordnet.py\u001b[0m in \u001b[0;36m<listcomp>\u001b[0;34m(.0)\u001b[0m\n\u001b[1;32m   1823\u001b[0m                     \u001b[0;32mfor\u001b[0m \u001b[0mform\u001b[0m \u001b[0;32min\u001b[0m \u001b[0mforms\u001b[0m\u001b[0;34m\u001b[0m\u001b[0m\n\u001b[1;32m   1824\u001b[0m                     \u001b[0;32mfor\u001b[0m \u001b[0mold\u001b[0m\u001b[0;34m,\u001b[0m \u001b[0mnew\u001b[0m \u001b[0;32min\u001b[0m \u001b[0msubstitutions\u001b[0m\u001b[0;34m\u001b[0m\u001b[0m\n\u001b[0;32m-> 1825\u001b[0;31m                     if form.endswith(old)]\n\u001b[0m\u001b[1;32m   1826\u001b[0m \u001b[0;34m\u001b[0m\u001b[0m\n\u001b[1;32m   1827\u001b[0m         \u001b[0;32mdef\u001b[0m \u001b[0mfilter_forms\u001b[0m\u001b[0;34m(\u001b[0m\u001b[0mforms\u001b[0m\u001b[0;34m)\u001b[0m\u001b[0;34m:\u001b[0m\u001b[0;34m\u001b[0m\u001b[0m\n",
      "\u001b[0;31mKeyboardInterrupt\u001b[0m: "
     ]
    }
   ],
   "source": [
    "from nltk.stem.wordnet import WordNetLemmatizer\n",
    "\n",
    "lmtzr = WordNetLemmatizer()\n",
    "\n",
    "lemma_s = []\n",
    "for elem in review_clean.tokens:\n",
    "    for word in elem:\n",
    "        lemmatized = lmtzr.lemmatize(word)\n",
    "        lemma_s.append(lemmatized)\n"
   ]
  },
  {
   "cell_type": "code",
   "execution_count": 134,
   "metadata": {},
   "outputs": [
    {
     "data": {
      "text/plain": [
       "['great',\n",
       " 'pizza',\n",
       " 'and',\n",
       " 'wing',\n",
       " 'for',\n",
       " 'the',\n",
       " 'prize',\n",
       " 'great',\n",
       " 'flavor',\n",
       " 'wing']"
      ]
     },
     "execution_count": 134,
     "metadata": {},
     "output_type": "execute_result"
    }
   ],
   "source": [
    "lemma_s[:10]"
   ]
  },
  {
   "cell_type": "code",
   "execution_count": 119,
   "metadata": {},
   "outputs": [
    {
     "name": "stdout",
     "output_type": "stream",
     "text": [
      "36718726 words total, with a vocabulary size of 143829\n",
      "Max sentence length is 1107\n"
     ]
    }
   ],
   "source": [
    "from keras.preprocessing.text import Tokenizer\n",
    "from keras.preprocessing.sequence import pad_sequences\n",
    "from keras.utils import to_categorical\n",
    "\n",
    "all_words = [word for tokens in review_clean[\"tokens\"] for word in tokens]\n",
    "sentence_lengths = [len(tokens) for tokens in review_clean[\"tokens\"]]\n",
    "VOCAB = sorted(list(set(all_words)))\n",
    "print(\"%s words total, with a vocabulary size of %s\" % (len(all_words), len(VOCAB)))\n",
    "print(\"Max sentence length is %s\" % max(sentence_lengths))"
   ]
  },
  {
   "cell_type": "markdown",
   "metadata": {},
   "source": [
    "## Bag of words"
   ]
  },
  {
   "cell_type": "code",
   "execution_count": 143,
   "metadata": {},
   "outputs": [],
   "source": [
    "from sklearn.model_selection import train_test_split\n",
    "from sklearn.feature_extraction.text import CountVectorizer, TfidfVectorizer\n",
    "\n",
    "def cv(data):\n",
    "    count_vectorizer = CountVectorizer()\n",
    "    emb = count_vectorizer.fit_transform(data)\n",
    "    return emb, count_vectorizer\n",
    "\n",
    "#list_corpus_sample = list_corpus.sample(frac = .20)\n",
    "#list_labels_sample = list_labels_sample(frac = .20)\n",
    "\n",
    "list_corpus = review_clean['total_text'].tolist()\n",
    "list_labels = review_clean['label'].tolist()\n",
    "\n",
    "X_train, X_test, y_train, y_test = train_test_split(list_corpus, list_labels, test_size=0.2, \n",
    "                                                                                random_state=40)\n",
    "\n",
    "X_train_counts, count_vectorizer = cv(X_train)\n",
    "X_test_counts = count_vectorizer.transform(X_test)"
   ]
  },
  {
   "cell_type": "code",
   "execution_count": 144,
   "metadata": {},
   "outputs": [
    {
     "ename": "AttributeError",
     "evalue": "sample not found",
     "output_type": "error",
     "traceback": [
      "\u001b[0;31m---------------------------------------------------------------------------\u001b[0m",
      "\u001b[0;31mAttributeError\u001b[0m                            Traceback (most recent call last)",
      "\u001b[0;32m<ipython-input-144-2112a7a820af>\u001b[0m in \u001b[0;36m<module>\u001b[0;34m()\u001b[0m\n\u001b[0;32m----> 1\u001b[0;31m \u001b[0mX_test_counts_subset\u001b[0m \u001b[0;34m=\u001b[0m \u001b[0mX_test_counts\u001b[0m\u001b[0;34m.\u001b[0m\u001b[0msample\u001b[0m\u001b[0;34m(\u001b[0m\u001b[0mfrac\u001b[0m\u001b[0;34m=\u001b[0m\u001b[0;36m0.1\u001b[0m\u001b[0;34m)\u001b[0m\u001b[0;34m\u001b[0m\u001b[0m\n\u001b[0m",
      "\u001b[0;32m~/anaconda3/lib/python3.6/site-packages/scipy/sparse/base.py\u001b[0m in \u001b[0;36m__getattr__\u001b[0;34m(self, attr)\u001b[0m\n\u001b[1;32m    684\u001b[0m             \u001b[0;32mreturn\u001b[0m \u001b[0mself\u001b[0m\u001b[0;34m.\u001b[0m\u001b[0mgetnnz\u001b[0m\u001b[0;34m(\u001b[0m\u001b[0;34m)\u001b[0m\u001b[0;34m\u001b[0m\u001b[0m\n\u001b[1;32m    685\u001b[0m         \u001b[0;32melse\u001b[0m\u001b[0;34m:\u001b[0m\u001b[0;34m\u001b[0m\u001b[0m\n\u001b[0;32m--> 686\u001b[0;31m             \u001b[0;32mraise\u001b[0m \u001b[0mAttributeError\u001b[0m\u001b[0;34m(\u001b[0m\u001b[0mattr\u001b[0m \u001b[0;34m+\u001b[0m \u001b[0;34m\" not found\"\u001b[0m\u001b[0;34m)\u001b[0m\u001b[0;34m\u001b[0m\u001b[0m\n\u001b[0m\u001b[1;32m    687\u001b[0m \u001b[0;34m\u001b[0m\u001b[0m\n\u001b[1;32m    688\u001b[0m     \u001b[0;32mdef\u001b[0m \u001b[0mtranspose\u001b[0m\u001b[0;34m(\u001b[0m\u001b[0mself\u001b[0m\u001b[0;34m,\u001b[0m \u001b[0maxes\u001b[0m\u001b[0;34m=\u001b[0m\u001b[0;32mNone\u001b[0m\u001b[0;34m,\u001b[0m \u001b[0mcopy\u001b[0m\u001b[0;34m=\u001b[0m\u001b[0;32mFalse\u001b[0m\u001b[0;34m)\u001b[0m\u001b[0;34m:\u001b[0m\u001b[0;34m\u001b[0m\u001b[0m\n",
      "\u001b[0;31mAttributeError\u001b[0m: sample not found"
     ]
    }
   ],
   "source": [
    "X_test_counts_subset = X_test_counts.sample(frac=0.1)"
   ]
  },
  {
   "cell_type": "code",
   "execution_count": 137,
   "metadata": {},
   "outputs": [
    {
     "data": {
      "text/plain": [
       "['great pizza and wings for the prize  great flavor! wings were very good  timely in the order great pizza no wings for the prize',\n",
       " 'fantastic food   great service! the crust of the pizza was light   crispy, the salads were fresh and delicious  we will visit every time we come to tempe fantastic food   great service! we will visit every time we come to tempe ']"
      ]
     },
     "execution_count": 137,
     "metadata": {},
     "output_type": "execute_result"
    }
   ],
   "source": [
    "list_corpus[:2]"
   ]
  },
  {
   "cell_type": "code",
   "execution_count": 138,
   "metadata": {
    "collapsed": true
   },
   "outputs": [
    {
     "name": "stderr",
     "output_type": "stream",
     "text": [
      "Process ForkPoolWorker-12:\n",
      "Process ForkPoolWorker-11:\n",
      "Process ForkPoolWorker-10:\n",
      "Traceback (most recent call last):\n",
      "Traceback (most recent call last):\n",
      "Traceback (most recent call last):\n",
      "  File \"/Users/iris/anaconda3/lib/python3.6/multiprocessing/process.py\", line 258, in _bootstrap\n",
      "    self.run()\n"
     ]
    },
    {
     "ename": "KeyboardInterrupt",
     "evalue": "",
     "output_type": "error",
     "traceback": [
      "\u001b[0;31m---------------------------------------------------------------------------\u001b[0m",
      "\u001b[0;31mKeyboardInterrupt\u001b[0m                         Traceback (most recent call last)",
      "\u001b[0;32m<ipython-input-138-9e79eace1f78>\u001b[0m in \u001b[0;36m<module>\u001b[0;34m()\u001b[0m\n\u001b[1;32m      5\u001b[0m clf = LogisticRegression(C=30.0, class_weight='balanced', solver='newton-cg', \n\u001b[1;32m      6\u001b[0m                          multi_class='multinomial', n_jobs=-1, random_state=42)\n\u001b[0;32m----> 7\u001b[0;31m \u001b[0mclf\u001b[0m\u001b[0;34m.\u001b[0m\u001b[0mfit\u001b[0m\u001b[0;34m(\u001b[0m\u001b[0mX_train_counts\u001b[0m\u001b[0;34m,\u001b[0m \u001b[0my_train\u001b[0m\u001b[0;34m)\u001b[0m\u001b[0;34m\u001b[0m\u001b[0m\n\u001b[0m\u001b[1;32m      8\u001b[0m \u001b[0;34m\u001b[0m\u001b[0m\n\u001b[1;32m      9\u001b[0m \u001b[0my_predicted_counts\u001b[0m \u001b[0;34m=\u001b[0m \u001b[0mclf\u001b[0m\u001b[0;34m.\u001b[0m\u001b[0mpredict\u001b[0m\u001b[0;34m(\u001b[0m\u001b[0mX_test_counts\u001b[0m\u001b[0;34m)\u001b[0m\u001b[0;34m\u001b[0m\u001b[0m\n",
      "\u001b[0;32m~/anaconda3/lib/python3.6/site-packages/sklearn/linear_model/logistic.py\u001b[0m in \u001b[0;36mfit\u001b[0;34m(self, X, y, sample_weight)\u001b[0m\n\u001b[1;32m   1289\u001b[0m                       \u001b[0mmax_squared_sum\u001b[0m\u001b[0;34m=\u001b[0m\u001b[0mmax_squared_sum\u001b[0m\u001b[0;34m,\u001b[0m\u001b[0;34m\u001b[0m\u001b[0m\n\u001b[1;32m   1290\u001b[0m                       sample_weight=sample_weight)\n\u001b[0;32m-> 1291\u001b[0;31m             for class_, warm_start_coef_ in zip(classes_, warm_start_coef))\n\u001b[0m\u001b[1;32m   1292\u001b[0m \u001b[0;34m\u001b[0m\u001b[0m\n\u001b[1;32m   1293\u001b[0m         \u001b[0mfold_coefs_\u001b[0m\u001b[0;34m,\u001b[0m \u001b[0m_\u001b[0m\u001b[0;34m,\u001b[0m \u001b[0mn_iter_\u001b[0m \u001b[0;34m=\u001b[0m \u001b[0mzip\u001b[0m\u001b[0;34m(\u001b[0m\u001b[0;34m*\u001b[0m\u001b[0mfold_coefs_\u001b[0m\u001b[0;34m)\u001b[0m\u001b[0;34m\u001b[0m\u001b[0m\n",
      "\u001b[0;32m~/anaconda3/lib/python3.6/site-packages/sklearn/externals/joblib/parallel.py\u001b[0m in \u001b[0;36m__call__\u001b[0;34m(self, iterable)\u001b[0m\n\u001b[1;32m    787\u001b[0m                 \u001b[0;31m# consumption.\u001b[0m\u001b[0;34m\u001b[0m\u001b[0;34m\u001b[0m\u001b[0m\n\u001b[1;32m    788\u001b[0m                 \u001b[0mself\u001b[0m\u001b[0;34m.\u001b[0m\u001b[0m_iterating\u001b[0m \u001b[0;34m=\u001b[0m \u001b[0;32mFalse\u001b[0m\u001b[0;34m\u001b[0m\u001b[0m\n\u001b[0;32m--> 789\u001b[0;31m             \u001b[0mself\u001b[0m\u001b[0;34m.\u001b[0m\u001b[0mretrieve\u001b[0m\u001b[0;34m(\u001b[0m\u001b[0;34m)\u001b[0m\u001b[0;34m\u001b[0m\u001b[0m\n\u001b[0m\u001b[1;32m    790\u001b[0m             \u001b[0;31m# Make sure that we get a last message telling us we are done\u001b[0m\u001b[0;34m\u001b[0m\u001b[0;34m\u001b[0m\u001b[0m\n\u001b[1;32m    791\u001b[0m             \u001b[0melapsed_time\u001b[0m \u001b[0;34m=\u001b[0m \u001b[0mtime\u001b[0m\u001b[0;34m.\u001b[0m\u001b[0mtime\u001b[0m\u001b[0;34m(\u001b[0m\u001b[0;34m)\u001b[0m \u001b[0;34m-\u001b[0m \u001b[0mself\u001b[0m\u001b[0;34m.\u001b[0m\u001b[0m_start_time\u001b[0m\u001b[0;34m\u001b[0m\u001b[0m\n",
      "\u001b[0;32m~/anaconda3/lib/python3.6/site-packages/sklearn/externals/joblib/parallel.py\u001b[0m in \u001b[0;36mretrieve\u001b[0;34m(self)\u001b[0m\n\u001b[1;32m    697\u001b[0m             \u001b[0;32mtry\u001b[0m\u001b[0;34m:\u001b[0m\u001b[0;34m\u001b[0m\u001b[0m\n\u001b[1;32m    698\u001b[0m                 \u001b[0;32mif\u001b[0m \u001b[0mgetattr\u001b[0m\u001b[0;34m(\u001b[0m\u001b[0mself\u001b[0m\u001b[0;34m.\u001b[0m\u001b[0m_backend\u001b[0m\u001b[0;34m,\u001b[0m \u001b[0;34m'supports_timeout'\u001b[0m\u001b[0;34m,\u001b[0m \u001b[0;32mFalse\u001b[0m\u001b[0;34m)\u001b[0m\u001b[0;34m:\u001b[0m\u001b[0;34m\u001b[0m\u001b[0m\n\u001b[0;32m--> 699\u001b[0;31m                     \u001b[0mself\u001b[0m\u001b[0;34m.\u001b[0m\u001b[0m_output\u001b[0m\u001b[0;34m.\u001b[0m\u001b[0mextend\u001b[0m\u001b[0;34m(\u001b[0m\u001b[0mjob\u001b[0m\u001b[0;34m.\u001b[0m\u001b[0mget\u001b[0m\u001b[0;34m(\u001b[0m\u001b[0mtimeout\u001b[0m\u001b[0;34m=\u001b[0m\u001b[0mself\u001b[0m\u001b[0;34m.\u001b[0m\u001b[0mtimeout\u001b[0m\u001b[0;34m)\u001b[0m\u001b[0;34m)\u001b[0m\u001b[0;34m\u001b[0m\u001b[0m\n\u001b[0m\u001b[1;32m    700\u001b[0m                 \u001b[0;32melse\u001b[0m\u001b[0;34m:\u001b[0m\u001b[0;34m\u001b[0m\u001b[0m\n\u001b[1;32m    701\u001b[0m                     \u001b[0mself\u001b[0m\u001b[0;34m.\u001b[0m\u001b[0m_output\u001b[0m\u001b[0;34m.\u001b[0m\u001b[0mextend\u001b[0m\u001b[0;34m(\u001b[0m\u001b[0mjob\u001b[0m\u001b[0;34m.\u001b[0m\u001b[0mget\u001b[0m\u001b[0;34m(\u001b[0m\u001b[0;34m)\u001b[0m\u001b[0;34m)\u001b[0m\u001b[0;34m\u001b[0m\u001b[0m\n",
      "\u001b[0;32m~/anaconda3/lib/python3.6/multiprocessing/pool.py\u001b[0m in \u001b[0;36mget\u001b[0;34m(self, timeout)\u001b[0m\n\u001b[1;32m    636\u001b[0m \u001b[0;34m\u001b[0m\u001b[0m\n\u001b[1;32m    637\u001b[0m     \u001b[0;32mdef\u001b[0m \u001b[0mget\u001b[0m\u001b[0;34m(\u001b[0m\u001b[0mself\u001b[0m\u001b[0;34m,\u001b[0m \u001b[0mtimeout\u001b[0m\u001b[0;34m=\u001b[0m\u001b[0;32mNone\u001b[0m\u001b[0;34m)\u001b[0m\u001b[0;34m:\u001b[0m\u001b[0;34m\u001b[0m\u001b[0m\n\u001b[0;32m--> 638\u001b[0;31m         \u001b[0mself\u001b[0m\u001b[0;34m.\u001b[0m\u001b[0mwait\u001b[0m\u001b[0;34m(\u001b[0m\u001b[0mtimeout\u001b[0m\u001b[0;34m)\u001b[0m\u001b[0;34m\u001b[0m\u001b[0m\n\u001b[0m\u001b[1;32m    639\u001b[0m         \u001b[0;32mif\u001b[0m \u001b[0;32mnot\u001b[0m \u001b[0mself\u001b[0m\u001b[0;34m.\u001b[0m\u001b[0mready\u001b[0m\u001b[0;34m(\u001b[0m\u001b[0;34m)\u001b[0m\u001b[0;34m:\u001b[0m\u001b[0;34m\u001b[0m\u001b[0m\n\u001b[1;32m    640\u001b[0m             \u001b[0;32mraise\u001b[0m \u001b[0mTimeoutError\u001b[0m\u001b[0;34m\u001b[0m\u001b[0m\n",
      "\u001b[0;32m~/anaconda3/lib/python3.6/multiprocessing/pool.py\u001b[0m in \u001b[0;36mwait\u001b[0;34m(self, timeout)\u001b[0m\n\u001b[1;32m    633\u001b[0m \u001b[0;34m\u001b[0m\u001b[0m\n\u001b[1;32m    634\u001b[0m     \u001b[0;32mdef\u001b[0m \u001b[0mwait\u001b[0m\u001b[0;34m(\u001b[0m\u001b[0mself\u001b[0m\u001b[0;34m,\u001b[0m \u001b[0mtimeout\u001b[0m\u001b[0;34m=\u001b[0m\u001b[0;32mNone\u001b[0m\u001b[0;34m)\u001b[0m\u001b[0;34m:\u001b[0m\u001b[0;34m\u001b[0m\u001b[0m\n\u001b[0;32m--> 635\u001b[0;31m         \u001b[0mself\u001b[0m\u001b[0;34m.\u001b[0m\u001b[0m_event\u001b[0m\u001b[0;34m.\u001b[0m\u001b[0mwait\u001b[0m\u001b[0;34m(\u001b[0m\u001b[0mtimeout\u001b[0m\u001b[0;34m)\u001b[0m\u001b[0;34m\u001b[0m\u001b[0m\n\u001b[0m\u001b[1;32m    636\u001b[0m \u001b[0;34m\u001b[0m\u001b[0m\n\u001b[1;32m    637\u001b[0m     \u001b[0;32mdef\u001b[0m \u001b[0mget\u001b[0m\u001b[0;34m(\u001b[0m\u001b[0mself\u001b[0m\u001b[0;34m,\u001b[0m \u001b[0mtimeout\u001b[0m\u001b[0;34m=\u001b[0m\u001b[0;32mNone\u001b[0m\u001b[0;34m)\u001b[0m\u001b[0;34m:\u001b[0m\u001b[0;34m\u001b[0m\u001b[0m\n",
      "\u001b[0;32m~/anaconda3/lib/python3.6/threading.py\u001b[0m in \u001b[0;36mwait\u001b[0;34m(self, timeout)\u001b[0m\n\u001b[1;32m    549\u001b[0m             \u001b[0msignaled\u001b[0m \u001b[0;34m=\u001b[0m \u001b[0mself\u001b[0m\u001b[0;34m.\u001b[0m\u001b[0m_flag\u001b[0m\u001b[0;34m\u001b[0m\u001b[0m\n\u001b[1;32m    550\u001b[0m             \u001b[0;32mif\u001b[0m \u001b[0;32mnot\u001b[0m \u001b[0msignaled\u001b[0m\u001b[0;34m:\u001b[0m\u001b[0;34m\u001b[0m\u001b[0m\n\u001b[0;32m--> 551\u001b[0;31m                 \u001b[0msignaled\u001b[0m \u001b[0;34m=\u001b[0m \u001b[0mself\u001b[0m\u001b[0;34m.\u001b[0m\u001b[0m_cond\u001b[0m\u001b[0;34m.\u001b[0m\u001b[0mwait\u001b[0m\u001b[0;34m(\u001b[0m\u001b[0mtimeout\u001b[0m\u001b[0;34m)\u001b[0m\u001b[0;34m\u001b[0m\u001b[0m\n\u001b[0m\u001b[1;32m    552\u001b[0m             \u001b[0;32mreturn\u001b[0m \u001b[0msignaled\u001b[0m\u001b[0;34m\u001b[0m\u001b[0m\n\u001b[1;32m    553\u001b[0m \u001b[0;34m\u001b[0m\u001b[0m\n",
      "\u001b[0;32m~/anaconda3/lib/python3.6/threading.py\u001b[0m in \u001b[0;36mwait\u001b[0;34m(self, timeout)\u001b[0m\n\u001b[1;32m    293\u001b[0m         \u001b[0;32mtry\u001b[0m\u001b[0;34m:\u001b[0m    \u001b[0;31m# restore state no matter what (e.g., KeyboardInterrupt)\u001b[0m\u001b[0;34m\u001b[0m\u001b[0m\n\u001b[1;32m    294\u001b[0m             \u001b[0;32mif\u001b[0m \u001b[0mtimeout\u001b[0m \u001b[0;32mis\u001b[0m \u001b[0;32mNone\u001b[0m\u001b[0;34m:\u001b[0m\u001b[0;34m\u001b[0m\u001b[0m\n\u001b[0;32m--> 295\u001b[0;31m                 \u001b[0mwaiter\u001b[0m\u001b[0;34m.\u001b[0m\u001b[0macquire\u001b[0m\u001b[0;34m(\u001b[0m\u001b[0;34m)\u001b[0m\u001b[0;34m\u001b[0m\u001b[0m\n\u001b[0m\u001b[1;32m    296\u001b[0m                 \u001b[0mgotit\u001b[0m \u001b[0;34m=\u001b[0m \u001b[0;32mTrue\u001b[0m\u001b[0;34m\u001b[0m\u001b[0m\n\u001b[1;32m    297\u001b[0m             \u001b[0;32melse\u001b[0m\u001b[0;34m:\u001b[0m\u001b[0;34m\u001b[0m\u001b[0m\n",
      "\u001b[0;31mKeyboardInterrupt\u001b[0m: "
     ]
    }
   ],
   "source": [
    "from sklearn.metrics import accuracy_score, f1_score, precision_score, recall_score, classification_report\n",
    "from sklearn.linear_model import LogisticRegression\n",
    "\n",
    "## run on subset as the full one is too large\n",
    "clf = LogisticRegression(C=30.0, class_weight='balanced', solver='newton-cg', \n",
    "                         multi_class='multinomial', n_jobs=-1, random_state=42)\n",
    "clf.fit(X_train_counts, y_train)\n",
    "\n",
    "y_predicted_counts = clf.predict(X_test_counts)"
   ]
  },
  {
   "cell_type": "code",
   "execution_count": null,
   "metadata": {},
   "outputs": [],
   "source": [
    "def get_metrics(y_test, y_predicted):  \n",
    "    # true positives / (true positives+false positives)\n",
    "    precision = precision_score(y_test, y_predicted, pos_label=None,\n",
    "                                    average='weighted')             \n",
    "    # true positives / (true positives + false negatives)\n",
    "    recall = recall_score(y_test, y_predicted, pos_label=None,\n",
    "                              average='weighted')\n",
    "    \n",
    "    # harmonic mean of precision and recall\n",
    "    f1 = f1_score(y_test, y_predicted, pos_label=None, average='weighted')\n",
    "    \n",
    "    # true positives + true negatives/ total\n",
    "    accuracy = accuracy_score(y_test, y_predicted)\n",
    "    return accuracy, precision, recall, f1\n",
    "\n",
    "accuracy, precision, recall, f1 = get_metrics(y_test, y_predicted_counts)\n",
    "print(\"accuracy = %.3f, precision = %.3f, recall = %.3f, f1 = %.3f\" % (accuracy, precision, recall, f1))"
   ]
  },
  {
   "cell_type": "markdown",
   "metadata": {},
   "source": [
    "## LDA"
   ]
  },
  {
   "cell_type": "code",
   "execution_count": 145,
   "metadata": {},
   "outputs": [],
   "source": [
    "def display_topics(model, feature_names, no_top_words):\n",
    "    for topic_idx, topic in enumerate(model.components_):\n",
    "        print (\"Topic %d:\" % (topic_idx))\n",
    "        print (\" \".join([feature_names[i]\n",
    "                        for i in topic.argsort()[:-no_top_words - 1:-1]]))"
   ]
  },
  {
   "cell_type": "code",
   "execution_count": 146,
   "metadata": {},
   "outputs": [],
   "source": [
    "from sklearn.feature_extraction.text import TfidfVectorizer, CountVectorizer\n",
    "from sklearn.decomposition import NMF, LatentDirichletAllocation"
   ]
  },
  {
   "cell_type": "code",
   "execution_count": 151,
   "metadata": {},
   "outputs": [
    {
     "name": "stdout",
     "output_type": "stream",
     "text": [
      "<class 'list'>\n"
     ]
    },
    {
     "data": {
      "text/plain": [
       "278321"
      ]
     },
     "execution_count": 151,
     "metadata": {},
     "output_type": "execute_result"
    }
   ],
   "source": [
    "print(type(list_corpus))\n",
    "len(list_corpus)"
   ]
  },
  {
   "cell_type": "code",
   "execution_count": 158,
   "metadata": {
    "collapsed": true
   },
   "outputs": [
    {
     "name": "stderr",
     "output_type": "stream",
     "text": [
      "/Users/iris/anaconda3/lib/python3.6/site-packages/sklearn/decomposition/online_lda.py:294: DeprecationWarning: n_topics has been renamed to n_components in version 0.19 and will be removed in 0.21\n",
      "  DeprecationWarning)\n"
     ]
    },
    {
     "name": "stdout",
     "output_type": "stream",
     "text": [
      "Topic 0:\n",
      "s t good like just time place ve really m\n",
      "Topic 1:\n",
      "great food service place atmosphere love good amazing beer awesome\n",
      "Topic 0:\n",
      "food great place good s t service love like beer\n",
      "Topic 1:\n",
      "s t like just time good order try place ordered\n"
     ]
    }
   ],
   "source": [
    "list_text = review_clean.tokens[:5000]\n",
    "\n",
    "no_features = 1000\n",
    "\n",
    "count_vectorizer = CountVectorizer(tokenizer=lambda doc: doc, lowercase=False)\n",
    "emb = count_vectorizer.fit_transform(df)\n",
    "\n",
    "# NMF is able to use tf-idf\n",
    "tfidf_vectorizer = TfidfVectorizer(max_df=0.95, min_df=2, max_features=no_features, stop_words='english',tokenizer=lambda doc: doc, lowercase=False)\n",
    "tfidf = tfidf_vectorizer.fit_transform(list_text)\n",
    "tfidf_feature_names = tfidf_vectorizer.get_feature_names()\n",
    "\n",
    "# LDA can only use raw term counts for LDA because it is a probabilistic graphical model\n",
    "tf_vectorizer = CountVectorizer(max_df=0.95, min_df=2, max_features=no_features, stop_words='english',tokenizer=lambda doc: doc, lowercase=False)\n",
    "tf = tf_vectorizer.fit_transform(list_text)\n",
    "tf_feature_names = tf_vectorizer.get_feature_names()\n",
    "\n",
    "no_topics = 2\n",
    "\n",
    "# Run NMF\n",
    "nmf = NMF(n_components=no_topics, random_state=1, alpha=.1, l1_ratio=.5, init='nndsvd').fit(tfidf)\n",
    "\n",
    "# Run LDA\n",
    "lda = LatentDirichletAllocation(n_topics=no_topics, max_iter=5, learning_method='online', learning_offset=50.,random_state=0).fit(tf)\n",
    "\n",
    "no_top_words = 10\n",
    "display_topics(nmf, tfidf_feature_names, no_top_words)\n",
    "display_topics(lda, tf_feature_names, no_top_words)"
   ]
  },
  {
   "cell_type": "code",
   "execution_count": 160,
   "metadata": {
    "collapsed": true
   },
   "outputs": [
    {
     "name": "stderr",
     "output_type": "stream",
     "text": [
      "/Users/iris/anaconda3/lib/python3.6/site-packages/sklearn/decomposition/online_lda.py:294: DeprecationWarning: n_topics has been renamed to n_components in version 0.19 and will be removed in 0.21\n",
      "  DeprecationWarning)\n"
     ]
    },
    {
     "name": "stdout",
     "output_type": "stream",
     "text": [
      "Topic 0:\n",
      "t s like just time really m don ve order menu got ordered came didn\n",
      "Topic 1:\n",
      "great atmosphere staff food place music selection service wine prices menu attentive fun try spot\n",
      "Topic 2:\n",
      "tea boba milk green kung fu drink ice uuu taro sugar jelly suzuya s sweetness\n",
      "Topic 3:\n",
      "pizza bianco wait night margherita crust special blah pizzas pizzeria week world chris s rosemary\n",
      "Topic 4:\n",
      "foods oriental store laotian recipes market eat sister asian nearly medium s spicy 10 enjoy\n",
      "Topic 5:\n",
      "beer beers peaks tap ale selection peach chocolate brewery awesome patio food brew pumpkin bar\n",
      "Topic 6:\n",
      "thai chicken pad curry rice fried beef spicy soup noodle basil lunch restaurant noodles dish\n",
      "Topic 7:\n",
      "happy hour 5 drinks 3 steaks 2 half bar 6 cocktails 1 specials hh steak\n",
      "Topic 8:\n",
      "love place favorite staff friendly friends feel try wine awesome s food nice super yummy\n",
      "Topic 9:\n",
      "good really pretty food nice prices place atmosphere favorite selection like yummy cool try soup\n",
      "Topic 10:\n",
      "breakfast buzz eggs lunch buffet club brunch waffles hash pancakes quick weekend little latte drive\n",
      "Topic 11:\n",
      "burger fries burgers cheese turkey bun pickles shack shake veggie fried sliders free awesome beef\n",
      "Topic 12:\n",
      "coffee shop seating friendly staff day star sit iced nice baked middle overall latte today\n",
      "Topic 13:\n",
      "steak fries echo rig portobello home make share s dining excited want times steaks don\n",
      "Topic 14:\n",
      "best town vegas charlotte ve las hands far s restaurant favorite way awesome try korean\n",
      "Topic 15:\n",
      "food service amazing excellent awesome friendly customer delicious atmosphere recommend definitely fast server drinks chicken\n",
      "Topic 16:\n",
      "dog hot dogs rings onion s chili toppings mustard fries sauce combo sausage long onions\n",
      "Topic 17:\n",
      "cafe croissant pastries baguette fresh chocolate sandwiches olivier sandwich quiche delicious daily soups amazing eat\n",
      "Topic 18:\n",
      "tacos fish chips shrimp guacamole taco gallo blanco salsa mexican grits tuesday amazing 2 fresh\n",
      "Topic 19:\n",
      "sushi roll rolls lunch fish fresh tuna pieces japanese spicy eat rice quality salmon wow\n",
      "Topic 0:\n",
      "thai customer wellington juice ramsay pad service noodles rice bucks card item sticky rolls does\n",
      "Topic 1:\n",
      "brisket la e le l c b o plus village d st meats super service\n",
      "Topic 2:\n",
      "good breakfast pork fried french eggs bbq chicken ramen bacon soup toast egg creme tender\n",
      "Topic 3:\n",
      "vegas korean menu dishes restaurant s sushi las small dish order like spicy roll good\n",
      "Topic 4:\n",
      "donuts hot dog dogs onion rings chili mustard dont toppings white variety bacon onions sausage\n",
      "Topic 5:\n",
      "great place food beer love good happy hour bar favorite s menu selection friendly awesome\n",
      "Topic 6:\n",
      "strip sliders pudding castle fu kung vegas boba rye damn literally card jelly meet free\n",
      "Topic 7:\n",
      "s like t place good try time cream ve just love definitely really chocolate m\n",
      "Topic 8:\n",
      "charlotte soju soyo bomb needed california midnight crepe kung fu peaks high fried best right\n",
      "Topic 9:\n",
      "s t don like night order time make know just week ve burger good wait\n",
      "Topic 10:\n",
      "market sunday foods brunch store sister enjoy oriental recipes medium laotian nearly english valley open\n",
      "Topic 11:\n",
      "tea coffee s t breakfast try place lunch sandwich milk good green fresh menu day\n",
      "Topic 12:\n",
      "movie boba milk seats theater free mango popcorn jelly drinks good parking drink kung fu\n",
      "Topic 13:\n",
      "steak fries cheese beef ordered good burger bread meat fish t mac salad chips just\n",
      "Topic 14:\n",
      "spicy chicken 10 curry items day eat tried asian red 7 menu uuu shrimp 2\n",
      "Topic 15:\n",
      "pizza s crust chef pizzas baguette eat gras fresh olivier grocery foie bread worth perfect\n",
      "Topic 16:\n",
      "tacos honey flavor bean glazier red boba guacamole taro sugar milk beans nicely gallo great\n",
      "Topic 17:\n",
      "strawberry buffet crepe crepes suzuya grits buffets wait station 24 shrimp bomb paris french village\n",
      "Topic 18:\n",
      "great food best service amazing place excellent awesome atmosphere pizza try definitely delicious town eat\n",
      "Topic 19:\n",
      "t food good s place just like time really service got came m ve great\n"
     ]
    }
   ],
   "source": [
    "no_topics = 20\n",
    "\n",
    "# Run NMF\n",
    "nmf = NMF(n_components=no_topics, random_state=1, alpha=.1, l1_ratio=.5, init='nndsvd').fit(tfidf)\n",
    "\n",
    "# Run LDA\n",
    "lda = LatentDirichletAllocation(n_topics=no_topics, max_iter=5, learning_method='online', learning_offset=50.,random_state=0).fit(tf)\n",
    "\n",
    "no_top_words = 15\n",
    "display_topics(nmf, tfidf_feature_names, no_top_words)\n",
    "display_topics(lda, tf_feature_names, no_top_words)"
   ]
  },
  {
   "cell_type": "code",
   "execution_count": 161,
   "metadata": {},
   "outputs": [
    {
     "name": "stderr",
     "output_type": "stream",
     "text": [
      "/Users/iris/anaconda3/lib/python3.6/site-packages/sklearn/decomposition/online_lda.py:294: DeprecationWarning: n_topics has been renamed to n_components in version 0.19 and will be removed in 0.21\n",
      "  DeprecationWarning)\n"
     ]
    },
    {
     "name": "stdout",
     "output_type": "stream",
     "text": [
      "Topic 0:\n",
      "t like just don time order really m didn came got ve menu ordered think\n",
      "Topic 1:\n",
      "great music service menu try prices selection come price definitely attentive brunch time fantastic lots\n",
      "Topic 2:\n",
      "boba tea milk kung fu drink taro jelly sugar honey drinks sweetness green bean free\n",
      "Topic 3:\n",
      "pizza crust pizzas bianco pizzeria oven toppings phoenix italian margherita mozzarella ingredients places lunch parking\n",
      "Topic 4:\n",
      "foods oriental laotian store recipes market eat sister asian nearly medium spicy 10 enjoy s\n",
      "Topic 5:\n",
      "beer beers selection tap ale food peach peaks brewery pumpkin patio dip parking tastes live\n",
      "Topic 6:\n",
      "soup spicy tofu seafood noodle yum noodles lunch salad broth pork yummy served favorites pot\n",
      "Topic 7:\n",
      "happy hour half drinks steaks cocktails 6 menu hh specials close daily 3 rye 30\n",
      "Topic 8:\n",
      "love yummy feel spot coming healthy food super friends place location patio especially open come\n",
      "Topic 9:\n",
      "good really pretty prices like selection bread try french flavor cool dinner eating music morning\n",
      "Topic 10:\n",
      "s ve m just glazier times pickles like yes way make little store day look\n",
      "Topic 11:\n",
      "cheese mac grilled brisket bacon n sandwich truffle bbq sauce pork fries charlotte ve smoked\n",
      "Topic 12:\n",
      "beef wellington gordon ramsay bread reservation foie gras sticky chef pudding kobe boyfriend restaurant butter\n",
      "Topic 13:\n",
      "steak steaks rib bone vegas ribeye sides cut lobster cooked fat fries duck eye filet\n",
      "Topic 14:\n",
      "best town vegas charlotte ve las hands far phoenix restaurant try way chips simply city\n",
      "Topic 15:\n",
      "food service customer fast bad price horrible better friendly server quality restaurant prices came dinner\n",
      "Topic 16:\n",
      "breakfast buzz eggs lunch club hash pancakes waffles quick little drive weekend latte brunch toast\n",
      "Topic 17:\n",
      "dog hot dogs rings onion toppings chili mustard fries sauce combo sausage long onions s\n",
      "Topic 18:\n",
      "tacos fish chips shrimp guacamole taco gallo blanco salsa mexican tuesday grits slow try 2\n",
      "Topic 19:\n",
      "burger fries burgers bun pickles turkey shack shake veggie fried free sliders potato better lamb\n",
      "Topic 20:\n",
      "staff friendly clean attentive fast helpful coming super free definitely environment recommend quick west fun\n",
      "Topic 21:\n",
      "thai pad curry rice restaurant basil noodle fried noodles way lunch spicy recommend beef coconut\n",
      "Topic 22:\n",
      "buffet buffets crepe french village le station line vegas paris crepes crab prime 24 brunch\n",
      "Topic 23:\n",
      "rig echo portobello fries home make share excited dining steak want times don just t\n",
      "Topic 24:\n",
      "korean soju soyo restaurant dishes bbq food spicy authentic rice hot wings definitely dish especially\n",
      "Topic 25:\n",
      "amazing definitely recommend highly homemade service die beautiful wonderful try server brunch toast salad stop\n",
      "Topic 26:\n",
      "awesome super meat drink buzz veggie selection vibe perfect music owner add brunch definitely cool\n",
      "Topic 27:\n",
      "movie seats theater popcorn comfortable seat date plus watch experience solid drinks able getting watching\n",
      "Topic 28:\n",
      "chicken sandwich curry fried salad sauce rice shrimp grits ordered panini try wings lunch sauces\n",
      "Topic 29:\n",
      "sushi roll rolls lunch fish tuna pieces japanese rice eat spicy salmon quality places wow\n",
      "Topic 30:\n",
      "nice seating sit middle patio overall area cute outside outdoor space huge time lot city\n",
      "Topic 31:\n",
      "chocolate weekend hours beautiful fruit pastry mexican wish tap return try finally different places area\n",
      "Topic 32:\n",
      "night week blah special bianco world bring rosemary chris pizza margherita make traveling cook garlic\n",
      "Topic 33:\n",
      "coffee shop star iced latte baked dirty morning hard day work coming reason comfortable lunch\n",
      "Topic 34:\n",
      "favorite new lunch spot far beers favorites white sunday specials mushroom time hard pick street\n",
      "Topic 35:\n",
      "black peaks brew ale wow usual monday fun stopped strong just years run style absolutely\n",
      "Topic 36:\n",
      "atmosphere fun cool drinks nice perfect servers food music feel definitely cozy free modern beat\n",
      "Topic 37:\n",
      "place try friends eat just hang cool fun recommend family food highly tasty people drinks\n",
      "Topic 38:\n",
      "cafe baguette croissant pastries sandwiches olivier quiche sandwich soups eat daily owner scratch way business\n",
      "Topic 39:\n",
      "5 2 3 1 4 stars price 6 star drinks 50 10 fries 00 extra\n",
      "Topic 40:\n",
      "delicious definitely try tried absolutely red appetizer options items l quick healthy wonderful pancakes recommend\n",
      "Topic 41:\n",
      "tea uuu suzuya crepes green cream pastries crepe pie ice cake sweet desserts strawberry seasonal\n",
      "Topic 42:\n",
      "fresh ingredients fish tasty seafood healthy salad friendly loved highly small market family fabulous served\n",
      "Topic 43:\n",
      "thanks spot hidden gem yeah bartender missing job yelp live mouth flavors away ll did\n",
      "Topic 44:\n",
      "excellent service ice try early seat recommend cream make sure drinks visit meal brisket taco\n",
      "Topic 45:\n",
      "wait worth long line t seated 30 time busy waited table seat door try prepared\n",
      "Topic 46:\n",
      "ramen broth noodles japanese garlic bowl rice spicy spot fried expecting sprouts cozy restaurant pork\n",
      "Topic 47:\n",
      "bar wings game like tender night juice area order bbq flavor town games watch honey\n",
      "Topic 48:\n",
      "wine selection glass salads salmon ask yes patio list wall grab items bottle salad sandwiches\n",
      "Topic 49:\n",
      "day truffle customer pumpkin wonderful dont absolutely spice flavor tasting evening ended hit flavors shop\n",
      "Topic 0:\n",
      "environment style tonight horrible wish smoked easily hard mean coconut server 5 c late waited\n",
      "Topic 1:\n",
      "sauce roasted clean sort shot sauces used date refreshing sign priced birthday latte rig brought\n",
      "Topic 2:\n",
      "burgers kids environment free month meals card love friendly selection wrong rock birthday sign vig\n",
      "Topic 3:\n",
      "club avocado california chance needed suzuya point like bomb vegas jelly s good check kung\n",
      "Topic 4:\n",
      "strawberry half milk try bomb creme daily wait t l rib worth friday weekends everyday\n",
      "Topic 5:\n",
      "korean flavors uuu pie soyo suzuya soju poutine hit taste served apple small items traditional\n",
      "Topic 6:\n",
      "strip casino plate dry crepe buffet just place food dip like cold fries hour half\n",
      "Topic 7:\n",
      "good food great like s service prices try place price t quality recommend drink delicious\n",
      "Topic 8:\n",
      "midnight station lamb pancakes bartender seasoned tv veggie opening flavor conversation today looked tomato booths\n",
      "Topic 9:\n",
      "t s just don like time good place order food m really ve wait bar\n",
      "Topic 10:\n",
      "customer market foods store sister oriental laotian recipes folks grocery mentioned horrible month service enjoy\n",
      "Topic 11:\n",
      "tea s place love t green boba milk lunch delicious vegan pastries sweet time good\n",
      "Topic 12:\n",
      "awesome breakfast veggie super buzz food nachos bomb gotta chicken man selection service mean stay\n",
      "Topic 13:\n",
      "steak steaks garlic rare ribeye cheese steakhouse bring bone w medium just goes cook kobe\n",
      "Topic 14:\n",
      "cheese duck grilled italian interior fat size pasta app based felt portion sure surprised tried\n",
      "Topic 15:\n",
      "food try service took delicious onion appetizer tofu loved say hot beans potatoes use guacamole\n",
      "Topic 16:\n",
      "great glass 5 nice end set coffee salmon bartender dessert place went wine twice tasty\n",
      "Topic 17:\n",
      "spicy restaurant dishes gordon beef shrimp pork juice asian came chef brought ramsay like menu\n",
      "Topic 18:\n",
      "selection scratch donuts perfectly potato update pricey 100 incredible panini offer walked looks seen salt\n",
      "Topic 19:\n",
      "food service minutes 10 like server got came good took ordered going said new s\n",
      "Topic 20:\n",
      "great pizza food service place best good night wings love wait atmosphere excellent staff time\n",
      "Topic 21:\n",
      "5 2 3 fried 1 4 rice good sauce ordered mac restaurant tender dish beef\n",
      "Topic 22:\n",
      "fish red chips movie honey bean flavor salsa taro summerlin yum casual able fries add\n",
      "Topic 23:\n",
      "chicken chocolate try best s hot ve m place tart way really far day trying\n",
      "Topic 24:\n",
      "burger fries donuts sliders lamb bun turkey castle pickles portobello bacon potato says variety meat\n",
      "Topic 25:\n",
      "sandwich did place meals open drink really bit saw complete joint like price liked drive\n",
      "Topic 26:\n",
      "buffet crepe crepes buffets village prime 24 station vegas selections paris like meats quality suzuya\n",
      "Topic 27:\n",
      "store section glazier vegas usually grocery dishes bar sushi head small prepared chance like s\n",
      "Topic 28:\n",
      "french crab truffle toast diner rye banana yummy midnight butter classic average greasy thank booths\n",
      "Topic 29:\n",
      "suggest tried outside look today went size place wrap great love comfort portion surprised delish\n",
      "Topic 30:\n",
      "thai brunch wellington breakfast eggs sunday beef pad gras foie pudding waffle hash restaurant dinner\n",
      "Topic 31:\n",
      "fresh salad cafe menu soup bread baguette s roasted salads good olivier french tomato items\n",
      "Topic 32:\n",
      "tacos taco gallo guacamole great nice heaven free chips food burger awesome bacon just bun\n",
      "Topic 33:\n",
      "d c style suggest vegas le l dog burger today sushi hostess excellent tried inside\n",
      "Topic 34:\n",
      "duck great vegas best food service places eat buffet crepes amazing truffle sushi dessert poutine\n",
      "Topic 35:\n",
      "orange guacamole problem ramen nicely mention chips goes crunchy yum limited wall friendly bacon ribeye\n",
      "Topic 36:\n",
      "food worth service just opened club restaurant highly sure recommend s average 1 shrimp coconut\n",
      "Topic 37:\n",
      "great food beer happy menu place love hour selection bar favorite s chicken beers fun\n",
      "Topic 38:\n",
      "fish ended big filling just liked dry burgers t tried place eating thanks won fan\n",
      "Topic 39:\n",
      "ask sandwiches desserts soups bread cold suggest homemade big know cream kept share ll read\n",
      "Topic 40:\n",
      "dog hot dogs onion rings s 99 mustard chili toppings got onions batter beef fries\n",
      "Topic 41:\n",
      "ramen la shack loud sprouts plus broth garlic expecting restaurant kitchen mind ok pricey like\n",
      "Topic 42:\n",
      "soup seats meat tofu noodles noodle t o popcorn hang broth bowl menu head things\n",
      "Topic 43:\n",
      "cream t ice vegas got s time las check just wasn dessert cake taste didn\n",
      "Topic 44:\n",
      "sandwich money save le l pay complete saw village 25 buffet eat paris liked bit\n",
      "Topic 45:\n",
      "disappointed 3 appetizer 20 roll thing definitely food 15 rolls rice 2 best salt stuffed\n",
      "Topic 46:\n",
      "sushi roll rolls thanks gem hidden live away bartender service spot quality 20 yelp disappointed\n",
      "Topic 47:\n",
      "place food great amazing service love good delicious time nice best like s super really\n",
      "Topic 48:\n",
      "coffee curry seating pretty day today nice shop staff place sit outside wall good overall\n",
      "Topic 49:\n",
      "good beer black really peaks ale flavor peach great try brew taste just friends dont\n"
     ]
    }
   ],
   "source": [
    "no_topics = 50\n",
    "\n",
    "# Run NMF\n",
    "nmf = NMF(n_components=no_topics, random_state=1, alpha=.1, l1_ratio=.5, init='nndsvd').fit(tfidf)\n",
    "\n",
    "# Run LDA\n",
    "lda = LatentDirichletAllocation(n_topics=no_topics, max_iter=5, learning_method='online', learning_offset=50.,random_state=0).fit(tf)\n",
    "\n",
    "no_top_words = 15\n",
    "display_topics(nmf, tfidf_feature_names, no_top_words)\n",
    "display_topics(lda, tf_feature_names, no_top_words)"
   ]
  },
  {
   "cell_type": "markdown",
   "metadata": {},
   "source": [
    "## pyLDA"
   ]
  },
  {
   "cell_type": "code",
   "execution_count": 163,
   "metadata": {},
   "outputs": [
    {
     "name": "stdout",
     "output_type": "stream",
     "text": [
      "(278321, 28135)\n"
     ]
    }
   ],
   "source": [
    "tf_vectorizer = CountVectorizer(strip_accents = 'unicode',\n",
    "                                stop_words = 'english',\n",
    "                                lowercase = True,\n",
    "                                token_pattern = r'\\b[a-zA-Z]{3,}\\b',\n",
    "                                max_df = 0.5, \n",
    "                                min_df = 10)\n",
    "dtm_tf = tf_vectorizer.fit_transform(review_clean.total_text)\n",
    "print(dtm_tf.shape)"
   ]
  },
  {
   "cell_type": "code",
   "execution_count": 164,
   "metadata": {},
   "outputs": [
    {
     "name": "stdout",
     "output_type": "stream",
     "text": [
      "(278321, 28135)\n"
     ]
    }
   ],
   "source": [
    "tfidf_vectorizer = TfidfVectorizer(**tf_vectorizer.get_params())\n",
    "dtm_tfidf = tfidf_vectorizer.fit_transform(review_clean.total_text)\n",
    "print(dtm_tfidf.shape)"
   ]
  },
  {
   "cell_type": "markdown",
   "metadata": {},
   "source": [
    "## Fit Latent Dirichlet Allocation models"
   ]
  },
  {
   "cell_type": "code",
   "execution_count": 165,
   "metadata": {},
   "outputs": [
    {
     "name": "stderr",
     "output_type": "stream",
     "text": [
      "/Users/iris/anaconda3/lib/python3.6/site-packages/sklearn/decomposition/online_lda.py:294: DeprecationWarning: n_topics has been renamed to n_components in version 0.19 and will be removed in 0.21\n",
      "  DeprecationWarning)\n",
      "/Users/iris/anaconda3/lib/python3.6/site-packages/sklearn/decomposition/online_lda.py:536: DeprecationWarning: The default value for 'learning_method' will be changed from 'online' to 'batch' in the release 0.20. This warning was introduced in 0.18.\n",
      "  DeprecationWarning)\n"
     ]
    },
    {
     "ename": "KeyboardInterrupt",
     "evalue": "",
     "output_type": "error",
     "traceback": [
      "\u001b[0;31m---------------------------------------------------------------------------\u001b[0m",
      "\u001b[0;31mKeyboardInterrupt\u001b[0m                         Traceback (most recent call last)",
      "\u001b[0;32m<ipython-input-165-8cebbbb5729d>\u001b[0m in \u001b[0;36m<module>\u001b[0;34m()\u001b[0m\n\u001b[1;32m      1\u001b[0m \u001b[0;31m# for TF DTM\u001b[0m\u001b[0;34m\u001b[0m\u001b[0;34m\u001b[0m\u001b[0m\n\u001b[1;32m      2\u001b[0m \u001b[0mlda_tf\u001b[0m \u001b[0;34m=\u001b[0m \u001b[0mLatentDirichletAllocation\u001b[0m\u001b[0;34m(\u001b[0m\u001b[0mn_topics\u001b[0m\u001b[0;34m=\u001b[0m\u001b[0;36m10\u001b[0m\u001b[0;34m,\u001b[0m \u001b[0mrandom_state\u001b[0m\u001b[0;34m=\u001b[0m\u001b[0;36m0\u001b[0m\u001b[0;34m)\u001b[0m\u001b[0;34m\u001b[0m\u001b[0m\n\u001b[0;32m----> 3\u001b[0;31m \u001b[0mlda_tf\u001b[0m\u001b[0;34m.\u001b[0m\u001b[0mfit\u001b[0m\u001b[0;34m(\u001b[0m\u001b[0mdtm_tf\u001b[0m\u001b[0;34m)\u001b[0m\u001b[0;34m\u001b[0m\u001b[0m\n\u001b[0m\u001b[1;32m      4\u001b[0m \u001b[0;34m\u001b[0m\u001b[0m\n\u001b[1;32m      5\u001b[0m \u001b[0;31m# for TFIDF DTM\u001b[0m\u001b[0;34m\u001b[0m\u001b[0;34m\u001b[0m\u001b[0m\n",
      "\u001b[0;32m~/anaconda3/lib/python3.6/site-packages/sklearn/decomposition/online_lda.py\u001b[0m in \u001b[0;36mfit\u001b[0;34m(self, X, y)\u001b[0m\n\u001b[1;32m    550\u001b[0m                     \u001b[0;32mfor\u001b[0m \u001b[0midx_slice\u001b[0m \u001b[0;32min\u001b[0m \u001b[0mgen_batches\u001b[0m\u001b[0;34m(\u001b[0m\u001b[0mn_samples\u001b[0m\u001b[0;34m,\u001b[0m \u001b[0mbatch_size\u001b[0m\u001b[0;34m)\u001b[0m\u001b[0;34m:\u001b[0m\u001b[0;34m\u001b[0m\u001b[0m\n\u001b[1;32m    551\u001b[0m                         self._em_step(X[idx_slice, :], total_samples=n_samples,\n\u001b[0;32m--> 552\u001b[0;31m                                       batch_update=False, parallel=parallel)\n\u001b[0m\u001b[1;32m    553\u001b[0m                 \u001b[0;32melse\u001b[0m\u001b[0;34m:\u001b[0m\u001b[0;34m\u001b[0m\u001b[0m\n\u001b[1;32m    554\u001b[0m                     \u001b[0;31m# batch update\u001b[0m\u001b[0;34m\u001b[0m\u001b[0;34m\u001b[0m\u001b[0m\n",
      "\u001b[0;31mKeyboardInterrupt\u001b[0m: "
     ]
    }
   ],
   "source": [
    "# for TF DTM\n",
    "lda_tf = LatentDirichletAllocation(n_topics=10, random_state=0)\n",
    "lda_tf.fit(dtm_tf)\n",
    "\n",
    "# for TFIDF DTM\n",
    "lda_tfidf = LatentDirichletAllocation(n_topics=10, random_state=0)\n",
    "lda_tfidf.fit(dtm_tfidf)"
   ]
  },
  {
   "cell_type": "code",
   "execution_count": 183,
   "metadata": {},
   "outputs": [
    {
     "name": "stdout",
     "output_type": "stream",
     "text": [
      "(20000, 28135)\n"
     ]
    }
   ],
   "source": [
    "subbiesub = dtm_tf[:20000]\n",
    "print(subbiesub.shape)"
   ]
  },
  {
   "cell_type": "code",
   "execution_count": 184,
   "metadata": {},
   "outputs": [
    {
     "name": "stderr",
     "output_type": "stream",
     "text": [
      "/Users/iris/anaconda3/lib/python3.6/site-packages/sklearn/decomposition/online_lda.py:294: DeprecationWarning: n_topics has been renamed to n_components in version 0.19 and will be removed in 0.21\n",
      "  DeprecationWarning)\n",
      "/Users/iris/anaconda3/lib/python3.6/site-packages/sklearn/decomposition/online_lda.py:536: DeprecationWarning: The default value for 'learning_method' will be changed from 'online' to 'batch' in the release 0.20. This warning was introduced in 0.18.\n",
      "  DeprecationWarning)\n"
     ]
    },
    {
     "name": "stdout",
     "output_type": "stream",
     "text": [
      "260.8932569026947\n"
     ]
    }
   ],
   "source": [
    "import time\n",
    "\n",
    "start = time.time()\n",
    "lda_tf = LatentDirichletAllocation(n_topics=30, random_state=0)\n",
    "lda_tf.fit(subbiesub1)\n",
    "\n",
    "\n",
    "end = time.time()\n",
    "print(end - start)"
   ]
  },
  {
   "cell_type": "code",
   "execution_count": 185,
   "metadata": {},
   "outputs": [
    {
     "name": "stderr",
     "output_type": "stream",
     "text": [
      "/Users/iris/anaconda3/lib/python3.6/site-packages/pyLDAvis/_prepare.py:387: DeprecationWarning: \n",
      ".ix is deprecated. Please use\n",
      ".loc for label based indexing or\n",
      ".iloc for positional indexing\n",
      "\n",
      "See the documentation here:\n",
      "http://pandas.pydata.org/pandas-docs/stable/indexing.html#ix-indexer-is-deprecated\n",
      "  topic_term_dists = topic_term_dists.ix[topic_order]\n",
      "/Users/iris/anaconda3/lib/python3.6/site-packages/pyLDAvis/_prepare.py:257: FutureWarning: Sorting because non-concatenation axis is not aligned. A future version\n",
      "of pandas will change to not sort by default.\n",
      "\n",
      "To accept the future behavior, pass 'sort=True'.\n",
      "\n",
      "To retain the current behavior and silence the warning, pass sort=False\n",
      "\n",
      "  return pd.concat([default_term_info] + list(topic_dfs))\n"
     ]
    },
    {
     "data": {
      "text/html": [
       "\n",
       "<link rel=\"stylesheet\" type=\"text/css\" href=\"https://cdn.rawgit.com/bmabey/pyLDAvis/files/ldavis.v1.0.0.css\">\n",
       "\n",
       "\n",
       "<div id=\"ldavis_el123331142013663443451667087\"></div>\n",
       "<script type=\"text/javascript\">\n",
       "\n",
       "var ldavis_el123331142013663443451667087_data = {\"mdsDat\": {\"x\": [0.2943019482586174, 0.22752840130525148, 0.16990797801481755, 0.26494913944604254, 0.14709189353941024, 0.1652611496891632, 0.0962693738931912, 0.09797230920382984, 0.14059788125488082, 0.03134987473647791, 0.03430761998642466, 0.038675669063273195, 0.07798399618019922, 0.010634881159332789, -0.045711678391220964, -0.043098314101128715, 0.04012111730637528, -0.008949097847126587, -0.11906573727991834, -0.1087090815936238, -0.1579125724396164, -0.14739346185121024, -0.1384417796528574, -0.1454855301954314, -0.14968841977954017, -0.15950134704277127, -0.14090512496064286, -0.15629847436470562, -0.14834934614046189, -0.16744326739703103], \"y\": [-0.036617132763877035, 0.0005872848450923251, 0.1806921496355671, -0.06446375631425523, 0.21747765312046954, -0.22158319564212653, -0.22492496708120424, -0.024367294227951815, -0.060438097135470666, 0.12054899451650508, -0.1454185861068444, 0.023711164847827263, -0.0278649023309367, 0.15548742129230703, 0.07640070442453477, 0.05683666024029813, 0.06551181697588557, 0.1537878961611988, 0.05442371934718044, -0.012379643030402223, -0.04413588055915292, 0.00802616791136041, 0.06376385562864431, -0.03365550518357091, -0.034622524809957034, -0.04151351725487016, -0.026684848047293933, -0.04359806474350626, -0.10531399021948194, -0.029673583495966636], \"topics\": [1, 2, 3, 4, 5, 6, 7, 8, 9, 10, 11, 12, 13, 14, 15, 16, 17, 18, 19, 20, 21, 22, 23, 24, 25, 26, 27, 28, 29, 30], \"cluster\": [1, 1, 1, 1, 1, 1, 1, 1, 1, 1, 1, 1, 1, 1, 1, 1, 1, 1, 1, 1, 1, 1, 1, 1, 1, 1, 1, 1, 1, 1], \"Freq\": [33.02964957297818, 9.963828695469957, 6.332493782772933, 6.264153632132496, 5.049478093554587, 3.2867643723304427, 3.2028941571783154, 3.180273892546141, 2.872896272994526, 2.6228323307714914, 2.3970061314136792, 2.2320241736470408, 1.7105660389403154, 1.666908326799129, 1.627688997286055, 1.5102963877906823, 1.4895355650486666, 1.3529695006346778, 1.303735908323577, 1.1432258061425011, 0.9437497236355594, 0.9365763689137737, 0.9284006418503894, 0.9026960450880259, 0.7365534703187936, 0.7148986860786712, 0.6987646238818569, 0.6692759408833094, 0.6214642759421877, 0.6083985846520402]}, \"tinfo\": {\"Category\": [\"Default\", \"Default\", \"Default\", \"Default\", \"Default\", \"Default\", \"Default\", \"Default\", \"Default\", \"Default\", \"Default\", \"Default\", \"Default\", \"Default\", \"Default\", \"Default\", \"Default\", \"Default\", \"Default\", \"Default\", \"Default\", \"Default\", \"Default\", \"Default\", \"Default\", \"Default\", \"Default\", \"Default\", \"Default\", \"Default\", \"Topic1\", \"Topic1\", \"Topic1\", \"Topic1\", \"Topic1\", \"Topic1\", \"Topic1\", \"Topic1\", \"Topic1\", \"Topic1\", \"Topic1\", \"Topic1\", \"Topic1\", \"Topic1\", \"Topic1\", \"Topic1\", \"Topic1\", \"Topic1\", \"Topic1\", \"Topic1\", \"Topic1\", \"Topic1\", \"Topic1\", \"Topic1\", \"Topic1\", \"Topic1\", \"Topic1\", \"Topic1\", \"Topic1\", \"Topic1\", \"Topic1\", \"Topic1\", \"Topic1\", \"Topic1\", \"Topic1\", \"Topic1\", \"Topic1\", \"Topic1\", \"Topic1\", \"Topic1\", \"Topic1\", \"Topic1\", \"Topic1\", \"Topic1\", \"Topic1\", \"Topic1\", \"Topic1\", \"Topic1\", \"Topic1\", \"Topic1\", \"Topic1\", \"Topic1\", \"Topic1\", \"Topic1\", \"Topic1\", \"Topic1\", \"Topic1\", \"Topic1\", \"Topic1\", \"Topic1\", \"Topic1\", \"Topic1\", \"Topic1\", \"Topic1\", \"Topic1\", \"Topic1\", \"Topic1\", \"Topic1\", \"Topic1\", \"Topic1\", \"Topic1\", \"Topic1\", \"Topic1\", \"Topic1\", \"Topic1\", \"Topic1\", \"Topic1\", \"Topic1\", \"Topic1\", \"Topic1\", \"Topic1\", \"Topic1\", \"Topic2\", \"Topic2\", \"Topic2\", \"Topic2\", \"Topic2\", \"Topic2\", \"Topic2\", \"Topic2\", \"Topic2\", \"Topic2\", \"Topic2\", \"Topic2\", \"Topic2\", \"Topic2\", \"Topic2\", \"Topic2\", \"Topic2\", \"Topic2\", \"Topic2\", \"Topic2\", \"Topic2\", \"Topic2\", \"Topic2\", \"Topic2\", \"Topic2\", \"Topic2\", \"Topic2\", \"Topic2\", \"Topic2\", \"Topic2\", \"Topic2\", \"Topic2\", \"Topic2\", \"Topic2\", \"Topic2\", \"Topic2\", \"Topic2\", \"Topic2\", \"Topic2\", \"Topic2\", \"Topic2\", \"Topic2\", \"Topic2\", \"Topic2\", \"Topic2\", \"Topic2\", \"Topic2\", \"Topic2\", \"Topic2\", \"Topic2\", \"Topic2\", \"Topic2\", \"Topic2\", \"Topic2\", \"Topic2\", \"Topic2\", \"Topic2\", \"Topic2\", \"Topic2\", \"Topic2\", \"Topic2\", \"Topic2\", \"Topic2\", \"Topic2\", \"Topic2\", \"Topic2\", \"Topic2\", \"Topic2\", \"Topic2\", \"Topic3\", \"Topic3\", \"Topic3\", \"Topic3\", \"Topic3\", \"Topic3\", \"Topic3\", \"Topic3\", \"Topic3\", \"Topic3\", \"Topic3\", \"Topic3\", \"Topic3\", \"Topic3\", \"Topic3\", \"Topic3\", \"Topic3\", \"Topic3\", \"Topic3\", \"Topic3\", \"Topic3\", \"Topic3\", \"Topic3\", \"Topic3\", \"Topic3\", \"Topic3\", \"Topic3\", \"Topic3\", \"Topic3\", \"Topic3\", \"Topic3\", \"Topic3\", \"Topic3\", \"Topic3\", \"Topic3\", \"Topic3\", \"Topic3\", \"Topic3\", \"Topic3\", \"Topic3\", \"Topic3\", \"Topic3\", \"Topic3\", \"Topic3\", \"Topic3\", \"Topic3\", \"Topic3\", \"Topic3\", \"Topic3\", \"Topic3\", \"Topic3\", \"Topic3\", \"Topic3\", \"Topic3\", \"Topic3\", \"Topic3\", \"Topic3\", \"Topic3\", \"Topic3\", \"Topic3\", \"Topic3\", \"Topic4\", \"Topic4\", \"Topic4\", \"Topic4\", \"Topic4\", \"Topic4\", \"Topic4\", \"Topic4\", \"Topic4\", \"Topic4\", \"Topic4\", \"Topic4\", \"Topic4\", \"Topic4\", \"Topic4\", \"Topic4\", \"Topic4\", \"Topic4\", \"Topic4\", \"Topic4\", \"Topic4\", \"Topic4\", \"Topic4\", \"Topic4\", \"Topic4\", \"Topic4\", \"Topic4\", \"Topic4\", \"Topic4\", \"Topic4\", \"Topic4\", \"Topic4\", \"Topic4\", \"Topic4\", \"Topic4\", \"Topic4\", \"Topic4\", \"Topic4\", \"Topic4\", \"Topic4\", \"Topic4\", \"Topic4\", \"Topic4\", \"Topic4\", \"Topic4\", \"Topic4\", \"Topic4\", \"Topic4\", \"Topic4\", \"Topic4\", \"Topic4\", \"Topic4\", \"Topic4\", \"Topic4\", \"Topic4\", \"Topic4\", \"Topic4\", \"Topic4\", \"Topic4\", \"Topic4\", \"Topic4\", \"Topic4\", \"Topic4\", \"Topic4\", \"Topic4\", \"Topic4\", \"Topic4\", \"Topic4\", \"Topic4\", \"Topic5\", \"Topic5\", \"Topic5\", \"Topic5\", \"Topic5\", \"Topic5\", \"Topic5\", \"Topic5\", \"Topic5\", \"Topic5\", \"Topic5\", \"Topic5\", \"Topic5\", \"Topic5\", \"Topic5\", \"Topic5\", \"Topic5\", \"Topic5\", \"Topic5\", \"Topic5\", \"Topic5\", \"Topic5\", \"Topic5\", \"Topic5\", \"Topic5\", \"Topic5\", \"Topic5\", \"Topic5\", \"Topic5\", \"Topic5\", \"Topic5\", \"Topic5\", \"Topic5\", \"Topic5\", \"Topic5\", \"Topic5\", \"Topic5\", \"Topic5\", \"Topic5\", \"Topic5\", \"Topic5\", \"Topic5\", \"Topic5\", \"Topic5\", \"Topic5\", \"Topic5\", \"Topic5\", \"Topic5\", \"Topic5\", \"Topic5\", \"Topic5\", \"Topic5\", \"Topic5\", \"Topic5\", \"Topic5\", \"Topic5\", \"Topic5\", \"Topic5\", \"Topic6\", \"Topic6\", \"Topic6\", \"Topic6\", \"Topic6\", \"Topic6\", \"Topic6\", \"Topic6\", \"Topic6\", \"Topic6\", \"Topic6\", \"Topic6\", \"Topic6\", \"Topic6\", \"Topic6\", \"Topic6\", \"Topic6\", \"Topic6\", \"Topic6\", \"Topic6\", \"Topic6\", \"Topic6\", \"Topic6\", \"Topic6\", \"Topic6\", \"Topic6\", \"Topic6\", \"Topic6\", \"Topic6\", \"Topic6\", \"Topic6\", \"Topic6\", \"Topic6\", \"Topic6\", \"Topic6\", \"Topic6\", \"Topic6\", \"Topic6\", \"Topic6\", \"Topic6\", \"Topic6\", \"Topic6\", \"Topic6\", \"Topic6\", \"Topic6\", \"Topic6\", \"Topic6\", \"Topic6\", \"Topic6\", \"Topic6\", \"Topic6\", \"Topic6\", \"Topic6\", \"Topic6\", \"Topic6\", \"Topic6\", \"Topic6\", \"Topic6\", \"Topic6\", \"Topic6\", \"Topic7\", \"Topic7\", \"Topic7\", \"Topic7\", \"Topic7\", \"Topic7\", \"Topic7\", \"Topic7\", \"Topic7\", \"Topic7\", \"Topic7\", \"Topic7\", \"Topic7\", \"Topic7\", \"Topic7\", \"Topic7\", \"Topic7\", \"Topic7\", \"Topic7\", \"Topic7\", \"Topic7\", \"Topic7\", \"Topic7\", \"Topic7\", \"Topic7\", \"Topic7\", \"Topic7\", \"Topic7\", \"Topic7\", \"Topic7\", \"Topic7\", \"Topic7\", \"Topic7\", \"Topic7\", \"Topic7\", \"Topic7\", \"Topic7\", \"Topic7\", \"Topic7\", \"Topic7\", \"Topic7\", \"Topic7\", \"Topic7\", \"Topic7\", \"Topic7\", \"Topic7\", \"Topic7\", \"Topic7\", \"Topic7\", \"Topic7\", \"Topic7\", \"Topic7\", \"Topic7\", \"Topic7\", \"Topic7\", \"Topic7\", \"Topic7\", \"Topic7\", \"Topic7\", \"Topic7\", \"Topic7\", \"Topic7\", \"Topic7\", \"Topic7\", \"Topic7\", \"Topic7\", \"Topic7\", \"Topic7\", \"Topic7\", \"Topic7\", \"Topic8\", \"Topic8\", \"Topic8\", \"Topic8\", \"Topic8\", \"Topic8\", \"Topic8\", \"Topic8\", \"Topic8\", \"Topic8\", \"Topic8\", \"Topic8\", \"Topic8\", \"Topic8\", \"Topic8\", \"Topic8\", \"Topic8\", \"Topic8\", \"Topic8\", \"Topic8\", \"Topic8\", \"Topic8\", \"Topic8\", \"Topic8\", \"Topic8\", \"Topic8\", \"Topic8\", \"Topic8\", \"Topic8\", \"Topic8\", \"Topic8\", \"Topic8\", \"Topic8\", \"Topic8\", \"Topic8\", \"Topic8\", \"Topic8\", \"Topic8\", \"Topic8\", \"Topic8\", \"Topic8\", \"Topic8\", \"Topic8\", \"Topic8\", \"Topic8\", \"Topic8\", \"Topic8\", \"Topic8\", \"Topic8\", \"Topic8\", \"Topic8\", \"Topic8\", \"Topic8\", \"Topic8\", \"Topic8\", \"Topic8\", \"Topic8\", \"Topic8\", \"Topic8\", \"Topic9\", \"Topic9\", \"Topic9\", \"Topic9\", \"Topic9\", \"Topic9\", \"Topic9\", \"Topic9\", \"Topic9\", \"Topic9\", \"Topic9\", \"Topic9\", \"Topic9\", \"Topic9\", \"Topic9\", \"Topic9\", \"Topic9\", \"Topic9\", \"Topic9\", \"Topic9\", \"Topic9\", \"Topic9\", \"Topic9\", \"Topic9\", \"Topic9\", \"Topic9\", \"Topic9\", \"Topic9\", \"Topic9\", \"Topic9\", \"Topic9\", \"Topic9\", \"Topic9\", \"Topic9\", \"Topic9\", \"Topic9\", \"Topic9\", \"Topic9\", \"Topic9\", \"Topic9\", \"Topic9\", \"Topic9\", \"Topic9\", \"Topic9\", \"Topic9\", \"Topic9\", \"Topic9\", \"Topic9\", \"Topic9\", \"Topic9\", \"Topic9\", \"Topic9\", \"Topic9\", \"Topic9\", \"Topic9\", \"Topic9\", \"Topic9\", \"Topic10\", \"Topic10\", \"Topic10\", \"Topic10\", \"Topic10\", \"Topic10\", \"Topic10\", \"Topic10\", \"Topic10\", \"Topic10\", \"Topic10\", \"Topic10\", \"Topic10\", \"Topic10\", \"Topic10\", \"Topic10\", \"Topic10\", \"Topic10\", \"Topic10\", \"Topic10\", \"Topic10\", \"Topic10\", \"Topic10\", \"Topic10\", \"Topic10\", \"Topic10\", \"Topic10\", \"Topic10\", \"Topic10\", \"Topic10\", \"Topic10\", \"Topic10\", \"Topic10\", \"Topic10\", \"Topic10\", \"Topic10\", \"Topic10\", \"Topic10\", \"Topic10\", \"Topic10\", \"Topic10\", \"Topic10\", \"Topic10\", \"Topic10\", \"Topic10\", \"Topic10\", \"Topic10\", \"Topic10\", \"Topic10\", \"Topic10\", \"Topic10\", \"Topic10\", \"Topic10\", \"Topic10\", \"Topic10\", \"Topic10\", \"Topic11\", \"Topic11\", \"Topic11\", \"Topic11\", \"Topic11\", \"Topic11\", \"Topic11\", \"Topic11\", \"Topic11\", \"Topic11\", \"Topic11\", \"Topic11\", \"Topic11\", \"Topic11\", \"Topic11\", \"Topic11\", \"Topic11\", \"Topic11\", \"Topic11\", \"Topic11\", \"Topic11\", \"Topic11\", \"Topic11\", \"Topic11\", \"Topic11\", \"Topic11\", \"Topic11\", \"Topic11\", \"Topic11\", \"Topic11\", \"Topic11\", \"Topic11\", \"Topic11\", \"Topic11\", \"Topic11\", \"Topic11\", \"Topic11\", \"Topic11\", \"Topic11\", \"Topic11\", \"Topic11\", \"Topic11\", \"Topic11\", \"Topic11\", \"Topic11\", \"Topic11\", \"Topic11\", \"Topic11\", \"Topic11\", \"Topic11\", \"Topic11\", \"Topic11\", \"Topic11\", \"Topic11\", \"Topic11\", \"Topic11\", \"Topic11\", \"Topic11\", \"Topic11\", \"Topic11\", \"Topic12\", \"Topic12\", \"Topic12\", \"Topic12\", \"Topic12\", \"Topic12\", \"Topic12\", \"Topic12\", \"Topic12\", \"Topic12\", \"Topic12\", \"Topic12\", \"Topic12\", \"Topic12\", \"Topic12\", \"Topic12\", \"Topic12\", \"Topic12\", \"Topic12\", \"Topic12\", \"Topic12\", \"Topic12\", \"Topic12\", \"Topic12\", \"Topic12\", \"Topic12\", \"Topic12\", \"Topic12\", \"Topic12\", \"Topic12\", \"Topic12\", \"Topic12\", \"Topic12\", \"Topic12\", \"Topic12\", \"Topic12\", \"Topic12\", \"Topic12\", \"Topic12\", \"Topic12\", \"Topic12\", \"Topic12\", \"Topic12\", \"Topic13\", \"Topic13\", \"Topic13\", \"Topic13\", \"Topic13\", \"Topic13\", \"Topic13\", \"Topic13\", \"Topic13\", \"Topic13\", \"Topic13\", \"Topic13\", \"Topic13\", \"Topic13\", \"Topic13\", \"Topic13\", \"Topic13\", \"Topic13\", \"Topic13\", \"Topic13\", \"Topic13\", \"Topic13\", \"Topic13\", \"Topic13\", \"Topic13\", \"Topic13\", \"Topic13\", \"Topic13\", \"Topic13\", \"Topic13\", \"Topic13\", \"Topic13\", \"Topic13\", \"Topic13\", \"Topic13\", \"Topic13\", \"Topic13\", \"Topic13\", \"Topic13\", \"Topic13\", \"Topic13\", \"Topic13\", \"Topic13\", \"Topic13\", \"Topic13\", \"Topic13\", \"Topic13\", \"Topic13\", \"Topic13\", \"Topic13\", \"Topic13\", \"Topic13\", \"Topic13\", \"Topic14\", \"Topic14\", \"Topic14\", \"Topic14\", \"Topic14\", \"Topic14\", \"Topic14\", \"Topic14\", \"Topic14\", \"Topic14\", \"Topic14\", \"Topic14\", \"Topic14\", \"Topic14\", \"Topic14\", \"Topic14\", \"Topic14\", \"Topic14\", \"Topic14\", \"Topic14\", \"Topic14\", \"Topic14\", \"Topic14\", \"Topic14\", \"Topic14\", \"Topic14\", \"Topic14\", \"Topic14\", \"Topic14\", \"Topic14\", \"Topic14\", \"Topic14\", \"Topic14\", \"Topic14\", \"Topic14\", \"Topic14\", \"Topic14\", \"Topic14\", \"Topic14\", \"Topic14\", \"Topic14\", \"Topic14\", \"Topic14\", \"Topic14\", \"Topic14\", \"Topic14\", \"Topic14\", \"Topic14\", \"Topic14\", \"Topic14\", \"Topic14\", \"Topic14\", \"Topic15\", \"Topic15\", \"Topic15\", \"Topic15\", \"Topic15\", \"Topic15\", \"Topic15\", \"Topic15\", \"Topic15\", \"Topic15\", \"Topic15\", \"Topic15\", \"Topic15\", \"Topic15\", \"Topic15\", \"Topic15\", \"Topic15\", \"Topic15\", \"Topic15\", \"Topic15\", \"Topic15\", \"Topic15\", \"Topic15\", \"Topic15\", \"Topic15\", \"Topic15\", \"Topic15\", \"Topic15\", \"Topic15\", \"Topic15\", \"Topic15\", \"Topic15\", \"Topic15\", \"Topic15\", \"Topic15\", \"Topic15\", \"Topic15\", \"Topic15\", \"Topic15\", \"Topic15\", \"Topic15\", \"Topic15\", \"Topic15\", \"Topic15\", \"Topic16\", \"Topic16\", \"Topic16\", \"Topic16\", \"Topic16\", \"Topic16\", \"Topic16\", \"Topic16\", \"Topic16\", \"Topic16\", \"Topic16\", \"Topic16\", \"Topic16\", \"Topic16\", \"Topic16\", \"Topic16\", \"Topic16\", \"Topic16\", \"Topic16\", \"Topic16\", \"Topic16\", \"Topic16\", \"Topic16\", \"Topic16\", \"Topic16\", \"Topic16\", \"Topic16\", \"Topic16\", \"Topic16\", \"Topic16\", \"Topic16\", \"Topic16\", \"Topic16\", \"Topic16\", \"Topic16\", \"Topic16\", \"Topic16\", \"Topic16\", \"Topic16\", \"Topic16\", \"Topic16\", \"Topic16\", \"Topic16\", \"Topic16\", \"Topic17\", \"Topic17\", \"Topic17\", \"Topic17\", \"Topic17\", \"Topic17\", \"Topic17\", \"Topic17\", \"Topic17\", \"Topic17\", \"Topic17\", \"Topic17\", \"Topic17\", \"Topic17\", \"Topic17\", \"Topic17\", \"Topic17\", \"Topic17\", \"Topic17\", \"Topic17\", \"Topic17\", \"Topic17\", \"Topic17\", \"Topic17\", \"Topic17\", \"Topic17\", \"Topic17\", \"Topic17\", \"Topic17\", \"Topic17\", \"Topic17\", \"Topic17\", \"Topic17\", \"Topic17\", \"Topic17\", \"Topic17\", \"Topic17\", \"Topic17\", \"Topic17\", \"Topic17\", \"Topic17\", \"Topic17\", \"Topic17\", \"Topic17\", \"Topic17\", \"Topic17\", \"Topic17\", \"Topic17\", \"Topic17\", \"Topic17\", \"Topic18\", \"Topic18\", \"Topic18\", \"Topic18\", \"Topic18\", \"Topic18\", \"Topic18\", \"Topic18\", \"Topic18\", \"Topic18\", \"Topic18\", \"Topic18\", \"Topic18\", \"Topic18\", \"Topic18\", \"Topic18\", \"Topic18\", \"Topic18\", \"Topic18\", \"Topic18\", \"Topic18\", \"Topic18\", \"Topic18\", \"Topic18\", \"Topic18\", \"Topic18\", \"Topic18\", \"Topic18\", \"Topic18\", \"Topic18\", \"Topic18\", \"Topic18\", \"Topic18\", \"Topic18\", \"Topic18\", \"Topic18\", \"Topic18\", \"Topic18\", \"Topic18\", \"Topic18\", \"Topic18\", \"Topic18\", \"Topic18\", \"Topic18\", \"Topic18\", \"Topic18\", \"Topic18\", \"Topic18\", \"Topic18\", \"Topic18\", \"Topic18\", \"Topic18\", \"Topic18\", \"Topic18\", \"Topic19\", \"Topic19\", \"Topic19\", \"Topic19\", \"Topic19\", \"Topic19\", \"Topic19\", \"Topic19\", \"Topic19\", \"Topic19\", \"Topic19\", \"Topic19\", \"Topic19\", \"Topic19\", \"Topic19\", \"Topic19\", \"Topic19\", \"Topic19\", \"Topic19\", \"Topic19\", \"Topic19\", \"Topic19\", \"Topic19\", \"Topic19\", \"Topic19\", \"Topic19\", \"Topic19\", \"Topic19\", \"Topic19\", \"Topic19\", \"Topic19\", \"Topic19\", \"Topic19\", \"Topic19\", \"Topic19\", \"Topic19\", \"Topic19\", \"Topic19\", \"Topic20\", \"Topic20\", \"Topic20\", \"Topic20\", \"Topic20\", \"Topic20\", \"Topic20\", \"Topic20\", \"Topic20\", \"Topic20\", \"Topic20\", \"Topic20\", \"Topic20\", \"Topic20\", \"Topic20\", \"Topic20\", \"Topic20\", \"Topic20\", \"Topic20\", \"Topic20\", \"Topic20\", \"Topic20\", \"Topic20\", \"Topic20\", \"Topic20\", \"Topic20\", \"Topic20\", \"Topic20\", \"Topic20\", \"Topic20\", \"Topic20\", \"Topic20\", \"Topic20\", \"Topic20\", \"Topic20\", \"Topic20\", \"Topic21\", \"Topic21\", \"Topic21\", \"Topic21\", \"Topic21\", \"Topic21\", \"Topic21\", \"Topic21\", \"Topic21\", \"Topic21\", \"Topic21\", \"Topic21\", \"Topic21\", \"Topic21\", \"Topic21\", \"Topic21\", \"Topic21\", \"Topic21\", \"Topic21\", \"Topic21\", \"Topic21\", \"Topic21\", \"Topic21\", \"Topic21\", \"Topic21\", \"Topic21\", \"Topic21\", \"Topic21\", \"Topic21\", \"Topic21\", \"Topic21\", \"Topic22\", \"Topic22\", \"Topic22\", \"Topic22\", \"Topic22\", \"Topic22\", \"Topic22\", \"Topic22\", \"Topic22\", \"Topic22\", \"Topic22\", \"Topic22\", \"Topic22\", \"Topic22\", \"Topic22\", \"Topic22\", \"Topic22\", \"Topic22\", \"Topic22\", \"Topic22\", \"Topic22\", \"Topic22\", \"Topic22\", \"Topic22\", \"Topic22\", \"Topic22\", \"Topic22\", \"Topic22\", \"Topic22\", \"Topic22\", \"Topic22\", \"Topic22\", \"Topic22\", \"Topic22\", \"Topic22\", \"Topic22\", \"Topic22\", \"Topic22\", \"Topic22\", \"Topic22\", \"Topic23\", \"Topic23\", \"Topic23\", \"Topic23\", \"Topic23\", \"Topic23\", \"Topic23\", \"Topic23\", \"Topic23\", \"Topic23\", \"Topic23\", \"Topic23\", \"Topic23\", \"Topic23\", \"Topic23\", \"Topic23\", \"Topic23\", \"Topic23\", \"Topic23\", \"Topic23\", \"Topic23\", \"Topic23\", \"Topic23\", \"Topic23\", \"Topic23\", \"Topic23\", \"Topic23\", \"Topic23\", \"Topic23\", \"Topic23\", \"Topic23\", \"Topic23\", \"Topic23\", \"Topic23\", \"Topic23\", \"Topic23\", \"Topic23\", \"Topic23\", \"Topic23\", \"Topic24\", \"Topic24\", \"Topic24\", \"Topic24\", \"Topic24\", \"Topic24\", \"Topic24\", \"Topic24\", \"Topic24\", \"Topic24\", \"Topic24\", \"Topic24\", \"Topic24\", \"Topic24\", \"Topic24\", \"Topic24\", \"Topic24\", \"Topic24\", \"Topic24\", \"Topic24\", \"Topic24\", \"Topic24\", \"Topic24\", \"Topic24\", \"Topic24\", \"Topic24\", \"Topic24\", \"Topic24\", \"Topic24\", \"Topic24\", \"Topic24\", \"Topic24\", \"Topic24\", \"Topic25\", \"Topic25\", \"Topic25\", \"Topic25\", \"Topic25\", \"Topic25\", \"Topic25\", \"Topic25\", \"Topic25\", \"Topic25\", \"Topic25\", \"Topic25\", \"Topic25\", \"Topic25\", \"Topic25\", \"Topic25\", \"Topic25\", \"Topic25\", \"Topic25\", \"Topic25\", \"Topic25\", \"Topic25\", \"Topic25\", \"Topic25\", \"Topic25\", \"Topic25\", \"Topic25\", \"Topic25\", \"Topic25\", \"Topic25\", \"Topic25\", \"Topic25\", \"Topic25\", \"Topic25\", \"Topic25\", \"Topic25\", \"Topic25\", \"Topic25\", \"Topic25\", \"Topic26\", \"Topic26\", \"Topic26\", \"Topic26\", \"Topic26\", \"Topic26\", \"Topic26\", \"Topic26\", \"Topic26\", \"Topic26\", \"Topic26\", \"Topic26\", \"Topic26\", \"Topic26\", \"Topic26\", \"Topic26\", \"Topic26\", \"Topic26\", \"Topic26\", \"Topic26\", \"Topic26\", \"Topic26\", \"Topic26\", \"Topic26\", \"Topic26\", \"Topic26\", \"Topic26\", \"Topic26\", \"Topic26\", \"Topic26\", \"Topic26\", \"Topic26\", \"Topic26\", \"Topic26\", \"Topic26\", \"Topic26\", \"Topic26\", \"Topic26\", \"Topic26\", \"Topic26\", \"Topic27\", \"Topic27\", \"Topic27\", \"Topic27\", \"Topic27\", \"Topic27\", \"Topic27\", \"Topic27\", \"Topic27\", \"Topic27\", \"Topic27\", \"Topic27\", \"Topic27\", \"Topic27\", \"Topic27\", \"Topic27\", \"Topic27\", \"Topic27\", \"Topic27\", \"Topic27\", \"Topic27\", \"Topic27\", \"Topic27\", \"Topic27\", \"Topic27\", \"Topic27\", \"Topic27\", \"Topic27\", \"Topic27\", \"Topic27\", \"Topic27\", \"Topic27\", \"Topic27\", \"Topic27\", \"Topic27\", \"Topic27\", \"Topic27\", \"Topic27\", \"Topic27\", \"Topic27\", \"Topic27\", \"Topic27\", \"Topic28\", \"Topic28\", \"Topic28\", \"Topic28\", \"Topic28\", \"Topic28\", \"Topic28\", \"Topic28\", \"Topic28\", \"Topic28\", \"Topic28\", \"Topic28\", \"Topic28\", \"Topic28\", \"Topic28\", \"Topic28\", \"Topic28\", \"Topic28\", \"Topic28\", \"Topic28\", \"Topic28\", \"Topic28\", \"Topic28\", \"Topic28\", \"Topic28\", \"Topic28\", \"Topic28\", \"Topic28\", \"Topic28\", \"Topic28\", \"Topic28\", \"Topic28\", \"Topic28\", \"Topic28\", \"Topic28\", \"Topic29\", \"Topic29\", \"Topic29\", \"Topic29\", \"Topic29\", \"Topic29\", \"Topic29\", \"Topic29\", \"Topic29\", \"Topic29\", \"Topic29\", \"Topic29\", \"Topic29\", \"Topic29\", \"Topic29\", \"Topic29\", \"Topic29\", \"Topic29\", \"Topic29\", \"Topic29\", \"Topic29\", \"Topic29\", \"Topic29\", \"Topic29\", \"Topic29\", \"Topic29\", \"Topic29\", \"Topic29\", \"Topic29\", \"Topic29\", \"Topic29\", \"Topic29\", \"Topic29\", \"Topic29\", \"Topic29\", \"Topic30\", \"Topic30\", \"Topic30\", \"Topic30\", \"Topic30\", \"Topic30\", \"Topic30\", \"Topic30\", \"Topic30\", \"Topic30\", \"Topic30\", \"Topic30\", \"Topic30\", \"Topic30\", \"Topic30\", \"Topic30\", \"Topic30\", \"Topic30\", \"Topic30\", \"Topic30\", \"Topic30\", \"Topic30\", \"Topic30\", \"Topic30\", \"Topic30\", \"Topic30\", \"Topic30\", \"Topic30\", \"Topic30\", \"Topic30\"], \"Freq\": [178391.0, 207423.0, 192375.0, 127681.0, 51449.0, 47606.0, 85600.0, 86448.0, 41698.0, 44960.0, 30135.0, 66335.0, 32817.0, 49096.0, 30618.0, 45825.0, 53347.0, 31829.0, 40994.0, 127186.0, 44046.0, 33687.0, 84361.0, 27225.0, 44587.0, 42419.0, 30820.0, 24307.0, 107831.0, 47448.0, 10626.195016411128, 9414.493456167073, 7868.737034606075, 7304.27080317281, 7141.076780793006, 6988.517825766177, 5423.7859369594735, 4578.45037592843, 4538.60905344399, 4427.8603320887005, 3819.5232851453616, 3808.3541592014963, 3500.2610763966113, 3327.220013442628, 3318.6294519630214, 9535.437896754678, 2957.2130969883633, 2871.9655019369466, 2870.4356931532175, 2760.974848135455, 2575.5642068284938, 3173.6736748625917, 2451.603721236487, 2440.2973561022905, 30179.890004256857, 2339.497362774952, 2324.418365341932, 2138.316360043714, 2075.4673690312547, 2065.6997206128176, 31819.5409826263, 5270.422886462945, 7077.3205659139285, 3656.4692829220758, 8383.98225860838, 23347.70413088597, 52168.86156739878, 7102.063235123118, 7205.668950376583, 5376.544122029401, 33537.262780216246, 10774.201634750973, 6859.282480650249, 8651.328049779346, 6102.589236206818, 7638.373475845655, 56673.334287115, 13943.163675917607, 12588.716001204366, 14994.262665150645, 99592.40759549357, 29277.76332610703, 29205.468868129723, 13144.725287173682, 24593.418650434705, 94602.779559939, 33215.37045498598, 80448.31542480887, 17500.066990336527, 62745.75418309165, 31257.71612483514, 26170.462327224086, 12728.38232545515, 13990.972469678461, 33048.59295311071, 20806.126361849972, 25602.70069910884, 14156.43022096708, 28778.962140254553, 31506.726847198148, 40135.495136575686, 36318.80784602857, 24003.773559595265, 17979.885646409017, 93536.10058821233, 41954.19365735371, 32328.08140883756, 92334.85209726334, 25208.43209323798, 28785.492514023037, 31219.819650015008, 24080.631679186292, 12021.086686643845, 11094.03213619094, 6365.82405598748, 5824.233015272486, 4989.921756354506, 4428.877705788573, 4358.1857353035975, 4349.017466553715, 4237.4238145850695, 4216.736106209759, 3944.0205487068565, 2777.3465227005217, 2639.6472927240366, 2278.0084258564343, 2240.7997194425952, 2184.181649526349, 2132.368989843286, 2123.676656920972, 1837.1298237682095, 1824.339442476266, 1717.9840956817895, 1605.3362430896714, 1582.0563412178165, 1508.0314691664298, 1498.5091280321567, 1492.4243082366388, 1472.8903478648954, 1339.9095876786691, 1308.6683312951257, 1221.041981137657, 25135.429494451393, 4711.828959255653, 19337.8700205088, 10051.549515887931, 4962.404590987928, 4037.8201057896626, 22955.447959302273, 13742.580511846067, 6810.327171848898, 7393.60881068951, 10173.483608956341, 10183.281185838585, 7401.458497082054, 28360.871863792465, 30112.88085860403, 7268.54712728548, 16220.318283912165, 21200.6469511449, 14135.095350830125, 8966.332865960427, 16565.37406277043, 38509.600515303275, 17448.433997621814, 8836.462211135786, 9679.801644752406, 10724.407274437188, 14617.6219341657, 8199.41800931821, 12679.070028690205, 12671.642139291645, 11761.372256052913, 15346.97484473977, 10203.669716970473, 13827.955900455421, 14486.773988928699, 10035.681889364763, 10995.887167358776, 10958.850748312227, 11327.746869373, 28427.70841834181, 31473.131844551328, 7548.321036184267, 5117.108226614118, 5100.151920616826, 4931.903269398304, 3761.6811106209807, 3263.3404936135025, 3124.7374644918846, 3007.358000965196, 6261.03940798797, 2795.8805183344966, 2774.1168962619104, 2700.0599838185044, 2562.9143898367856, 2321.2037840592966, 2240.0445920881953, 2100.745453745657, 2080.019641309635, 1973.4395407134919, 1824.2551669254601, 1823.1785912785188, 1787.5573416677971, 1744.9934072019785, 2021.4608718456836, 1530.3948086041428, 1502.7828429501783, 1488.479750245976, 1325.1399730323822, 1306.9090815361512, 1822.147423317978, 26704.964086911164, 13917.146862710082, 7545.736670615433, 22880.520966723587, 19067.01720035284, 34716.750226749115, 17104.595396696655, 6463.221299994698, 43071.15582485908, 11671.65162497641, 9659.96347738914, 15862.831141173809, 14092.452680837365, 4860.551739868809, 14682.847745538806, 3926.4775095885598, 7404.839438377479, 10099.104980666447, 3484.5251481290015, 6942.914761573095, 6301.778627754114, 5985.733302765519, 10116.391500413532, 9753.190253941648, 9921.262557943366, 9020.416508515395, 8807.63683219303, 6981.350057667445, 6158.410598040778, 6158.532645252957, 4578.391666172935, 2553.0753047339913, 2523.0697587919976, 2413.212327540163, 2278.3276249955597, 2036.6247273534354, 1422.848415096938, 1354.683914942515, 1302.4457746481169, 1180.484661372774, 1081.0127448132027, 1026.6449602281336, 927.8062139987495, 919.4707407056939, 894.6980377194475, 894.3811221456621, 801.1895469288708, 737.9812782984906, 725.2015847326726, 710.4716381452889, 682.4379402878598, 626.7882038045162, 583.3143757248893, 577.2039130897805, 553.9249281670283, 486.52800536789306, 455.6452596519017, 447.7912667472258, 434.04318838218416, 432.26797641582175, 10680.20973193772, 5433.744533304101, 56443.856292561344, 27142.703928677653, 1027.3785137372734, 3773.7670554475408, 44744.900328532574, 6073.279923267857, 13141.296325031597, 31125.453178065578, 2481.1834705739125, 19656.09440952448, 12610.431543174533, 22928.735824578824, 12667.442409234694, 4315.544671015278, 54440.26443802454, 2679.5709393018437, 4157.079536859022, 8105.805380662509, 16842.907320873477, 21251.964695418425, 10267.713825017361, 14982.966153781594, 6921.066332460736, 6546.492522556392, 6369.4671490864885, 10694.268271807001, 12641.924469108011, 9892.052860856245, 8463.759040884708, 7282.884847179655, 9559.924146164238, 7728.527257760452, 8813.972518287399, 10380.57517329259, 6951.087155785324, 7435.306975767916, 6895.837855141574, 10345.741664034427, 9010.565899883093, 8241.067437800099, 7798.16458259162, 6230.439949359405, 5559.995940735715, 5467.366599594288, 27555.562912094258, 3289.8862854007643, 3288.086229710647, 2902.9155327814624, 2705.949286913597, 2580.0118511174937, 2522.2893058308605, 2061.783370867214, 1773.9239740564153, 1769.2805535008038, 1687.5040365461853, 1639.1985399466846, 1635.345035408256, 1534.3913973247077, 1532.170838170489, 1434.9030315521104, 1276.6609148589396, 1191.5816355700067, 1150.0680600076557, 1100.0728632565729, 1091.403223771002, 1083.6974849606754, 2509.705971460607, 5264.940462401591, 7437.546421869662, 6630.851771607615, 4379.115801331297, 15731.596027245005, 24457.95484833182, 4817.654477857357, 9343.112488750676, 4914.991761328131, 4062.015657436247, 5760.6032728730925, 5154.295305960549, 7756.348045651388, 11397.130121778431, 7152.074883856091, 19470.029710168223, 15389.78973459464, 13542.790483753928, 7212.820682855625, 5698.919990633817, 12565.479170172845, 6722.190433023995, 8901.691836245704, 5583.653595002384, 5662.979745430777, 5575.618565715711, 5860.489787291875, 5430.841790458864, 2411.6386814496677, 2355.0776139866084, 1903.2462974558462, 1849.7773731567013, 1838.9025852980315, 1572.1384092597177, 1239.5241773247449, 1124.1489765813815, 969.9062246314685, 916.371543683349, 852.5296726373375, 848.6732835675326, 695.4224451013804, 608.9787958747175, 574.0890619745037, 566.2046346433228, 510.7811669539572, 471.90977793656623, 463.9825834640928, 454.1129556735321, 420.2150779351648, 412.3052563066802, 396.20801572464995, 395.27158645679214, 373.87702566729666, 373.77560338188715, 369.5429270931166, 354.2046728911254, 352.0387402129856, 346.48927113509995, 120908.49483554685, 2975.8038018155808, 798.4674685262061, 14408.943259100033, 58841.905706335514, 21877.2957010474, 1288.6244350436336, 21915.828227145525, 2034.344469875065, 35046.615519550964, 36593.674747276265, 2217.3107271032804, 11234.788433159669, 8246.530190745918, 13270.964510552014, 5759.846322691775, 9417.152668227116, 3497.608927311964, 5034.298077355616, 3766.4944598917086, 9301.570795661151, 7129.895279881457, 5406.150888993352, 7091.635050930304, 2661.2811153812177, 3035.643242620412, 3939.713507861041, 2634.045839636429, 2185.5283866374984, 2143.3371227107473, 5339.110234883213, 3160.7974560053203, 2733.9022291048295, 2606.541758259495, 2292.1870157906665, 2256.174121978064, 1608.512462651002, 1438.3510511032973, 1293.6505944617015, 1161.5815439670587, 972.6745900962079, 842.1308027534791, 744.0862474214981, 659.3859903727606, 631.9652127089488, 592.4712527833651, 592.0259056775081, 537.6853779304613, 515.1655078970995, 508.406902017875, 488.97178743593827, 484.4942344971185, 474.6461025638048, 462.512251562236, 460.29573745415075, 456.750224199182, 456.42519917703424, 448.37496634282815, 444.56155926409326, 434.3338924692013, 1452.2379550707778, 2908.9831862550136, 15132.097572716912, 2922.448594114949, 6766.252323868432, 1926.132791816225, 3650.564214457741, 4983.283849366932, 2756.134781253402, 27615.024153620587, 10554.427618348092, 9688.244457713608, 26354.860975794207, 4427.199871922878, 2233.600844642018, 1598.338385959062, 1420.393216635343, 11658.256502061451, 2418.3658638970883, 6887.1088825656025, 2679.751135298311, 3389.681286531792, 6609.142816607943, 5583.8611904573845, 12598.652565777646, 5409.220874560849, 4301.400780774525, 7035.474247269787, 5131.823216752262, 4309.404596924099, 4264.653545743452, 14220.920110467401, 6927.916478902074, 5322.676582516906, 4279.65439670096, 4275.069227039731, 4570.718199636493, 3255.7615082022053, 4121.670615262107, 4914.941599309604, 13859.746287173386, 9460.427792035229, 7622.570875168116, 7191.81043465478, 4290.959723790209, 3529.66122564009, 2959.138071079509, 2940.4576488677767, 2808.975828935116, 2800.7755060806353, 2168.985368800197, 2086.7151563513057, 1500.649021699458, 1474.7312903415477, 1457.3008824406027, 1441.7906045839868, 1335.3848098361937, 1325.049554159361, 1266.844092923425, 1021.5049554687422, 958.9449996262869, 809.6650115851921, 775.05153177569, 774.7430574634452, 31610.519628496055, 740.3337157610924, 723.1597254940675, 701.8478197412908, 692.3040676170992, 682.5233713671693, 2293.53962755265, 2111.059891408397, 1670.7284405660212, 1967.3437095460727, 1578.7169028179355, 2194.5911613406292, 11372.839440853824, 7749.497097455843, 8862.464632080157, 1801.1527547575154, 13820.323321740163, 4843.958891458092, 4355.6302149067205, 2018.560019577491, 2872.461986342295, 3532.1891253887193, 4235.122001151228, 2572.334963769349, 3276.115311342615, 4242.857644702578, 4332.718699863269, 4578.706502416432, 3443.1265250062042, 2627.2535465816163, 2821.6291511124023, 2614.3507695875005, 2546.7924712537633, 2643.954305155867, 2602.1747724149755, 20359.77976092985, 12113.251102691469, 8661.031997538885, 6586.602749986438, 5556.142911000693, 4448.619032931022, 1714.7080310443357, 1712.4807959774232, 1647.3068955658468, 1566.2075266712566, 1504.3598333569075, 1477.2982736965891, 1437.082497718127, 1426.6347907751838, 1417.4852506780587, 1321.5048520105024, 1141.340482196228, 3284.16647683148, 816.6090652689913, 769.6070727362292, 750.9374932461528, 744.2858373049656, 734.1811476175436, 724.0552418161069, 722.4690038035463, 658.5821458550733, 638.5924470083401, 621.836199375184, 591.9793478754565, 583.1770505863956, 11175.379511185381, 1445.8440946492624, 5276.6802682971775, 5038.6930356732955, 7743.8153274129145, 1780.789217081219, 11367.930443781503, 9172.828772512412, 10098.049121710972, 40665.87031771799, 3485.8121687198454, 3521.4687200378494, 8924.519878539057, 8127.69335517363, 14385.28313581704, 4172.912223531507, 9549.833826512548, 3230.793519883813, 3271.9398815156956, 3824.4897213750864, 3710.75707971408, 4182.063757269188, 5152.652969144738, 2974.8517006857855, 5774.322195732612, 3805.0543338225684, 3251.6686428515936, 27220.63688826512, 6331.51989737318, 6108.955889532468, 5916.201281890814, 4946.880639369533, 3342.933131724376, 3223.6022396048807, 2381.3340097669193, 2330.8753840115864, 2232.780088290946, 2052.8498712756336, 1966.8751412671165, 1898.8248935769727, 1790.256756801952, 1589.4152357666217, 1498.2207698493125, 1380.796864341376, 1200.4384222500125, 1188.7492727011552, 1106.3550861008036, 1095.1822573044487, 942.7823098543856, 932.272139893108, 928.7319644389846, 913.7829014308606, 907.0024149822993, 876.3102133637734, 860.5234740056027, 830.4990477678901, 736.1222521493262, 3963.0331789580023, 2732.031664263116, 3483.983793161099, 2138.493804627857, 3328.1024847015983, 1519.614180176209, 5747.465585937961, 2226.28829758591, 1195.9736821084216, 2659.5818448198206, 8684.53261671772, 4429.2782741768415, 2539.458413381115, 4231.942545929242, 2695.0361987326964, 5681.819880727654, 3473.779180460091, 2677.0096811147637, 2832.2212130062467, 2923.498335160845, 3388.329706884719, 2941.384745916287, 3029.6417760310424, 2528.385326965272, 2732.9527856415716, 2514.775052757765, 3035.2165527032653, 2598.2131791675442, 2269.6600477521683, 2084.301948377023, 1478.2915756666905, 1414.2267738751966, 1362.2519176948595, 1342.7643409710683, 1306.4469940425881, 1277.559517782373, 1137.1191759983496, 1101.1005014943255, 1199.748144640308, 1038.7584910783285, 1032.8691211672767, 980.0855192611715, 1996.6347366520852, 855.1781303891921, 818.4243466944978, 791.6203998364343, 742.0656371365135, 716.2878954649575, 706.2740837557435, 702.0716706293042, 690.2063514573422, 655.5857693525259, 640.1254930906503, 612.4497610839487, 609.7024736746553, 596.7320561290675, 1448.5223594384604, 7392.651180826466, 4260.998838839048, 4256.083428757082, 1418.1038670677158, 4311.822651707815, 9078.80359611386, 1544.425895914097, 3287.7255497687015, 2105.7076284947257, 14405.925861475595, 2091.990485840143, 7137.485707172384, 3358.7559269348108, 4938.723705919678, 10680.503142081456, 2342.8306039915224, 2728.8999137612736, 3135.5575267390213, 2602.691494405404, 1929.7173271305958, 2172.9159376394664, 2975.711657150352, 2577.634008671402, 2158.254451777154, 2203.8039013065236, 2961.5272666463443, 2360.031844782783, 2292.8229370435406, 2106.3368363822974, 30613.394953839666, 24301.93445748518, 13148.682921502726, 12962.872255816672, 10489.811635005412, 7669.010614958712, 6592.868708324248, 5602.098016651786, 4471.560759315932, 4383.658860468969, 3910.815030770541, 3276.111298037876, 3164.4053872713775, 3161.666582720856, 3159.4379750146986, 2896.9516219477664, 2631.3271050879243, 2339.3977405050864, 2302.3464868521846, 2291.9454049596216, 2109.3944688408596, 1616.332928367005, 1570.6239982930163, 1528.5319567962754, 1504.2888269827527, 1420.0732985596956, 1317.9668339536265, 1309.4937306964125, 1241.3910014678472, 1175.6005442341095, 1803.0132771230053, 2598.0838473413855, 7720.662638856903, 4856.2944518737495, 2012.2603236611862, 6784.483827560784, 5911.129279705481, 2775.596496339784, 3304.5707065235556, 2381.217388533495, 3987.206278690416, 2328.7728203230204, 2309.111869295197, 14633.605214979607, 12173.396892846195, 7258.415063654658, 4958.425424528005, 2303.3673627703465, 2189.126398631247, 1981.9952446460672, 1634.0223123252272, 1428.7817877465377, 1169.7248712895628, 1148.0056487576505, 1144.6515734487355, 887.2885894351616, 865.5128966566864, 853.1770320047041, 794.9813748775603, 762.3228110823113, 737.4709817456346, 712.4446076136176, 707.9304950984275, 673.0179218787218, 632.9846670173082, 620.8267402242863, 611.3988342792472, 568.0344111992746, 565.1770558627958, 552.5457997262073, 458.68594562930195, 452.63988047749194, 449.5768002076226, 37590.57175606696, 3851.4417301899603, 1405.164809728301, 11202.195882200627, 1240.9477177045894, 2273.7234477326874, 16159.550384828699, 917.3875098018352, 3145.117826392699, 2615.2520857634, 2220.401850065929, 3843.310552995691, 5823.408290345632, 3467.25104304731, 2656.7506661098723, 2182.3166266120543, 2970.701813479179, 2551.6412855344524, 1946.291431048518, 1768.755685764176, 1419.9642531182005, 1497.2961821624733, 1430.611427229309, 8554.394520017446, 8381.942950542307, 4577.028068912154, 3315.046003283309, 3046.229987918284, 2919.598351554471, 2818.0419819452995, 2376.948673333932, 1993.1791470989608, 1990.700271929976, 1503.211948064527, 1209.4070966177028, 1102.3954073500142, 1078.2119730311529, 1033.609193695067, 1015.9499131067968, 957.8553777152337, 14251.160738333921, 775.0415326415035, 772.0953809047538, 761.6929952583065, 718.9791879546874, 676.3944049617269, 660.7320685780174, 652.6051502329133, 637.9955981177883, 624.4319977412806, 611.7642232057808, 598.466638376652, 549.0067384587544, 3933.710237932811, 12563.370927114525, 9628.96788143142, 13238.020899357442, 1167.5272147060878, 2668.819278993403, 6185.530759056192, 9088.772169640077, 7994.6931578504045, 2454.604522960471, 2481.88741423145, 1759.7660380766943, 5059.538037505101, 6921.680044645195, 3396.343090551161, 2954.076663872104, 1672.1781224601446, 3103.205457500718, 1850.7089005590944, 1745.4718429637674, 1917.250387348288, 1894.0300252152178, 9946.290769494984, 5042.176011061571, 16855.888521417262, 3986.0180899502648, 3472.772129018063, 3141.2232470622744, 2854.9988070623954, 2827.857520931302, 2412.073578695201, 2332.234765135112, 2229.3776550377343, 2188.86448591893, 1839.8632011715206, 1722.8428723183374, 1613.593844687808, 1564.4633781618645, 1558.4628782030945, 1493.0295856972134, 1307.0829290999266, 1247.5881461204322, 1175.4613993916648, 1205.4408397778298, 1058.4830395697186, 1008.7979767500696, 981.362344986487, 975.1706312668981, 946.7724669697726, 1133.7042513753943, 938.2926508878081, 912.3583137586387, 10933.41941698164, 11809.461421485335, 2430.2724773438576, 13168.368768123617, 3374.432496095016, 3953.4934617832246, 1595.0904860736803, 3633.500805508751, 1904.2225772068969, 2189.896473764191, 2870.0649913205484, 1720.5225011686243, 1638.7417353761473, 1631.404982212014, 41693.67643947553, 32812.13548853721, 14406.61734746331, 4831.528697329455, 4672.9221184867065, 2859.649895696279, 2762.4083156052607, 2728.380198059106, 2434.1544811118574, 2104.067760249648, 1993.5984437909972, 1547.843999006355, 1481.5057186909487, 1259.7494590687372, 1159.9367877350348, 1125.5648272298438, 1090.3146465908671, 954.7950097260812, 869.493558556747, 837.374718441082, 635.6980021078518, 585.213843693735, 565.4723768662328, 554.4777520536717, 451.2692227317725, 444.1198545891127, 439.8948566608265, 427.72948398951524, 5306.563456439936, 406.93755597403015, 1514.1105352424097, 6215.159733098291, 2084.212169773298, 3493.8529699858823, 5530.150892489237, 1510.2224900660078, 1426.2023588707466, 6753.883412837521, 1640.0343746377523, 1764.637881119544, 5283.980193789101, 1295.611114604352, 1361.760462588121, 1311.5220361347422, 47601.13898411533, 2808.5396698734885, 2807.201078123911, 2317.788305139538, 2135.0367890234884, 1887.6293158742822, 1860.8373039444832, 1846.8945775159727, 1820.8124682758983, 1728.0578446317913, 1572.0276170915042, 1568.9834069365993, 1505.0398147627493, 1486.4454196134955, 1295.3798108400363, 1220.5519220021579, 1044.8178732958543, 1127.5663604341141, 984.3929220994224, 929.2010842489618, 923.1678883649968, 734.9987202456531, 597.9224907303362, 592.7462775054696, 569.7628853433524, 547.1541536422955, 528.0739587614995, 504.2110491296699, 496.5333610647833, 492.8252176123838, 1174.3958479492844, 2581.591405225899, 3976.780914512818, 4676.791951342436, 5640.456802516147, 3285.772228514072, 1252.2278588906709, 2570.7959892647464, 3214.4556676491156, 3957.293649796909, 4492.251047616959, 2859.373135613313, 3863.281624650624, 2129.887390243021, 1790.8751109367242, 2309.740816006102, 2570.1674354080205, 1616.3126631771795, 1680.644765343567, 1678.1579350407894, 20039.221155358115, 3391.5729322328116, 3281.472195119922, 2834.0517581403446, 2703.2930090946506, 2058.840202719627, 1541.85922279803, 1441.5386230513225, 1389.9102612626605, 1278.191671517533, 1202.921307374657, 1190.7190704879415, 1059.5275101253144, 896.8623294675508, 813.1219991230548, 801.4860146124475, 752.4964057701926, 728.7032614316305, 696.2690810297579, 684.2345928818527, 658.6677777338703, 651.4130768889295, 631.9948818562858, 610.1541349012781, 576.2266679448334, 567.3718419034701, 532.439219985039, 518.8960314150713, 496.34201223064116, 481.18187113394407, 5190.709848644852, 3112.6712887883236, 2829.0705379812803, 1235.5672560401188, 7594.246760938663, 1814.2117647391842, 758.8643709289723, 1315.3109774604104, 3523.4779355875535, 7480.4623620528755, 1839.2733470062858, 3597.2433085829252, 1399.8736805401854, 4904.169513803262, 1923.195021956596, 5053.688137643649, 1968.0246991081988, 2071.9675110672456, 2983.7860789650754, 2911.83467764353, 2290.1391568575127, 2931.000612065512, 2165.275183844906, 1832.4205360110245, 19382.573457059167, 11523.23358922145, 9285.876103041457, 7895.658607131924, 6731.031629133342, 3285.1790622111134, 3230.8003662433202, 3008.782784306346, 2802.567127810192, 2567.6620759181355, 2506.430812834801, 1992.66225688338, 1850.7699441116995, 1743.1905584452547, 1643.4012340239135, 1545.0790162260432, 1450.8341814958046, 1347.9622284705881, 1345.2120119137653, 1233.0091680926494, 1181.7563256330623, 1158.8014601488103, 1139.6550626649507, 1091.947677486344, 1055.1238568591648, 1036.4010378500961, 1025.5631503294212, 1023.8595529630763, 969.0584249979962, 795.9463930500497, 10439.309423147832, 2585.223067374503, 5615.169360791198, 2787.863969499623, 2186.8036496382256, 2329.840059752313, 1315.9735971243279, 1371.2768615659904, 12779.579609482542, 9027.856838250536, 6483.342359949881, 5768.139110209906, 4292.462387344917, 3569.315854046699, 3481.767823569574, 3448.3766809008266, 3195.9603200594174, 3089.3539858643258, 2968.1886554827865, 2428.913426057414, 2367.169850149944, 2306.684229152559, 2421.197594070635, 1592.4683248880706, 1508.5657899793027, 1498.1453568223985, 1282.2286319020973, 1226.265782233958, 1199.5216888643072, 1139.219723377884, 1045.041505476731, 1025.767414679799, 967.6049616458449, 962.1258684560149, 939.1357313690869, 896.8336137961812, 838.2352860370406, 797.2456310858913, 2814.602807047558, 1781.188671068023, 3033.2628954522916, 1623.7880437900044, 1127.3738645610279, 1198.4702995699697, 3319.3122541542966, 3204.524128689445, 3164.6509421382343, 2292.175289071527, 2058.0457713319925, 1720.8436617818552, 1714.5084120579272, 1419.628917737323, 1417.8313047928905, 1364.540950256147, 1325.9440451649027, 1291.6943076550458, 1246.4989124407557, 1165.3379585874584, 1107.5544720463274, 1094.720262402891, 1086.139518409361, 1059.380893580047, 1026.6730429129348, 989.4001411300726, 988.1602536429978, 921.1877507123376, 920.435964182226, 913.0394907239163, 910.7709726454408, 881.6956754198832, 870.802232914154, 869.7444209603403, 853.8936283543127, 811.9817860036861, 1664.1091884152431, 7927.478847996635, 5802.252851607248, 4355.3515799419365, 3884.209000294927, 2615.4015888088693, 2253.2052590119984, 2020.3367008258695, 1921.868531550049, 1724.904273765347, 1670.3566957794862, 1620.9673442407445, 1496.1326354830633, 1399.3482007852172, 1371.567244499021, 1254.6335995762186, 1158.2314971459782, 1132.9075696240707, 1115.0015741915756, 1060.5669198559337, 1058.12319417632, 992.7344077553316, 920.8666547410411, 909.1508038348263, 908.0832461344323, 2229.9937935391927, 859.9592675226011, 2441.4310110600345, 708.3003626998054, 684.4139202682214, 637.3853162598105, 1704.685017133279, 1432.4518016649404, 1376.4928045616161, 5693.537979412616, 3206.593500886607, 1762.892385560162, 2176.852620072094, 1225.270871398868, 1368.3851396052648, 1083.0185567429132, 10412.192851105667, 6688.3752169493955, 5483.367439942199, 2599.7381842313657, 2059.2794147930313, 1706.0871061563573, 1416.8730878027754, 1249.7147867363985, 1225.0567480120535, 1180.7989697863181, 1148.375168925136, 1113.121546221785, 1105.0096059993716, 1687.1123889815208, 973.1940126676321, 907.9888352765432, 892.0014200826929, 876.3052022962293, 875.197262649489, 851.3172291644025, 823.4911717098814, 822.7262119915985, 809.4022418705086, 802.5187759888637, 771.8045535687887, 759.683295164247, 736.5757156573284, 722.1005285892121, 632.1093963443751, 589.6525974358923, 3082.087076074529, 1203.571159868057, 19673.376833480335, 1975.4676038403725, 1551.7033779365333, 1042.0646390784018, 1034.6820882191237, 882.9075322409764, 858.557040137891, 30130.329987604662, 6139.492739851699, 4658.402941371219, 3402.6303919579605, 3244.7245988537074, 3084.3409187814577, 2627.9482503099425, 2601.1648307111323, 2378.0048844483786, 1539.378922291856, 1518.0439189753727, 1372.4760036423813, 1302.7891069230652, 1293.6347002920675, 1254.6594702911664, 1221.3622728983903, 1187.5061613011335, 1031.9544061983456, 958.9355138084112, 946.8277358814925, 821.2720020339108, 820.556859293934, 819.4486836408029, 699.7218998359716, 692.7715059073876, 692.7690891647375, 685.6512758249913, 678.449822069967, 666.6457607499344, 665.7345947918582, 1110.1071682124934, 2042.7921359708287, 1198.31707374498, 8311.894523543766, 4637.606934214621, 4366.995278281181, 3642.361100326266, 1852.0970291816984, 1753.910413949944, 1512.8953864968362, 1414.2505364378762, 1295.6532764565127, 1226.8371530819072, 1188.4308318477974, 1171.0185828057313, 1006.8663787972882, 969.0564172098682, 921.6210793870366, 918.0718390741326, 869.9774804539691, 862.3081799603805, 697.0381311675093, 595.482343575925, 583.5109318103794, 581.961627778171, 572.6555532572139, 557.76817620767, 553.9794173701464, 542.3715594716682, 540.4065061151273, 513.4071683203337, 497.2459819659083, 493.3233578049571, 2744.601009505377, 797.801837692178, 1136.3854813023233, 1037.223047073546, 787.5579097636847, 741.6877437869757, 670.3896290448416, 629.5674145973339, 600.6619002334628, 6522.725003377851, 3921.309269601432, 2616.9211755538313, 2331.30749531904, 1953.6276060828914, 1706.7761719398948, 1630.1990215095886, 1313.8043193173028, 1200.0855090772732, 1139.0593866142929, 1131.727267935126, 949.3698390344349, 887.7434225149152, 848.3557151275573, 836.0364039845103, 784.0011669659777, 753.0789452022887, 728.646044352998, 703.0663657273631, 695.2597240906654, 686.0673349167029, 619.7236290165395, 589.922297687986, 588.1088137304754, 582.8647161939896, 574.0674670118312, 571.5495073877786, 570.0363324974417, 565.3740563279339, 541.8268388362801, 2053.7786452347655, 1620.3956290512554, 3835.5064270638213, 1550.304812609568, 1074.2771360810516, 1022.252956539629, 762.1593511993871, 887.950437987578, 708.8766244759406, 695.4678552395071, 4248.087959127235, 2361.57363565317, 2191.417576696824, 1899.6632737824045, 1635.6088740790458, 1337.8709684170547, 1254.8205048340865, 1169.4921603566177, 1151.0647284377376, 997.7101606218334, 982.4018986708724, 969.0400335109747, 906.6928813743425, 791.8017704043391, 761.159477351189, 706.2910954213003, 688.5806777694128, 677.1199896182848, 660.6018521047697, 644.2287309670144, 634.1717083687772, 611.2150820157888, 606.6990223500525, 587.5468454362601, 557.341437657667, 504.5587321948119, 493.78526158524295, 478.4128348119662, 457.9071721894051, 456.51135890949547, 725.1389064089678, 3289.625397682678, 4369.073362991634, 2799.1251978999603, 6554.017965315651, 1399.02859747133, 3274.0272385102353, 1262.468978138053, 822.0622976236739, 911.9599878548332, 764.8573180259187, 661.7205488282252, 5673.2819573204015, 5079.178398087767, 3674.456987605797, 2651.3015234439395, 2265.9001140067603, 2138.3343721075585, 1908.9053467721644, 1841.0383398446227, 1678.144166469787, 1542.4940833021449, 1405.506073667129, 1123.663060029603, 1056.695669165707, 1003.2024802924722, 936.5536211533808, 903.1978025823017, 840.4690507468335, 837.0535024526638, 789.0326471475762, 784.7213228584059, 751.4984392128316, 749.8318388885506, 734.517921420276, 718.6436402472316, 631.2703409056704, 622.3874552076472, 613.7467728212991, 608.1152248878144, 593.8599964147874, 589.945072255037, 2422.0491371543953, 818.3828514106668, 1467.7634082167012, 701.8163695966441, 663.7866333064507, 4572.337538610986, 3126.5384754045754, 2612.4489491923437, 1954.0782224926154, 1933.265282161077, 1539.618836165901, 1415.4637210068076, 1370.3346336027903, 1211.2557835566959, 1137.9052872932, 1030.7869670486762, 925.6203000588274, 920.50641422818, 849.9024985458354, 814.7161207523613, 810.3014619325626, 741.7664381861822, 693.3195965593429, 665.0475918511977, 663.6374789249259, 625.9668792651979, 624.9751163732888, 619.7600316901886, 619.3478523512463, 576.8168773128623, 547.5490098817534, 528.7901166762371, 514.7444488143503, 512.4112518604126, 492.8834133272987, 3576.6455139975915, 4854.688751851428, 1084.0158393948118, 1591.5027759324828, 582.4064203930884, 3498.849277608513, 2561.4275992999783, 2424.2041021002515, 2088.568198739785, 1784.4101215524386, 1762.1118244761722, 1687.1250245378956, 1596.5415034846837, 1400.8671098832085, 1336.127354480006, 1294.2279779718979, 1265.1837452883951, 1063.9115956727055, 992.5135200742199, 980.4477141208293, 951.2626559730567, 907.4182894512232, 878.0805601687315, 871.3843574079998, 858.2674923626206, 837.1295101773854, 816.9576307239713, 791.9844027617215, 783.7625714052738, 767.3153586909752, 739.2424955974121, 702.0319388597327, 652.7923078697975, 618.2205376820883, 617.1595047596429], \"Term\": [\"great\", \"good\", \"place\", \"service\", \"vegas\", \"pizza\", \"best\", \"love\", \"burger\", \"cheese\", \"sushi\", \"chicken\", \"fries\", \"friendly\", \"breakfast\", \"staff\", \"amazing\", \"beer\", \"awesome\", \"like\", \"bar\", \"night\", \"really\", \"buffet\", \"sauce\", \"pretty\", \"hot\", \"coffee\", \"time\", \"fresh\", \"looked\", \"tip\", \"hungry\", \"plates\", \"choices\", \"sitting\", \"rest\", \"entree\", \"easily\", \"seen\", \"min\", \"middle\", \"terrible\", \"double\", \"playing\", \"person\", \"haha\", \"king\", \"spend\", \"apparently\", \"hey\", \"stick\", \"english\", \"leaving\", \"long\", \"booth\", \"muffin\", \"sucks\", \"parties\", \"complain\", \"hour\", \"doing\", \"saw\", \"talk\", \"later\", \"line\", \"wait\", \"guess\", \"ready\", \"reservation\", \"know\", \"reviews\", \"arrived\", \"lol\", \"called\", \"mind\", \"don\", \"maybe\", \"waiting\", \"probably\", \"just\", \"think\", \"want\", \"thought\", \"going\", \"like\", \"people\", \"time\", \"busy\", \"really\", \"happy\", \"sure\", \"getting\", \"let\", \"pretty\", \"thing\", \"say\", \"actually\", \"right\", \"make\", \"come\", \"got\", \"worth\", \"stars\", \"place\", \"order\", \"little\", \"good\", \"way\", \"eat\", \"try\", \"better\", \"seafood\", \"specials\", \"recommended\", \"veggie\", \"longer\", \"horrible\", \"employees\", \"case\", \"rude\", \"months\", \"ahi\", \"eats\", \"mashed\", \"host\", \"ran\", \"reasonably\", \"luckily\", \"helped\", \"stack\", \"enjoyable\", \"knowledgeable\", \"chop\", \"rate\", \"kobe\", \"hello\", \"steakhouse\", \"requested\", \"temperature\", \"decorated\", \"carpaccio\", \"steak\", \"gluten\", \"crab\", \"waiter\", \"rare\", \"greeted\", \"server\", \"asked\", \"medium\", \"manager\", \"today\", \"waitress\", \"brought\", \"came\", \"ordered\", \"potatoes\", \"experience\", \"lunch\", \"beef\", \"seated\", \"dinner\", \"service\", \"didn\", \"customer\", \"wanted\", \"took\", \"table\", \"told\", \"did\", \"meal\", \"went\", \"restaurant\", \"minutes\", \"got\", \"menu\", \"said\", \"order\", \"time\", \"good\", \"pork\", \"fried\", \"lobster\", \"spice\", \"cocktail\", \"tofu\", \"pad\", \"steamed\", \"seasoning\", \"scallops\", \"truffle\", \"complimentary\", \"works\", \"rocks\", \"bachi\", \"foie\", \"wasabi\", \"includes\", \"gras\", \"marinated\", \"remembered\", \"strawberries\", \"cabbage\", \"squid\", \"spam\", \"dumplings\", \"udon\", \"wraps\", \"melts\", \"edamame\", \"asparagus\", \"rice\", \"bbq\", \"chili\", \"spicy\", \"shrimp\", \"sauce\", \"dish\", \"beans\", \"chicken\", \"garlic\", \"crispy\", \"flavor\", \"meat\", \"combo\", \"sweet\", \"lemon\", \"plate\", \"taste\", \"pulled\", \"egg\", \"cooked\", \"style\", \"ordered\", \"order\", \"try\", \"delicious\", \"like\", \"definitely\", \"tasty\", \"little\", \"beat\", \"caramel\", \"shakes\", \"multiple\", \"pesto\", \"starting\", \"dream\", \"earth\", \"monkey\", \"loving\", \"sundae\", \"mama\", \"cupcakes\", \"cappuccino\", \"built\", \"preference\", \"timely\", \"salami\", \"ozzy\", \"fig\", \"walnut\", \"arcadia\", \"guarantee\", \"picnic\", \"blowing\", \"chilli\", \"sammy\", \"handmade\", \"mmmmmm\", \"wake\", \"highly\", \"die\", \"love\", \"favorite\", \"worry\", \"incredible\", \"best\", \"italian\", \"town\", \"delicious\", \"consistent\", \"lunch\", \"recommend\", \"amazing\", \"excellent\", \"hands\", \"place\", \"treat\", \"phoenix\", \"yummy\", \"fresh\", \"try\", \"super\", \"friendly\", \"fast\", \"family\", \"far\", \"awesome\", \"menu\", \"staff\", \"new\", \"perfect\", \"eat\", \"tried\", \"come\", \"great\", \"make\", \"time\", \"just\", \"vegan\", \"taco\", \"onion\", \"noodle\", \"juice\", \"fruit\", \"vegetarian\", \"sandwich\", \"ham\", \"pita\", \"wicked\", \"greens\", \"omelette\", \"rings\", \"organic\", \"feta\", \"raspberry\", \"champagne\", \"caramelized\", \"wheat\", \"breast\", \"baguette\", \"natural\", \"chandler\", \"vinaigrette\", \"scramble\", \"rarely\", \"paired\", \"montagu\", \"chopped\", \"dressing\", \"tomato\", \"onions\", \"lettuce\", \"bread\", \"salad\", \"avocado\", \"sandwiches\", \"filling\", \"tomatoes\", \"ingredients\", \"healthy\", \"portions\", \"soup\", \"options\", \"chicken\", \"fresh\", \"cheese\", \"red\", \"bowl\", \"delicious\", \"served\", \"menu\", \"green\", \"huge\", \"meat\", \"great\", \"sweet\", \"margaritas\", \"south\", \"def\", \"studio\", \"skewers\", \"hula\", \"college\", \"pitcher\", \"martinis\", \"northern\", \"screens\", \"sunrise\", \"ill\", \"poblano\", \"papago\", \"amy\", \"dying\", \"lentil\", \"blows\", \"marc\", \"occasional\", \"scampi\", \"extraordinary\", \"april\", \"mellow\", \"steer\", \"josh\", \"ribbon\", \"islands\", \"ufc\", \"great\", \"presentation\", \"irish\", \"atmosphere\", \"service\", \"awesome\", \"dates\", \"amazing\", \"girls\", \"place\", \"good\", \"cocktails\", \"definitely\", \"drinks\", \"love\", \"recommend\", \"nice\", \"absolutely\", \"friends\", \"cool\", \"best\", \"come\", \"staff\", \"time\", \"attentive\", \"coming\", \"try\", \"server\", \"music\", \"people\", \"dog\", \"chill\", \"patrons\", \"young\", \"polite\", \"dogs\", \"bouchon\", \"keeping\", \"afraid\", \"watched\", \"degrees\", \"industrial\", \"boss\", \"trivia\", \"chunky\", \"player\", \"nicest\", \"ownership\", \"benefit\", \"policy\", \"situated\", \"bands\", \"varied\", \"push\", \"outta\", \"frequented\", \"cactus\", \"nestled\", \"folk\", \"surprises\", \"central\", \"son\", \"fun\", \"kid\", \"kids\", \"regulars\", \"owners\", \"vibe\", \"games\", \"staff\", \"clean\", \"patio\", \"friendly\", \"watch\", \"school\", \"sense\", \"hipster\", \"location\", \"bartenders\", \"old\", \"park\", \"downtown\", \"outside\", \"seating\", \"nice\", \"quick\", \"owner\", \"area\", \"family\", \"music\", \"local\", \"great\", \"new\", \"atmosphere\", \"sit\", \"inside\", \"bar\", \"helpful\", \"happy\", \"place\", \"wings\", \"beers\", \"crust\", \"salads\", \"tap\", \"sports\", \"sun\", \"missing\", \"locals\", \"pepperoni\", \"craft\", \"ale\", \"cosmopolitan\", \"brews\", \"brewery\", \"peaks\", \"enchiladas\", \"wing\", \"ipa\", \"plentiful\", \"adult\", \"francisco\", \"soho\", \"cole\", \"beer\", \"madison\", \"feature\", \"brewing\", \"matt\", \"america\", \"pub\", \"brew\", \"root\", \"slaw\", \"ricotta\", \"meatballs\", \"selection\", \"fantastic\", \"wine\", \"olive\", \"bar\", \"parking\", \"yum\", \"san\", \"phoenix\", \"local\", \"house\", \"bartender\", \"lots\", \"spot\", \"area\", \"menu\", \"excellent\", \"list\", \"dining\", \"ingredients\", \"italian\", \"new\", \"location\", \"ramen\", \"pho\", \"broth\", \"average\", \"frozen\", \"worst\", \"hollywood\", \"balls\", \"gyoza\", \"tonkotsu\", \"sora\", \"jerk\", \"kim\", \"random\", \"crabs\", \"chashu\", \"wonton\", \"vietnamese\", \"eastern\", \"speed\", \"stage\", \"grade\", \"shawarma\", \"cha\", \"rose\", \"chee\", \"march\", \"messed\", \"reliable\", \"vermicelli\", \"noodles\", \"tonkatsu\", \"chinese\", \"japanese\", \"decent\", \"shoyu\", \"price\", \"prices\", \"quality\", \"good\", \"expensive\", \"salty\", \"pretty\", \"better\", \"service\", \"restaurants\", \"really\", \"money\", \"cheap\", \"overall\", \"places\", \"bit\", \"restaurant\", \"portion\", \"like\", \"small\", \"nice\", \"buffet\", \"card\", \"buffets\", \"forget\", \"read\", \"pan\", \"lady\", \"credit\", \"flat\", \"barely\", \"costco\", \"bacchanal\", \"ribeye\", \"somewhat\", \"cards\", \"prior\", \"rewards\", \"court\", \"culinary\", \"member\", \"promise\", \"present\", \"standards\", \"ipad\", \"fountains\", \"speaking\", \"cat\", \"appealing\", \"debit\", \"weak\", \"cheesecake\", \"pass\", \"truly\", \"skip\", \"buy\", \"points\", \"real\", \"turn\", \"paris\", \"pudding\", \"dessert\", \"warm\", \"cash\", \"desserts\", \"save\", \"items\", \"asian\", \"item\", \"legs\", \"variety\", \"selection\", \"cold\", \"dishes\", \"casino\", \"years\", \"use\", \"grand\", \"lost\", \"attitude\", \"nom\", \"band\", \"thats\", \"venue\", \"wants\", \"cover\", \"layout\", \"cosmo\", \"lobby\", \"occasion\", \"fremont\", \"hallway\", \"control\", \"staying\", \"adults\", \"chris\", \"desk\", \"security\", \"blow\", \"slot\", \"feet\", \"honor\", \"cibo\", \"copy\", \"hotels\", \"elevator\", \"celebrating\", \"venetian\", \"hotel\", \"bottle\", \"date\", \"seared\", \"stay\", \"room\", \"story\", \"view\", \"hype\", \"night\", \"thursday\", \"wine\", \"club\", \"music\", \"bar\", \"rock\", \"friday\", \"walk\", \"glass\", \"nights\", \"loud\", \"yelp\", \"live\", \"business\", \"group\", \"table\", \"hours\", \"drinks\", \"people\", \"breakfast\", \"coffee\", \"eggs\", \"brunch\", \"pancakes\", \"toast\", \"cafe\", \"waffles\", \"hash\", \"benedict\", \"waffle\", \"syrup\", \"pastries\", \"bloody\", \"latte\", \"mary\", \"pancake\", \"omelet\", \"cheddar\", \"crepes\", \"biscuits\", \"chorizo\", \"browns\", \"bagel\", \"maple\", \"quiche\", \"scrambled\", \"lux\", \"biscuit\", \"muffins\", \"espresso\", \"crepe\", \"french\", \"morning\", \"bakery\", \"bacon\", \"egg\", \"gravy\", \"sunday\", \"banana\", \"day\", \"shop\", \"good\", \"thai\", \"las\", \"curry\", \"thanks\", \"anyways\", \"filipino\", \"drunk\", \"indian\", \"meant\", \"lotus\", \"beware\", \"los\", \"tao\", \"panang\", \"deserts\", \"pace\", \"wtf\", \"choy\", \"siam\", \"toffee\", \"specialties\", \"grandma\", \"nam\", \"milkshakes\", \"claim\", \"angeles\", \"account\", \"booze\", \"daddy\", \"mein\", \"vegas\", \"duck\", \"drunken\", \"beef\", \"killer\", \"spring\", \"best\", \"tom\", \"trip\", \"asian\", \"reasonable\", \"spot\", \"restaurant\", \"visit\", \"loved\", \"ice\", \"favorite\", \"worth\", \"far\", \"red\", \"level\", \"authentic\", \"yelp\", \"wife\", \"tuna\", \"sashimi\", \"bellagio\", \"sea\", \"mussels\", \"wynn\", \"sesame\", \"following\", \"mignon\", \"bass\", \"gumbo\", \"fault\", \"bento\", \"serendipity\", \"cali\", \"philly\", \"roll\", \"shooters\", \"mash\", \"epic\", \"loaf\", \"boat\", \"butternut\", \"tartar\", \"conveniently\", \"unusual\", \"surely\", \"calorie\", \"munchies\", \"filet\", \"rolls\", \"salmon\", \"fish\", \"squash\", \"melt\", \"chef\", \"soup\", \"dishes\", \"raw\", \"miso\", \"spoon\", \"special\", \"fresh\", \"dinner\", \"spicy\", \"section\", \"menu\", \"mouth\", \"prepared\", \"dish\", \"salad\", \"offer\", \"sugar\", \"chocolate\", \"kinda\", \"cookies\", \"book\", \"plain\", \"cookie\", \"running\", \"surprisingly\", \"smoothie\", \"almond\", \"croissant\", \"loco\", \"chip\", \"fountain\", \"moco\", \"carrot\", \"dressed\", \"factory\", \"lgo\", \"yogurt\", \"chai\", \"tuesdays\", \"grabbed\", \"cupcake\", \"boys\", \"custom\", \"punch\", \"oatmeal\", \"cake\", \"ice\", \"cinnamon\", \"cream\", \"turkey\", \"cute\", \"efficient\", \"desserts\", \"orange\", \"drive\", \"sweet\", \"daily\", \"cup\", \"milk\", \"burger\", \"fries\", \"burgers\", \"sauces\", \"velvet\", \"donuts\", \"patty\", \"chipotle\", \"buffalo\", \"donut\", \"frequent\", \"ketchup\", \"burritos\", \"hamburger\", \"ami\", \"cheeseburger\", \"gabi\", \"smokey\", \"patties\", \"kiki\", \"ronin\", \"edge\", \"miyagi\", \"meatloaf\", \"earned\", \"poppers\", \"earn\", \"indoors\", \"bun\", \"maui\", \"aioli\", \"potato\", \"ranch\", \"juicy\", \"bacon\", \"parmesan\", \"dipping\", \"cheese\", \"smoked\", \"joint\", \"good\", \"sliders\", \"turkey\", \"tender\", \"pizza\", \"box\", \"york\", \"chicago\", \"joe\", \"happen\", \"karaoke\", \"eggplant\", \"delivered\", \"bother\", \"soo\", \"sub\", \"meatball\", \"grimaldi\", \"nyc\", \"oreo\", \"margherita\", \"bianco\", \"pizzeria\", \"blah\", \"knots\", \"alfredo\", \"fixed\", \"lola\", \"liberty\", \"bobby\", \"hmm\", \"vegans\", \"caribbean\", \"displayed\", \"pies\", \"oven\", \"pizzas\", \"slice\", \"pie\", \"toppings\", \"dough\", \"slices\", \"sausage\", \"garlic\", \"cheese\", \"style\", \"sauce\", \"week\", \"real\", \"new\", \"best\", \"home\", \"eat\", \"like\", \"tea\", \"update\", \"earl\", \"buns\", \"everyday\", \"gordon\", \"matcha\", \"ramsay\", \"kalua\", \"bao\", \"taro\", \"texas\", \"mexico\", \"dragon\", \"ratio\", \"bubble\", \"song\", \"power\", \"lychee\", \"watered\", \"ramsey\", \"outrageous\", \"jasmine\", \"supermarket\", \"icing\", \"overrated\", \"manage\", \"taiwanese\", \"blossom\", \"grey\", \"milk\", \"iced\", \"opening\", \"teas\", \"green\", \"sangria\", \"powder\", \"flavored\", \"black\", \"hot\", \"strong\", \"white\", \"workers\", \"drink\", \"mango\", \"sweet\", \"bean\", \"real\", \"taste\", \"drinks\", \"tried\", \"like\", \"flavor\", \"tasted\", \"tacos\", \"mexican\", \"salsa\", \"korean\", \"burrito\", \"carne\", \"asada\", \"guacamole\", \"fez\", \"tortilla\", \"kalbi\", \"chile\", \"kimchi\", \"loaded\", \"truck\", \"tortillas\", \"guac\", \"fajitas\", \"furikake\", \"flour\", \"queso\", \"bulgogi\", \"mojito\", \"entertainment\", \"beats\", \"carnitas\", \"gallo\", \"salsas\", \"baja\", \"pico\", \"chips\", \"nachos\", \"fish\", \"corn\", \"authentic\", \"green\", \"bean\", \"restaurant\", \"grilled\", \"rib\", \"belly\", \"shake\", \"closed\", \"grill\", \"eye\", \"market\", \"bunch\", \"mayo\", \"vegetables\", \"till\", \"pickles\", \"suggested\", \"shack\", \"mgm\", \"milkshake\", \"mother\", \"managed\", \"balanced\", \"messy\", \"chow\", \"cons\", \"pros\", \"char\", \"preferred\", \"lazy\", \"fired\", \"worker\", \"insane\", \"meats\", \"freshly\", \"short\", \"spoon\", \"bowls\", \"perfectly\", \"frites\", \"southern\", \"holiday\", \"arepas\", \"panna\", \"spanish\", \"lasagna\", \"grande\", \"est\", \"monte\", \"les\", \"carbs\", \"arepa\", \"metro\", \"gen\", \"sorbet\", \"fails\", \"nuff\", \"prix\", \"jerky\", \"que\", \"catering\", \"fixe\", \"brooklyn\", \"bon\", \"cotta\", \"encore\", \"cannoli\", \"des\", \"charges\", \"plus\", \"ribs\", \"oysters\", \"brisket\", \"bone\", \"steaks\", \"oyster\", \"grits\", \"pool\", \"midnight\", \"crawfish\", \"marrow\", \"palace\", \"pour\", \"mahi\", \"garden\", \"named\", \"ive\", \"christmas\", \"barbecue\", \"breads\", \"prawns\", \"boiling\", \"entr\", \"fool\", \"clams\", \"shrimps\", \"cajun\", \"caesars\", \"blast\", \"queen\", \"clam\", \"snow\", \"pound\", \"butter\", \"legs\", \"peanut\", \"dip\", \"walls\", \"corn\", \"level\", \"mac\", \"prime\", \"lamb\", \"comfort\", \"strips\", \"tax\", \"mmm\", \"currently\", \"poutine\", \"buck\", \"wagyu\", \"mmmm\", \"bang\", \"macaroni\", \"blood\", \"accompanied\", \"cents\", \"wallet\", \"coleslaw\", \"pastor\", \"veal\", \"expanded\", \"bark\", \"mmmmm\", \"bags\", \"factor\", \"fondue\", \"thrilled\", \"denny\", \"alaskan\", \"bucks\", \"custard\", \"cheese\", \"sliders\", \"superb\", \"chops\", \"piece\", \"fry\", \"size\", \"sushi\", \"poke\", \"ayce\", \"monta\", \"dirty\", \"west\", \"katsu\", \"sticky\", \"sake\", \"goods\", \"uni\", \"adobo\", \"starving\", \"yellowtail\", \"nigiri\", \"lately\", \"japan\", \"stale\", \"dead\", \"budget\", \"lau\", \"hamachi\", \"wash\", \"ichiza\", \"ono\", \"croque\", \"portuguese\", \"cousin\", \"croissants\", \"cleaned\", \"paradise\", \"tempura\", \"eat\", \"pasta\", \"greek\", \"heat\", \"personal\", \"prompt\", \"john\", \"weekly\", \"deliciousness\", \"com\", \"opportunity\", \"soul\", \"flight\", \"upgrade\", \"falafel\", \"partner\", \"freshest\", \"entertaining\", \"gyros\", \"wonderfully\", \"pasty\", \"concoction\", \"substitutions\", \"hometown\", \"kicked\", \"spoiled\", \"carbonara\", \"aria\", \"candied\", \"truth\", \"corporate\", \"bomb\", \"jalapenos\", \"mediterranean\", \"vodka\", \"favourite\", \"east\", \"non\", \"establishment\", \"knows\", \"hawaiian\", \"environment\", \"teriyaki\", \"daughter\", \"general\", \"coast\", \"fellow\", \"shame\", \"children\", \"sampler\", \"tomorrow\", \"fail\", \"details\", \"properly\", \"broke\", \"jin\", \"hook\", \"ignored\", \"remind\", \"hooters\", \"michael\", \"guilty\", \"cobb\", \"themed\", \"cleaning\", \"monster\", \"respect\", \"trout\", \"hibachi\", \"shabu\", \"east\", \"soooo\", \"thank\", \"hawaii\", \"freaking\", \"step\", \"bfg\", \"god\", \"changed\", \"cooking\", \"boba\", \"creative\", \"aloha\", \"henderson\", \"gold\", \"wines\", \"mountain\", \"screen\", \"heading\", \"pistachio\", \"saimin\", \"catfish\", \"public\", \"fashioned\", \"musubi\", \"german\", \"twin\", \"cal\", \"tenders\", \"fortunate\", \"access\", \"monthly\", \"uuu\", \"grapefruit\", \"comp\", \"flamingo\", \"shirts\", \"huevos\", \"ing\", \"vast\", \"cab\", \"mall\", \"honey\", \"island\", \"strip\", \"walls\", \"wonderful\", \"wifi\", \"challenge\", \"building\", \"ambience\", \"tongue\", \"store\", \"gelato\", \"phone\", \"app\", \"batter\", \"coupon\", \"cuz\", \"vegetable\", \"grocery\", \"crap\", \"cleveland\", \"stores\", \"mole\", \"ultimate\", \"services\", \"dive\", \"boom\", \"purple\", \"fianc\", \"report\", \"ellis\", \"hurt\", \"produce\", \"theater\", \"satay\", \"pollo\", \"bleu\", \"convenience\", \"hoisin\", \"ohio\", \"foods\", \"products\", \"local\", \"entrees\", \"nearly\", \"strawberry\", \"car\", \"snack\", \"hanging\", \"gas\", \"team\", \"hair\", \"count\", \"text\", \"row\", \"waitstaff\", \"brio\", \"fake\", \"reserve\", \"halo\", \"chair\", \"hostesses\", \"sapporo\", \"tropical\", \"indulge\", \"setup\", \"pet\", \"clubs\", \"cane\", \"arrives\", \"houses\", \"grape\", \"geisha\", \"misters\", \"vibes\", \"beautiful\", \"patio\", \"fav\", \"seating\", \"weather\", \"forever\", \"buttery\", \"movie\", \"gyro\", \"corned\", \"delivery\", \"sick\", \"pink\", \"berry\", \"satisfy\", \"inexpensive\", \"napkins\", \"parts\", \"smash\", \"fight\", \"surrounding\", \"fashion\", \"membership\", \"hospitality\", \"endless\", \"curds\", \"tag\", \"keller\", \"genuine\", \"bake\", \"shirt\", \"reserved\", \"naan\", \"treasure\", \"silverware\"], \"Total\": [178391.0, 207423.0, 192375.0, 127681.0, 51449.0, 47606.0, 85600.0, 86448.0, 41698.0, 44960.0, 30135.0, 66335.0, 32817.0, 49096.0, 30618.0, 45825.0, 53347.0, 31829.0, 40994.0, 127186.0, 44046.0, 33687.0, 84361.0, 27225.0, 44587.0, 42419.0, 30820.0, 24307.0, 107831.0, 47448.0, 10631.408180985058, 9420.215951444881, 7874.036716919339, 7309.483969106417, 7146.289945297602, 6993.882335617958, 5429.458807633837, 4583.6635404342105, 4543.822217952339, 4433.073496612949, 3824.7471441380376, 3813.567323744451, 3505.4742409012615, 3332.433177946841, 3323.8428797300444, 9551.316403172077, 2962.4262631114807, 2877.1786664411547, 2875.648858826171, 2766.188041765283, 2580.7773719326988, 3180.2844999820936, 2456.8168857517217, 2445.5105206065, 30245.95372173579, 2344.710527325606, 2329.6315298461463, 2143.5295245479565, 2080.6805335361773, 2070.912896880441, 32267.086444361732, 5296.384909815185, 7145.1168283947645, 3670.7452465765587, 8488.212906467072, 24131.387794374896, 54836.77300167547, 7218.3881810467265, 7336.427859020378, 5444.154712917313, 35682.28377800561, 11141.873632743793, 6999.60074966606, 8944.39914607624, 6229.676687157521, 7872.932199306775, 64253.42124529751, 14861.900207403229, 13363.550477924771, 16099.635308391204, 121447.24965159324, 33105.36849835468, 33658.213104882096, 14405.92115097581, 28750.487549852656, 127186.75914542562, 40083.61228588288, 107831.22588056247, 19830.98793802878, 84361.11301319711, 38759.23450372447, 31846.997660261364, 13949.532603020814, 15597.185462665871, 42419.70482304291, 24835.31386005559, 32305.46212413051, 15852.838034189315, 37268.16102764528, 42031.412251739064, 58129.15575684321, 53480.98926490849, 31620.151119483213, 21642.779628730117, 192375.82048001507, 66780.88696485748, 47633.53419518536, 207423.30782039158, 34281.756648516595, 47885.019150049455, 74006.0454918124, 39306.99822747324, 12026.289865154884, 11099.235314622658, 6371.02734029765, 5829.436193700524, 4995.124934783252, 4434.080884250511, 4363.388913731655, 4354.220644989831, 4242.626993020571, 4221.939284637806, 3949.2237271349045, 2782.549701131224, 2644.850513112805, 2283.2117240027465, 2246.0028978706277, 2189.384827954392, 2137.572168271381, 2128.879835349005, 1842.3330022066252, 1829.5426209042994, 1723.1872741098302, 1610.5441682180915, 1587.2595196458556, 1513.2346475955624, 1503.7123064602458, 1497.6275123741775, 1478.0935262929272, 1345.1127661067044, 1313.8715097233462, 1226.245159687934, 25609.27440119338, 4782.24316601019, 20267.880394856125, 10654.871889516404, 5187.6312100234045, 4245.441193343653, 26843.63033091644, 16396.499476325287, 7675.606425956393, 8630.465069803242, 13153.648366304367, 13487.69163512908, 9393.185887124548, 47542.34798065626, 55710.97035854475, 10074.273683531204, 28274.204400848645, 42064.57284371948, 25342.347304216648, 13727.309688830861, 34700.12392973222, 127681.57067480827, 37949.078992852206, 13889.382313543923, 16440.121498178032, 19872.92282150785, 34340.130627054845, 12777.033772117018, 31891.0558080275, 31880.279902496684, 28465.512213015933, 53745.103451789175, 22811.608985952258, 53480.98926490849, 65349.81710672229, 23788.02444541029, 66780.88696485748, 107831.22588056247, 207423.30782039158, 28433.46288688313, 31479.89427261076, 7553.528805685777, 5122.313143159578, 5105.356723935282, 4937.108072714712, 3766.8859141084654, 3268.5452969480725, 3129.9422703177347, 3012.562804742114, 6271.914845642202, 2801.085321650909, 2779.3216995783237, 2705.264787134915, 2568.1202399327667, 2326.4085884623837, 2245.2493954050005, 2105.950257062076, 2085.2244446287887, 1978.6443440298983, 1829.459970241875, 1828.3833945949812, 1792.763822382281, 1750.1982897605155, 2027.6380332221208, 1535.5996119584177, 1507.987646314002, 1493.684553562386, 1330.3447821529267, 1312.113884852556, 1830.3838305691613, 28977.157258174993, 14919.647975390979, 8033.69684691069, 26592.06192922784, 21978.05427579713, 44587.44072952279, 21214.114714057618, 7507.395627719701, 66335.37449428352, 15634.735543969113, 13961.411146694323, 26682.919364371905, 27509.254879088123, 6656.475449591046, 33412.34314671028, 5146.53102331505, 15043.220283870787, 28604.607288991294, 4281.80906880486, 16546.62772021339, 16425.09100660242, 15236.181980496296, 55710.97035854475, 66780.88696485748, 74006.0454918124, 66918.430958476, 127186.75914542562, 45988.662214059805, 24938.349446972672, 47633.53419518536, 4583.598012971583, 2558.2816512898908, 2528.276105669893, 2418.4186740960545, 2283.5339715514806, 2041.8310739093317, 1428.054761652856, 1359.8902615152028, 1307.6552288871858, 1185.691007928664, 1086.2190913690895, 1031.8513268097097, 933.0125605588161, 924.6770872624495, 899.9043842753377, 899.5874687015653, 806.3958934849159, 743.1876248543781, 730.4079312904173, 715.6779847024335, 687.644286843745, 631.9945503617329, 588.5207222807753, 582.4102596458589, 559.1312747229565, 491.7343519241589, 460.85160620805607, 452.9976133031864, 439.2495349380671, 437.47432297171054, 11428.042165953859, 6182.294550257863, 86448.07728935723, 40872.33388043875, 1126.8136570296767, 4921.640394989157, 85600.11042804424, 8625.098826764011, 21053.312439037152, 66918.430958476, 3239.9412801797516, 42064.57284371948, 24343.583983618388, 53347.8936820631, 25413.755620404456, 6904.752501071383, 192375.82048001507, 3863.5429315949955, 7034.6556599440655, 17388.095679933165, 47448.052717584935, 74006.0454918124, 26680.900750241453, 49096.748354893534, 15867.722845079377, 15340.541774277626, 15078.587248208818, 40994.179390910766, 65349.81710672229, 45825.492930650966, 35134.792457909956, 25369.607545391642, 47885.019150049455, 30206.973164251398, 58129.15575684321, 178391.70332646763, 42031.412251739064, 107831.22588056247, 121447.24965159324, 10350.94893885583, 9015.773293214159, 8246.27471262115, 7803.371857412985, 6235.647390012524, 5565.203216722193, 5472.57387473741, 27598.237306096053, 3295.0935602218156, 3293.448700683009, 2908.12280760277, 2711.156561734618, 2585.2191259385177, 2527.496580651882, 2066.990645688242, 1779.1312489822478, 1774.4878283218306, 1692.711311367213, 1644.4058147677085, 1640.5526043306972, 1539.5986721457432, 1537.3781131820938, 1440.110306373135, 1281.868189687296, 1196.7889103933217, 1155.2753348286776, 1105.2801380775995, 1096.6104985920285, 1088.9047609682627, 2524.4262071607172, 5350.395086985671, 8631.625989793924, 7731.6935576174665, 5123.993507906559, 22892.35496865114, 38844.00651770552, 5926.686675791525, 13026.15271210797, 6271.302249559752, 5019.388162951003, 8379.993706692192, 7433.905454495317, 13745.655675458587, 24620.30634209661, 13257.646561690553, 66335.37449428352, 47448.052717584935, 44960.639869048595, 17593.504997453347, 12074.338230754956, 66918.430958476, 19617.900613093436, 65349.81710672229, 15539.925348751813, 21219.722195023365, 27509.254879088123, 178391.70332646763, 33412.34314671028, 2416.8463689063683, 2360.2855738121866, 1908.4539606028727, 1854.985036303738, 1844.1102484450628, 1577.3460724092374, 1244.7318404717887, 1129.356639728414, 975.113887784674, 921.5792068305974, 857.7373357844215, 853.8809467161375, 700.6301082484081, 614.1864590217486, 579.2967253002996, 571.4122977903643, 515.9888301009918, 477.1174410913673, 469.1902466111785, 459.32061882069115, 425.42275961337924, 417.51291945555323, 401.4156788716863, 400.4792496094242, 379.08468881535674, 378.983266528928, 374.7505902403808, 359.41233603816266, 357.24640336003375, 351.69693428212753, 178391.70332646763, 3517.4970701643447, 880.6198973457905, 23024.763854575867, 127681.57067480827, 40994.179390910766, 1662.7800416886205, 53347.8936820631, 3224.853257765301, 192375.82048001507, 207423.30782039158, 4382.826382731654, 45988.662214059805, 29718.1953792046, 86448.07728935723, 24343.583983618388, 57030.7627424503, 11020.058604556958, 20928.288163086665, 14419.158337579802, 85600.11042804424, 58129.15575684321, 45825.492930650966, 107831.22588056247, 10473.303420736927, 20958.326466397117, 74006.0454918124, 26843.63033091644, 11554.9791235256, 40083.61228588288, 5344.289757705666, 3165.9769780450306, 2739.0817511127057, 2611.7212802672925, 2297.366537798503, 2261.3536441205465, 1613.6919846588237, 1443.5305731110684, 1298.8301164695479, 1166.7610659748304, 977.8541131091034, 847.3103247658678, 749.2666275762158, 664.5655123816933, 637.1447347167491, 597.650774791169, 597.2054458621891, 542.8648999394753, 520.3450299051896, 513.5864240256537, 494.1513094437484, 489.6737565049172, 479.82564839411555, 467.6917737879765, 465.47525946196527, 461.9297462105665, 461.604721184805, 453.5544883506648, 449.74108127361524, 439.5134144769894, 1484.8878514866708, 3051.1013286413818, 16480.39072483039, 3231.1291583136317, 8365.094668068365, 2194.750805072702, 4545.952973694045, 6472.92309806693, 3371.319821532509, 45825.492930650966, 16048.473025679383, 15238.706656806975, 49096.748354893534, 6722.2043363191615, 2986.3021595231103, 1987.6973568658066, 1736.7001805628397, 25272.462990456494, 3427.2965529257526, 13541.01479279486, 4169.4811576571865, 6113.074427028499, 16970.800643916755, 13745.474080911481, 57030.7627424503, 13734.036732262479, 9736.198883180803, 24272.870700541458, 15340.541774277626, 11554.9791235256, 11511.38546516805, 178391.70332646763, 35134.792457909956, 23024.763854575867, 13530.843646579271, 18711.929596823196, 44046.565157787154, 6776.385763763467, 38759.23450372447, 192375.82048001507, 13864.949334429504, 9465.630837882916, 7627.773920943165, 7197.013828469322, 4296.162769651382, 3534.8643362776443, 2964.3411168545467, 2945.660694642821, 2814.1788752236216, 2805.9785518556782, 2174.1884145774384, 2091.9182023821113, 1505.8520674745025, 1479.9343361459369, 1462.5039282189332, 1446.993714806401, 1340.5878696275802, 1330.2530364696943, 1272.0471423301203, 1026.7080012577576, 964.1480454063434, 814.8680575430186, 780.2545777411116, 779.9461032833528, 31829.643026721293, 745.5400858047191, 728.4384816378655, 707.0508694863122, 697.5071133921324, 687.7264171424176, 2484.47521010961, 2381.9529585083887, 1858.427813397871, 2257.1522974981403, 1779.1726872040158, 2688.191015497356, 19316.38908473938, 13005.07223769685, 16671.697302899112, 2257.257673340258, 44046.565157787154, 12179.695958020553, 10847.892470946263, 2822.4523015550167, 7034.6556599440655, 11511.38546516805, 17800.242071127588, 5502.102582484847, 10366.637775015943, 22451.252985686995, 24272.870700541458, 65349.81710672229, 25413.755620404456, 8453.835655031226, 13716.71870059123, 8379.993706692192, 8625.098826764011, 35134.792457909956, 25272.462990456494, 20365.254231144565, 12118.453758435899, 8666.234653299218, 6591.805405730232, 5561.345566744471, 4453.821688685346, 1719.9106915044017, 1717.683451863165, 1652.5095513122376, 1571.4101824161582, 1509.6285467143355, 1482.5009294403692, 1442.285153592681, 1431.8374465189681, 1422.6879064218604, 1326.9705384173483, 1146.668975616057, 3302.8358997895116, 821.8117210127717, 774.8097284800119, 756.140148989942, 749.4884930488978, 739.3838034347699, 729.257897562569, 727.67165954748, 663.7848016063065, 643.7951027521426, 627.0388551189776, 597.1820036192789, 588.379706343713, 13520.289789517527, 1549.8158819013129, 6580.055579907721, 7367.127546736687, 12342.75496097695, 2196.8553817991456, 25943.56058244345, 20635.747723599852, 24004.30652652338, 207423.30782039158, 6617.216385035386, 7789.608163064532, 42419.70482304291, 39306.99822747324, 127681.57067480827, 13023.13522702602, 84361.11301319711, 8593.600783164768, 8958.568782063141, 15559.002883265583, 17972.73345937297, 27806.671815766225, 53745.103451789175, 10028.271520531189, 127186.75914542562, 29214.541137308443, 57030.7627424503, 27225.85863837303, 6336.741529145357, 6114.186864303721, 5921.422920331048, 4952.10227750429, 3348.154764617199, 3228.8238713747255, 2386.555641963519, 2336.097015785782, 2238.001720083831, 2058.071503054204, 1972.097454896603, 1904.046525346856, 1795.4783885718045, 1594.63688890056, 1503.4491653540363, 1386.0184966685072, 1205.6600540203142, 1193.9709044730557, 1111.5767178886786, 1100.403889074306, 948.0039416242707, 937.493771662954, 933.9535980034257, 919.0045332007367, 912.2240467546812, 881.5318451422081, 865.7451094743144, 835.7206795422368, 741.3438839213624, 4462.297861080344, 3289.518792838765, 4623.428898983713, 2609.820895135981, 4585.7994235625965, 1725.2055347418154, 9615.196888605202, 2939.298564326632, 1306.546801573933, 3894.377610076966, 20612.666985007618, 8305.049719746507, 3726.5904675505635, 8594.274205663363, 4317.087820048151, 19840.512311085426, 8043.6668201195525, 5241.878109640274, 6043.873287282477, 10546.414175936288, 19316.38908473938, 12112.125387220283, 20735.91454318164, 7141.870246562368, 12654.692300020308, 9456.185153430415, 3040.4697800941894, 2603.4267598248393, 2274.87362840947, 2089.5155290346383, 1483.505156324255, 1419.4403545324956, 1367.4654983521682, 1347.9779216283666, 1311.6605747014194, 1282.7730984396721, 1142.3327566556477, 1106.3140885707794, 1205.561450310679, 1043.972071739338, 1038.0827018245761, 985.2990999184702, 2007.6388902589063, 860.3917110464896, 823.637927386844, 796.833980493728, 747.2792177942875, 721.5014761222675, 711.487664413795, 707.2852513564011, 695.4199321325997, 660.7993500098249, 645.3390737498557, 617.6633434485432, 614.9160543538143, 601.945636786363, 1480.625633476195, 8041.830826173844, 4574.316054964979, 5199.880271010795, 1552.73226578185, 5966.883111446357, 14484.03809892217, 1834.5596710462312, 4624.004173965875, 2798.6622505677146, 33687.55545137324, 2823.8223450603937, 16671.697302899112, 6210.78207545117, 11554.9791235256, 44046.565157787154, 4296.326919477303, 6879.277175376558, 10278.382807987518, 6785.801135702414, 3479.614963169863, 5389.111745816654, 14123.600151585299, 9933.226689995641, 7895.751839291374, 8716.5105701671, 34340.130627054845, 12512.647756211356, 29718.1953792046, 40083.61228588288, 30618.62927248457, 24307.168778970827, 13153.91725057867, 12968.93485920597, 10495.045953524917, 7674.24648619036, 6598.103026900773, 5607.41131993665, 4476.795077823444, 4388.893178978887, 3916.0493492774804, 3281.3456165449975, 3169.6397133189657, 3166.9009012954893, 3164.673991118451, 2902.185940464493, 2636.5614236048036, 2344.6320590120254, 2307.5808053591327, 2297.179747288389, 2114.628787348019, 1621.5672470065313, 1575.858316799974, 1533.7662753297761, 1509.523253661696, 1425.3076171046246, 1323.2011524606428, 1314.728216186449, 1246.6253199753235, 1180.8348627429045, 1818.0056407539773, 2846.706827146673, 10986.870156279105, 6360.273494489473, 2427.081767875059, 15976.886083513116, 16546.62772021339, 4623.306043884647, 8772.209836349686, 4684.681110297978, 31669.78494536611, 6567.94522153169, 207423.30782039158, 14638.84312674309, 12178.63274666137, 7263.65091649981, 4963.661277381136, 2308.603215615499, 2194.3622514813346, 1987.2310974912173, 1639.2581651707571, 1434.0176405917316, 1174.9615168546584, 1153.2415016030793, 1149.8874271085383, 892.5244422878887, 870.7487495018354, 858.4128848613634, 800.2172277230145, 767.5586639286435, 742.7068345908033, 717.6804605316112, 713.167385139512, 678.2537747238904, 638.2205198632643, 626.0625930704888, 616.6346871347899, 573.2702640444413, 570.4129087138148, 557.7816525724952, 463.9217984744536, 457.8757333226418, 454.81265305277276, 51449.56556647407, 4715.300223205941, 1746.2928679407355, 25342.347304216648, 1616.6975119391589, 3937.497778451334, 85600.11042804424, 1135.0824340141812, 8150.161323076212, 8043.6668201195525, 7098.860985262734, 22451.252985686995, 53745.103451789175, 22488.943982417644, 15802.223399078424, 13996.925952619516, 40872.33388043875, 31620.151119483213, 15078.587248208818, 17593.504997453347, 5070.211601041302, 7640.77679365098, 14123.600151585299, 8559.591583683845, 8387.741065244552, 4582.225132578428, 3320.2430670087556, 3051.432578032981, 2924.7954198463017, 2823.2390456119415, 2382.145737117584, 1998.3762116112587, 1995.8973355963885, 1508.4090117289231, 1214.6041602845999, 1107.5924710143315, 1083.4090366954888, 1038.8062573594773, 1021.1469767722026, 963.0524414396167, 14345.361122978165, 780.2385963166669, 777.2924445691236, 766.8900589226575, 724.1762516191825, 681.5914686430951, 665.9291322425138, 657.8022144523119, 643.1926617823952, 629.6290614055999, 616.9612868703948, 603.6637020409654, 554.2038021230645, 3988.896201049629, 12983.251028416278, 10241.930525158956, 18858.36798731803, 1298.5989568740342, 3652.9268909420034, 11550.31192454888, 24620.30634209661, 20735.91454318164, 4015.69225871349, 5998.972889598981, 3388.580680728813, 23369.76859473195, 47448.052717584935, 34700.12392973222, 26592.06192922784, 5266.854912501764, 65349.81710672229, 9347.55916638365, 7273.47612507528, 21214.114714057618, 38844.00651770552, 9951.696517768803, 5047.393838405107, 16874.12413804602, 3991.236025733305, 3477.989956361731, 3146.441074406222, 2860.2166344059287, 2833.7413465396207, 2417.291406077939, 2337.4525925293037, 2234.5954823877064, 2194.082313263934, 1845.0821548545182, 1728.0607062445051, 1618.8116720313571, 1569.6812055054083, 1563.6807055466518, 1498.2475274034682, 1312.300756443461, 1252.8059804686345, 1180.679226735284, 1210.8276260537743, 1063.7008687049183, 1014.0158040936038, 986.5801723300217, 980.3884586245351, 951.9902943133117, 1139.976131199042, 943.5104784836378, 917.5761411021689, 11576.211643789595, 13996.925952619516, 2768.1718211441803, 19930.682284844243, 4741.259258533321, 6204.836836862335, 2024.704792324238, 8594.274205663363, 4530.754722722185, 8104.811023078293, 33412.34314671028, 4629.86087959322, 5675.74073008635, 6827.1678394212, 41698.90787227318, 32817.36692551914, 14411.848780071743, 4836.760129924168, 4678.153551081414, 2864.881328291125, 2767.6397487099657, 2733.61163065381, 2439.3859137981285, 2109.299192857399, 1998.8298763857053, 1553.0754643387497, 1486.7371513156777, 1264.9809023943267, 1165.1682307874726, 1130.7962598634847, 1095.546079185965, 960.0264423208068, 874.7249911515438, 842.6061510358343, 640.9294347028524, 590.4452762884522, 570.7038094626108, 559.7091846864156, 456.5006553356627, 449.35128720518986, 445.1262892555377, 432.96091658423063, 5374.501579552205, 412.16898856900065, 1804.5144786778417, 10344.352809661454, 3045.5739415455178, 7269.303671336325, 15976.886083513116, 2609.7709712390806, 2744.4881086700148, 44960.639869048595, 4393.179960431837, 6486.690790438245, 207423.30782039158, 3276.1436437212988, 4741.259258533321, 9900.290405438831, 47606.357157008315, 2813.754497678002, 2813.8142559548974, 2323.437005440735, 2140.251616901007, 1892.8441436787978, 1866.0521317490266, 1852.109405320486, 1826.0272960804139, 1733.272672436308, 1577.242444896064, 1574.1982347411122, 1510.2546425672601, 1491.660247729972, 1300.5946386603416, 1225.7667498066733, 1050.0327011198206, 1133.296881573799, 989.6119736664697, 934.415912053484, 928.382716170606, 740.2135485420024, 603.1373185348522, 597.9611053105341, 574.9777131483414, 552.3689814468153, 533.2887865689999, 509.42587693693343, 501.7481888693249, 498.0400454169151, 1188.1266334378056, 2838.366951835089, 4641.922693430707, 5603.15624420866, 7719.064593344923, 6057.519506907534, 1793.347166394275, 5227.486875974307, 8560.858774950777, 15634.735543969113, 44960.639869048595, 15236.181980496296, 44587.44072952279, 12477.67284759919, 9615.196888605202, 35134.792457909956, 85600.11042804424, 20023.45526311231, 47885.019150049455, 127186.75914542562, 20044.43929662429, 3396.791073499042, 3286.690336484143, 2839.2760826406475, 2708.511150361698, 2064.0583439891147, 1547.0773641827527, 1446.7567698025132, 1395.1284055884003, 1283.4098127835248, 1208.1396426715137, 1195.9372117539322, 1064.7456513918837, 902.0804707335496, 818.3401403890489, 806.7041558866271, 757.7145470369627, 733.921402819888, 701.4872222990838, 689.4527341480258, 663.8859190166271, 656.6312181549321, 637.2130231290773, 615.3722761678873, 581.4448407651205, 572.589983188838, 537.6573612510355, 524.1141726946703, 501.560180929287, 486.4000124000732, 6827.1678394212, 4373.979354685032, 3923.5083611984337, 1487.3256835926447, 15539.925348751813, 2554.0041613824446, 838.8649378574751, 1844.1111983544056, 8314.196921481476, 30820.065672583736, 3728.9150240124127, 11854.17464197817, 2382.322670802288, 25806.96795707736, 4557.7308527458445, 33412.34314671028, 5611.062877433946, 9615.196888605202, 28604.607288991294, 29718.1953792046, 30206.973164251398, 127186.75914542562, 26682.919364371905, 13582.668693245083, 19387.75958563095, 11528.419717714367, 9291.062231499052, 7900.844735587877, 6736.2177900201195, 3290.3651906969912, 3235.9864947031806, 3013.968912852631, 2807.7532562661363, 2572.8482375611757, 2511.6169412908644, 1997.848431494196, 1855.9560725681786, 1748.3766869015421, 1648.5873625497456, 1550.2651446822538, 1456.0203099519385, 1353.14835692654, 1350.3981403697198, 1238.1952965487371, 1186.94245408919, 1163.9875886048267, 1144.8411911210358, 1097.1338059423165, 1060.3099853153221, 1041.58716630604, 1030.7492787900212, 1029.0456814191177, 974.2445534539781, 801.1325215060698, 12487.14565980785, 4191.855526583455, 18858.36798731803, 8164.2606422904655, 7640.77679365098, 15539.925348751813, 5611.062877433946, 53745.103451789175, 12784.792186755385, 9033.06933352615, 6488.556129179268, 5773.351605485522, 4297.674882620536, 3574.5283493223137, 3486.980318845214, 3453.589176176454, 3201.1728153350414, 3094.5664811399415, 2973.401150760253, 2434.1259248214433, 2372.3823454548406, 2311.8967244281757, 2427.1112512190944, 1597.6808201637798, 1513.7782894387794, 1503.357852098043, 1287.4411271777153, 1231.4782775113397, 1204.7341841399234, 1144.4322186544782, 1050.254000752391, 1030.979909955457, 972.8174569214591, 967.3383637316384, 944.3482266447013, 902.0461216834474, 843.4477813127156, 802.4582721739935, 5131.266643661055, 2948.520661686507, 7881.416392093219, 3388.580680728813, 2485.77478059823, 11311.29842842278, 3324.3586746483347, 3209.5705492666993, 3169.697362633941, 2297.2217095654114, 2063.0921918286895, 1725.8900822759, 1719.5548325518178, 1424.6753382312136, 1422.877725286822, 1369.5873707583328, 1330.9904656587898, 1296.7407281489945, 1251.545332937094, 1170.3843790840292, 1112.6008925402118, 1099.7666828968618, 1091.1859389032504, 1064.4273140739422, 1031.7194634068192, 994.4465616239659, 993.2066741369474, 926.2341712062364, 925.4823846762224, 918.0859112178297, 915.817393139404, 886.742095915306, 875.8486534080425, 874.7908414549752, 858.9400488482394, 817.0282064976082, 11910.9143333754, 7932.697386628544, 5807.471390238136, 4360.5701185501875, 3889.4275440725623, 2620.6201273935876, 2258.5270304638193, 2025.5552395430238, 1927.0870701355425, 1730.1228123502408, 1675.5752343680879, 1626.1858847324108, 1501.351183221912, 1404.5667393700016, 1376.7857830837831, 1259.8521381609537, 1163.4500357307, 1138.1329651473013, 1120.220112776746, 1065.7854728464451, 1063.341732761041, 997.9529463407853, 926.1063854912184, 914.3693424195678, 913.3017847193554, 2243.5123128696678, 865.1778061073287, 2457.205016302397, 713.518901285551, 689.6324588529448, 642.6038549828024, 1730.178066350124, 1459.140414471338, 1643.5533551154392, 10193.494994618472, 6043.873287282477, 2648.6449495887714, 5162.4382086074, 2629.3495943532034, 8164.2606422904655, 5070.211601041302, 10417.409303875746, 6693.591669703529, 5488.583894113294, 2604.9546369811696, 2064.495867645839, 1711.3035589057104, 1422.0895405525778, 1254.9312394857632, 1230.2732014966625, 1186.015422535678, 1153.5916216745275, 1118.3379989711366, 1110.2260587502603, 1696.0453357018748, 978.4104654172136, 913.2052880259038, 897.217872835982, 881.52165504565, 880.4137153988484, 856.5336819137888, 828.7076244620995, 827.9426648216695, 814.6186946420287, 807.735228738218, 777.0210063306514, 764.8997479136846, 741.7921844096223, 727.3169813385789, 637.3258490963171, 594.8690501866446, 3285.9506946298375, 1374.042949615267, 44960.639869048595, 3276.1436437212988, 2393.0004298724402, 1461.7562988651118, 4636.570391710399, 1755.5850947282206, 10458.165505263272, 30135.530831727967, 6144.693583962432, 4663.603785663995, 3407.8312360675163, 3249.9254429630373, 3089.5417628910523, 2633.1490944192724, 2606.3656748205867, 2383.2057285577116, 1544.5797664075915, 1523.244763084704, 1377.6768477517148, 1307.9899510447842, 1298.835544518654, 1259.860314400507, 1226.563117007721, 1192.7070054104865, 1037.1552503076955, 964.1363579874877, 952.0285799908282, 826.4731718226094, 825.7577055132726, 824.6495277501534, 704.922743946304, 697.9723545341358, 697.9699332741886, 690.8521199343506, 683.6506662897438, 671.8466055225018, 670.9354389011891, 1255.3743152317873, 3048.37972649952, 47885.019150049455, 8317.091055690636, 4642.803466361452, 4372.191921727206, 3647.557632473101, 1857.2935613305576, 1759.106946100996, 1518.0927479011857, 1419.4470685847195, 1300.8498086142406, 1232.0336852287423, 1193.6273639959957, 1176.2151890288142, 1012.0629109442541, 974.2529493569377, 926.8176115371239, 923.2683712228604, 875.1740126008016, 867.5047121125116, 702.2346633143751, 600.6788757227727, 588.7074639572265, 587.1581599250069, 577.8520854041549, 562.9647083545357, 559.1759495201454, 547.5680916185498, 545.6030382624723, 518.6037004702563, 502.44251411362416, 498.5198899517887, 7177.206910936991, 1062.6214732626497, 1988.5054008053673, 1866.7619703006299, 1196.681459624766, 2800.489733819514, 4301.184697396919, 4192.469410438708, 3123.167746620601, 6527.934775977788, 3926.5190421986094, 2622.1309481510093, 2336.5172679162174, 1958.837378680095, 1711.985944537079, 1635.4087941067735, 1319.0140919145954, 1205.2952816744512, 1144.2691592138824, 1136.9370405325087, 954.5796116316254, 892.9531951140838, 853.5654877247853, 841.2461765817201, 789.210939563229, 758.2887177994925, 733.8558169501755, 708.2761383248618, 700.4694966893803, 691.2771075138787, 624.9334016137278, 595.1320702851685, 593.3185935939824, 588.0744887911704, 579.2772396090264, 576.7592799849593, 575.2461050962678, 570.5838289251509, 547.0366114336482, 2800.489733819514, 2277.861397511888, 7600.832983719043, 2336.5593209106696, 1473.5956511214265, 2099.3372921657706, 1101.1561106018296, 2156.695778635623, 3839.2316927720367, 3012.0770952725566, 4253.30250612976, 2366.7881826399757, 2196.6321237509046, 1904.8778207692446, 1640.8234210757794, 1343.0855154095266, 1260.0350518212376, 1174.7067073446838, 1156.2792754245434, 1002.9247076086464, 987.616445657679, 974.2545805001962, 911.9074283612217, 797.0163173911628, 766.3740243436404, 711.5056424081065, 693.7952250821758, 682.3345366236322, 665.8163990917706, 649.4432779539659, 639.3862553703044, 616.429629002604, 611.9135693374396, 592.7613926183799, 562.5559846444723, 509.77327918169544, 498.99980857217605, 483.62738179885577, 463.1217191767917, 461.72590589637946, 735.4468800780543, 3630.130731735058, 5149.008299495447, 4329.03064394985, 17176.270862203175, 2629.3495943532034, 11178.600758683524, 2236.1493939266393, 1644.280455262338, 2634.4712668951115, 2627.4969334947286, 1453.629569214594, 5678.4704925251335, 5084.366933294427, 3679.645522810536, 2656.490058648668, 2271.088649211489, 2143.5229073334644, 1914.0938819862934, 1846.2268750493515, 1683.3327016748924, 1547.682618508153, 1410.6946088718591, 1128.8515987283113, 1061.884204370484, 1008.3910154972865, 941.7421563581429, 908.3863377881887, 845.6575859516416, 842.2420378231923, 794.2211823523108, 789.9098580708488, 756.6869744180628, 755.0203744743982, 739.7094357605902, 723.8321936956149, 636.4588761104322, 627.5759904124204, 618.9353080265936, 613.3037600925636, 599.048531619522, 595.133607459824, 4934.5453899603845, 1679.7414381243298, 11511.38546516805, 3808.942232705706, 2440.945742499531, 4577.545167752633, 3131.746104586519, 2617.656578368613, 1959.2858516342785, 1938.4729113027215, 1544.826465307972, 1420.6713501557267, 1375.542262746059, 1216.4634126983358, 1143.1205058705198, 1035.9945961903456, 930.8279292004953, 925.7140433698211, 855.1101276874771, 819.9237498959707, 815.5090910742057, 746.9740673280531, 698.5272257011478, 670.2552209960454, 668.84510806665, 631.1745358024947, 630.1827455150071, 624.9676608318313, 624.5554815258524, 582.0253912159293, 552.7566390234633, 533.9977458178798, 519.952077964059, 517.6188810021789, 498.0910424689402, 7036.022072083374, 15238.706656806975, 3023.979425909137, 13745.474080911481, 2838.871728833509, 3504.044904407356, 2566.6238170317797, 2429.3997181704367, 2093.7638148099713, 1789.6057376246542, 1767.3074405477905, 1692.3206406081756, 1601.7371196902388, 1406.0627259619357, 1341.3229705501947, 1299.423594043142, 1270.3793613585744, 1069.1072117428905, 997.7091361541395, 985.6433301910482, 956.458311806445, 912.6139055214053, 883.2761762390769, 876.5799734781825, 863.4631084344195, 842.325126247608, 822.1532467941776, 797.1800188641206, 788.9581874754582, 772.5109747611597, 744.4381116676028, 707.2275549300253, 657.9879239399962, 623.416153752337, 622.3551208298228], \"loglift\": [30.0, 29.0, 28.0, 27.0, 26.0, 25.0, 24.0, 23.0, 22.0, 21.0, 20.0, 19.0, 18.0, 17.0, 16.0, 15.0, 14.0, 13.0, 12.0, 11.0, 10.0, 9.0, 8.0, 7.0, 6.0, 5.0, 4.0, 3.0, 2.0, 1.0, 1.1073, 1.1072, 1.1071, 1.1071, 1.107, 1.107, 1.1067, 1.1066, 1.1066, 1.1066, 1.1064, 1.1064, 1.1063, 1.1062, 1.1062, 1.1061, 1.106, 1.106, 1.106, 1.1059, 1.1057, 1.1057, 1.1056, 1.1056, 1.1056, 1.1055, 1.1055, 1.1053, 1.1053, 1.1052, 1.0938, 1.1029, 1.0982, 1.1039, 1.0954, 1.0747, 1.0579, 1.0915, 1.0898, 1.0953, 1.0458, 1.0742, 1.0875, 1.0744, 1.0872, 1.0775, 0.9822, 1.044, 1.048, 1.0366, 0.9094, 0.9849, 0.9659, 1.0161, 0.9516, 0.8118, 0.9198, 0.8148, 0.9827, 0.8117, 0.8927, 0.9115, 1.0162, 0.9991, 0.8581, 0.9307, 0.8752, 0.9946, 0.8493, 0.8195, 0.7374, 0.7208, 0.8322, 0.9223, 0.3867, 0.6429, 0.7202, 0.2984, 0.8003, 0.5988, 0.2447, 0.6178, 2.3058, 2.3057, 2.3054, 2.3053, 2.3052, 2.305, 2.305, 2.305, 2.305, 2.305, 2.3049, 2.3043, 2.3042, 2.3039, 2.3039, 2.3038, 2.3038, 2.3038, 2.3034, 2.3034, 2.3032, 2.303, 2.3029, 2.3028, 2.3027, 2.3027, 2.3027, 2.3023, 2.3022, 2.302, 2.2875, 2.2914, 2.2592, 2.2479, 2.2618, 2.2561, 2.1497, 2.1296, 2.1866, 2.1515, 2.0493, 2.0252, 2.0679, 1.7896, 1.691, 1.9798, 1.7505, 1.621, 1.7224, 1.8803, 1.5668, 1.1076, 1.5292, 1.854, 1.7765, 1.6894, 1.4521, 1.8626, 1.3838, 1.3836, 1.4223, 1.0529, 1.5017, 0.9536, 0.7997, 1.4432, 0.5023, 0.0198, -0.6013, 2.7593, 2.7593, 2.7588, 2.7585, 2.7585, 2.7584, 2.7581, 2.7579, 2.7578, 2.7577, 2.7577, 2.7576, 2.7576, 2.7576, 2.7574, 2.7572, 2.7572, 2.757, 2.757, 2.7568, 2.7566, 2.7566, 2.7566, 2.7565, 2.7564, 2.7561, 2.756, 2.756, 2.7556, 2.7555, 2.755, 2.6778, 2.6899, 2.6968, 2.6091, 2.6174, 2.5092, 2.5442, 2.6097, 2.3276, 2.4671, 2.3912, 2.2394, 2.0906, 2.445, 1.9372, 2.4889, 2.0507, 1.7184, 2.5534, 1.891, 1.8015, 1.8252, 1.0535, 0.8357, 0.75, 0.7555, 0.0894, 0.8743, 1.3609, 0.7138, 2.7692, 2.7683, 2.7683, 2.7682, 2.768, 2.7678, 2.7667, 2.7665, 2.7663, 2.7659, 2.7655, 2.7653, 2.7647, 2.7647, 2.7645, 2.7645, 2.7638, 2.7633, 2.7632, 2.763, 2.7627, 2.7621, 2.7614, 2.7613, 2.761, 2.7597, 2.759, 2.7588, 2.7584, 2.7584, 2.7026, 2.6413, 2.344, 2.361, 2.6779, 2.5048, 2.1216, 2.4195, 2.299, 2.0049, 2.5035, 2.0095, 2.1126, 1.9259, 2.0741, 2.3003, 1.508, 2.4044, 2.2443, 2.0071, 1.7346, 1.5226, 1.8154, 1.5834, 1.9406, 1.9188, 1.9086, 1.4266, 1.1276, 1.2372, 1.3469, 1.5223, 1.1591, 1.4072, 0.884, -0.0737, 0.9708, 0.096, -0.0982, 2.9854, 2.9853, 2.9853, 2.9852, 2.985, 2.9849, 2.9849, 2.9843, 2.9843, 2.9843, 2.9841, 2.984, 2.9839, 2.9838, 2.9834, 2.983, 2.9829, 2.9828, 2.9827, 2.9827, 2.9825, 2.9825, 2.9823, 2.9818, 2.9815, 2.9814, 2.9812, 2.9811, 2.9811, 2.98, 2.9698, 2.837, 2.8323, 2.8288, 2.6108, 2.5233, 2.7787, 2.6536, 2.7422, 2.7743, 2.6111, 2.6197, 2.4137, 2.2157, 2.3687, 1.76, 1.86, 1.786, 2.0942, 2.2351, 1.3134, 1.9149, 0.9924, 1.9623, 1.6649, 1.3898, -0.4299, 1.1691, 3.4131, 3.4131, 3.4125, 3.4125, 3.4124, 3.412, 3.4111, 3.4106, 3.4099, 3.4096, 3.4092, 3.4091, 3.4078, 3.4068, 3.4062, 3.4061, 3.4051, 3.4043, 3.4041, 3.4039, 3.4029, 3.4027, 3.4022, 3.4022, 3.4014, 3.4014, 3.4013, 3.4007, 3.4006, 3.4003, 3.0263, 3.248, 3.3173, 2.9465, 2.6406, 2.7873, 3.1604, 2.5256, 2.9546, 1.7125, 1.6804, 2.7339, 2.0059, 2.1333, 1.5413, 1.9739, 1.6142, 2.2676, 1.9904, 2.0729, 1.1958, 1.3169, 1.278, 0.6936, 2.0452, 1.4832, 0.4822, 1.0938, 1.75, 0.4867, 3.4401, 3.4395, 3.4392, 3.4391, 3.4389, 3.4388, 3.4379, 3.4375, 3.4371, 3.4367, 3.4358, 3.435, 3.4342, 3.4333, 3.433, 3.4324, 3.4324, 3.4315, 3.4311, 3.431, 3.4306, 3.4305, 3.4303, 3.43, 3.4299, 3.4298, 3.4298, 3.4296, 3.4295, 3.4293, 3.4189, 3.3934, 3.3558, 3.3407, 3.229, 3.3106, 3.2218, 3.1796, 3.2396, 2.9346, 3.022, 2.9882, 2.819, 3.0235, 3.1507, 3.2231, 3.2401, 2.6674, 3.0924, 2.765, 2.999, 2.8514, 2.4981, 2.5403, 1.9311, 2.5093, 2.6242, 2.2027, 2.3461, 2.4548, 2.4481, 0.9118, 1.8175, 1.9765, 2.29, 1.9648, 1.1755, 2.7081, 1.2, -0.2261, 3.4478, 3.4477, 3.4475, 3.4475, 3.447, 3.4467, 3.4464, 3.4464, 3.4464, 3.4463, 3.4458, 3.4457, 3.4447, 3.4447, 3.4446, 3.4446, 3.4443, 3.4443, 3.4441, 3.4431, 3.4428, 3.4418, 3.4415, 3.4415, 3.4413, 3.4412, 3.4409, 3.4408, 3.4407, 3.4406, 3.3682, 3.3275, 3.3417, 3.3108, 3.3287, 3.2453, 2.9185, 2.9305, 2.8163, 3.2225, 2.2891, 2.5262, 2.5357, 3.113, 2.5525, 2.2668, 2.0124, 2.6879, 2.2963, 1.7821, 1.725, 0.7899, 1.4493, 2.2795, 1.8669, 2.2834, 2.2284, 0.8613, 1.1748, 3.5496, 3.5494, 3.5492, 3.5491, 3.5489, 3.5487, 3.5468, 3.5468, 3.5467, 3.5465, 3.5464, 3.5463, 3.5462, 3.5462, 3.5462, 3.5457, 3.5452, 3.5442, 3.5435, 3.5431, 3.5429, 3.5429, 3.5428, 3.5427, 3.5427, 3.542, 3.5417, 3.5415, 3.5411, 3.541, 3.3594, 3.4804, 3.3291, 3.17, 3.0837, 3.3399, 2.7247, 2.7391, 2.684, 1.9205, 2.9089, 2.7559, 1.991, 1.9737, 1.3665, 2.4117, 1.3713, 2.5716, 2.5426, 2.1466, 1.9722, 1.6554, 1.2051, 2.3346, 0.4576, 1.5115, 0.6854, 3.6407, 3.6401, 3.6401, 3.64, 3.6399, 3.6394, 3.6393, 3.6387, 3.6387, 3.6386, 3.6384, 3.6383, 3.6382, 3.638, 3.6376, 3.6374, 3.6371, 3.6366, 3.6365, 3.6362, 3.6362, 3.6354, 3.6353, 3.6353, 3.6352, 3.6352, 3.635, 3.6349, 3.6346, 3.6338, 3.5223, 3.4552, 3.358, 3.4417, 3.3204, 3.514, 3.1263, 3.3631, 3.5525, 3.2596, 2.7766, 3.0123, 3.2574, 2.9325, 3.1697, 2.3905, 2.8013, 2.9689, 2.8829, 2.3579, 1.9003, 2.2256, 1.7175, 2.6025, 2.1083, 2.3164, 3.7292, 3.7289, 3.7287, 3.7285, 3.7274, 3.7273, 3.7271, 3.7271, 3.727, 3.7269, 3.7264, 3.7262, 3.7261, 3.7259, 3.7259, 3.7256, 3.7255, 3.7249, 3.7246, 3.7244, 3.7239, 3.7237, 3.7236, 3.7236, 3.7234, 3.723, 3.7228, 3.7225, 3.7224, 3.7223, 3.709, 3.6468, 3.66, 3.5307, 3.6403, 3.4061, 3.2638, 3.5588, 3.3899, 3.4465, 2.8815, 3.431, 2.8826, 3.1162, 2.8809, 2.3141, 3.1245, 2.8063, 2.5437, 2.7727, 3.1414, 2.8226, 2.1736, 2.3819, 2.4339, 2.3559, 1.2803, 2.0629, 1.169, 0.7849, 3.8021, 3.802, 3.8019, 3.8018, 3.8018, 3.8016, 3.8015, 3.8013, 3.8011, 3.8011, 3.8009, 3.8007, 3.8006, 3.8006, 3.8006, 3.8005, 3.8003, 3.8, 3.8, 3.8, 3.7998, 3.799, 3.7989, 3.7988, 3.7988, 3.7986, 3.7983, 3.7983, 3.7981, 3.7978, 3.794, 3.7109, 3.4495, 3.5325, 3.6148, 2.9458, 2.7729, 3.292, 2.826, 3.1256, 1.73, 2.7654, -0.6956, 4.068, 4.0679, 4.0676, 4.0673, 4.0661, 4.066, 4.0657, 4.0651, 4.0647, 4.0639, 4.0638, 4.0638, 4.0625, 4.0623, 4.0622, 4.0618, 4.0615, 4.0613, 4.061, 4.061, 4.0606, 4.0601, 4.0599, 4.0598, 4.0592, 4.0591, 4.0589, 4.057, 4.0568, 4.0568, 3.7545, 3.866, 3.851, 3.252, 3.8038, 3.5192, 2.4012, 3.8554, 3.1162, 2.9448, 2.9061, 2.3033, 1.846, 2.1987, 2.2853, 2.2099, 1.4467, 1.5513, 2.021, 1.7711, 2.7956, 2.4385, 1.7786, 4.0936, 4.0935, 4.0931, 4.0926, 4.0925, 4.0924, 4.0924, 4.092, 4.0916, 4.0916, 4.0907, 4.0899, 4.0895, 4.0894, 4.0892, 4.0891, 4.0888, 4.0876, 4.0875, 4.0875, 4.0874, 4.087, 4.0865, 4.0864, 4.0863, 4.0861, 4.0859, 4.0857, 4.0856, 4.0848, 4.0803, 4.0613, 4.0325, 3.7403, 3.9878, 3.7803, 3.4697, 3.0977, 3.1411, 3.602, 3.2116, 3.439, 2.564, 2.1692, 1.7702, 1.8968, 2.9469, 1.0469, 2.4747, 2.667, 1.6904, 1.0734, 4.1175, 4.117, 4.1169, 4.1167, 4.1165, 4.1163, 4.1162, 4.1159, 4.1158, 4.1158, 4.1157, 4.1156, 4.1152, 4.115, 4.1148, 4.1147, 4.1147, 4.1145, 4.114, 4.1138, 4.1136, 4.1136, 4.1131, 4.1128, 4.1127, 4.1127, 4.1125, 4.1125, 4.1125, 4.1123, 4.0609, 3.9481, 3.9878, 3.7036, 3.7779, 3.6673, 3.8795, 3.2571, 3.2512, 2.8094, 1.6634, 3.1281, 2.8757, 2.6865, 4.1927, 4.1927, 4.1925, 4.1918, 4.1917, 4.191, 4.191, 4.1909, 4.1907, 4.1904, 4.1902, 4.1895, 4.1893, 4.1887, 4.1884, 4.1882, 4.1881, 4.1874, 4.1869, 4.1866, 4.1847, 4.184, 4.1837, 4.1835, 4.1813, 4.1812, 4.181, 4.1807, 4.1801, 4.1801, 4.0174, 3.6834, 3.8136, 3.4602, 3.1319, 3.6459, 3.5383, 2.2972, 3.2075, 2.8911, 0.5228, 3.2652, 2.9453, 2.1715, 4.2066, 4.2049, 4.2044, 4.2043, 4.2043, 4.2039, 4.2039, 4.2039, 4.2038, 4.2037, 4.2034, 4.2034, 4.2032, 4.2032, 4.2027, 4.2024, 4.2017, 4.2016, 4.2014, 4.2011, 4.2011, 4.1996, 4.198, 4.1979, 4.1976, 4.1972, 4.1969, 4.1964, 4.1963, 4.1962, 4.1951, 4.1119, 4.052, 4.026, 3.893, 3.595, 3.8475, 3.497, 3.2272, 2.8328, 1.9033, 2.5336, 1.7608, 2.4388, 2.5261, 1.4846, 0.701, 1.6899, 0.8571, -0.1213, 4.3026, 4.3013, 4.3013, 4.301, 4.3009, 4.3003, 4.2995, 4.2993, 4.2991, 4.2988, 4.2985, 4.2985, 4.298, 4.2971, 4.2965, 4.2964, 4.296, 4.2957, 4.2954, 4.2953, 4.295, 4.2949, 4.2946, 4.2944, 4.2939, 4.2937, 4.2931, 4.2929, 4.2924, 4.2921, 4.0288, 3.9627, 3.9758, 4.1174, 3.5868, 3.9609, 4.2026, 3.9649, 3.4444, 2.887, 3.5961, 3.1104, 3.7712, 2.6423, 3.44, 2.4141, 3.2552, 2.768, 2.0425, 1.9799, 1.7234, 0.5326, 1.7914, 2.2997, 4.3397, 4.3395, 4.3394, 4.3393, 4.3392, 4.3384, 4.3383, 4.3382, 4.3381, 4.3379, 4.3379, 4.3373, 4.3371, 4.337, 4.3368, 4.3366, 4.3364, 4.3361, 4.3361, 4.3357, 4.3356, 4.3355, 4.3354, 4.3352, 4.335, 4.3349, 4.3349, 4.3349, 4.3346, 4.3334, 4.1608, 3.8566, 3.1285, 3.2654, 3.0889, 2.4423, 2.8898, 0.6714, 4.4709, 4.4707, 4.4705, 4.4704, 4.4701, 4.4699, 4.4698, 4.4698, 4.4697, 4.4696, 4.4696, 4.4692, 4.4691, 4.4691, 4.4689, 4.468, 4.4679, 4.4678, 4.4673, 4.4671, 4.467, 4.4668, 4.4663, 4.4662, 4.4659, 4.4659, 4.4658, 4.4655, 4.4651, 4.4648, 3.8708, 3.9673, 3.5164, 3.7357, 3.6806, 2.2266, 4.6615, 4.6615, 4.6615, 4.6609, 4.6606, 4.6601, 4.6601, 4.6595, 4.6595, 4.6594, 4.6593, 4.6592, 4.659, 4.6587, 4.6585, 4.6585, 4.6584, 4.6583, 4.6582, 4.658, 4.658, 4.6576, 4.6576, 4.6576, 4.6575, 4.6574, 4.6573, 4.6573, 4.6572, 4.6569, 2.6949, 4.67, 4.6698, 4.6695, 4.6694, 4.6687, 4.6683, 4.6681, 4.668, 4.6677, 4.6676, 4.6675, 4.6672, 4.667, 4.6669, 4.6665, 4.6662, 4.6661, 4.666, 4.6658, 4.6658, 4.6655, 4.665, 4.665, 4.665, 4.6647, 4.6646, 4.6643, 4.6634, 4.6631, 4.6625, 4.6559, 4.6522, 4.4934, 4.0883, 4.0369, 4.2636, 3.8072, 3.9071, 2.8846, 3.1271, 4.679, 4.6787, 4.6785, 4.6775, 4.6769, 4.6764, 4.6758, 4.6753, 4.6752, 4.6751, 4.6749, 4.6748, 4.6748, 4.6742, 4.6741, 4.6737, 4.6736, 4.6735, 4.6735, 4.6734, 4.6731, 4.6731, 4.673, 4.673, 4.6727, 4.6726, 4.6724, 4.6723, 4.6712, 4.6707, 4.6154, 4.547, 3.8529, 4.1736, 4.2463, 4.341, 3.1796, 3.9921, 2.1796, 4.7074, 4.7067, 4.7064, 4.706, 4.7059, 4.7059, 4.7056, 4.7055, 4.7054, 4.7042, 4.7041, 4.7038, 4.7036, 4.7035, 4.7034, 4.7033, 4.7032, 4.7025, 4.7021, 4.7021, 4.7012, 4.7012, 4.7012, 4.7001, 4.7001, 4.7001, 4.7, 4.6999, 4.6998, 4.6998, 4.5846, 4.3072, 1.0197, 4.9103, 4.9098, 4.9098, 4.9095, 4.9081, 4.908, 4.9075, 4.9073, 4.9069, 4.9067, 4.9066, 4.9065, 4.9058, 4.9056, 4.9053, 4.9053, 4.905, 4.9049, 4.9035, 4.9023, 4.9021, 4.9021, 4.9019, 4.9017, 4.9016, 4.9014, 4.9014, 4.9009, 4.9005, 4.9005, 3.9497, 4.6243, 4.3514, 4.3233, 4.4926, 3.5823, 3.0522, 3.0149, 3.2624, 4.94, 4.9395, 4.9388, 4.9386, 4.9381, 4.9377, 4.9376, 4.9368, 4.9365, 4.9362, 4.9362, 4.9353, 4.9349, 4.9347, 4.9346, 4.9342, 4.9339, 4.9337, 4.9334, 4.9333, 4.9332, 4.9324, 4.932, 4.932, 4.9319, 4.9318, 4.9317, 4.9317, 4.9316, 4.9312, 4.6307, 4.6002, 4.2568, 4.5306, 4.6247, 4.2212, 4.5728, 4.0534, 3.2514, 3.475, 4.9624, 4.9614, 4.9612, 4.9609, 4.9604, 4.9597, 4.9595, 4.9592, 4.9591, 4.9584, 4.9583, 4.9582, 4.9579, 4.957, 4.9568, 4.9563, 4.9561, 4.9559, 4.9557, 4.9555, 4.9554, 4.9551, 4.9551, 4.9548, 4.9543, 4.9533, 4.9531, 4.9528, 4.9523, 4.9523, 4.9495, 4.8651, 4.7994, 4.5276, 4.0002, 4.3327, 3.7356, 4.3919, 4.2704, 3.9028, 3.7295, 4.1766, 5.0058, 5.0057, 5.0053, 5.0048, 5.0044, 5.0043, 5.004, 5.0039, 5.0036, 5.0034, 5.003, 5.0021, 5.0018, 5.0016, 5.0012, 5.001, 5.0006, 5.0005, 5.0002, 5.0001, 4.9998, 4.9998, 4.9997, 4.9995, 4.9985, 4.9984, 4.9983, 4.9982, 4.998, 4.998, 4.2951, 4.2877, 2.9471, 3.3153, 3.7045, 5.0797, 5.0792, 5.0789, 5.0782, 5.0782, 5.0775, 5.0772, 5.0771, 5.0766, 5.0763, 5.0758, 5.0752, 5.0752, 5.0747, 5.0745, 5.0744, 5.0739, 5.0734, 5.073, 5.073, 5.0726, 5.0725, 5.0725, 5.0725, 5.0719, 5.0714, 5.071, 5.0708, 5.0707, 5.0703, 4.4042, 3.937, 4.0549, 2.9248, 3.4969, 5.1006, 5.1001, 5.1, 5.0996, 5.0992, 5.0992, 5.099, 5.0988, 5.0984, 5.0982, 5.0981, 5.098, 5.0972, 5.0969, 5.0968, 5.0966, 5.0964, 5.0962, 5.0962, 5.0961, 5.0959, 5.0958, 5.0956, 5.0955, 5.0953, 5.0951, 5.0947, 5.0942, 5.0937, 5.0937], \"logprob\": [30.0, 29.0, 28.0, 27.0, 26.0, 25.0, 24.0, 23.0, 22.0, 21.0, 20.0, 19.0, 18.0, 17.0, 16.0, 15.0, 14.0, 13.0, 12.0, 11.0, 10.0, 9.0, 8.0, 7.0, 6.0, 5.0, 4.0, 3.0, 2.0, 1.0, -6.2161, -6.3372, -6.5165, -6.591, -6.6136, -6.6352, -6.8887, -7.0581, -7.0668, -7.0915, -7.2393, -7.2423, -7.3266, -7.3773, -7.3799, -6.3244, -7.4952, -7.5245, -7.525, -7.5639, -7.6334, -7.4246, -7.6827, -7.6873, -5.1723, -7.7295, -7.736, -7.8194, -7.8493, -7.854, -5.1194, -6.9173, -6.6226, -7.2829, -6.4531, -5.4289, -4.625, -6.6191, -6.6046, -6.8974, -5.0668, -6.2023, -6.6538, -6.4217, -6.7707, -6.5463, -4.5421, -5.9445, -6.0466, -5.8718, -3.9784, -5.2026, -5.2051, -6.0034, -5.377, -4.0298, -5.0764, -4.1918, -5.7172, -4.4404, -5.1372, -5.3148, -6.0356, -5.941, -5.0815, -5.5442, -5.3367, -5.9293, -5.2198, -5.1292, -4.8872, -4.9871, -5.4012, -5.6902, -4.0411, -4.8429, -5.1035, -4.054, -5.3523, -5.2196, -5.1384, -5.398, -4.8943, -4.9746, -5.5301, -5.619, -5.7736, -5.8929, -5.9089, -5.9111, -5.937, -5.9419, -6.0088, -6.3595, -6.4104, -6.5577, -6.5742, -6.5998, -6.6238, -6.6279, -6.7728, -6.7798, -6.8399, -6.9077, -6.9223, -6.9702, -6.9765, -6.9806, -6.9938, -7.0884, -7.112, -7.1813, -4.1567, -5.8309, -4.4189, -5.0733, -5.7791, -5.9853, -4.2474, -4.7605, -5.4626, -5.3804, -5.0612, -5.0603, -5.3793, -4.036, -3.9761, -5.3974, -4.5947, -4.327, -4.7323, -5.1875, -4.5737, -3.7301, -4.5218, -5.2021, -5.111, -5.0085, -4.6988, -5.2769, -4.8411, -4.8416, -4.9162, -4.6501, -5.0583, -4.7543, -4.7078, -5.0749, -4.9835, -4.9869, -4.9537, -3.5804, -3.4786, -4.9064, -5.2951, -5.2985, -5.332, -5.6029, -5.745, -5.7884, -5.8267, -5.0934, -5.8996, -5.9074, -5.9345, -5.9866, -6.0856, -6.1212, -6.1854, -6.1954, -6.248, -6.3266, -6.3272, -6.3469, -6.371, -6.2239, -6.5022, -6.5204, -6.53, -6.6462, -6.6601, -6.3277, -3.6429, -4.2946, -4.9068, -3.7974, -3.9798, -3.3805, -4.0884, -5.0616, -3.1649, -4.4706, -4.6597, -4.1638, -4.2821, -5.3466, -4.2411, -5.56, -4.9256, -4.6153, -5.6794, -4.99, -5.0869, -5.1384, -4.6136, -4.6501, -4.6331, -4.7282, -4.7521, -4.9845, -5.1099, -5.1099, -5.3955, -5.9796, -5.9914, -6.0359, -6.0934, -6.2056, -6.5642, -6.6133, -6.6526, -6.751, -6.839, -6.8906, -6.9918, -7.0008, -7.0282, -7.0285, -7.1385, -7.2207, -7.2382, -7.2587, -7.299, -7.384, -7.4559, -7.4664, -7.5076, -7.6373, -7.7029, -7.7203, -7.7515, -7.7556, -4.5485, -5.2243, -2.8836, -3.6158, -6.8899, -5.5888, -3.1159, -5.113, -4.3411, -3.4789, -6.0081, -3.9385, -4.3824, -3.7845, -4.3779, -5.4547, -2.9198, -5.9312, -5.4921, -4.8243, -4.093, -3.8604, -4.5879, -4.21, -4.9823, -5.038, -5.0654, -4.5472, -4.3799, -4.6252, -4.7811, -4.9314, -4.6593, -4.872, -4.7405, -4.5769, -4.978, -4.9106, -4.986, -4.3648, -4.5029, -4.5922, -4.6474, -4.8719, -4.9857, -5.0025, -3.3851, -5.5105, -5.511, -5.6356, -5.7059, -5.7535, -5.7762, -5.9778, -6.1281, -6.1308, -6.1781, -6.2071, -6.2095, -6.2732, -6.2746, -6.3402, -6.4571, -6.526, -6.5615, -6.606, -6.6139, -6.6209, -5.7812, -5.0403, -4.6948, -4.8096, -5.2245, -3.9457, -3.5044, -5.129, -4.4667, -5.109, -5.2996, -4.9503, -5.0615, -4.6528, -4.268, -4.7339, -3.7325, -3.9676, -4.0955, -4.7255, -4.961, -4.1704, -4.7959, -4.5151, -4.9815, -4.9674, -4.9829, -4.9331, -5.0092, -5.3916, -5.4154, -5.6284, -5.6569, -5.6628, -5.8195, -6.0572, -6.1549, -6.3025, -6.3593, -6.4315, -6.436, -6.6352, -6.7679, -6.8269, -6.8407, -6.9438, -7.0229, -7.0399, -7.0614, -7.1389, -7.1579, -7.1978, -7.2001, -7.2558, -7.256, -7.2674, -7.3098, -7.316, -7.3318, -1.4769, -5.1814, -6.497, -3.6041, -2.1971, -3.1865, -6.0184, -3.1847, -5.5618, -2.7153, -2.6721, -5.4757, -3.8529, -4.1622, -3.6864, -4.521, -4.0294, -5.0199, -4.6557, -4.9458, -4.0418, -4.3076, -4.5844, -4.313, -5.2931, -5.1615, -4.9008, -5.3034, -5.4901, -5.5096, -4.571, -5.0953, -5.2404, -5.2881, -5.4166, -5.4324, -5.7708, -5.8826, -5.9886, -6.0963, -6.2738, -6.4179, -6.5417, -6.6625, -6.705, -6.7695, -6.7703, -6.8666, -6.9094, -6.9226, -6.9615, -6.9707, -6.9913, -7.0172, -7.022, -7.0297, -7.0304, -7.0482, -7.0568, -7.08, -5.873, -5.1783, -3.5293, -5.1737, -4.3341, -5.5906, -4.9512, -4.64, -5.2323, -2.9277, -3.8896, -3.9752, -2.9744, -4.7583, -5.4425, -5.7771, -5.8952, -3.7901, -5.363, -4.3164, -5.2604, -5.0254, -4.3576, -4.5262, -3.7125, -4.558, -4.7872, -4.2951, -4.6106, -4.7853, -4.7957, -3.5914, -4.3105, -4.5741, -4.7922, -4.7933, -4.7264, -5.0657, -4.8298, -4.6538, -3.61, -3.9919, -4.2079, -4.2661, -4.7825, -4.9778, -5.1541, -5.1604, -5.2062, -5.2091, -5.4647, -5.5034, -5.8331, -5.8505, -5.8624, -5.8731, -5.9498, -5.9576, -6.0025, -6.2177, -6.2809, -6.4501, -6.4938, -6.4942, -2.7855, -6.5397, -6.5631, -6.593, -6.6067, -6.621, -5.4089, -5.4918, -5.7257, -5.5623, -5.7824, -5.453, -3.8078, -4.1914, -4.0572, -5.6506, -3.6129, -4.6613, -4.7675, -5.5366, -5.1838, -4.9771, -4.7956, -5.2942, -5.0524, -4.7938, -4.7728, -4.7176, -5.0026, -5.2731, -5.2017, -5.278, -5.3042, -5.2667, -5.2827, -3.1238, -3.6431, -3.9785, -4.2523, -4.4225, -4.6448, -5.5981, -5.5994, -5.6382, -5.6887, -5.729, -5.7471, -5.7747, -5.782, -5.7885, -5.8586, -6.0052, -4.9482, -6.34, -6.3992, -6.4238, -6.4327, -6.4464, -6.4603, -6.4624, -6.555, -6.5859, -6.6124, -6.6616, -6.6766, -3.7236, -5.7687, -4.4741, -4.5202, -4.0905, -5.5603, -3.7066, -3.9211, -3.825, -2.432, -4.8887, -4.8785, -3.9486, -4.0421, -3.4712, -4.7087, -3.8808, -4.9646, -4.952, -4.7959, -4.8261, -4.7066, -4.4979, -5.0472, -4.3839, -4.801, -4.9582, -2.7423, -4.2008, -4.2365, -4.2686, -4.4475, -4.8394, -4.8758, -5.1786, -5.2001, -5.243, -5.3271, -5.3699, -5.4051, -5.4639, -5.5829, -5.642, -5.7236, -5.8636, -5.8734, -5.9452, -5.9554, -6.1052, -6.1164, -6.1202, -6.1365, -6.1439, -6.1783, -6.1965, -6.232, -6.3527, -4.6693, -5.0413, -4.7981, -5.2862, -4.8439, -5.6278, -4.2975, -5.246, -5.8673, -5.0681, -3.8848, -4.5581, -5.1143, -4.6036, -5.0549, -4.309, -4.8011, -5.0616, -5.0052, -4.9735, -4.826, -4.9674, -4.9379, -5.1187, -5.0409, -5.1241, -4.846, -5.0014, -5.1366, -5.2218, -5.5654, -5.6097, -5.6471, -5.6615, -5.689, -5.7113, -5.8278, -5.86, -5.7742, -5.9182, -5.9239, -5.9764, -5.2648, -6.1127, -6.1566, -6.1899, -6.2546, -6.2899, -6.304, -6.31, -6.327, -6.3785, -6.4024, -6.4466, -6.451, -6.4725, -5.5857, -3.9558, -4.5068, -4.5079, -5.6069, -4.4949, -3.7503, -5.5216, -4.7661, -5.2116, -3.2886, -5.2181, -3.9909, -4.7447, -4.3592, -3.5878, -5.1049, -4.9524, -4.8135, -4.9997, -5.2989, -5.1802, -4.8658, -5.0094, -5.187, -5.1661, -4.8706, -5.0976, -5.1265, -5.2113, -2.4635, -2.6944, -3.3086, -3.3229, -3.5345, -3.8478, -3.999, -4.1618, -4.3872, -4.4071, -4.5212, -4.6983, -4.733, -4.7339, -4.7346, -4.8213, -4.9175, -5.0351, -5.051, -5.0555, -5.1385, -5.4048, -5.4335, -5.4606, -5.4766, -5.5342, -5.6089, -5.6153, -5.6687, -5.7232, -5.2955, -4.9302, -3.8411, -4.3047, -5.1857, -3.9703, -4.1081, -4.8641, -4.6896, -5.0173, -4.5019, -5.0396, -5.0481, -2.9355, -3.1196, -3.6367, -4.0178, -4.7845, -4.8354, -4.9348, -5.1278, -5.262, -5.4621, -5.4808, -5.4838, -5.7385, -5.7633, -5.7777, -5.8483, -5.8903, -5.9234, -5.9579, -5.9643, -6.0148, -6.0762, -6.0956, -6.1109, -6.1844, -6.1895, -6.2121, -6.3983, -6.4115, -6.4183, -1.9921, -4.2704, -5.2787, -3.2028, -5.403, -4.7974, -2.8364, -5.7051, -4.473, -4.6575, -4.8212, -4.2725, -3.857, -4.3755, -4.6418, -4.8385, -4.5301, -4.6821, -4.9529, -5.0486, -5.2682, -5.2152, -5.2608, -3.4466, -3.4669, -4.072, -4.3945, -4.4791, -4.5216, -4.557, -4.7272, -4.9033, -4.9045, -5.1854, -5.4029, -5.4955, -5.5177, -5.56, -5.5772, -5.6361, -2.9362, -5.8479, -5.8517, -5.8652, -5.9229, -5.984, -6.0074, -6.0198, -6.0424, -6.0639, -6.0844, -6.1064, -6.1927, -4.2234, -3.0622, -3.3282, -3.0099, -5.4381, -4.6114, -3.7708, -3.386, -3.5142, -4.695, -4.684, -5.0278, -3.9717, -3.6584, -4.3703, -4.5098, -5.0789, -4.4606, -4.9774, -5.036, -4.9421, -4.9543, -3.272, -3.9514, -2.7445, -4.1864, -4.3242, -4.4246, -4.5201, -4.5297, -4.6887, -4.7224, -4.7675, -4.7858, -4.9595, -5.0252, -5.0907, -5.1217, -5.1255, -5.1684, -5.3014, -5.348, -5.4075, -5.3824, -5.5124, -5.5604, -5.588, -5.5943, -5.6239, -5.4437, -5.6329, -5.6609, -3.1774, -3.1003, -4.6812, -2.9914, -4.353, -4.1946, -5.1023, -4.279, -4.9251, -4.7853, -4.5149, -5.0266, -5.0753, -5.0798, -1.764, -2.0035, -2.8267, -3.9192, -3.9526, -4.4436, -4.4782, -4.4906, -4.6047, -4.7505, -4.8044, -5.0575, -5.1013, -5.2634, -5.346, -5.3761, -5.4079, -5.5406, -5.6342, -5.6718, -5.9474, -6.0301, -6.0644, -6.0841, -6.29, -6.306, -6.3156, -6.3436, -3.8254, -6.3934, -5.0795, -3.6674, -4.76, -4.2433, -3.7841, -5.0821, -5.1393, -3.5842, -4.9996, -4.9264, -3.8297, -5.2354, -5.1856, -5.2232, -1.6176, -4.4478, -4.4483, -4.6399, -4.722, -4.8452, -4.8595, -4.867, -4.8812, -4.9335, -5.0281, -5.0301, -5.0717, -5.0841, -5.2217, -5.2812, -5.4367, -5.3604, -5.4962, -5.5539, -5.5605, -5.7884, -5.9948, -6.0035, -6.043, -6.0835, -6.119, -6.1653, -6.1806, -6.1881, -5.3198, -4.5321, -4.1, -3.9379, -3.7505, -4.2909, -5.2556, -4.5363, -4.3128, -4.1049, -3.9782, -4.4299, -4.129, -4.7244, -4.8978, -4.6434, -4.5365, -5.0004, -4.9613, -4.9628, -2.3867, -4.163, -4.1961, -4.3426, -4.3899, -4.6622, -4.9514, -5.0186, -5.0551, -5.1389, -5.1996, -5.2098, -5.3265, -5.4932, -5.5912, -5.6056, -5.6687, -5.7008, -5.7464, -5.7638, -5.8019, -5.813, -5.8432, -5.8784, -5.9356, -5.9511, -6.0146, -6.0404, -6.0848, -6.1159, -3.7375, -4.2489, -4.3444, -5.1728, -3.357, -4.7887, -5.6603, -5.1103, -4.1249, -3.372, -4.775, -4.1042, -5.048, -3.7943, -4.7304, -3.7642, -4.7073, -4.6558, -4.2912, -4.3156, -4.5557, -4.309, -4.6118, -4.7787, -2.3829, -2.9029, -3.1188, -3.281, -3.4405, -4.1579, -4.1745, -4.2457, -4.3167, -4.4043, -4.4284, -4.6578, -4.7317, -4.7916, -4.8505, -4.9122, -4.9751, -5.0487, -5.0507, -5.1378, -5.1803, -5.1999, -5.2166, -5.2593, -5.2936, -5.3115, -5.322, -5.3237, -5.3787, -5.5755, -3.0017, -4.3975, -3.6218, -4.322, -4.5648, -4.5015, -5.0727, -5.0315, -2.668, -3.0156, -3.3467, -3.4635, -3.759, -3.9435, -3.9684, -3.978, -4.054, -4.0879, -4.1279, -4.3285, -4.3542, -4.3801, -4.3316, -4.7506, -4.8047, -4.8117, -4.9673, -5.0119, -5.034, -5.0856, -5.1718, -5.1905, -5.2488, -5.2545, -5.2787, -5.3248, -5.3924, -5.4425, -4.1811, -4.6386, -4.1063, -4.7311, -5.096, -5.0348, -3.8244, -3.8596, -3.8721, -4.1946, -4.3024, -4.4813, -4.485, -4.6738, -4.675, -4.7133, -4.742, -4.7682, -4.8038, -4.8711, -4.922, -4.9336, -4.9415, -4.9665, -4.9978, -5.0348, -5.0361, -5.1062, -5.1071, -5.1151, -5.1176, -5.1501, -5.1625, -5.1637, -5.1821, -5.2324, -4.5149, -2.9462, -3.2583, -3.5451, -3.6596, -4.0551, -4.2042, -4.3133, -4.3632, -4.4713, -4.5035, -4.5335, -4.6136, -4.6805, -4.7006, -4.7897, -4.8696, -4.8917, -4.9077, -4.9577, -4.96, -5.0238, -5.099, -5.1118, -5.1129, -4.2145, -5.1674, -4.1239, -5.3614, -5.3957, -5.4669, -4.4831, -4.6571, -4.697, -3.2772, -3.8513, -4.4496, -4.2386, -4.8134, -4.7029, -4.9368, -2.6648, -3.1074, -3.306, -4.0523, -4.2854, -4.4735, -4.6593, -4.7848, -4.8048, -4.8416, -4.8694, -4.9006, -4.9079, -4.4847, -5.0349, -5.1043, -5.122, -5.1398, -5.1411, -5.1687, -5.202, -5.2029, -5.2192, -5.2277, -5.2668, -5.2826, -5.3135, -5.3333, -5.4664, -5.536, -3.8821, -4.8225, -2.0285, -4.3269, -4.5684, -4.9665, -4.9737, -5.1323, -5.1603, -1.5741, -3.1649, -3.441, -3.7551, -3.8026, -3.8533, -4.0135, -4.0237, -4.1134, -4.5483, -4.5622, -4.6631, -4.7152, -4.7222, -4.7528, -4.7797, -4.8078, -4.9482, -5.0216, -5.0343, -5.1766, -5.1774, -5.1788, -5.3367, -5.3467, -5.3467, -5.3571, -5.3676, -5.3852, -5.3865, -4.8752, -4.2654, -4.7988, -2.6586, -3.2421, -3.3022, -3.4836, -4.1599, -4.2144, -4.3622, -4.4297, -4.5173, -4.5718, -4.6036, -4.6184, -4.7694, -4.8077, -4.8579, -4.8617, -4.9156, -4.9244, -5.1372, -5.2947, -5.315, -5.3176, -5.3337, -5.3601, -5.3669, -5.3881, -5.3917, -5.443, -5.4749, -5.4829, -3.7666, -5.0022, -4.6484, -4.7397, -5.0151, -5.0751, -5.1762, -5.239, -5.286, -2.8711, -3.38, -3.7844, -3.9, -4.0767, -4.2118, -4.2577, -4.4735, -4.564, -4.6162, -4.6227, -4.7984, -4.8655, -4.9109, -4.9255, -4.9898, -5.03, -5.063, -5.0987, -5.1099, -5.1232, -5.2249, -5.2742, -5.2773, -5.2862, -5.3014, -5.3058, -5.3085, -5.3167, -5.3592, -4.0267, -4.2638, -3.4021, -4.308, -4.6748, -4.7244, -5.018, -4.8653, -5.0905, -5.1096, -3.2771, -3.8643, -3.9391, -4.0819, -4.2316, -4.4325, -4.4966, -4.567, -4.5829, -4.7259, -4.7414, -4.755, -4.8216, -4.957, -4.9965, -5.0713, -5.0967, -5.1135, -5.1382, -5.1633, -5.179, -5.2159, -5.2233, -5.2554, -5.3082, -5.4077, -5.4293, -5.4609, -5.5047, -5.5077, -5.045, -3.5328, -3.249, -3.6943, -2.8435, -4.3878, -3.5376, -4.4905, -4.9195, -4.8158, -4.9917, -5.1365, -2.9447, -3.0553, -3.3791, -3.7054, -3.8625, -3.9205, -4.034, -4.0702, -4.1628, -4.2471, -4.3401, -4.5639, -4.6253, -4.6773, -4.746, -4.7823, -4.8543, -4.8584, -4.9174, -4.9229, -4.9662, -4.9684, -4.989, -5.0109, -5.1405, -5.1547, -5.1687, -5.1779, -5.2016, -5.2082, -3.7959, -4.8809, -4.2967, -5.0346, -5.0903, -3.0863, -3.4664, -3.6461, -3.9364, -3.9472, -4.1748, -4.2589, -4.2913, -4.4147, -4.4772, -4.576, -4.6837, -4.6892, -4.769, -4.8113, -4.8167, -4.9051, -4.9726, -5.0143, -5.0164, -5.0748, -5.0764, -5.0848, -5.0855, -5.1566, -5.2087, -5.2435, -5.2704, -5.275, -5.3138, -3.3319, -3.0264, -4.5257, -4.1417, -5.147, -3.3327, -3.6446, -3.6996, -3.8486, -4.006, -4.0186, -4.0621, -4.1173, -4.248, -4.2953, -4.3272, -4.3499, -4.5232, -4.5926, -4.6049, -4.6351, -4.6823, -4.7151, -4.7228, -4.738, -4.7629, -4.7873, -4.8183, -4.8288, -4.85, -4.8872, -4.9389, -5.0116, -5.066, -5.0677]}, \"token.table\": {\"Topic\": [1, 2, 6, 13, 17, 27, 23, 13, 1, 3, 9, 18, 24, 8, 11, 7, 2, 2, 16, 23, 8, 17, 15, 27, 1, 2, 3, 4, 5, 6, 12, 13, 14, 16, 1, 9, 11, 27, 28, 8, 16, 6, 13, 13, 28, 1, 10, 6, 4, 1, 2, 4, 5, 7, 8, 9, 11, 12, 13, 27, 21, 21, 25, 1, 10, 29, 19, 1, 3, 10, 13, 14, 1, 2, 15, 3, 21, 1, 4, 6, 7, 8, 12, 1, 3, 6, 7, 8, 9, 12, 11, 3, 4, 9, 13, 17, 19, 9, 1, 2, 3, 4, 5, 14, 1, 2, 4, 6, 13, 16, 28, 24, 10, 3, 1, 2, 3, 4, 8, 12, 16, 12, 23, 5, 19, 30, 12, 24, 20, 9, 1, 2, 3, 5, 12, 13, 15, 11, 7, 23, 18, 1, 2, 3, 4, 7, 8, 11, 14, 22, 10, 23, 1, 2, 8, 1, 7, 14, 28, 1, 3, 5, 18, 19, 3, 18, 4, 19, 1, 3, 7, 8, 11, 12, 13, 29, 2, 13, 2, 6, 8, 8, 14, 20, 12, 7, 14, 30, 1, 2, 3, 4, 6, 8, 10, 12, 13, 17, 19, 20, 24, 1, 2, 3, 9, 10, 12, 13, 14, 15, 17, 18, 20, 24, 26, 13, 23, 26, 11, 17, 12, 12, 1, 2, 5, 9, 10, 1, 2, 3, 15, 18, 17, 22, 28, 23, 12, 18, 11, 4, 6, 14, 27, 17, 22, 1, 4, 6, 13, 19, 20, 25, 21, 22, 15, 28, 1, 13, 7, 17, 3, 11, 7, 1, 2, 5, 13, 9, 20, 17, 15, 1, 2, 5, 10, 14, 17, 22, 12, 5, 8, 15, 18, 8, 8, 8, 29, 22, 26, 21, 9, 1, 2, 3, 15, 12, 5, 12, 18, 23, 5, 23, 24, 16, 10, 10, 4, 8, 27, 4, 19, 16, 18, 20, 18, 16, 16, 19, 16, 1, 2, 4, 8, 10, 11, 12, 15, 1, 4, 7, 12, 2, 14, 22, 14, 30, 2, 10, 16, 18, 27, 28, 3, 7, 22, 12, 2, 3, 22, 3, 12, 15, 27, 14, 1, 17, 20, 14, 1, 2, 3, 5, 11, 25, 29, 21, 4, 29, 4, 5, 25, 21, 10, 10, 17, 19, 19, 2, 15, 2, 1, 2, 10, 11, 1, 10, 27, 10, 21, 27, 11, 4, 7, 23, 9, 15, 29, 11, 15, 27, 5, 5, 3, 7, 20, 24, 25, 26, 20, 21, 9, 1, 5, 7, 9, 11, 18, 12, 9, 1, 2, 3, 4, 5, 10, 16, 17, 23, 16, 2, 3, 10, 1, 2, 4, 5, 10, 11, 13, 14, 18, 8, 17, 1, 2, 3, 4, 5, 28, 26, 19, 1, 3, 7, 4, 9, 13, 15, 16, 8, 16, 19, 23, 12, 15, 1, 2, 5, 8, 3, 22, 23, 12, 20, 13, 11, 22, 7, 11, 5, 15, 13, 2, 22, 14, 22, 3, 7, 10, 20, 24, 24, 26, 28, 20, 1, 11, 15, 29, 26, 26, 3, 1, 3, 6, 28, 12, 1, 3, 10, 8, 23, 6, 25, 1, 3, 1, 2, 3, 4, 6, 12, 14, 16, 17, 23, 1, 2, 3, 4, 5, 6, 10, 11, 12, 14, 20, 26, 27, 1, 3, 25, 20, 2, 4, 20, 24, 11, 28, 14, 1, 2, 3, 5, 10, 17, 20, 4, 15, 15, 1, 3, 17, 26, 1, 4, 6, 11, 12, 15, 11, 1, 2, 3, 5, 9, 19, 22, 23, 30, 25, 11, 8, 10, 21, 29, 28, 10, 24, 11, 2, 9, 9, 8, 28, 22, 2, 3, 12, 13, 15, 27, 10, 10, 12, 12, 1, 3, 5, 8, 16, 15, 24, 24, 8, 10, 1, 2, 12, 15, 18, 15, 4, 30, 23, 13, 20, 23, 5, 15, 1, 2, 9, 25, 9, 15, 28, 13, 1, 2, 3, 5, 7, 15, 3, 8, 11, 4, 6, 11, 26, 1, 2, 5, 11, 12, 13, 18, 20, 24, 10, 2, 9, 10, 18, 2, 6, 1, 2, 3, 6, 8, 9, 14, 15, 7, 1, 2, 3, 4, 5, 7, 8, 9, 12, 13, 14, 15, 16, 17, 18, 19, 25, 17, 30, 23, 21, 13, 11, 1, 2, 3, 4, 10, 12, 13, 24, 3, 8, 10, 13, 15, 26, 1, 2, 3, 8, 10, 11, 1, 2, 3, 10, 11, 4, 16, 1, 2, 4, 5, 8, 9, 13, 14, 17, 1, 2, 3, 4, 8, 10, 11, 12, 13, 14, 1, 22, 8, 9, 16, 24, 1, 2, 3, 10, 14, 1, 4, 5, 10, 14, 17, 28, 7, 7, 1, 2, 15, 1, 2, 3, 4, 7, 9, 12, 17, 18, 16, 16, 1, 3, 8, 10, 17, 18, 1, 5, 7, 8, 13, 18, 4, 15, 2, 5, 1, 2, 12, 18, 1, 2, 6, 11, 15, 18, 1, 15, 13, 1, 13, 1, 10, 13, 3, 6, 18, 16, 16, 4, 1, 25, 26, 9, 1, 2, 3, 4, 6, 9, 10, 13, 14, 17, 24, 2, 3, 16, 12, 15, 1, 3, 5, 9, 12, 17, 12, 11, 28, 2, 8, 21, 30, 1, 2, 25, 19, 22, 1, 1, 14, 28, 26, 14, 12, 15, 21, 1, 2, 7, 13, 17, 25, 18, 2, 3, 4, 5, 8, 14, 16, 23, 1, 9, 11, 1, 2, 3, 4, 7, 8, 9, 10, 11, 13, 14, 6, 20, 23, 15, 26, 21, 19, 29, 25, 1, 3, 4, 7, 17, 1, 8, 18, 1, 2, 4, 5, 8, 10, 13, 14, 30, 27, 1, 2, 4, 13, 14, 1, 15, 29, 1, 3, 4, 5, 6, 7, 8, 9, 13, 14, 17, 3, 25, 8, 11, 26, 5, 19, 28, 4, 30, 2, 14, 13, 5, 10, 20, 14, 19, 21, 17, 27, 10, 1, 2, 3, 4, 5, 8, 10, 13, 14, 18, 10, 18, 25, 19, 3, 7, 14, 23, 1, 5, 9, 10, 13, 28, 22, 30, 10, 27, 15, 10, 8, 20, 26, 11, 1, 5, 12, 16, 7, 1, 2, 3, 4, 5, 8, 9, 12, 13, 14, 19, 25, 15, 20, 1, 8, 11, 1, 3, 1, 2, 3, 4, 7, 12, 13, 16, 1, 3, 4, 6, 16, 21, 9, 5, 16, 23, 1, 2, 7, 19, 16, 19, 7, 11, 22, 2, 3, 17, 29, 29, 28, 21, 26, 30, 27, 1, 3, 4, 9, 10, 11, 3, 6, 10, 18, 1, 2, 8, 11, 12, 2, 26, 1, 26, 1, 2, 7, 10, 11, 13, 15, 17, 27, 1, 2, 3, 4, 5, 6, 7, 8, 9, 12, 13, 14, 16, 17, 18, 20, 23, 24, 18, 1, 2, 3, 5, 9, 11, 16, 15, 9, 11, 21, 13, 29, 27, 3, 1, 12, 1, 2, 3, 4, 5, 6, 7, 8, 12, 13, 14, 16, 17, 18, 25, 1, 4, 5, 18, 19, 5, 2, 11, 18, 20, 20, 17, 22, 28, 1, 3, 7, 11, 19, 19, 4, 1, 9, 11, 26, 14, 9, 30, 25, 1, 29, 11, 29, 5, 24, 16, 4, 1, 3, 4, 10, 17, 29, 17, 1, 2, 3, 4, 5, 7, 12, 1, 3, 26, 26, 27, 4, 5, 15, 25, 2, 2, 1, 2, 3, 4, 7, 27, 1, 26, 4, 14, 1, 7, 17, 28, 21, 9, 1, 3, 4, 5, 8, 17, 25, 1, 27, 11, 26, 26, 2, 30, 2, 29, 1, 3, 5, 10, 18, 19, 1, 11, 11, 1, 2, 1, 4, 5, 11, 18, 1, 4, 5, 8, 15, 29, 27, 1, 3, 4, 5, 6, 13, 6, 1, 28, 11, 16, 13, 15, 12, 18, 24, 18, 26, 6, 3, 1, 3, 4, 13, 14, 13, 16, 29, 7, 30, 27, 5, 8, 20, 1, 3, 4, 7, 8, 11, 12, 13, 15, 16, 8, 10, 6, 12, 1, 5, 10, 15, 27, 6, 4, 8, 3, 10, 1, 2, 3, 4, 5, 7, 10, 13, 14, 22, 23, 25, 24, 3, 9, 18, 9, 21, 26, 17, 25, 1, 8, 16, 6, 5, 1, 13, 16, 1, 2, 3, 4, 5, 6, 7, 8, 9, 10, 11, 12, 13, 14, 15, 16, 17, 18, 19, 18, 17, 24, 7, 30, 16, 25, 7, 15, 4, 7, 16, 16, 13, 16, 9, 19, 15, 1, 17, 1, 2, 3, 4, 10, 11, 17, 2, 1, 2, 25, 2, 19, 10, 23, 13, 21, 24, 1, 10, 26, 12, 24, 11, 20, 1, 10, 22, 1, 3, 11, 20, 6, 21, 1, 2, 4, 5, 7, 10, 11, 13, 17, 3, 5, 1, 13, 18, 22, 27, 15, 17, 1, 2, 3, 4, 5, 8, 9, 10, 11, 12, 13, 14, 16, 17, 18, 20, 1, 11, 20, 22, 1, 3, 4, 8, 1, 3, 4, 5, 7, 8, 10, 11, 12, 14, 15, 3, 4, 7, 8, 11, 19, 14, 11, 3, 1, 2, 5, 7, 8, 14, 28, 8, 1, 2, 3, 5, 7, 8, 9, 13, 17, 24, 28, 15, 1, 3, 17, 1, 4, 9, 11, 20, 2, 1, 13, 11, 1, 2, 3, 5, 8, 9, 13, 1, 7, 11, 1, 2, 3, 4, 6, 12, 15, 16, 17, 18, 1, 2, 3, 5, 13, 4, 2, 2, 4, 5, 14, 18, 12, 18, 23, 3, 23, 8, 22, 1, 2, 3, 4, 7, 10, 11, 13, 17, 18, 1, 8, 27, 4, 18, 20, 1, 2, 11, 3, 13, 18, 12, 6, 9, 6, 17, 3, 20, 22, 6, 12, 14, 2, 18, 8, 16, 1, 5, 10, 20, 1, 2, 3, 4, 5, 10, 14, 17, 13, 1, 2, 3, 4, 5, 10, 14, 16, 17, 3, 8, 16, 1, 2, 5, 9, 13, 20, 5, 25, 2, 10, 17, 13, 6, 1, 2, 3, 4, 14, 3, 10, 30, 1, 2, 3, 4, 5, 6, 7, 8, 9, 10, 14, 9, 20, 21, 19, 18, 20, 26, 1, 22, 14, 15, 18, 20, 13, 1, 1, 3, 8, 1, 2, 11, 3, 14, 8, 29, 16, 23, 23, 23, 4, 15, 19, 28, 2, 9, 18, 4, 26, 24, 5, 21, 27, 2, 1, 11, 12, 20, 27, 1, 3, 4, 14, 30, 1, 12, 4, 14, 1, 6, 7, 11, 14, 27, 30, 6, 19, 23, 13, 22, 30, 5, 1, 10, 11, 13, 17, 25, 28, 7, 1, 2, 3, 4, 7, 8, 10, 13, 15, 17, 1, 2, 3, 4, 5, 6, 7, 8, 9, 11, 12, 14, 15, 7, 1, 2, 3, 6, 11, 14, 17, 1, 7, 11, 24, 11, 1, 2, 3, 5, 8, 11, 15, 25, 5, 3, 9, 6, 21, 17, 15, 11, 13, 6, 15, 28, 1, 2, 4, 5, 7, 10, 13, 15, 5, 8, 12, 5, 5, 1, 2, 5, 14, 24, 9, 18, 25, 1, 2, 5, 12, 13, 16, 5, 15, 18, 1, 2, 3, 4, 5, 9, 10, 11, 12, 13, 17, 1, 2, 3, 5, 9, 17, 5, 18, 1, 2, 3, 7, 8, 11, 12, 13, 16, 23, 29, 7, 8, 17, 1, 2, 9, 18, 1, 2, 3, 4, 7, 9, 10, 12, 13, 26, 1, 4, 7, 7, 22, 22, 4, 13, 3, 5, 22, 10, 13, 12, 12, 21, 6, 3, 24, 10, 22, 1, 7, 8, 1, 8, 11, 5, 8, 16, 17, 1, 25, 30, 4, 10, 15, 18, 25, 23, 12, 25, 1, 7, 8, 29, 7, 16, 16, 8, 1, 2, 18, 22, 1, 6, 7, 11, 17, 8, 1, 2, 3, 4, 5, 6, 12, 13, 14, 17, 25, 1, 2, 8, 20, 1, 11, 12, 25, 4, 29, 14, 9, 4, 8, 28, 20, 4, 19, 8, 17, 23, 2, 18, 23, 8, 17, 30, 27, 5, 6, 17, 8, 17, 17, 1, 2, 3, 4, 6, 7, 9, 12, 13, 16, 17, 1, 4, 8, 9, 13, 24, 27, 15, 1, 3, 1, 7, 1, 8, 1, 4, 5, 10, 14, 18, 21, 6, 5, 10, 24, 7, 7, 28, 22, 16, 3, 18, 1, 2, 9, 19, 23, 2, 5, 24, 1, 2, 16, 1, 2, 5, 3, 16, 22, 22, 23, 15, 18, 18, 22, 4, 20, 1, 2, 4, 5, 14, 10, 6, 12, 1, 2, 4, 5, 7, 9, 12, 15, 1, 9, 10, 13, 16, 20, 1, 2, 4, 5, 9, 12, 17, 23, 10, 21, 1, 2, 11, 14, 28, 1, 4, 5, 7, 28, 10, 25, 26, 20, 6, 8, 27, 10, 13, 23, 1, 3, 15, 28, 7, 1, 2, 5, 8, 9, 17, 20, 21, 22, 19, 12, 1, 3, 7, 12, 15, 9, 18, 18, 2, 1, 15, 16, 17, 9, 2, 20, 5, 5, 2, 18, 2, 3, 5, 14, 10, 1, 11, 10, 17, 18, 1, 2, 3, 4, 5, 7, 8, 9, 12, 17, 18, 2, 5, 12, 13, 2, 2, 4, 6, 9, 14, 16, 27, 2, 1, 2, 4, 5, 8, 13, 17, 19, 20, 1, 7, 11, 9, 3, 26, 28, 2, 1, 3, 29, 30, 26, 1, 9, 1, 2, 3, 4, 5, 6, 7, 8, 9, 10, 11, 13, 14, 19, 21, 1, 2, 7, 8, 9, 10, 18, 19, 1, 9, 10, 11, 10, 20, 6, 10, 22, 3, 9, 4, 8, 1, 2, 3, 4, 5, 7, 8, 10, 11, 13, 14, 15, 17, 18, 19, 5, 1, 2, 11, 12, 3, 2, 3, 9, 14, 3, 13, 14, 16, 1, 3, 7, 8, 11, 2, 8, 9, 29, 2, 15, 1, 2, 11, 17, 27, 24, 1, 2, 3, 4, 5, 8, 14, 17, 8, 4, 4, 12, 14, 19, 19, 2, 9, 10, 20, 4, 26, 8, 13, 16, 4, 5, 4, 5, 8, 10, 12, 1, 18, 29, 14, 28, 30, 1, 2, 3, 5, 8, 17, 19, 16, 1, 4, 5, 17, 20, 2, 10, 17, 18, 23, 1, 10, 11, 1, 2, 3, 4, 10, 11, 13, 17, 3, 6, 1, 2, 7, 13, 5, 12, 27, 6, 14, 2, 11, 26, 3, 1, 2, 11, 1, 5, 7, 11, 12, 29, 1, 2, 14, 20, 11, 1, 4, 8, 10, 14, 7, 13, 14, 1, 2, 3, 5, 11, 12, 20, 22, 1, 2, 6, 1, 2, 4, 6, 7, 9, 12, 13, 21, 28, 14, 29, 26, 17, 20, 20, 4, 26, 9, 30, 27, 14, 4, 5, 7, 12, 15, 1, 20, 9, 24, 1, 2, 3, 6, 9, 22, 13, 30, 30, 1, 2, 7, 11, 12, 29, 1, 7, 1, 2, 23, 6, 10, 18, 8, 19, 1, 3, 8, 17, 2, 5, 17, 16, 23, 11, 1, 2, 4, 5, 9, 14, 20, 30, 4, 16, 16, 15, 29, 18, 22, 8, 10, 7, 16, 18, 17, 20, 26, 9, 21, 25, 3, 5, 14, 6, 21, 3, 13, 21, 10, 1, 3, 4, 11, 14, 16, 17, 2, 13, 9, 1, 3, 1, 3, 14, 16, 19, 25, 14, 20, 8, 1, 8, 12, 13, 18, 1, 3, 13, 14, 15, 3, 2, 1, 4, 6, 7, 9, 24, 10, 1, 4, 8, 9, 11, 13, 16, 17, 4, 24, 2, 11, 11, 18, 1, 2, 3, 14, 2, 22, 3, 6, 1, 2, 5, 26, 1, 15, 24, 28, 28, 8, 11, 3, 29, 1, 27, 23, 4, 5, 12, 18, 6, 1, 3, 8, 12, 13, 17, 17, 25, 1, 15, 20, 8, 4, 1, 8, 11, 12, 20, 6, 1, 2, 3, 4, 13, 21, 3, 8, 23, 18, 1, 3, 4, 7, 9, 11, 12, 13, 27, 14, 7, 15, 30, 24, 1, 3, 4, 5, 10, 12, 15, 18, 12, 1, 2, 3, 11, 12, 17, 5, 19, 30, 18, 1, 3, 15, 13, 8, 18, 14, 1, 2, 3, 5, 8, 10, 17, 18, 23, 1, 2, 5, 10, 15, 18, 1, 2, 3, 4, 7, 8, 12, 14, 17, 23, 18, 29, 12, 18, 2, 3, 24, 1, 10, 13, 16, 19, 27, 26, 1, 18, 29, 13, 1, 3, 10, 26, 13, 11, 28, 26, 1, 2, 3, 4, 8, 1, 2, 3, 5, 9, 11, 13, 15, 1, 2, 3, 14, 23, 2, 11, 20, 1, 2, 3, 4, 6, 7, 8, 10, 12, 13, 17, 18, 4, 1, 3, 12, 2, 7, 13, 3, 1, 2, 11, 3, 13, 14, 1, 4, 5, 8, 16, 5, 8, 26, 18, 27, 3, 9, 9, 1, 2, 1, 5, 8, 16, 17, 19, 19, 1, 4, 6, 14, 30, 4, 11, 1, 2, 4, 5, 9, 10, 13, 14, 15, 17, 18, 23, 1, 2, 3, 5, 8, 9, 10, 11, 12, 13, 16, 7, 29, 26, 19, 3, 8, 10, 18, 25, 1, 2, 3, 4, 5, 6, 8, 12, 13, 14, 15, 16, 18, 23, 15, 3, 14, 15, 16, 10, 18, 27, 3, 6, 28, 24, 14, 18, 25, 1, 10, 27, 7, 1, 2, 4, 5, 8, 9, 10, 12, 13, 14, 16, 18, 27, 23, 5, 17, 1, 3, 4, 9, 10, 13, 24, 28, 20, 5, 2, 16, 11, 22, 11, 9, 1, 7, 12, 29, 9, 27, 3, 8, 10, 11, 5, 1, 2, 3, 8, 13, 17, 18, 19, 1, 2, 3, 5, 25, 12, 12, 23, 1, 2, 4, 9, 11, 1, 2, 11, 1, 11, 1, 2, 29, 4, 1, 4, 11, 15, 23, 22, 27, 4, 1, 2, 3, 4, 11, 17, 1, 2, 3, 11, 13, 20, 11, 5, 10, 3, 24, 1, 7, 11, 16, 7, 18, 1, 2, 3, 4, 5, 7, 8, 9, 10, 11, 13, 17, 18, 20, 10, 1, 4, 7, 11, 29, 1, 2, 7, 8, 11, 17, 25, 1, 2, 3, 10, 11, 24, 5, 1, 18, 5, 14, 12, 27, 3, 4, 8, 11, 27, 8, 8, 2, 3, 8, 11, 12, 27, 25, 9, 20, 10, 18, 3, 4, 17, 9, 1, 2, 3, 5, 8, 9, 12, 13, 17, 18, 3, 13, 14, 1, 8, 10, 17, 20, 24, 1, 3, 8, 11, 13, 15, 8, 17, 7, 1, 2, 8, 1, 2, 3, 4, 5], \"Freq\": [0.34065154594075076, 0.2719586263144459, 0.317421179462106, 0.06433722591155894, 0.005353873524375144, 0.991575897471889, 0.9942999804160616, 0.9914273756577647, 0.8929631381756504, 0.06017849913955711, 0.034189461775303936, 0.012363716804353454, 0.9958794054200888, 0.9946605239404145, 0.9937334228383817, 0.9962811791871004, 0.9986772774864557, 0.15793721988244616, 0.8390068452702579, 0.991814920972747, 0.99764895091189, 0.9929566966826378, 0.9976836268934809, 0.9974360186714891, 0.09396809609533838, 0.006823137238919443, 0.035409083088787985, 0.4298014114043514, 3.748976504900793e-05, 0.4108128454070289, 0.008510176666124799, 0.0008247748310781744, 0.0043300678631604155, 0.00940993102730099, 0.30218874468634765, 0.3490013587876333, 0.025118963664104467, 0.29115162428848357, 0.031208409400857066, 0.9931274747856038, 0.9955643909171986, 0.9905282091209912, 0.9905105430975958, 0.9975728979420984, 0.9979333411654246, 0.998124479721931, 0.9945190455916111, 0.986318268387768, 0.9920971622953486, 0.3702899467840655, 0.0014831373035409834, 0.0030898693823770487, 0.0038314380341475406, 0.2898297480669672, 0.17851205378453003, 0.0684715055134754, 0.06171499113067759, 0.012071089720486337, 0.004367015393759562, 0.0061797387647540974, 0.9955692112853154, 0.9977269457520497, 0.9897305589053981, 0.979913032943662, 0.019286814323865635, 0.9913656838829135, 0.9984590495938896, 0.0003729642297585134, 0.16982304595004313, 0.4318925780603586, 0.3251004869395042, 0.0722307391632321, 0.16119294266536566, 0.8381667086833599, 0.000365931765415132, 0.9954196325223468, 0.0016390004926273548, 0.00039088348774579803, 0.10605971967502655, 0.6258044638810227, 0.23118586725232035, 0.03470176741209918, 0.0016938284468984582, 0.22867665566319303, 0.20662057739254686, 0.2540745639748462, 0.30811672978084503, 0.0005728851498869136, 0.0011457702997738272, 0.00038192343325794243, 0.997857626749633, 0.001177890709682614, 0.17589834597927034, 0.2843951680155911, 0.19592248804387477, 0.05575349359164373, 0.2862274424528752, 0.9992710030963512, 0.002193468410115305, 0.004555665159470249, 0.008605145301221582, 0.057367635341477215, 0.8129331384565801, 0.1137229006475166, 0.1987355307765071, 0.004488442084555948, 0.2608663024578332, 0.5336611276295135, 2.4393706981282326e-05, 0.00024393706981282325, 0.0018783154375587392, 0.9987984001382748, 0.9974152114623208, 0.9980062304509151, 0.0025662071936726617, 0.013582121000657747, 0.19277849162223898, 0.007260488645512897, 0.012705855129647569, 0.42461340492378874, 0.34612501904902, 0.9968924369987524, 0.9935381330881101, 0.9965017628805954, 0.99461679982158, 0.9928661534383204, 0.8289790754604578, 0.16892714758389052, 0.9955514623267163, 0.9966912111442885, 0.006617312741278175, 0.019638476522502973, 0.03223271690106466, 0.10459623365246148, 0.5082523108704302, 0.17525205679320588, 0.15262511645206114, 0.9962890885139251, 0.9884131905589263, 0.9952927976162412, 0.9957848126688452, 0.33861891265687316, 0.0003405486885587058, 2.270324590391372e-05, 4.540649180782744e-05, 0.10377653702678961, 0.3137588583920876, 0.24249336949970246, 0.0008627233443487213, 0.9955099098567516, 0.9977650955140268, 0.9931026691641324, 0.16611831318986814, 0.365496638758014, 0.467457660311095, 0.29294226061147915, 0.7055123368113113, 0.9964140947933456, 0.9977593788717777, 0.06682463297019399, 0.9327968074685955, 0.41382533946258293, 0.35073568822668527, 0.2345366695662184, 0.8608844292335601, 0.13839686244370555, 0.9987786858804502, 0.9949920444126129, 0.04036371647081932, 0.05230228049739969, 0.21560478128955252, 0.0082432942088293, 0.12691830566352696, 0.04747000458187906, 0.0001421257622211948, 0.5083838514652138, 0.5577620664068523, 0.44202693087297906, 3.141725463777556e-05, 0.00672329249248397, 0.9931308363547232, 0.9994051280913703, 0.998420878561316, 0.9991437033033771, 0.9988850995503096, 0.9897279120621879, 0.9950073919339025, 0.9963993598091635, 0.11224284585563145, 0.0009579426894423168, 0.023516324803016873, 0.5227212882816642, 0.10866808411210281, 0.000876167094002119, 0.0007126159031217234, 0.005572422717853477, 0.18878480318765656, 0.03002332575447261, 0.0056191516295335895, 1.1682227920028253e-05, 0.00028037347008067804, 0.6126389977845935, 0.061439441038569555, 0.02114127350022828, 0.20678251625734714, 0.05312031175508622, 0.023609027446704987, 0.004528455695596431, 0.0003052891480177369, 0.0009667489687228335, 0.0007632228700443423, 0.0038161143502217112, 0.00867529995617069, 0.0017299718387671758, 0.00040705219735698257, 0.995454983543522, 0.30331757394276687, 0.691999974084995, 0.0008823813214868368, 0.9953261306371519, 0.9954875615911324, 0.9973381676341037, 0.6434067377260124, 0.17265640533355237, 0.02736753269294592, 0.15039556073837035, 0.006005752903708237, 0.017319772596189744, 0.005051600340555342, 0.5173079301125839, 0.036082859575395296, 0.42373304761372543, 0.994203959945864, 0.9918326656748246, 0.9920261326788267, 0.9944701476441112, 0.9984524614289368, 0.988914229756068, 0.9923749620696061, 0.9908227728354151, 0.9889378633748972, 0.9917964515397668, 0.9987533202441824, 0.9902800815629575, 0.9944861782931019, 0.19687324296681472, 0.12637227980955482, 0.2170760881403378, 0.03385718191149043, 0.004458558934846476, 0.038315740846336904, 0.3824607586297993, 0.9947397885479221, 0.9986045390970623, 0.9982707210217662, 0.9933098383487272, 0.997564506467193, 0.9893908876654679, 0.9929709566896731, 0.9969579671334131, 0.06733247031885689, 0.9315053767163936, 0.9970923914207731, 0.45592560807829846, 0.05300497532608738, 0.4719927412240187, 0.018717381912024607, 0.5442970982569809, 0.45337977068412233, 0.9983102656319429, 0.9947580407666747, 0.0055477035968520575, 0.21116219832427438, 0.6872163227218627, 0.09138421987885437, 0.0001747308219480963, 0.004324587843215383, 0.9949764665521302, 0.9998161487754899, 0.9963635509389338, 0.886247561044168, 0.0008396471445231341, 0.11083342307705371, 0.9962366403858922, 0.9928564270206163, 0.9966658411623944, 0.9948132957241173, 0.9987226169058738, 0.9937638033577316, 0.9944603101347201, 0.9993959714329654, 0.17353004822722373, 0.787911587073425, 0.002874424111739289, 0.03523831040687794, 0.9969170345149813, 7.710733463127484e-05, 0.9995423788252157, 0.9929290609884639, 0.9957711995642053, 0.06056086000475347, 0.9379325152494984, 0.9947180367307075, 0.9977921026076015, 0.9998215432454284, 0.9991516673567823, 0.17233059464530326, 0.4794130859846212, 0.3461795205209616, 0.9945501051433513, 0.9957150843757665, 0.9874404019511277, 0.011722017208012256, 0.9983840874474939, 0.9981417507536849, 0.9998823021387464, 0.999663555998558, 0.9992254125114765, 0.9968137264132496, 0.28622986714876664, 0.029382889017041534, 0.19757459856286547, 0.0015198046043297345, 0.14526799009718377, 0.2733115280119639, 0.009752079544449128, 0.056359420743894315, 0.882457296362993, 0.07468110033791957, 0.031516332012964034, 0.01109374886856334, 0.35924871714101075, 0.0817187824627149, 0.5585915334246082, 0.9925981129164376, 0.997808865874905, 0.12255224184301454, 0.7257186136184206, 0.004143225258037858, 0.14675739992944623, 0.9857951942403433, 0.006798587546485126, 0.9973427496010319, 0.9878581805436927, 0.9922652346341385, 0.9992265918128335, 0.0012208993470615656, 0.003255731592164175, 0.9934051020590938, 0.044228631589910306, 0.01088438980532949, 0.9444367757275184, 0.9921819337329327, 0.9949596121917024, 0.9796656081015144, 0.01348384582672902, 0.006099835016853604, 0.9906177859927363, 0.38342658228442783, 0.5965418454204102, 0.01893049119841928, 0.0008834229225928998, 0.00012620327465612854, 0.9891946384779456, 0.9911049031027959, 0.9945234435159301, 0.9938604650848906, 0.9984845180841551, 0.9979354691899432, 0.996712602984518, 0.9898312343181079, 0.9963441202654585, 0.9992517401690524, 0.9964650956341249, 0.9905367094995902, 0.9983694239435305, 0.9946359109570688, 0.9957225847975875, 0.9964975564401148, 0.9988010150574619, 0.3099347808827423, 0.006708545040751997, 0.6813198343387729, 0.0005366836032601597, 0.604743554684277, 0.35396890628429084, 0.04046559094784812, 0.993724735898434, 0.994348976350743, 0.9946065632070229, 0.9917839145528714, 0.018856642925569347, 0.977851625997382, 0.9941843859847675, 0.9927900711392461, 0.9946405339389642, 0.9932445988223761, 0.49261669285655285, 0.004257181296291198, 0.4999147179359092, 0.9972167071044101, 0.9962022696822802, 0.08673610416035203, 0.4287316139577761, 0.13804845406902874, 0.05782406944023468, 0.10288516859861577, 0.18467236591498373, 0.9950479333124795, 0.993845736955444, 0.9962542209691584, 0.6190721012383372, 0.004353373953893825, 0.006027748551545296, 0.3652369122343742, 0.0034603741684797068, 0.0014511246512979414, 0.9975815341563893, 0.9927916372976187, 0.0006672502901955436, 0.009919787647573747, 0.0003113834687579203, 6.672502901955436e-05, 0.3012190226706082, 2.224167633985145e-05, 0.1502202819993567, 0.09990961011861273, 0.4375604986338976, 0.9957585110300385, 0.04369945845631864, 0.06722993608664406, 0.888107455704568, 0.03774789831202146, 0.13713915350055503, 0.10320067611910454, 0.00017315549684413515, 0.1852763816232246, 0.0005194664905324054, 8.657774842206757e-05, 0.53556995173891, 8.657774842206757e-05, 0.00043039686363707076, 0.9976599299107299, 0.0519481502331303, 0.004401874598976799, 0.6492915782620879, 0.0007537456505097257, 0.2935085563084872, 3.014982602038903e-05, 0.9956066519508027, 0.9975731735111809, 0.060121760778879124, 0.9392935959366913, 0.998427980342389, 0.9903721350651356, 0.8019689098240117, 0.19726277145187932, 0.997027651755612, 0.9979471734057307, 0.09553824648973926, 0.04981122323270563, 0.8359796773733345, 0.018258776361827787, 0.0007704103569256642, 0.9989259212568459, 0.9992597634103718, 0.9965575807683527, 0.9942853520060138, 0.003961296223131529, 0.23191280260820157, 0.05199225073222218, 0.7128411218812568, 0.9965667492255973, 0.9952533504685276, 0.9923161679346233, 0.9931548472946948, 0.9953401008273217, 0.9919253280511904, 0.9927370539790126, 0.12029600094056289, 0.8778356825392427, 0.9908066676836517, 0.011559503838926103, 0.9854477022684502, 0.0035658373498147784, 0.9939771612608694, 0.16524936645103233, 0.6576326596999228, 0.1344676217199577, 0.03339881614545752, 0.008910505053732136, 0.9926439436419219, 0.991371010156211, 0.9966721295719607, 0.9986795458531578, 0.4455155512438418, 0.5408336597860732, 0.01304183579716342, 0.9920513313837402, 0.9970876253084968, 0.9913765859018329, 0.9989507640259164, 0.4086404168452905, 0.07666285877164579, 0.50583796993077, 0.0077575511852260625, 0.9997873557789545, 0.7536249591364959, 0.003137351933302678, 0.24281452725903094, 0.9936584037505526, 0.993850941546957, 0.9961985061216115, 0.996271815099541, 0.26906130933150724, 0.7302663454273907, 0.6904452589658527, 0.0070532591547527, 0.02527131145934565, 0.1516278687560739, 0.12265789700826037, 0.00017203071109152927, 0.0011181996220949403, 0.0014278549020596929, 0.0001376245688732234, 0.9980979949090739, 0.5618292099266171, 0.04093838319465286, 0.005487079332616642, 0.23436985810272126, 0.0003339961332897087, 0.14485889438107935, 0.006823063865775477, 0.0004771373332710124, 0.000620278533252316, 4.7713733327101235e-05, 0.0020516905330653533, 0.0020516905330653533, 0.9901236769386008, 0.99762766609458, 0.9981845174041639, 0.9920037297886738, 0.9949973999159946, 0.11666878110180706, 0.7657546188190035, 0.07963107281551911, 0.03642041314818316, 0.9946218362333745, 0.9913521480909181, 0.9919267396987933, 6.088246327512149e-05, 0.5433151022671842, 0.3836812835598156, 0.02009121288079009, 0.006088246327512149, 0.028432110349481735, 0.018082091592711083, 0.0003528903586141108, 0.9979739341607053, 0.9985652757988551, 0.30809304365299695, 0.4591515941509642, 0.0003319968142812467, 0.23073778592546645, 0.5895628441671484, 0.05034967943363719, 0.26118029304005186, 0.06331853625745283, 0.03502284864185507, 0.00020805652658527766, 0.9917267155096744, 0.00024497013111513113, 0.016412998784713785, 0.39758652279985784, 0.0295189007993733, 0.033805878093888096, 0.3414883627744928, 0.16755956968274968, 0.01298341694910195, 0.996867613068734, 0.9889274428903478, 0.9953316959313501, 0.9967778591408119, 0.9975357984177528, 0.9946522264622938, 0.9959708524440429, 0.9974234437548722, 0.9953054312437071, 0.9917345706391093, 0.9956844210990271, 0.9541204913024786, 0.04563871416148478, 0.9960019998791121, 0.9976136315773503, 0.9963283050153845, 0.9966726445618597, 0.0046159985235407095, 0.2179052346493185, 0.052833113535743124, 0.06372084918365979, 0.6606898756302616, 0.9979769281108058, 0.9976721087638467, 0.08571307648303476, 0.912633494684116, 0.997745171097515, 0.05071120623559853, 0.6919071359263868, 0.15829345449247564, 0.05508039208358089, 0.04369185847982359, 0.9972455671737182, 0.9927861427256411, 0.9928794450344378, 0.9993741396909972, 0.9958366619702098, 0.10254168181342306, 0.21688799022736047, 0.23397827052959766, 0.2887728805707911, 0.1569839149411683, 0.9945037514700091, 0.9946275529711907, 0.9936780631591386, 0.9960705102155367, 0.9992220280731039, 0.12008358257374716, 0.8762462631441913, 0.0008772113491079737, 0.9947576698884422, 0.2197361935256048, 0.6361693990800276, 0.13247529360652452, 0.01130359842186106, 0.3619756746312379, 0.6370836339346765, 0.9973387501865858, 0.9893514048292965, 0.0775401268712726, 0.06026098996402522, 0.0036718165927900675, 0.22657268269628122, 0.25918705360871064, 0.3717174327171592, 0.1511573265219068, 0.029231442279045592, 0.8184803838132766, 0.16839268753529701, 0.7752077651178494, 0.05352481853800512, 0.9976386787326686, 0.7129192711270238, 0.01894550282027701, 0.10726312180080166, 0.021061083968541273, 0.12589286624074073, 0.0007262442747772854, 0.011998818452842105, 0.0010735784931490305, 0.9946725813782096, 0.993154794798939, 0.3674220232304642, 0.6274126015207749, 0.0017824221634112926, 0.00299771000210081, 0.9962922479958699, 0.9971422100215874, 0.4374991363381918, 0.10589566570412495, 0.15179828383583086, 0.24429934377532728, 0.003261673481646559, 0.05588333898554438, 0.0010654800040045427, 0.00019570040889879355, 0.995035953682631, 0.09173855262400506, 0.08111367708797841, 0.13479096671583737, 0.4651184965665674, 0.18776590873442311, 0.0005977426461899662, 0.0037358915386872887, 1.4943566154749154e-05, 0.00014943566154749155, 0.015152776080915642, 0.006829209732720364, 0.0012253724246894305, 0.011192731049907116, 1.4943566154749154e-05, 7.471783077374577e-05, 0.00043336341848772546, 0.9961625419465971, 0.9972468669602009, 0.996996877608264, 0.9916434440814399, 0.9942486686295935, 0.9936943107951629, 0.9939335161249866, 0.10857401430041941, 0.25071961836665213, 0.18624470102739504, 0.0003395970063015799, 0.4213428571041745, 0.00014554157412924852, 0.0313884661538746, 0.0010673048769478226, 0.01163565387919588, 0.051895016301213626, 0.49242087216756963, 0.020711463904968665, 0.42283966196997824, 0.994453018208361, 0.5957469741474549, 0.3975722872369904, 0.0037941672652161713, 0.0010034161362555164, 0.001661907975673199, 3.135675425798489e-05, 0.5337415436041301, 0.45977400408811947, 0.001976332548521834, 0.0002371599058226201, 0.0041634739022193305, 0.8789616793288098, 0.12018191530020347, 0.2689418716329725, 0.4325378488474996, 0.0001458074663231079, 0.006051009852408978, 0.20573433498190524, 0.0002916149326462158, 0.0025516306606543884, 0.05766685293078917, 0.025735017806028545, 0.2393939576936867, 0.4773758166842326, 0.014437988781092698, 0.15573431411781424, 0.0017579187937058973, 0.00095100524905401, 0.009337142445257553, 2.8818340880424546e-05, 0.002968289110683728, 0.09786708562992176, 0.5774403255868013, 0.4216999626979088, 0.11404676850710806, 0.3647310392192178, 0.519586875051553, 0.998484444320499, 0.09767082095709519, 0.004525289001873135, 0.8063027955941665, 0.0009427685420569032, 0.09036436475615418, 0.35421635176516364, 0.10464935103204971, 0.009259297418503938, 0.14612328738576524, 0.3855629315673905, 0.9898802406286505, 0.9940704328498557, 0.999010203797794, 0.9976325489228693, 0.9950183171607696, 0.0001888080298217779, 0.0037761605964355583, 0.8820230721044711, 0.018100203498270778, 0.005540561002050213, 0.060370326199305546, 1.5563373601264644e-05, 0.025757383310092984, 1.5563373601264644e-05, 0.007843940295037379, 0.0002490139776202343, 0.9974876997652381, 0.9982961499162561, 0.9983696063336553, 0.13327034747016453, 0.008364247749173506, 0.14163459521933802, 0.6981358787976819, 0.016170878981735446, 0.08097398549760734, 0.07115895695244283, 0.5545491128017958, 0.24766588695631825, 0.044821963689584673, 0.9943680515227002, 0.9964603866822267, 0.9959607152419641, 0.014952166839901677, 0.9840394801510292, 0.7595623024216723, 0.050180245976740416, 3.874922469246364e-05, 0.1900261978918417, 0.4818596761100933, 0.06164573510011808, 0.2775067562066997, 0.07715811713131591, 0.0037350854782276783, 0.09798710732071171, 0.7291965208283561, 0.2702098782764974, 0.9973676451129306, 0.19240758876614902, 0.8045614946917838, 0.00021207557369912243, 0.18196084223384706, 0.8167030343153205, 0.9963534687591669, 0.9903315153159122, 0.9982686727675629, 0.9884835171966336, 0.9879503889613956, 0.9964039293069471, 0.9989387309359757, 0.2649536582974742, 0.7334431457452991, 0.9941449837113032, 0.6011274613841368, 0.011464963567826681, 0.02349377780292353, 0.1996449029297324, 0.03228567154072869, 0.01104729640688582, 0.03589849248286715, 0.02217812624595981, 0.0026313031139274354, 0.035104924877079516, 0.025018262940357677, 0.9980055338709789, 0.9961025602185966, 0.9907776782927602, 0.20990714380249273, 0.787769163211708, 0.00042304692644101657, 0.4196021157542826, 0.03837639975572079, 0.18414628355225393, 0.3572329117418356, 0.9972413048031566, 0.9996261759531402, 0.992005324435739, 0.992484376485486, 0.9987649705680153, 0.9958317766748609, 0.9944640510787157, 0.9936730262346415, 0.9980393794182801, 0.9969704882296977, 0.9940880184668354, 0.9953207111889993, 0.9941278188468571, 0.998764407469211, 0.5560598902796867, 0.25860197919050587, 0.18430313643830978, 0.9985944185831532, 0.9936235202611347, 0.9917460978021201, 0.005500532988364504, 0.9965719294074699, 0.32677638543739324, 0.11806883999380266, 0.3732883527076791, 0.022182630544290198, 0.008586824726822012, 0.1502694327193852, 0.9979652473053463, 0.32077116510299797, 0.04414931884759123, 0.498430857257075, 7.869753805274729e-05, 0.13547781175780446, 0.00015739507610549458, 0.0007476266115010993, 0.9940301846593036, 0.44036643664697345, 0.5268076177595571, 0.032188761498217346, 0.340522402098466, 0.573667777527744, 7.073585419577608e-05, 0.01839132209090178, 0.01750712391345458, 0.00031831134388099236, 0.003819736126571908, 0.02504049238530473, 0.00198060391748173, 0.012873925463631246, 0.005658868335662086, 0.9865085517164928, 0.9985717387567983, 0.9935942613041134, 0.9961638270062881, 0.994154901735133, 0.995247428766849, 0.99619527533682, 0.9949076678661363, 0.9946082284273248, 0.1811539671082354, 0.047781884811204225, 0.4267124392553108, 0.3345383804244203, 0.009452078168655679, 0.40284282195788923, 0.5958444411818445, 0.0008458238292683301, 0.3570626287047922, 0.04357172122196294, 0.4223870509325449, 0.013860714970152595, 0.02135478574348869, 0.011937457869030945, 0.1290571834063012, 0.00039791526230103147, 0.9938485426449887, 0.9937061296215585, 0.5603828656962856, 0.0014494833458181028, 0.4361684450611778, 0.0017015674059603814, 0.9949507863580818, 0.4596592119941778, 0.18022609391138625, 0.3584680473393444, 0.09916243128801952, 0.1103925215819255, 0.6640922458550984, 0.011107758155628143, 0.010202500332372104, 0.002226444916656742, 0.011009892445005868, 0.0016147842252675273, 0.0726897565646943, 0.010863093879072456, 0.006605935467003521, 0.33760028347617177, 0.658487681631741, 0.9925340550026445, 0.9925274118946136, 0.9966926959630741, 0.9971158682164775, 0.9983070961611287, 0.9934260348775301, 0.9920662856427053, 0.9942744702691243, 0.01253479596356584, 0.9862377464133603, 0.9975563508360049, 0.7837287702637893, 0.21542575150078927, 0.9944059161032365, 0.7019695452386101, 0.2977458072605224, 0.9940761868977761, 0.9914823401288917, 0.9906364664908336, 0.9978181489247494, 0.12045158762843097, 0.005171847881992369, 0.5945001663191662, 0.02574680793426636, 0.1650119291624087, 0.006183731163251745, 0.0004872030613471072, 0.00022486295139097256, 0.0009369289641290524, 0.08113804829357593, 0.2841477241001475, 0.7130806434955992, 0.9955661267789611, 0.9958041380360447, 0.9976751338998631, 0.9894581983478382, 0.9973097099635089, 0.9935397210831544, 0.101326456742556, 0.03830140064868617, 0.0776160658647979, 0.2774318385611183, 0.013577745203502503, 0.4908253564609412, 0.9941949256991931, 0.9985602626264832, 0.9990841862835994, 0.9916185475487334, 0.9963806628470275, 0.9945543976988811, 0.9940259561066895, 0.26737321035126604, 0.7288295124803547, 0.9952373517702882, 0.0025484964873274418, 0.29426032655462925, 0.7027479063805421, 0.9975836480919333, 0.9893279308141387, 0.07854906126882463, 0.007692623386938822, 0.04651402689033967, 0.35497768686633036, 0.3243547230821602, 0.01386779777700204, 0.0015385246773877645, 0.022340221342890827, 0.001348843552778314, 0.14588586050517952, 0.002845216869141756, 0.9942937813239692, 0.3940959326143417, 0.6040317177161296, 0.4954008848776256, 0.1071333486369748, 0.3966986545865729, 6.353261490271618e-05, 0.9997809944165931, 0.06554405551949874, 0.050308830681529484, 0.02425822564441361, 0.30517295955520496, 0.536797260166684, 0.017475699078847082, 0.00024441537173212706, 0.00014257563351040745, 0.7575870456507314, 0.00038225773353553147, 0.0012423376339904773, 0.24053567882723317, 0.9998364608126142, 0.9983880576156838, 0.9990387997508307, 0.999065044613904, 0.494422060546358, 0.5029662205788412, 0.003337299516639102, 0.07815348686238478, 0.9181821142869616, 0.9960025564251429, 0.994937612126652, 0.9953924015395904, 0.8174839961481905, 0.18093803978606537, 0.9961486447385512, 6.396014804265343e-05, 0.7465428479538508, 0.2530903058047796, 0.9971766893048593, 0.9904758954258833, 0.9989444244750939, 0.9958647412822873, 0.997530484800451, 0.9937155256714888, 0.9922619834897267, 0.9124320048718846, 0.0022222966806276258, 0.052761624417481695, 0.004803028309743578, 0.0015054267836509723, 0.025950690270554855, 0.004031191177054828, 0.6307263733945785, 0.34916317425874893, 0.014264214934194008, 0.11420906456018298, 0.2500810097530716, 0.24197585033267155, 0.38359509038729844, 0.009578824769563734, 0.9853116699482277, 0.013591947908878353, 0.5860817332334357, 0.41174096448678077, 0.8553941896587433, 0.047477455734728766, 0.04692094343307627, 0.0007304223959189041, 0.023790900895644305, 0.013425859277366522, 0.0006260763393590606, 0.011478066221582778, 0.9970603655373124, 0.44515248054935624, 0.05461295608017661, 0.028752795732889594, 0.02654475072187963, 0.016676042997998845, 0.17642183216790105, 0.002993877624098665, 0.010596687629257433, 0.19605318431819052, 0.011131825175593909, 0.0032011831600668498, 5.303164873604721e-05, 0.025474475629206676, 0.001455959810753296, 0.0006653061386885922, 0.00015909494620814163, 4.821058976004291e-05, 0.9963875181269731, 0.9975493212176655, 0.6791011254503979, 0.25855916635171955, 0.04951292106590637, 0.0042631971310523615, 0.0007479293212372563, 0.00011218939818558846, 0.007628879076620015, 0.9943439241061951, 0.9926770149244443, 0.9982010082356352, 0.9967183132144211, 0.9918201942733168, 0.9906408859269149, 0.9919674380321101, 0.9974945408671733, 0.39863248993385986, 0.6004361324234373, 0.06707711052066975, 0.050052776185781404, 0.008128180699897306, 0.0581921681694027, 0.03284906131130911, 0.6777669462504713, 0.07971783291947557, 0.013526413813001514, 0.009518379881672845, 0.0008296349955757249, 0.000554958544337816, 0.00016256361399794608, 0.0015359458701874908, 6.166206048197955e-05, 0.9989653952840661, 0.0017374600838844232, 6.435037347720086e-05, 0.3593324854966896, 0.4886767361858633, 0.149936370201878, 0.9980980214099775, 0.9511378950039642, 0.04781599620748012, 0.9888980011052475, 0.9984534045384305, 0.9996251650644467, 0.9962054041873235, 0.9972574238240587, 0.9968320572222078, 0.730682300988468, 0.004703717120509843, 0.011243031166096698, 0.2528534764293584, 0.996552033019303, 0.9983513722283459, 0.9906193238882395, 0.9838761537717899, 0.014961788877408238, 0.0005541403287928977, 0.992105716223539, 0.9953860191922225, 0.9966659488849172, 0.9977247601776881, 0.9936545450005606, 0.9981683044134974, 0.9960079787945995, 0.9951037602152096, 0.9939948685513801, 0.99845419860507, 0.9942383758801071, 0.9960624683069136, 0.9889676829271911, 0.2654693270635813, 0.030413834524469215, 0.6250767133695673, 0.0740069973428751, 0.004489661286945455, 0.9973021539302857, 0.9974408121793995, 0.8064658758158999, 0.028896339526323114, 0.0015996187952071724, 0.05652846419836959, 7.740090944550835e-05, 0.10634884957812847, 0.9989289038832272, 0.04836170817009622, 0.28631843155570236, 0.6633685633951251, 0.9992440524994294, 0.9954342557747522, 0.30576121984784005, 0.6933098667381292, 0.0001345187944777123, 0.9988125128493547, 0.9968662180657824, 0.9977077920190807, 0.20527166671034777, 0.09783976637596016, 0.047075242042128644, 0.1686739863766553, 0.480492125671382, 0.9974392999298638, 0.9981488632128229, 0.990213832495622, 0.9345432791469385, 0.0650155108994546, 0.17907523905433656, 0.817642570601794, 0.9900826968385626, 0.9915724163351618, 0.9985180406529293, 0.9971447985475883, 0.5805691299151478, 0.006392503107882917, 0.28256861394063704, 0.03560823996812906, 0.013933659117963546, 0.08070535173702183, 0.9916032397793264, 0.15051442043236607, 0.8485129069277514, 0.9922062456335142, 0.9930254563000225, 0.9921916704221515, 0.9988541291006761, 0.993634381748374, 0.9977173715656953, 0.9933410441598789, 0.5844244522821616, 0.08419839294205027, 0.08724835399659851, 3.244639419732187e-05, 0.24269902859596762, 0.0012654093736955531, 0.08008126680605683, 0.9193180209583511, 0.9908310190193196, 0.9861441954130986, 0.013729160231552566, 0.782008747520497, 0.010549325975749167, 0.005354582124054502, 0.18860916138460634, 0.01318665746968646, 0.40521920832187197, 0.1657842622706009, 0.1903906692087653, 0.2379181127468637, 0.00039325307892043587, 0.9913946958070613, 0.988364220036664, 0.5888390001133208, 0.031291644343757107, 0.05235695311131648, 0.26687437035948264, 0.060038486286064084, 0.00037700776317779646, 0.9966107168853111, 0.9993603386546933, 0.9933506768239293, 0.7525023784391252, 0.2458317361662479, 0.15589137267612965, 0.8436852520313542, 0.2871527042428036, 0.7117088919648468, 0.9930166192131277, 0.9906356710329467, 0.9933831457923769, 0.9919642216597235, 0.9976493950673925, 0.022350271692339347, 0.043481437656005636, 0.7668175033353517, 0.05851707497630665, 0.10768767269945322, 0.9967923507825204, 0.9885418835876252, 0.9927560088154712, 0.99373272741916, 0.9958261539439448, 0.9889408788991895, 0.6874706833489999, 0.3119334084836462, 0.9931980610540582, 0.6497459247636393, 0.06017551499291478, 0.0110624614596211, 0.22846387797043577, 0.009298880647217737, 0.015658459940429865, 0.0082834856340158, 0.006787114035612945, 0.007481857992014271, 0.0028324176684054025, 0.996032267860077, 0.9946960983778902, 0.906179842637205, 0.08743840586850223, 0.274888329021906, 0.07553654083206997, 0.00023099859581672774, 0.001847988766533822, 0.6465650696910209, 0.98531432839998, 0.7041078742373651, 0.29530096421580254, 0.48837457614512925, 0.5106948204455121, 0.022983277490532368, 0.2111840629064268, 0.030694771911697834, 0.19581147598841722, 0.17227377733035007, 0.0066530540104172645, 0.2863837339938704, 0.0005040192432134291, 0.07328439796323259, 0.99549001276258, 0.24467790887163393, 0.7509729664598611, 0.9960535107204584, 0.3153196392030686, 0.6839843572726055, 0.9918190260715665, 0.9962894259753039, 0.9945230223179902, 0.9933972791024502, 0.9975462619163391, 0.9970968529728591, 0.6309842926432253, 0.09619697009757454, 0.27209559650996645, 0.9873233281972056, 0.9990943378194269, 0.5129789823891747, 0.005640155075879905, 0.4806512642713265, 0.8200432721672053, 0.054789219344933165, 0.030556476253238197, 0.05678185401302361, 0.016896224540998324, 8.23402755409275e-06, 0.00018114860619004053, 0.0009222110860583881, 0.008703367124676037, 0.0022231874396050426, 0.0006504881767733273, 0.0003458291572718955, 0.000131744440865484, 0.0009057430309502026, 0.0014656569046285095, 7.410624798683476e-05, 0.004438140851655992, 0.0008645728931797388, 0.9977636154628032, 0.9963240619516758, 0.9972926095348198, 0.99804451087476, 0.9961687177160723, 0.9935020713746671, 0.9967319911650844, 0.9911811375014132, 0.9043278237521863, 0.09408475647524457, 0.16401488021854232, 0.8088372299990215, 0.026538850880842856, 0.9933466530846677, 0.7676142202454893, 0.22948015770433242, 0.9963355695789312, 0.9973296390785151, 0.998688119244378, 0.9982000886835574, 0.9942020504293653, 0.9398781818071872, 0.010032990103079375, 0.00036432645625707227, 0.020738582894633345, 0.007454679797260094, 0.00019617578413842353, 0.021243034910989292, 0.9969897212057175, 0.7972674547162203, 0.008965256518897256, 0.19243282742347326, 0.9965407561848522, 0.9993868078983941, 0.9985059973640892, 0.9989826348251171, 0.999537489406361, 0.9973511559703749, 0.9954644673962701, 0.9877226328303249, 0.0032986919989562375, 0.008364540425924745, 0.9982070851107019, 0.993377677571143, 0.9962790781585005, 0.9943365948134368, 0.9977466788386037, 0.46857368865742055, 0.5306199927698968, 0.2353041290364077, 0.7628439393864052, 0.0003886112783425396, 0.0003886112783425396, 0.9892742527297649, 0.9962505624288452, 0.897020814010931, 0.008270722965292696, 0.02102943513655817, 0.0035903913647782246, 6.411413151389686e-05, 0.0057702718362507175, 0.04821382689845044, 0.01250225564520989, 0.00326982070720874, 0.14441860608491128, 0.854606859521387, 0.39702484992669285, 0.2800672066050193, 0.0662694235347088, 0.2136005526431239, 0.042010080990752895, 0.995189864777254, 0.9913427720161787, 0.7438117036367813, 0.011345520631987098, 0.0692524918409857, 0.0399963017705602, 0.023988346117943614, 0.003978401552172884, 0.04539780743526923, 0.015331784637820402, 0.00014938661954799366, 0.004096338357079195, 0.001454553927177833, 0.002657509337222203, 0.00207568776635107, 0.013193197242185966, 0.023044851678693128, 0.0002044237951709387, 0.9675365627103508, 0.0009531155106363744, 0.00033151843848221716, 0.031038413802897583, 0.5852964502634069, 0.060445934940299303, 0.042939088812776215, 0.31074651876353476, 0.6786815327943397, 0.12929966470181697, 0.07364559567689136, 0.05542313927793421, 0.010328857774524101, 0.0038418312454022575, 4.198722672570773e-05, 0.0010286870547798394, 0.023470859739670624, 0.00012596168017712318, 0.024016693687104823, 0.07016853855776706, 0.32174842070390747, 0.32366119291710344, 0.024564022106305827, 0.25953298766416566, 0.9969247548644276, 0.9928522212546891, 0.9951965823940246, 0.9992680499634005, 0.10902249809959594, 0.003822302722216909, 0.054467813791590956, 0.3705027525057981, 0.30682666397432096, 0.02753795370324455, 0.12752591809578234, 0.9981597206669351, 0.39798257905444945, 0.005500057515268292, 0.00011870627730794874, 0.003838169632957009, 0.4612925936186888, 0.1029579111850942, 0.001028787736668889, 0.011039683789639232, 0.00937779590732795, 0.00015827503641059832, 0.00656841401103983, 0.9970714534355085, 0.9671974448719733, 0.032198920832635335, 0.9917032976451575, 0.9978194200010168, 0.00016531136845609952, 3.3062273691219905e-05, 0.0014878023161048958, 0.00033062273691219905, 0.9989740126923423, 0.9994913015385177, 0.995749647319105, 0.9979155319793961, 0.4834740162407471, 0.0022186557010249767, 0.0032797519058630088, 0.13832835979433986, 0.3160137424590358, 0.05623809885641571, 0.9957772941636929, 0.19112611661829926, 0.4048904722923582, 0.4032204382636546, 0.17887037496788463, 0.001908660148076115, 0.009751518211079788, 0.6529237175636863, 0.153514114091625, 0.000127244009871741, 3.470291178320209e-05, 0.002001201246164654, 1.1567637261067364e-05, 0.0008097346082747154, 0.5397341744008888, 0.060750944709210136, 0.22920825180912408, 0.0018351847880907228, 0.16814089592955347, 0.9952002605311093, 0.9973932256631657, 0.5040108235204735, 0.4672815785632011, 0.01274231410815404, 0.01500074664597985, 0.0008558270669655699, 0.9956430415686488, 0.992177730221372, 0.9994807438473466, 0.002358427523014695, 0.9946668078314478, 0.9925690302772396, 0.9965239450155683, 0.7496060282556027, 0.011657947562295533, 0.012657200210492292, 0.16537631327656377, 0.018795466477986675, 0.001546462431733081, 0.0044728451871664495, 0.008802939996019075, 0.02303039436796342, 0.003949427133349098, 0.004407554763834259, 0.08815109527668519, 0.9063034483134196, 0.9952984246047257, 0.989477757287891, 0.9957736885494383, 0.001158686110090239, 0.8567325098007226, 0.1415914426530272, 0.49147263679479725, 0.08534948915766792, 0.4219204823912478, 0.9963410608956847, 0.9884163292421928, 0.9925518185341203, 0.9979947550788835, 0.9952071005841501, 0.9971473680720192, 0.9983816325882043, 0.9968110135617958, 0.9947555994753678, 0.998213091589968, 0.9931911797083562, 0.9981660539645788, 0.9967180929019442, 0.9921045774496119, 0.9874590551148772, 0.9381707456933742, 0.0008747199092027444, 0.06062481832243636, 0.9982012080936484, 0.3108191029158431, 0.3974870998233488, 0.11809808481967395, 0.10442191882196403, 0.05733952166012323, 0.006932185058472229, 0.004673735627657747, 0.00012546941282302675, 0.996500991027097, 0.1109081294062711, 0.1514399433321945, 0.5122639657794731, 0.004580276730642464, 0.2026954210322411, 0.017048807830724728, 0.0003998654288656119, 0.0005089196367380515, 0.9965206910019307, 0.18190671614514253, 0.8165342370932267, 0.9897997302123704, 0.09198508531671967, 0.07619950923482499, 0.17968273021613462, 0.10114461711732524, 0.0015590692426562657, 0.5485974897596735, 0.4259480510623483, 0.5712833364897612, 0.8872263143887635, 0.0953670575818759, 0.01667620679027338, 0.989418383546567, 0.9865869317190139, 0.06159444377546188, 0.0030112839179114695, 0.17520197340575824, 0.028196567594989216, 0.7306469797187012, 0.9959824083014953, 0.9949830562309087, 0.9940265837786518, 0.24477497731748896, 0.22168386449102667, 0.05072699736230782, 0.1934511917509187, 0.136220733188315, 0.004024494813359565, 0.02916611070062103, 0.07006905608507014, 3.060452329551e-05, 0.002310641508811005, 0.04748291789298376, 0.9919640464417129, 0.9960703496238026, 0.9953994780003446, 0.9995298819918883, 0.9955429248424917, 0.9964443335038613, 0.9923661474443188, 0.9985401270590433, 0.997039046989224, 0.9975462988456142, 0.2388984771375233, 0.7603445707056306, 0.9968434681141114, 0.9908621956364931, 0.9987588345165999, 0.9701595043168971, 0.01676630722307285, 0.012447712938341965, 0.5448979950364127, 0.44731610147639217, 0.007583857855293596, 0.5854335508148579, 0.41373749234694684, 0.9980782937243533, 0.9891447526193403, 0.9900056572813458, 0.9964210829153556, 0.9952268464667681, 0.9941376473753473, 0.9880488548751514, 0.996367093661448, 0.995771298972659, 0.9954004359888002, 0.6069632662269311, 0.3759774373426408, 0.016523923275349732, 0.9956752905794608, 0.9908899586446928, 0.9985823135792689, 0.9954956933387807, 0.9966505453713458, 0.9911918104725284, 0.9988300910304944, 0.2172862536803428, 0.018238209426135864, 0.7634891808044462, 0.9964360766862224, 0.9960040382892841, 0.35763346778508043, 0.40384874091794154, 0.040010444795578845, 0.1980196077984397, 0.9977773446954612, 0.9975826521172994, 0.995905555556114, 0.9977594143834173, 0.9906103095952615, 0.01012550509604915, 0.18918251401678154, 0.37291283298184436, 0.4274347834990321, 0.9983604255484804, 0.9929877263934631, 0.9924194293565013, 0.3318339554354169, 0.6166720163914828, 0.050335704239304786, 0.9919135991727926, 0.9953156254559079, 0.9957655472670608, 0.9964514479547021, 0.33101923813046624, 0.24826442859784967, 0.11634834607555991, 0.018845154646041393, 0.00983225459793464, 0.0020483863745697165, 0.2720257105428584, 0.9877534265599189, 0.280064269962258, 0.1010963706205224, 0.0018784798595029499, 0.2409008110732268, 0.1971834616157036, 0.0752530416443303, 0.004070039695589725, 0.0242494672772199, 0.009477784745673975, 0.06574679508260325, 0.28211090341992406, 0.09070543249370795, 0.04714999187619963, 0.028773944465914313, 0.0902846069804953, 0.16512141074680992, 0.22091586004025254, 0.004190720735742548, 0.057021857040312825, 0.00019287836022246035, 0.013133262891511163, 1.7534396383860033e-05, 0.00031561913490948056, 0.9912836597551886, 0.5384777778305828, 0.007836721794226785, 0.0014248585080412334, 0.024014802770944955, 0.4276356597258752, 8.905365675257709e-05, 0.0003858991792611674, 0.24284296077121736, 0.20117168347911496, 0.5546590701638455, 0.9961421799345909, 0.9973603790170507, 0.40523718989674296, 0.10950471396521282, 0.012089692412295258, 0.17413806955402208, 0.055333592194735985, 0.03673406540658944, 0.04998622824314385, 0.15577103685072735, 0.9993115979205986, 0.17307321340214435, 0.8265355383628047, 0.9939460365541614, 0.9949011886465315, 0.9956983994135911, 0.993922966332286, 0.9953868379672842, 0.0008294890316394035, 0.9872532451759106, 0.9994275832508928, 0.9913740252684846, 0.15109650430990382, 0.18395962474876365, 0.08226857566042661, 7.384970885137039e-05, 0.5086029448593878, 0.011520554580813781, 0.027324392275007044, 0.03478321286899545, 0.19979996317062756, 0.7978708063643021, 0.9975978921765667, 0.9979811669014235, 0.9993603520613887, 0.07695597291408303, 0.05095908122377935, 0.8576387502408144, 0.013839141347574595, 0.9928760007443925, 0.27755771104496013, 0.7210383512820866, 0.9959143282451667, 0.10145088675742249, 0.2197976832796499, 0.5394622617762719, 0.08251841644060982, 0.050763157463007684, 0.005732540813058818, 0.5422937568608385, 0.42023903665569246, 0.036417773659763265, 0.6282336444868981, 0.16465789089903066, 0.14604478082377645, 0.03438109471664008, 0.002934971500200983, 7.487172194390262e-05, 0.0001946664770541468, 7.487172194390262e-05, 0.0010182554184370756, 1.4974344388780524e-05, 0.022296798794894202, 0.23270102668408518, 0.5405219080945586, 0.18158003594077488, 0.0448385656168501, 0.0002512970050584073, 0.9961112097326632, 0.9975855499401256, 0.9914240779310566, 0.4707497405470782, 0.016204303248272187, 0.008072689254593781, 0.38943360061029414, 0.023098497721173446, 0.028873122151466805, 0.035001295016267926, 0.016381077465526066, 5.8924739084626135e-05, 5.8924739084626135e-05, 0.0117260230778406, 0.988237270723488, 0.08878344635357119, 0.9096780098607968, 0.40086116358447227, 0.3529789178140006, 0.2457741044648103, 0.9902373716743933, 0.23263698977151825, 0.05751731314439303, 0.02290421576999937, 0.1564265498551975, 0.44175350684649006, 0.0002054189755156894, 0.04098108561538004, 0.0038002510470402542, 0.006470697728744217, 0.03687270610506625, 0.001099879393591042, 0.19489862854433262, 0.8031319332001788, 0.9910384702713001, 0.997552816331499, 0.999057870479167, 0.9925960123668659, 0.9934802356881769, 0.9987029301603837, 0.9948837817992514, 0.9964357551506182, 0.9984604162651997, 0.9945463608135502, 0.9978906527437544, 0.9995192061523825, 0.9975317671944772, 0.9908566282718863, 0.11152052284433664, 0.8841984311229548, 0.9153900943764413, 0.08112989130761102, 0.07770751029896827, 0.6427658259297376, 0.2784519119046363, 0.6000149778112932, 0.397711077246566, 0.0018883886822194506, 0.1448402960128456, 0.1161021420420429, 0.5785948332788277, 0.1586346099188309, 0.9972698675050691, 0.9948019853343811, 0.9952229190049475, 0.004559937469472673, 0.8305166111066229, 0.06231914541612653, 0.10092661599099516, 0.9993878802508537, 0.9935394462230316, 0.9982207083993593, 0.990545904055741, 0.0003281118347249339, 0.6357494909630319, 0.04501694372426093, 0.3185965915179108, 0.9981447245557233, 0.9934550959336294, 0.9979622533197847, 0.9965489035955701, 0.009438788692263755, 0.142714485027028, 0.18084719134377356, 0.66562337857844, 0.8286428818616741, 0.05346324539604298, 0.06294342890070763, 0.05254017489690459, 0.0022702544708539016, 0.9982257341730622, 0.2376859787527672, 0.009854310893564146, 0.17517023044399624, 0.2870757849513107, 0.16701086102412513, 0.07268539715092914, 0.03618502960116754, 0.0020102794222870857, 0.006661514164049362, 0.005518414100395922, 3.941724357425658e-05, 0.19644075470740013, 0.6345867404544187, 0.0625922836781455, 0.1059118020429637, 0.9982917115836872, 0.00010469761002450836, 0.0010469761002450835, 0.9984763414226486, 0.9975765757722795, 0.9917758054280403, 0.9947537213736107, 0.9995499625162904, 0.5909315538598876, 0.40826447502660507, 0.99846574275279, 0.9977312487318276, 0.9907105694718553, 0.9935934176078371, 0.19341721810272278, 0.730658479637881, 0.07526818735276754, 0.7153994698172546, 0.0603894638374529, 0.2232253395420134, 0.007574950133016372, 0.9881101617956912, 0.9970425111386849, 0.9950896537184842, 0.9983455941846372, 0.9952569104036949, 0.9998874697135375, 0.14218246265368406, 0.8567570514753052, 0.9943291170521336, 0.48621495033320455, 0.00044704162812880165, 0.00014554843706519123, 0.28298774692246464, 0.1821798597794199, 0.025548948863407674, 0.016020724394104263, 0.0011176040703220042, 0.005166969515814288, 6.757606006598164e-05, 8.836869393243753e-05, 0.4272026855211522, 0.28971664281175297, 0.01263024350264412, 0.20647944334058294, 0.04974201626151473, 0.013798680126236747, 0.00016691951765608967, 0.9981761401065999, 0.5074046551178963, 0.49224832584148076, 0.9992497460655779, 0.9905450222278327, 0.998542987768893, 0.9954144691070975, 0.656624653750123, 0.10267893511525387, 0.07807964812525438, 0.021241022554504684, 0.0011753925524231842, 0.00016791322177474058, 0.13970380051658418, 0.9915555627357702, 0.1165078571522671, 0.8810544421464974, 0.9990734145023452, 0.9891227186617092, 0.9976640480697322, 0.9911150354736228, 0.9973602281835742, 0.9880910829509958, 0.9998078712077785, 3.5169828028977715e-05, 0.3183001171702342, 0.3505090575981746, 0.2966612934152402, 9.97180818202488e-05, 0.034003865900704845, 0.4353375452786729, 0.5642510028712211, 0.9929766156977101, 0.027744606673889425, 0.3710236948236502, 0.6008109075896264, 0.0002977882172194918, 0.7215408503228287, 0.27773714392671267, 0.009126567113451839, 0.15028413846817362, 0.8372104232073154, 0.9960366857522922, 0.9957137963419446, 0.08940652614657577, 0.9047940446033468, 0.9932943734833473, 0.9950368939147418, 0.9937888544516632, 0.9944813894167859, 0.5836274055214644, 0.11370079254799789, 0.04097078135345027, 0.021172819894064904, 0.2399127968515796, 0.9947216025118026, 0.846056141806809, 0.15266537236231736, 0.7790954731501897, 0.00405471939791923, 0.0014615848992499548, 0.002946743748487812, 0.0010136798494798074, 0.21039750364202978, 0.0009429579995160999, 2.3573949987902497e-05, 0.49334014732971354, 0.4381819513121481, 0.04336336164902943, 0.02393657563026425, 3.854521035469283e-05, 0.0009636302588673207, 0.28062952104115835, 0.06440280322288024, 0.1943714399751487, 0.013132550544319445, 0.44451987506657664, 0.0025683585935384894, 0.0001453787883134994, 0.9991646234220055, 0.996375557298771, 0.9954256330580068, 0.9313254438866114, 0.01142883031046662, 0.02633600028064047, 0.0305596984388564, 0.993633397746579, 0.004167308039871003, 0.0005953297199815718, 0.15538105691519025, 0.3500538753491642, 0.48697971094492576, 0.9950891766850697, 0.9971498521069737, 0.9934797179538968, 0.9951697313329101, 0.07486490476666662, 0.923333825455555, 0.994618501605979, 0.6830359729670461, 0.1314715857741081, 0.18436835661290943, 0.18496854653565004, 0.8139083139857832, 0.9941596001217772, 0.9937760909717348, 0.9899682353829394, 0.23337479021983457, 0.23054196520467057, 0.02816161338604216, 0.04907452746857642, 0.4206745147518546, 0.03632681490033841, 0.001666367655978826, 0.9947577133012404, 0.9912794563254644, 0.9958359783389982, 0.9962761602892388, 0.5247546763196077, 0.02701317953580886, 0.393839051507251, 0.0009465534608234911, 0.05307980561079423, 0.9997420002183656, 0.9967121150549981, 0.992640423788677, 0.9977725327623705, 0.04038647636234436, 0.05746043384886393, 0.6842716808058996, 0.2163795766080076, 0.9966215113798506, 0.9565059271007071, 0.042408565893219584, 0.9952228056076505, 0.9969073733647299, 0.9966864148044114, 0.9934744244776871, 0.26072715052508233, 0.007221668925718613, 0.11953107187396325, 0.6113516280220412, 0.9989696744496841, 0.9822218848836615, 0.01717457084309483, 0.5976996692403321, 0.18626763661204715, 0.21549220718043643, 0.7437787122389468, 0.039816923698891116, 0.031993413832482026, 0.039899900318686364, 5.926901413946281e-05, 0.010988475221456405, 0.0028449126786942148, 0.11320381700637397, 0.017093183677821075, 0.00014224563393471076, 0.00015409943676260331, 0.4393662598091521, 0.18157842542289102, 0.06550346611454175, 0.31272622532103805, 0.9975404835707099, 0.13453236804423938, 0.5180009652023996, 0.23661265341521187, 0.0870044444328852, 0.022346750600325566, 0.0012323575698708952, 8.215717132472634e-05, 0.9992109058666486, 0.21263528788274472, 0.11634975522480043, 0.03751384389270556, 0.40998084242134125, 0.08980586871284059, 0.10054846946393355, 0.01193622305676995, 0.01915479604824511, 0.0018188530372220879, 0.050119585214758, 0.8775483738511264, 0.06971178670779976, 0.9913225723684356, 0.9970155289917859, 0.9925507326318512, 0.9937842805470996, 0.9965539891743509, 0.9876648044630371, 0.011572044389282376, 0.9940240122037887, 0.9926083834070315, 0.9917482385630909, 0.9989945945208827, 0.00018418041934382056, 0.2451758235393505, 0.2855515947376802, 0.04104559966060615, 0.09973001549449181, 0.0016745711556910938, 0.0005209776928816736, 0.04472965620312655, 0.01823421925085858, 0.0958785018364023, 7.442538469738195e-05, 0.020876320407615636, 0.10834475377321377, 0.006921560776856521, 0.025509300605027665, 0.0056935419293497195, 0.10458311122912513, 0.29278663958638335, 0.04169502892614901, 0.14658528585638758, 0.32042975268659263, 0.03378602712247802, 0.001228582804453746, 0.058664828912666375, 0.9669827854031046, 0.006282605808262235, 0.000987266627012637, 0.025309926256142146, 0.99637919935371, 0.999438802765818, 0.9849411511640825, 0.9973495787630837, 0.9992817844484844, 0.9215879860839705, 0.0782340372384333, 0.10960150265483452, 0.8874911420101729, 0.7722141153852997, 0.04274426094752363, 0.014757905537437535, 0.05997076159304162, 0.034184675735809855, 0.004749362327502625, 0.00579583199288456, 0.016716682090588336, 0.018031477311196406, 0.0020124416641960274, 0.005017687882728762, 0.0003756557773165918, 0.016126365869090834, 0.007244789991105699, 2.6832555522613702e-05, 0.9978252866120735, 0.2765152704311742, 0.15850749087847613, 0.5453495611281491, 0.018853313893034605, 0.9980538736319077, 0.0002788357829202965, 0.005855551441326226, 6.970894573007412e-05, 0.9934221855992862, 0.007009030311501291, 0.02495522880138921, 0.9676312945427551, 0.9923089275730678, 0.2574558265127384, 6.904151957970995e-05, 0.02934264582137673, 0.08595669187673889, 0.6268279562641867, 0.09847032996423494, 0.8991471113127683, 0.9922057435203577, 0.9955205896104362, 0.9986737007448857, 0.9978110185372626, 0.5226159082074869, 0.4218929580735472, 0.037623973443187006, 0.017655942844847533, 0.9943131306871476, 0.997815661277022, 0.00244567974615847, 0.22425596072406773, 0.0497116588403369, 0.02332406157915341, 0.6296466866478301, 0.00965399899799396, 0.0487591309392015, 0.012125422741480416, 0.9993033460003247, 0.9930197642144613, 9.763784254770463e-05, 0.05926617042645672, 0.940154785891848, 0.9994551504044511, 0.9950967371903652, 0.4760188089539571, 0.4520124666469479, 0.005648551131060979, 0.0656002188175491, 0.9894725196946244, 0.9953951750150267, 0.7153353836618042, 0.07156896854863024, 0.211163887400909, 0.0013768995308844, 0.998469565080277, 0.194685265561393, 0.7172493833359995, 0.018040629892321514, 7.676863783966601e-05, 0.06962915452057707, 0.28778339953923776, 0.7102572609036426, 0.9920873152859577, 0.9988596953603875, 0.9914230497596438, 0.9960315519326332, 0.027137686761169493, 0.0010092528134319234, 0.7786273316425796, 0.09388293948946735, 0.012380167844764926, 0.086638747073056, 0.00020185056268638466, 0.9990158432925549, 0.35183386143609385, 0.017171174512319323, 0.2548809713325222, 0.37542962505166194, 0.00011681071096815866, 0.25480139525809575, 0.6242634183823347, 0.03567219533613341, 0.003474564480792215, 0.0806098959543794, 0.9904666599538209, 0.0039187602767708045, 0.004898450345963506, 0.7925285173641234, 0.031078335797897903, 0.017860756728473197, 0.14502191555094787, 0.0007429084254477585, 0.0008357719786287284, 3.0954517726989943e-05, 0.011762716736256177, 0.9981534643084096, 0.9867958111027026, 0.008036695122583516, 0.20694489940652552, 0.7480823709938156, 0.035495403458077196, 0.9954336990761947, 0.9960692654695995, 0.9951420151864262, 0.9944769388170691, 0.9982196630946102, 0.9995601415553594, 0.9132289134765883, 0.08372338416922177, 0.9984209707748913, 0.31681371649526757, 0.6531505592312185, 0.029648926790888458, 0.39765816499488404, 0.03768513162593303, 0.40624280887878383, 0.019060819471031765, 0.02328039019362658, 0.11581994121329224, 0.34954446829930275, 0.3147988747638479, 0.31745700760262585, 0.017277863452056792, 0.9929354146768995, 0.9988555351909176, 0.20490372101310372, 0.5887746384744893, 0.17539510025073152, 0.03069931949488896, 0.8039453262239681, 0.1931883637484379, 0.9953732880164833, 0.1272307393755534, 0.25175986449353294, 0.24263554464248163, 0.3426462460266306, 0.005097385391648774, 0.02813756736190123, 0.0004587646852483896, 0.0018350587409935585, 0.046528728961130764, 0.85513768879324, 0.09812383673628378, 0.11896783474482277, 0.3016096982240372, 0.0020519797697922033, 0.4608495939469955, 0.0018953400927088288, 0.11266308774221695, 0.0004229271281251106, 6.265587083334971e-05, 0.0014489170130212122, 0.9949644854208486, 0.9978398730869379, 0.9918017354804791, 0.990792917094802, 0.00041201242814795487, 0.9974820885461988, 0.9990730504824205, 0.9979131608062661, 0.996198606258014, 0.9927185266843016, 0.9926950117378851, 0.9899803396989623, 0.9932859046689089, 0.1045989235336203, 0.14098777757224512, 0.2107203932613253, 0.3546010086023314, 0.18849121882768838, 0.614483458183809, 0.3848293059408409, 0.8107042524307745, 0.1870855967147941, 4.549993313562925e-05, 0.11911882494907738, 0.867547225097043, 0.004094993982206633, 0.009008986760854591, 0.9940153271723127, 0.9920849725692636, 0.996856009150687, 0.991395393641684, 0.6199169999367015, 0.006725375178140181, 0.3163143490378019, 0.03274001322984726, 0.023945291843048555, 7.390522173780419e-05, 0.9993019133889208, 0.9895754410738139, 0.7838850892036657, 0.1335798328394146, 0.08213677624127212, 0.9972288812724881, 0.819213304631237, 0.17855631429287017, 0.8714520514101998, 0.1262652946883106, 0.0016062375575020362, 0.15687586811603219, 0.0060680085505632475, 0.8347081173818914, 0.00019129651087141535, 0.5071270503201221, 0.49182332945040885, 0.39558705018437545, 0.6028429198411586, 0.9922870561384697, 0.686096690883938, 0.017833584910722993, 0.05949092240851547, 0.07804332744040005, 0.13024336004856235, 0.028170902843618086, 3.422952957912283e-05, 0.9952800510855381, 0.6255150084336357, 0.37330590022968074, 0.994764266795969, 0.9974959752528777, 0.9978390678076885, 0.0150773700610375, 0.9813997239729862, 0.9932655598685189, 0.9969487861248153, 0.9534262178356896, 0.044901819128047256, 0.9924581795884619, 0.9966761959056907, 0.28623339449546, 0.7111934035009896, 0.9962715684420609, 0.9956657325858372, 0.995285493474985, 0.16774770965942004, 0.4629105682780654, 0.36916681188728057, 0.9977606210575403, 0.9985759623611503, 0.9967262237572194, 0.0004931846728140621, 0.9971666316840689, 0.9942732854135272, 0.3830162016245958, 0.13650113765863708, 0.16825155901998778, 0.042533583333130176, 0.21651904594128643, 0.0016260323608238902, 0.0513911806670919, 0.9995283175395191, 0.9922539690604315, 0.9937923746912065, 0.9980356228790477, 0.998962745343542, 0.004362204040766851, 0.8604447470412612, 0.11108578221056271, 0.004587835284254791, 0.019366681732714896, 0.9907436120516501, 0.5193914992224593, 0.4792567015552693, 0.9986238973225302, 0.5424641559098858, 0.18898722502058016, 0.09313511372095995, 0.171170847455595, 0.004053225896034125, 0.0002539683972579439, 0.421079602653671, 0.5775241353645645, 0.8994308780376584, 0.09702764608967891, 0.9970298852473299, 0.9971052995304118, 0.06345812808605812, 0.21586238068338615, 0.11796927112559498, 0.6026121757553284, 0.9932021213305388, 0.995029432376526, 0.9941399379611782, 0.830762051290866, 9.240957188997398e-05, 0.007392765751197918, 0.1310367729399831, 0.009009933259272462, 0.00018481914377994796, 0.0007392765751197918, 0.02056112974551921, 0.9976339502463923, 0.996185023408782, 0.27652628167539955, 0.7226553494450442, 0.9947007948936801, 0.002988585262574903, 0.00019524176755929496, 0.9814803655205757, 0.0052324793705891045, 0.012885956658913466, 0.9962423818154514, 0.9978554208086705, 0.9983034357965759, 0.9868509589497994, 0.4310884217496853, 0.008097793557728895, 0.07192746042453313, 0.4868202950587606, 0.998023918934885, 0.0006288745550944454, 0.9979413192582979, 0.9990366257018797, 0.9957021819929416, 0.15535062963499427, 0.8416188496716883, 0.9970556533105172, 0.9987886153933124, 0.6181202011295118, 0.3815729300369992, 0.9973379129830344, 0.08554767216356339, 0.2971373691449161, 0.12282393056712236, 0.49317294391471184, 0.9973126272146803, 0.2121922673369572, 0.3928805791150714, 0.13336674519910208, 0.012273416019799257, 0.06130144685824869, 0.1876454352973587, 0.9966978525154, 0.9912150417433256, 0.997420364644092, 0.9989313616932236, 0.9978819449950184, 0.9981982111221349, 0.9951951761752675, 0.5508304167528559, 0.045142558988851604, 0.015845494190531245, 0.37675797337917816, 0.010943650663964025, 0.9942838088437168, 0.4819177628357858, 0.010456918325648176, 0.10314494348452967, 0.38484457837905184, 0.009969678403664568, 0.00955739846967844, 0.31508560992619306, 0.034266604793034255, 0.6485581785218191, 0.991269876177487, 0.8217415116858845, 0.012434453138235012, 0.1358997807633362, 0.012340252735672625, 0.006060225898180195, 0.004647219859744398, 3.140013418746215e-05, 0.004929821067431558, 0.0017898076486853427, 0.9919585118613171, 0.9874556400433188, 0.9976672927841486, 0.9942932046916546, 0.9998164680835108, 0.09726944278434987, 0.4394483779700336, 0.03307161054667895, 0.1625447211574782, 0.00032921965250087647, 0.03010863367417107, 0.0858964002434105, 0.15126146579449362, 0.998370907191841, 0.48197254051678845, 0.4256827138707277, 0.0009318543469601372, 0.08625476799049771, 0.0024752381091128644, 0.0025917199024828815, 0.999470561974118, 0.9997545056400186, 0.9937320118672868, 0.9902422545294352, 0.9959830373436265, 0.00027242424435000725, 0.002451818199150065, 0.9938103182096308, 0.9987982835082849, 0.9957458206899423, 0.9926996073488287, 0.4598210304765147, 0.010313023948192187, 0.3530550130603149, 0.005488626304631096, 0.004929275853203723, 0.05677407081987834, 0.005139032272488988, 0.10431885919120504, 6.99188064284216e-05, 0.07833512132480616, 0.5243446748827721, 0.21947086153124734, 0.04159712739522132, 0.0010307252805895548, 0.13487776528857603, 0.2150904177281528, 0.12097833525090175, 0.2469289322091657, 0.23642302440812618, 0.06227356799623812, 0.05914585498676834, 0.024420220804706384, 0.023096957608392244, 0.011548478804196122, 0.9969008660806492, 0.9997286381253276, 0.9968757233149745, 0.16606988148242685, 0.8310217551104436, 0.9961990055885777, 0.3283711642937137, 0.6701920965555016, 0.49059166964756457, 0.13423848650640588, 0.12696597256474956, 0.13252136515907034, 0.11524914454763664, 0.9927661753325083, 0.9980432143731696, 0.9984383736621456, 0.9958716797960561, 0.9955087735140205, 0.9996691591882529, 0.46363339485927335, 0.0009209516923992377, 0.030259841321689237, 0.5046815274347822, 0.9988594553365409, 0.9961672538651423, 0.9933241520096756, 0.9910358555228053, 0.8377586897930763, 0.03865463530718799, 0.035071028492250765, 0.08737558189228951, 0.0009663658826796997, 0.8843882828688375, 0.015103290574302165, 0.04382974924662488, 0.006675654433841557, 0.03667078951440565, 0.006252762297761096, 0.0010270237590525471, 0.005920489905126449, 0.9124720219025773, 0.01200895091587264, 0.07205370549523585, 0.0031931314573996616, 0.9926895954927474, 0.25745245669286304, 0.7408398066044972, 0.9978941414783956, 0.7460547660758947, 0.10163104342464362, 0.007530286272544084, 0.06895034290192767, 0.0657694461143875, 9.273751567172518e-06, 0.0007326263738066289, 7.419001253738014e-05, 6.491626097020763e-05, 0.008225817640082024, 0.0007604476285081465, 0.0001483800250747603, 0.9933086297580249, 0.9993401476699769, 0.00010615467895368355, 0.99931635161839, 0.77339759408957, 0.22617299148888928, 0.9927543165220586, 0.9989653715009923, 0.3551685063166349, 0.6416982334266393, 0.0027392899341300617, 0.1427209118434618, 0.8078708404966325, 0.044930657432200934, 0.01367065720172813, 0.025255959915057052, 0.8617148158174054, 0.07820079331497024, 0.020737691856858774, 0.8092619793747661, 0.18966455055755227, 0.9956575954898995, 0.5414034061134443, 0.4554117596532403, 0.06387855561174588, 0.9330140546927732, 0.9965571163552983, 0.460073240464901, 0.539628724788975, 0.008914540009061878, 0.3042499488277971, 0.004622354078772826, 0.13900079051166855, 0.5424662679588396, 0.9981156146365744, 0.9966037134355279, 0.2830908446002511, 0.6241773135724664, 0.08554473341024367, 0.006982274187288072, 0.9913121376150791, 0.6936638332872386, 0.305160320688677, 0.3127092525502992, 0.134604681438653, 0.25586807251336674, 0.06263454433889118, 0.10087074873181892, 0.006455463079325464, 0.018340136133057985, 0.029926864736975485, 0.0004303642052883643, 0.0005296790218933715, 0.07581031000848878, 0.0017545617600217929, 0.42391798923262763, 0.022085452405751948, 0.0009815756624778644, 0.020244998038605952, 0.0024539391561946605, 0.00012269695780973305, 0.049078783123893216, 0.011042726202875974, 0.07447705339050795, 0.3858819323116104, 0.009202271835729978, 0.991625336738063, 0.9921593732783822, 0.9908802423001372, 0.9966108180393278, 0.9982597267483971, 0.0009566456413496858, 0.753553277474609, 0.2452725076510352, 0.989167886950758, 0.4218574278969412, 0.02976783836185014, 0.13405661570037006, 0.2871657289450927, 0.02493039572292942, 0.05323889384733979, 0.0005134715650251045, 0.009026289616757102, 0.013620508882771196, 0.0008107445763554283, 0.0006485956610843426, 0.006580543478084893, 0.017728281402972033, 1.3512409605923805e-05, 0.9950535247346689, 0.00011922161070798912, 0.9993155409543648, 0.7116252910927562, 0.2872654553848055, 0.7573235420913961, 0.24087379505871895, 0.9930884144069919, 0.9966925151368492, 0.9838015810579755, 0.9946538441790579, 0.9965568481101601, 0.9910597179345034, 0.9985895295308502, 0.9949974345571755, 0.7334881759885836, 0.26596348941915915, 0.9919701579052089, 0.9899429127845373, 0.0498747717684151, 0.015076214279806086, 0.2866377092317849, 0.040203238079482895, 0.13720303184200885, 0.12174754173126424, 0.27715581345832196, 0.03299699729165106, 0.0013274654082848125, 0.017067412392233305, 0.0009481895773462947, 0.01943788633559904, 0.9897646940835932, 0.9931126198268005, 0.9995218854923288, 0.9893490354876394, 0.2670576485674615, 7.774604033987234e-05, 0.00033042067144445743, 0.0014771747664575744, 0.0003498571815294255, 0.7306378506040353, 1.9436510084968084e-05, 0.9971688880061331, 0.9981835109067365, 0.9989814893567467, 0.999067458066288, 0.9988983792376327, 0.9786403579938403, 0.018235534621003236, 0.996003191043025, 0.9908567438922335, 0.1762727569466641, 0.7698222154822325, 0.053144459587776034, 0.9897788917389382, 0.9942970524842872, 0.004238781587935451, 0.04368508167386675, 0.24416067925641363, 0.00021626278056369676, 0.7110720224934349, 0.9959985337834156, 0.3741393996346939, 0.3549744268224104, 0.00151185400375322, 0.10400666219937593, 0.1541646420886004, 0.0007114607076485741, 0.00951578696479968, 0.0008003932961046458, 0.31176979671718547, 0.027855720668889423, 0.027855720668889423, 0.07446048409568519, 0.555507352569968, 0.9987106012138453, 0.9990349700373484, 0.9951528586291128, 0.9513506565823273, 0.00018235938135335685, 0.045535137523933206, 0.0006017859584660775, 0.002261256328781625, 0.054153630938324544, 0.9434181944402743, 0.001970929375571604, 0.9420400679292341, 0.05761941792878785, 0.24459337366578426, 0.7549846389932346, 0.995178936059404, 0.9874865273588537, 0.691451187678768, 0.0029187470986862304, 0.3051063633826673, 9.729156995620768e-05, 0.9937362230252141, 0.46589468461356853, 0.5320707459382713, 0.9917918508860852, 0.8676931217053777, 0.0034166995033767657, 0.0060609278146857406, 0.10882930679016602, 2.971043046414579e-05, 0.013845060596291937, 0.4057755899638157, 0.5888034343951035, 6.082680107387433e-05, 0.002919686451545968, 0.00012165360214774866, 0.0020681112365117274, 0.9963071193166478, 0.4661019657469497, 0.5332900042090519, 0.9976619989673559, 0.9931491772443419, 0.23742211931539, 0.6585637357200699, 0.0984796008689149, 0.004760343244418847, 0.995919416482369, 0.9920912139760184, 0.7353182119123051, 0.09427754922645867, 0.0009334410814500858, 0.07721307945619929, 0.03745432339318469, 0.005104755914180157, 0.0006125707097016188, 0.016160198722604612, 0.0073508485164194256, 0.011843033720897964, 0.00393795456236755, 0.0007584208786781948, 0.00726333841503348, 0.00163352189253765, 0.9927916260762877, 0.2011362451499785, 0.0007045052369526393, 0.4818815820756052, 0.1095505643461354, 0.20501102395321802, 0.5108324346896475, 0.07501398789920144, 0.16990347686571267, 0.001602862989299176, 0.07164797562167317, 0.17070490836036226, 0.9966452985772927, 0.566650614936924, 0.413166638702614, 0.012155059688045613, 0.0021780742793607744, 0.00569109731058783, 0.9982062832237404, 0.9966154061039922, 0.6961260694420598, 0.3034374056935396, 0.9982384486688879, 0.9993467464388718, 0.4333341961104186, 0.5643630087630013, 0.00011996379034858145, 0.039887960290903336, 0.5315595550345644, 0.4280907858589129, 0.9962135579967327, 0.9960510998090746, 0.9996430326350192, 0.015386541098749824, 0.2907340614589356, 0.10922655047426473, 0.1539548676217933, 0.13740539027720772, 0.292881020682017, 0.992545706459905, 0.9950561358712864, 0.9935410567987542, 0.4101039762472556, 0.5876617878671011, 0.9980852523912107, 0.9114195533511821, 0.08342106914801471, 0.9989174041929888, 0.759136156854405, 0.013061291150677773, 0.002340279770339359, 0.008349106207697172, 0.007811474368565158, 0.10167566840055459, 0.026343960117468732, 0.080708026674406, 0.0004427556322263652, 3.162540230188323e-05, 0.9961942743875682, 0.9927579946786188, 0.998144313844028, 0.5917962936157667, 0.13236196979655618, 0.21596732146506747, 0.05776513428136273, 0.001738485573447305, 0.9962770155628549, 0.553966404884508, 0.11059503124100223, 0.0230819335368545, 0.21071114787018094, 0.10131977573999629, 0.9951870721080529, 0.0007107789704908148, 0.9975782850838586, 0.9981922725434127, 0.5029548379662425, 0.09504150255557113, 0.40155265289240333, 0.2257866572778768, 0.0002875530530793133, 0.2709899972219449, 0.46618100965218273, 0.03646172713045693], \"Term\": [\"absolutely\", \"absolutely\", \"absolutely\", \"absolutely\", \"absolutely\", \"access\", \"accompanied\", \"account\", \"actually\", \"actually\", \"actually\", \"actually\", \"adobo\", \"adult\", \"adults\", \"afraid\", \"ahi\", \"aioli\", \"aioli\", \"alaskan\", \"ale\", \"alfredo\", \"almond\", \"aloha\", \"amazing\", \"amazing\", \"amazing\", \"amazing\", \"amazing\", \"amazing\", \"amazing\", \"amazing\", \"amazing\", \"amazing\", \"ambience\", \"ambience\", \"ambience\", \"ambience\", \"ambience\", \"america\", \"ami\", \"amy\", \"angeles\", \"anyways\", \"app\", \"apparently\", \"appealing\", \"april\", \"arcadia\", \"area\", \"area\", \"area\", \"area\", \"area\", \"area\", \"area\", \"area\", \"area\", \"area\", \"area\", \"arepa\", \"arepas\", \"aria\", \"arrived\", \"arrived\", \"arrives\", \"asada\", \"asian\", \"asian\", \"asian\", \"asian\", \"asian\", \"asked\", \"asked\", \"asked\", \"asparagus\", \"asparagus\", \"atmosphere\", \"atmosphere\", \"atmosphere\", \"atmosphere\", \"atmosphere\", \"atmosphere\", \"attentive\", \"attentive\", \"attentive\", \"attentive\", \"attentive\", \"attentive\", \"attentive\", \"attitude\", \"authentic\", \"authentic\", \"authentic\", \"authentic\", \"authentic\", \"authentic\", \"average\", \"avocado\", \"avocado\", \"avocado\", \"avocado\", \"avocado\", \"avocado\", \"awesome\", \"awesome\", \"awesome\", \"awesome\", \"awesome\", \"awesome\", \"awesome\", \"ayce\", \"bacchanal\", \"bachi\", \"bacon\", \"bacon\", \"bacon\", \"bacon\", \"bacon\", \"bacon\", \"bacon\", \"bagel\", \"bags\", \"baguette\", \"baja\", \"bake\", \"bakery\", \"bakery\", \"balanced\", \"balls\", \"banana\", \"banana\", \"banana\", \"banana\", \"banana\", \"banana\", \"banana\", \"band\", \"bands\", \"bang\", \"bao\", \"bar\", \"bar\", \"bar\", \"bar\", \"bar\", \"bar\", \"bar\", \"bar\", \"barbecue\", \"barely\", \"bark\", \"bartender\", \"bartender\", \"bartender\", \"bartenders\", \"bartenders\", \"bass\", \"batter\", \"bbq\", \"bbq\", \"bean\", \"bean\", \"bean\", \"beans\", \"beans\", \"beat\", \"beats\", \"beautiful\", \"beautiful\", \"beautiful\", \"beautiful\", \"beautiful\", \"beautiful\", \"beautiful\", \"beautiful\", \"beef\", \"beef\", \"beer\", \"beer\", \"beer\", \"beers\", \"bellagio\", \"belly\", \"benedict\", \"benefit\", \"bento\", \"berry\", \"best\", \"best\", \"best\", \"best\", \"best\", \"best\", \"best\", \"best\", \"best\", \"best\", \"best\", \"best\", \"best\", \"better\", \"better\", \"better\", \"better\", \"better\", \"better\", \"better\", \"better\", \"better\", \"better\", \"better\", \"better\", \"better\", \"better\", \"beware\", \"bfg\", \"bfg\", \"bianco\", \"bianco\", \"biscuit\", \"biscuits\", \"bit\", \"bit\", \"bit\", \"bit\", \"bit\", \"black\", \"black\", \"black\", \"black\", \"black\", \"blah\", \"blast\", \"bleu\", \"blood\", \"bloody\", \"blossom\", \"blow\", \"blowing\", \"blows\", \"boat\", \"boba\", \"bobby\", \"boiling\", \"bomb\", \"bomb\", \"bomb\", \"bomb\", \"bomb\", \"bomb\", \"bomb\", \"bon\", \"bone\", \"book\", \"boom\", \"booth\", \"booze\", \"boss\", \"bother\", \"bottle\", \"bottle\", \"bouchon\", \"bowl\", \"bowl\", \"bowl\", \"bowl\", \"bowls\", \"bowls\", \"box\", \"boys\", \"bread\", \"bread\", \"bread\", \"bread\", \"bread\", \"bread\", \"breads\", \"breakfast\", \"breast\", \"brew\", \"brew\", \"brew\", \"brewery\", \"brewing\", \"brews\", \"brio\", \"brisket\", \"broke\", \"brooklyn\", \"broth\", \"brought\", \"brought\", \"brought\", \"brought\", \"browns\", \"brunch\", \"brunch\", \"bubble\", \"buck\", \"bucks\", \"bucks\", \"budget\", \"buffalo\", \"buffet\", \"buffets\", \"building\", \"building\", \"building\", \"built\", \"bulgogi\", \"bun\", \"bun\", \"bunch\", \"buns\", \"burger\", \"burgers\", \"burrito\", \"burritos\", \"business\", \"business\", \"business\", \"business\", \"business\", \"business\", \"business\", \"business\", \"busy\", \"busy\", \"busy\", \"busy\", \"butter\", \"butter\", \"butter\", \"butternut\", \"buttery\", \"buy\", \"buy\", \"buy\", \"buy\", \"cab\", \"cab\", \"cabbage\", \"cactus\", \"caesars\", \"cafe\", \"cajun\", \"cajun\", \"cajun\", \"cake\", \"cake\", \"cake\", \"cal\", \"cali\", \"called\", \"called\", \"called\", \"calorie\", \"came\", \"came\", \"came\", \"came\", \"came\", \"candied\", \"cane\", \"cannoli\", \"cappuccino\", \"car\", \"caramel\", \"caramelized\", \"carbonara\", \"carbs\", \"card\", \"cards\", \"caribbean\", \"carne\", \"carnitas\", \"carpaccio\", \"carrot\", \"case\", \"cash\", \"cash\", \"cash\", \"cash\", \"casino\", \"casino\", \"casino\", \"cat\", \"catering\", \"catfish\", \"celebrating\", \"central\", \"central\", \"cents\", \"cha\", \"chai\", \"chair\", \"challenge\", \"challenge\", \"challenge\", \"champagne\", \"chandler\", \"changed\", \"changed\", \"changed\", \"changed\", \"changed\", \"changed\", \"char\", \"charges\", \"chashu\", \"cheap\", \"cheap\", \"cheap\", \"cheap\", \"cheap\", \"cheap\", \"cheddar\", \"chee\", \"cheese\", \"cheese\", \"cheese\", \"cheese\", \"cheese\", \"cheese\", \"cheese\", \"cheese\", \"cheese\", \"cheeseburger\", \"cheesecake\", \"cheesecake\", \"cheesecake\", \"chef\", \"chef\", \"chef\", \"chef\", \"chef\", \"chef\", \"chef\", \"chef\", \"chef\", \"chicago\", \"chicago\", \"chicken\", \"chicken\", \"chicken\", \"chicken\", \"chicken\", \"chicken\", \"children\", \"chile\", \"chili\", \"chili\", \"chill\", \"chilli\", \"chinese\", \"chinese\", \"chip\", \"chipotle\", \"chips\", \"chips\", \"chips\", \"chips\", \"chocolate\", \"chocolate\", \"choices\", \"chop\", \"chopped\", \"chopped\", \"chops\", \"chops\", \"chops\", \"chorizo\", \"chow\", \"choy\", \"chris\", \"christmas\", \"chunky\", \"cibo\", \"cinnamon\", \"cinnamon\", \"claim\", \"clam\", \"clam\", \"clams\", \"clams\", \"clean\", \"clean\", \"clean\", \"clean\", \"clean\", \"cleaned\", \"cleaning\", \"cleveland\", \"closed\", \"club\", \"club\", \"club\", \"clubs\", \"coast\", \"cobb\", \"cocktail\", \"cocktails\", \"cocktails\", \"cocktails\", \"cocktails\", \"coffee\", \"cold\", \"cold\", \"cold\", \"cole\", \"coleslaw\", \"college\", \"com\", \"combo\", \"combo\", \"come\", \"come\", \"come\", \"come\", \"come\", \"come\", \"come\", \"come\", \"come\", \"comfort\", \"coming\", \"coming\", \"coming\", \"coming\", \"coming\", \"coming\", \"coming\", \"coming\", \"coming\", \"coming\", \"coming\", \"coming\", \"comp\", \"complain\", \"complimentary\", \"concoction\", \"cons\", \"consistent\", \"consistent\", \"consistent\", \"consistent\", \"control\", \"convenience\", \"conveniently\", \"cooked\", \"cooked\", \"cooked\", \"cooked\", \"cooked\", \"cooked\", \"cooked\", \"cookie\", \"cookie\", \"cookies\", \"cooking\", \"cooking\", \"cooking\", \"cooking\", \"cool\", \"cool\", \"cool\", \"cool\", \"cool\", \"cool\", \"copy\", \"corn\", \"corn\", \"corn\", \"corn\", \"corn\", \"corn\", \"corn\", \"corn\", \"corned\", \"corporate\", \"cosmo\", \"cosmopolitan\", \"costco\", \"cotta\", \"count\", \"coupon\", \"court\", \"cousin\", \"cover\", \"crab\", \"crab\", \"crabs\", \"craft\", \"crap\", \"crawfish\", \"cream\", \"cream\", \"cream\", \"cream\", \"cream\", \"creative\", \"credit\", \"crepe\", \"crepe\", \"crepes\", \"crispy\", \"crispy\", \"crispy\", \"crispy\", \"crispy\", \"croissant\", \"croissants\", \"croque\", \"crust\", \"culinary\", \"cup\", \"cup\", \"cup\", \"cup\", \"cup\", \"cupcake\", \"cupcakes\", \"curds\", \"currently\", \"curry\", \"custard\", \"custard\", \"custom\", \"custom\", \"customer\", \"customer\", \"customer\", \"customer\", \"cute\", \"cute\", \"cuz\", \"daddy\", \"daily\", \"daily\", \"daily\", \"daily\", \"daily\", \"daily\", \"date\", \"date\", \"date\", \"dates\", \"dates\", \"dates\", \"daughter\", \"day\", \"day\", \"day\", \"day\", \"day\", \"day\", \"day\", \"day\", \"dead\", \"debit\", \"decent\", \"decent\", \"decent\", \"decent\", \"decorated\", \"def\", \"definitely\", \"definitely\", \"definitely\", \"definitely\", \"definitely\", \"definitely\", \"definitely\", \"definitely\", \"degrees\", \"delicious\", \"delicious\", \"delicious\", \"delicious\", \"delicious\", \"delicious\", \"delicious\", \"delicious\", \"delicious\", \"delicious\", \"delicious\", \"delicious\", \"delicious\", \"delicious\", \"delicious\", \"delicious\", \"deliciousness\", \"delivered\", \"delivery\", \"denny\", \"des\", \"deserts\", \"desk\", \"dessert\", \"dessert\", \"dessert\", \"dessert\", \"dessert\", \"dessert\", \"dessert\", \"dessert\", \"desserts\", \"desserts\", \"desserts\", \"desserts\", \"desserts\", \"details\", \"did\", \"did\", \"did\", \"did\", \"did\", \"did\", \"didn\", \"didn\", \"didn\", \"didn\", \"didn\", \"die\", \"die\", \"dining\", \"dining\", \"dining\", \"dining\", \"dining\", \"dining\", \"dining\", \"dining\", \"dining\", \"dinner\", \"dinner\", \"dinner\", \"dinner\", \"dinner\", \"dinner\", \"dinner\", \"dinner\", \"dinner\", \"dinner\", \"dip\", \"dip\", \"dipping\", \"dipping\", \"dipping\", \"dirty\", \"dish\", \"dish\", \"dish\", \"dish\", \"dish\", \"dishes\", \"dishes\", \"dishes\", \"dishes\", \"dishes\", \"displayed\", \"dive\", \"dog\", \"dogs\", \"doing\", \"doing\", \"doing\", \"don\", \"don\", \"don\", \"don\", \"don\", \"don\", \"don\", \"don\", \"don\", \"donut\", \"donuts\", \"double\", \"dough\", \"dough\", \"dough\", \"dough\", \"dough\", \"downtown\", \"downtown\", \"downtown\", \"downtown\", \"downtown\", \"dragon\", \"dream\", \"dressed\", \"dressing\", \"dressing\", \"drink\", \"drink\", \"drink\", \"drink\", \"drinks\", \"drinks\", \"drinks\", \"drinks\", \"drinks\", \"drinks\", \"drive\", \"drive\", \"drunk\", \"drunken\", \"drunken\", \"duck\", \"duck\", \"duck\", \"dumplings\", \"dying\", \"earl\", \"earn\", \"earned\", \"earth\", \"easily\", \"east\", \"east\", \"eastern\", \"eat\", \"eat\", \"eat\", \"eat\", \"eat\", \"eat\", \"eat\", \"eat\", \"eat\", \"eat\", \"eat\", \"eats\", \"edamame\", \"edge\", \"efficient\", \"efficient\", \"egg\", \"egg\", \"egg\", \"egg\", \"egg\", \"eggplant\", \"eggs\", \"elevator\", \"ellis\", \"employees\", \"enchiladas\", \"encore\", \"endless\", \"english\", \"enjoyable\", \"entertaining\", \"entertainment\", \"entr\", \"entree\", \"entrees\", \"entrees\", \"entrees\", \"environment\", \"epic\", \"espresso\", \"espresso\", \"est\", \"establishment\", \"establishment\", \"establishment\", \"establishment\", \"establishment\", \"establishment\", \"everyday\", \"excellent\", \"excellent\", \"excellent\", \"excellent\", \"excellent\", \"excellent\", \"excellent\", \"expanded\", \"expensive\", \"expensive\", \"expensive\", \"experience\", \"experience\", \"experience\", \"experience\", \"experience\", \"experience\", \"experience\", \"experience\", \"experience\", \"experience\", \"experience\", \"extraordinary\", \"eye\", \"factor\", \"factory\", \"fail\", \"fails\", \"fajitas\", \"fake\", \"falafel\", \"family\", \"family\", \"family\", \"family\", \"family\", \"fantastic\", \"fantastic\", \"fantastic\", \"far\", \"far\", \"far\", \"far\", \"far\", \"far\", \"far\", \"far\", \"fashion\", \"fashioned\", \"fast\", \"fast\", \"fast\", \"fast\", \"fault\", \"fav\", \"fav\", \"fav\", \"favorite\", \"favorite\", \"favorite\", \"favorite\", \"favorite\", \"favorite\", \"favorite\", \"favorite\", \"favorite\", \"favorite\", \"favorite\", \"favourite\", \"favourite\", \"feature\", \"feet\", \"fellow\", \"feta\", \"fez\", \"fianc\", \"fig\", \"fight\", \"filet\", \"filet\", \"filipino\", \"filling\", \"filling\", \"fired\", \"fish\", \"fish\", \"fixe\", \"fixed\", \"flamingo\", \"flat\", \"flavor\", \"flavor\", \"flavor\", \"flavor\", \"flavor\", \"flavor\", \"flavor\", \"flavor\", \"flavor\", \"flavor\", \"flavored\", \"flavored\", \"flight\", \"flour\", \"foie\", \"folk\", \"following\", \"fondue\", \"foods\", \"foods\", \"foods\", \"foods\", \"foods\", \"foods\", \"fool\", \"forever\", \"forget\", \"fortunate\", \"fountain\", \"fountains\", \"francisco\", \"freaking\", \"freaking\", \"fremont\", \"french\", \"french\", \"french\", \"frequent\", \"frequented\", \"fresh\", \"fresh\", \"fresh\", \"fresh\", \"fresh\", \"fresh\", \"fresh\", \"fresh\", \"fresh\", \"fresh\", \"fresh\", \"freshest\", \"freshly\", \"freshly\", \"friday\", \"friday\", \"friday\", \"fried\", \"fried\", \"friendly\", \"friendly\", \"friendly\", \"friendly\", \"friendly\", \"friendly\", \"friendly\", \"friendly\", \"friends\", \"friends\", \"friends\", \"friends\", \"fries\", \"frites\", \"frozen\", \"fruit\", \"fry\", \"fry\", \"fun\", \"fun\", \"fun\", \"furikake\", \"gabi\", \"gallo\", \"games\", \"games\", \"garden\", \"garlic\", \"garlic\", \"garlic\", \"gas\", \"geisha\", \"gelato\", \"gen\", \"general\", \"genuine\", \"german\", \"getting\", \"getting\", \"getting\", \"getting\", \"getting\", \"getting\", \"girls\", \"girls\", \"girls\", \"girls\", \"glass\", \"glass\", \"glass\", \"glass\", \"glass\", \"gluten\", \"gluten\", \"god\", \"god\", \"going\", \"going\", \"going\", \"going\", \"going\", \"going\", \"going\", \"going\", \"gold\", \"good\", \"good\", \"good\", \"good\", \"good\", \"good\", \"good\", \"good\", \"good\", \"good\", \"good\", \"good\", \"good\", \"good\", \"good\", \"good\", \"good\", \"goods\", \"gordon\", \"got\", \"got\", \"got\", \"got\", \"got\", \"got\", \"got\", \"grabbed\", \"grade\", \"grand\", \"grande\", \"grandma\", \"grape\", \"grapefruit\", \"gras\", \"gravy\", \"gravy\", \"great\", \"great\", \"great\", \"great\", \"great\", \"great\", \"great\", \"great\", \"great\", \"great\", \"great\", \"great\", \"great\", \"great\", \"greek\", \"green\", \"green\", \"green\", \"green\", \"green\", \"greens\", \"greeted\", \"greeted\", \"grey\", \"grill\", \"grilled\", \"grimaldi\", \"grits\", \"grocery\", \"group\", \"group\", \"group\", \"group\", \"guac\", \"guacamole\", \"guarantee\", \"guess\", \"guess\", \"guess\", \"guilty\", \"gumbo\", \"gyoza\", \"gyro\", \"gyros\", \"haha\", \"hair\", \"hallway\", \"halo\", \"ham\", \"hamachi\", \"hamburger\", \"handmade\", \"hands\", \"hands\", \"hands\", \"hands\", \"hands\", \"hanging\", \"happen\", \"happy\", \"happy\", \"happy\", \"happy\", \"happy\", \"happy\", \"hash\", \"hawaii\", \"hawaii\", \"hawaii\", \"hawaiian\", \"heading\", \"healthy\", \"healthy\", \"healthy\", \"heat\", \"hello\", \"helped\", \"helpful\", \"helpful\", \"helpful\", \"helpful\", \"helpful\", \"henderson\", \"hey\", \"hibachi\", \"highly\", \"highly\", \"hipster\", \"hipster\", \"hmm\", \"hoisin\", \"holiday\", \"hollywood\", \"home\", \"home\", \"home\", \"home\", \"home\", \"home\", \"hometown\", \"honey\", \"honey\", \"honor\", \"hook\", \"hooters\", \"horrible\", \"hospitality\", \"host\", \"hostesses\", \"hot\", \"hot\", \"hot\", \"hot\", \"hot\", \"hot\", \"hotel\", \"hotel\", \"hotels\", \"hour\", \"hour\", \"hours\", \"hours\", \"hours\", \"hours\", \"hours\", \"house\", \"house\", \"house\", \"house\", \"house\", \"houses\", \"huevos\", \"huge\", \"huge\", \"huge\", \"huge\", \"huge\", \"huge\", \"hula\", \"hungry\", \"hurt\", \"hype\", \"hype\", \"ice\", \"ice\", \"iced\", \"iced\", \"ichiza\", \"icing\", \"ignored\", \"ill\", \"includes\", \"incredible\", \"incredible\", \"incredible\", \"incredible\", \"incredible\", \"indian\", \"indoors\", \"indulge\", \"industrial\", \"inexpensive\", \"ing\", \"ingredients\", \"ingredients\", \"insane\", \"inside\", \"inside\", \"inside\", \"inside\", \"inside\", \"inside\", \"inside\", \"inside\", \"inside\", \"inside\", \"ipa\", \"ipad\", \"irish\", \"irish\", \"island\", \"island\", \"island\", \"island\", \"island\", \"islands\", \"italian\", \"italian\", \"item\", \"item\", \"items\", \"items\", \"items\", \"items\", \"items\", \"items\", \"items\", \"items\", \"items\", \"ive\", \"jalapenos\", \"jalapenos\", \"japan\", \"japanese\", \"japanese\", \"jasmine\", \"jerk\", \"jerky\", \"jin\", \"joe\", \"john\", \"joint\", \"joint\", \"joint\", \"josh\", \"juice\", \"juicy\", \"juicy\", \"juicy\", \"just\", \"just\", \"just\", \"just\", \"just\", \"just\", \"just\", \"just\", \"just\", \"just\", \"just\", \"just\", \"just\", \"just\", \"just\", \"just\", \"just\", \"just\", \"kalbi\", \"kalua\", \"karaoke\", \"katsu\", \"keeping\", \"keller\", \"ketchup\", \"kicked\", \"kid\", \"kid\", \"kids\", \"kids\", \"kids\", \"kiki\", \"killer\", \"killer\", \"kim\", \"kimchi\", \"kinda\", \"king\", \"knots\", \"know\", \"know\", \"know\", \"know\", \"know\", \"know\", \"know\", \"knowledgeable\", \"knows\", \"knows\", \"knows\", \"kobe\", \"korean\", \"lady\", \"lamb\", \"las\", \"lasagna\", \"lately\", \"later\", \"later\", \"later\", \"latte\", \"lau\", \"layout\", \"lazy\", \"leaving\", \"legs\", \"legs\", \"lemon\", \"lemon\", \"lemon\", \"lemon\", \"lentil\", \"les\", \"let\", \"let\", \"let\", \"let\", \"let\", \"let\", \"let\", \"let\", \"let\", \"lettuce\", \"lettuce\", \"level\", \"level\", \"level\", \"level\", \"level\", \"lgo\", \"liberty\", \"like\", \"like\", \"like\", \"like\", \"like\", \"like\", \"like\", \"like\", \"like\", \"like\", \"like\", \"like\", \"like\", \"like\", \"like\", \"like\", \"line\", \"line\", \"line\", \"line\", \"list\", \"list\", \"list\", \"list\", \"little\", \"little\", \"little\", \"little\", \"little\", \"little\", \"little\", \"little\", \"little\", \"little\", \"little\", \"live\", \"live\", \"live\", \"live\", \"live\", \"loaded\", \"loaf\", \"lobby\", \"lobster\", \"local\", \"local\", \"local\", \"local\", \"local\", \"local\", \"local\", \"locals\", \"location\", \"location\", \"location\", \"location\", \"location\", \"location\", \"location\", \"location\", \"location\", \"location\", \"location\", \"loco\", \"lol\", \"lol\", \"lola\", \"long\", \"long\", \"long\", \"long\", \"long\", \"longer\", \"looked\", \"los\", \"lost\", \"lots\", \"lots\", \"lots\", \"lots\", \"lots\", \"lots\", \"lotus\", \"loud\", \"loud\", \"loud\", \"love\", \"love\", \"love\", \"love\", \"love\", \"love\", \"love\", \"love\", \"love\", \"love\", \"loved\", \"loved\", \"loved\", \"loved\", \"loved\", \"loving\", \"luckily\", \"lunch\", \"lunch\", \"lunch\", \"lunch\", \"lunch\", \"lux\", \"lychee\", \"mac\", \"macaroni\", \"macaroni\", \"madison\", \"mahi\", \"make\", \"make\", \"make\", \"make\", \"make\", \"make\", \"make\", \"make\", \"make\", \"make\", \"mall\", \"mall\", \"mall\", \"mama\", \"manage\", \"managed\", \"manager\", \"manager\", \"manager\", \"mango\", \"mango\", \"mango\", \"maple\", \"marc\", \"march\", \"margaritas\", \"margherita\", \"marinated\", \"market\", \"marrow\", \"martinis\", \"mary\", \"mash\", \"mashed\", \"matcha\", \"matt\", \"maui\", \"maybe\", \"maybe\", \"maybe\", \"mayo\", \"meal\", \"meal\", \"meal\", \"meal\", \"meal\", \"meal\", \"meal\", \"meal\", \"meant\", \"meat\", \"meat\", \"meat\", \"meat\", \"meat\", \"meat\", \"meat\", \"meat\", \"meatball\", \"meatballs\", \"meatballs\", \"meatloaf\", \"meats\", \"meats\", \"meats\", \"meats\", \"meats\", \"meats\", \"mediterranean\", \"mediterranean\", \"medium\", \"medium\", \"medium\", \"mein\", \"mellow\", \"melt\", \"melt\", \"melt\", \"melt\", \"melt\", \"melts\", \"member\", \"membership\", \"menu\", \"menu\", \"menu\", \"menu\", \"menu\", \"menu\", \"menu\", \"menu\", \"menu\", \"menu\", \"menu\", \"messed\", \"messy\", \"metro\", \"mexican\", \"mexico\", \"mgm\", \"michael\", \"middle\", \"midnight\", \"mignon\", \"milk\", \"milk\", \"milkshake\", \"milkshakes\", \"min\", \"mind\", \"mind\", \"mind\", \"minutes\", \"minutes\", \"minutes\", \"miso\", \"miso\", \"missing\", \"misters\", \"miyagi\", \"mmm\", \"mmmm\", \"mmmmm\", \"mmmmmm\", \"moco\", \"mojito\", \"mole\", \"money\", \"money\", \"money\", \"monkey\", \"monster\", \"monta\", \"montagu\", \"monte\", \"monthly\", \"months\", \"morning\", \"morning\", \"morning\", \"mother\", \"mountain\", \"mouth\", \"mouth\", \"mouth\", \"mouth\", \"movie\", \"muffin\", \"muffins\", \"multiple\", \"munchies\", \"music\", \"music\", \"music\", \"music\", \"mussels\", \"musubi\", \"naan\", \"nachos\", \"nachos\", \"nachos\", \"nam\", \"named\", \"napkins\", \"natural\", \"nearly\", \"nearly\", \"nearly\", \"nearly\", \"nearly\", \"nearly\", \"nearly\", \"nestled\", \"new\", \"new\", \"new\", \"new\", \"new\", \"new\", \"new\", \"new\", \"new\", \"new\", \"nice\", \"nice\", \"nice\", \"nice\", \"nice\", \"nice\", \"nice\", \"nice\", \"nice\", \"nice\", \"nice\", \"nice\", \"nice\", \"nicest\", \"night\", \"night\", \"night\", \"night\", \"night\", \"night\", \"night\", \"nights\", \"nights\", \"nights\", \"nigiri\", \"nom\", \"non\", \"non\", \"non\", \"non\", \"non\", \"non\", \"non\", \"non\", \"noodle\", \"noodles\", \"noodles\", \"northern\", \"nuff\", \"nyc\", \"oatmeal\", \"occasion\", \"occasion\", \"occasional\", \"offer\", \"ohio\", \"old\", \"old\", \"old\", \"old\", \"old\", \"old\", \"old\", \"old\", \"olive\", \"olive\", \"omelet\", \"omelette\", \"onion\", \"onions\", \"onions\", \"onions\", \"onions\", \"ono\", \"opening\", \"opening\", \"opportunity\", \"options\", \"options\", \"options\", \"options\", \"options\", \"options\", \"orange\", \"orange\", \"orange\", \"order\", \"order\", \"order\", \"order\", \"order\", \"order\", \"order\", \"order\", \"order\", \"order\", \"order\", \"ordered\", \"ordered\", \"ordered\", \"ordered\", \"ordered\", \"oreo\", \"organic\", \"outrageous\", \"outside\", \"outside\", \"outside\", \"outside\", \"outside\", \"outside\", \"outside\", \"outside\", \"outside\", \"outside\", \"outside\", \"outta\", \"oven\", \"oven\", \"overall\", \"overall\", \"overall\", \"overrated\", \"owner\", \"owner\", \"owner\", \"owner\", \"owner\", \"owner\", \"owner\", \"owner\", \"owner\", \"owner\", \"owners\", \"owners\", \"owners\", \"ownership\", \"oyster\", \"oysters\", \"ozzy\", \"pace\", \"pad\", \"paired\", \"palace\", \"pan\", \"panang\", \"pancake\", \"pancakes\", \"panna\", \"papago\", \"paradise\", \"paradise\", \"paris\", \"paris\", \"park\", \"park\", \"park\", \"parking\", \"parking\", \"parking\", \"parmesan\", \"parmesan\", \"parmesan\", \"parmesan\", \"parties\", \"partner\", \"parts\", \"pass\", \"pass\", \"pass\", \"pass\", \"pasta\", \"pastor\", \"pastries\", \"pasty\", \"patio\", \"patio\", \"patio\", \"patio\", \"patrons\", \"patties\", \"patty\", \"peaks\", \"peanut\", \"peanut\", \"peanut\", \"peanut\", \"people\", \"people\", \"people\", \"people\", \"people\", \"pepperoni\", \"perfect\", \"perfect\", \"perfect\", \"perfect\", \"perfect\", \"perfect\", \"perfect\", \"perfect\", \"perfect\", \"perfect\", \"perfect\", \"perfectly\", \"perfectly\", \"perfectly\", \"perfectly\", \"person\", \"person\", \"person\", \"personal\", \"pesto\", \"pet\", \"philly\", \"pho\", \"phoenix\", \"phoenix\", \"phone\", \"pickles\", \"picnic\", \"pico\", \"pie\", \"pie\", \"pie\", \"piece\", \"piece\", \"piece\", \"pies\", \"pies\", \"pink\", \"pistachio\", \"pita\", \"pitcher\", \"pizza\", \"pizzas\", \"pizzas\", \"pizzeria\", \"place\", \"place\", \"place\", \"place\", \"place\", \"place\", \"place\", \"place\", \"place\", \"place\", \"place\", \"places\", \"places\", \"places\", \"places\", \"places\", \"places\", \"places\", \"plain\", \"plate\", \"plate\", \"plates\", \"player\", \"playing\", \"plentiful\", \"plus\", \"plus\", \"plus\", \"plus\", \"plus\", \"plus\", \"plus\", \"poblano\", \"points\", \"points\", \"poke\", \"policy\", \"polite\", \"pollo\", \"pool\", \"poppers\", \"pork\", \"pork\", \"portion\", \"portion\", \"portion\", \"portion\", \"portion\", \"portions\", \"portions\", \"portuguese\", \"potato\", \"potato\", \"potato\", \"potatoes\", \"potatoes\", \"potatoes\", \"pound\", \"pound\", \"pound\", \"pour\", \"poutine\", \"powder\", \"powder\", \"power\", \"prawns\", \"preference\", \"preferred\", \"prepared\", \"prepared\", \"prepared\", \"prepared\", \"prepared\", \"present\", \"presentation\", \"presentation\", \"pretty\", \"pretty\", \"pretty\", \"pretty\", \"pretty\", \"pretty\", \"pretty\", \"pretty\", \"price\", \"price\", \"price\", \"price\", \"price\", \"price\", \"prices\", \"prices\", \"prices\", \"prices\", \"prices\", \"prices\", \"prices\", \"prime\", \"prior\", \"prix\", \"probably\", \"probably\", \"probably\", \"probably\", \"produce\", \"products\", \"products\", \"products\", \"products\", \"products\", \"promise\", \"prompt\", \"properly\", \"pros\", \"pub\", \"pub\", \"public\", \"pudding\", \"pudding\", \"pudding\", \"pulled\", \"pulled\", \"punch\", \"purple\", \"push\", \"quality\", \"quality\", \"quality\", \"quality\", \"quality\", \"quality\", \"quality\", \"que\", \"queen\", \"queso\", \"quiche\", \"quick\", \"quick\", \"quick\", \"quick\", \"quick\", \"ramen\", \"ramsay\", \"ramsey\", \"ran\", \"ranch\", \"ranch\", \"ranch\", \"ranch\", \"random\", \"rare\", \"rare\", \"rarely\", \"raspberry\", \"rate\", \"ratio\", \"raw\", \"raw\", \"raw\", \"raw\", \"read\", \"ready\", \"ready\", \"real\", \"real\", \"real\", \"really\", \"really\", \"really\", \"really\", \"really\", \"really\", \"really\", \"really\", \"really\", \"really\", \"really\", \"reasonable\", \"reasonable\", \"reasonable\", \"reasonable\", \"reasonably\", \"recommend\", \"recommend\", \"recommend\", \"recommend\", \"recommend\", \"recommend\", \"recommend\", \"recommended\", \"red\", \"red\", \"red\", \"red\", \"red\", \"red\", \"red\", \"red\", \"red\", \"regulars\", \"regulars\", \"regulars\", \"reliable\", \"remembered\", \"remind\", \"report\", \"requested\", \"reservation\", \"reservation\", \"reserve\", \"reserved\", \"respect\", \"rest\", \"rest\", \"restaurant\", \"restaurant\", \"restaurant\", \"restaurant\", \"restaurant\", \"restaurant\", \"restaurant\", \"restaurant\", \"restaurant\", \"restaurant\", \"restaurant\", \"restaurant\", \"restaurant\", \"restaurant\", \"restaurant\", \"restaurants\", \"restaurants\", \"restaurants\", \"restaurants\", \"restaurants\", \"restaurants\", \"restaurants\", \"restaurants\", \"reviews\", \"reviews\", \"reviews\", \"reviews\", \"rewards\", \"rib\", \"ribbon\", \"ribeye\", \"ribs\", \"rice\", \"rice\", \"ricotta\", \"ricotta\", \"right\", \"right\", \"right\", \"right\", \"right\", \"right\", \"right\", \"right\", \"right\", \"right\", \"right\", \"right\", \"right\", \"right\", \"right\", \"rings\", \"rock\", \"rock\", \"rock\", \"rock\", \"rocks\", \"roll\", \"roll\", \"roll\", \"roll\", \"rolls\", \"rolls\", \"rolls\", \"ronin\", \"room\", \"room\", \"room\", \"room\", \"room\", \"root\", \"root\", \"rose\", \"row\", \"rude\", \"running\", \"said\", \"said\", \"said\", \"said\", \"saimin\", \"sake\", \"salad\", \"salad\", \"salad\", \"salad\", \"salad\", \"salad\", \"salad\", \"salad\", \"salads\", \"salami\", \"salmon\", \"salmon\", \"salmon\", \"salsa\", \"salsas\", \"salty\", \"salty\", \"salty\", \"salty\", \"sammy\", \"sampler\", \"san\", \"san\", \"san\", \"sandwich\", \"sandwich\", \"sandwiches\", \"sandwiches\", \"sandwiches\", \"sandwiches\", \"sandwiches\", \"sangria\", \"sangria\", \"sapporo\", \"sashimi\", \"satay\", \"satisfy\", \"sauce\", \"sauce\", \"sauce\", \"sauce\", \"sauce\", \"sauce\", \"sauce\", \"sauces\", \"sausage\", \"sausage\", \"sausage\", \"sausage\", \"sausage\", \"save\", \"save\", \"save\", \"save\", \"save\", \"saw\", \"saw\", \"saw\", \"say\", \"say\", \"say\", \"say\", \"say\", \"say\", \"say\", \"say\", \"scallops\", \"scampi\", \"school\", \"school\", \"school\", \"school\", \"scramble\", \"scrambled\", \"screen\", \"screens\", \"sea\", \"seafood\", \"seared\", \"seared\", \"seasoning\", \"seated\", \"seated\", \"seated\", \"seating\", \"seating\", \"seating\", \"seating\", \"seating\", \"seating\", \"section\", \"section\", \"section\", \"section\", \"security\", \"seen\", \"selection\", \"selection\", \"selection\", \"selection\", \"sense\", \"sense\", \"serendipity\", \"served\", \"served\", \"served\", \"served\", \"served\", \"served\", \"served\", \"served\", \"server\", \"server\", \"server\", \"service\", \"service\", \"service\", \"service\", \"service\", \"service\", \"service\", \"service\", \"service\", \"services\", \"sesame\", \"setup\", \"shabu\", \"shack\", \"shack\", \"shake\", \"shakes\", \"shame\", \"shawarma\", \"shirt\", \"shirts\", \"shooters\", \"shop\", \"shop\", \"shop\", \"shop\", \"shop\", \"short\", \"short\", \"shoyu\", \"shoyu\", \"shrimp\", \"shrimp\", \"shrimp\", \"shrimp\", \"shrimp\", \"shrimps\", \"siam\", \"sick\", \"silverware\", \"sit\", \"sit\", \"sit\", \"sit\", \"sit\", \"sit\", \"sitting\", \"situated\", \"size\", \"size\", \"size\", \"skewers\", \"skip\", \"skip\", \"slaw\", \"slaw\", \"slice\", \"slice\", \"slice\", \"slice\", \"slices\", \"slices\", \"slices\", \"sliders\", \"sliders\", \"slot\", \"small\", \"small\", \"small\", \"small\", \"small\", \"small\", \"small\", \"smash\", \"smoked\", \"smoked\", \"smokey\", \"smoothie\", \"snack\", \"snow\", \"snow\", \"soho\", \"somewhat\", \"son\", \"son\", \"song\", \"soo\", \"soooo\", \"soooo\", \"sora\", \"sorbet\", \"soul\", \"soup\", \"soup\", \"soup\", \"south\", \"southern\", \"spam\", \"spam\", \"spanish\", \"speaking\", \"special\", \"special\", \"special\", \"special\", \"special\", \"special\", \"special\", \"specials\", \"specialties\", \"speed\", \"spend\", \"spice\", \"spicy\", \"spicy\", \"spicy\", \"spicy\", \"spicy\", \"spoiled\", \"spoon\", \"spoon\", \"sports\", \"spot\", \"spot\", \"spot\", \"spot\", \"spot\", \"spring\", \"spring\", \"spring\", \"squash\", \"squash\", \"squid\", \"stack\", \"staff\", \"staff\", \"staff\", \"staff\", \"stage\", \"stale\", \"standards\", \"stars\", \"stars\", \"stars\", \"stars\", \"stars\", \"stars\", \"stars\", \"stars\", \"starting\", \"starving\", \"stay\", \"stay\", \"staying\", \"staying\", \"steak\", \"steak\", \"steak\", \"steak\", \"steakhouse\", \"steaks\", \"steamed\", \"steer\", \"step\", \"step\", \"step\", \"step\", \"stick\", \"stick\", \"sticky\", \"store\", \"stores\", \"story\", \"story\", \"strawberries\", \"strawberry\", \"strip\", \"strip\", \"strips\", \"strong\", \"strong\", \"strong\", \"strong\", \"studio\", \"style\", \"style\", \"style\", \"style\", \"style\", \"style\", \"sub\", \"substitutions\", \"sucks\", \"sugar\", \"suggested\", \"sun\", \"sundae\", \"sunday\", \"sunday\", \"sunday\", \"sunday\", \"sunday\", \"sunrise\", \"super\", \"super\", \"super\", \"super\", \"super\", \"super\", \"superb\", \"superb\", \"superb\", \"supermarket\", \"sure\", \"sure\", \"sure\", \"sure\", \"sure\", \"sure\", \"sure\", \"sure\", \"sure\", \"surely\", \"surprises\", \"surprisingly\", \"surrounding\", \"sushi\", \"sweet\", \"sweet\", \"sweet\", \"sweet\", \"sweet\", \"sweet\", \"sweet\", \"sweet\", \"syrup\", \"table\", \"table\", \"table\", \"table\", \"table\", \"table\", \"taco\", \"tacos\", \"tag\", \"taiwanese\", \"talk\", \"talk\", \"talk\", \"tao\", \"tap\", \"taro\", \"tartar\", \"taste\", \"taste\", \"taste\", \"taste\", \"taste\", \"taste\", \"taste\", \"taste\", \"taste\", \"tasted\", \"tasted\", \"tasted\", \"tasted\", \"tasted\", \"tasted\", \"tasty\", \"tasty\", \"tasty\", \"tasty\", \"tasty\", \"tasty\", \"tasty\", \"tasty\", \"tasty\", \"tax\", \"tea\", \"team\", \"teas\", \"teas\", \"temperature\", \"tempura\", \"tempura\", \"tender\", \"tender\", \"tender\", \"tender\", \"tender\", \"tenders\", \"teriyaki\", \"terrible\", \"texas\", \"text\", \"thai\", \"thank\", \"thank\", \"thank\", \"thank\", \"thanks\", \"thats\", \"theater\", \"themed\", \"thing\", \"thing\", \"thing\", \"thing\", \"thing\", \"think\", \"think\", \"think\", \"think\", \"think\", \"think\", \"think\", \"think\", \"thought\", \"thought\", \"thought\", \"thought\", \"thrilled\", \"thursday\", \"thursday\", \"till\", \"time\", \"time\", \"time\", \"time\", \"time\", \"time\", \"time\", \"time\", \"time\", \"time\", \"time\", \"time\", \"timely\", \"tip\", \"tip\", \"toast\", \"today\", \"today\", \"toffee\", \"tofu\", \"told\", \"told\", \"told\", \"tom\", \"tom\", \"tom\", \"tomato\", \"tomato\", \"tomato\", \"tomato\", \"tomato\", \"tomatoes\", \"tomatoes\", \"tomorrow\", \"tongue\", \"tongue\", \"tonkatsu\", \"tonkatsu\", \"tonkotsu\", \"took\", \"took\", \"toppings\", \"toppings\", \"toppings\", \"toppings\", \"toppings\", \"tortilla\", \"tortillas\", \"town\", \"town\", \"town\", \"town\", \"treasure\", \"treat\", \"treat\", \"tried\", \"tried\", \"tried\", \"tried\", \"tried\", \"tried\", \"tried\", \"tried\", \"tried\", \"tried\", \"tried\", \"tried\", \"trip\", \"trip\", \"trip\", \"trip\", \"trip\", \"trip\", \"trip\", \"trip\", \"trip\", \"trip\", \"trip\", \"trivia\", \"tropical\", \"trout\", \"truck\", \"truffle\", \"truffle\", \"truly\", \"truly\", \"truth\", \"try\", \"try\", \"try\", \"try\", \"try\", \"try\", \"try\", \"try\", \"try\", \"try\", \"try\", \"try\", \"try\", \"try\", \"tuesdays\", \"tuna\", \"tuna\", \"turkey\", \"turkey\", \"turn\", \"turn\", \"twin\", \"udon\", \"ufc\", \"ultimate\", \"uni\", \"unusual\", \"update\", \"upgrade\", \"use\", \"use\", \"uuu\", \"varied\", \"variety\", \"variety\", \"variety\", \"variety\", \"variety\", \"variety\", \"variety\", \"variety\", \"variety\", \"variety\", \"variety\", \"variety\", \"vast\", \"veal\", \"vegan\", \"vegans\", \"vegas\", \"vegas\", \"vegas\", \"vegas\", \"vegas\", \"vegas\", \"vegas\", \"vegetable\", \"vegetables\", \"vegetarian\", \"veggie\", \"velvet\", \"venetian\", \"venetian\", \"venue\", \"vermicelli\", \"vibe\", \"vibe\", \"vibe\", \"vibes\", \"vietnamese\", \"vietnamese\", \"view\", \"view\", \"view\", \"view\", \"vinaigrette\", \"visit\", \"visit\", \"visit\", \"visit\", \"visit\", \"visit\", \"visit\", \"visit\", \"vodka\", \"vodka\", \"vodka\", \"vodka\", \"vodka\", \"waffle\", \"waffles\", \"wagyu\", \"wait\", \"wait\", \"wait\", \"wait\", \"wait\", \"waiter\", \"waiter\", \"waiter\", \"waiting\", \"waiting\", \"waitress\", \"waitress\", \"waitstaff\", \"wake\", \"walk\", \"walk\", \"walk\", \"walk\", \"wallet\", \"walls\", \"walls\", \"walnut\", \"want\", \"want\", \"want\", \"want\", \"want\", \"want\", \"wanted\", \"wanted\", \"wanted\", \"wanted\", \"wanted\", \"wanted\", \"wants\", \"warm\", \"warm\", \"wasabi\", \"wash\", \"watch\", \"watch\", \"watch\", \"watch\", \"watched\", \"watered\", \"way\", \"way\", \"way\", \"way\", \"way\", \"way\", \"way\", \"way\", \"way\", \"way\", \"way\", \"way\", \"way\", \"way\", \"weak\", \"weather\", \"weather\", \"weather\", \"weather\", \"weather\", \"week\", \"week\", \"week\", \"week\", \"week\", \"week\", \"weekly\", \"went\", \"went\", \"went\", \"went\", \"went\", \"west\", \"wheat\", \"white\", \"white\", \"wicked\", \"wife\", \"wifi\", \"wifi\", \"wine\", \"wine\", \"wine\", \"wine\", \"wines\", \"wing\", \"wings\", \"wonderful\", \"wonderful\", \"wonderful\", \"wonderful\", \"wonderful\", \"wonderful\", \"wonderfully\", \"wonton\", \"worker\", \"workers\", \"workers\", \"works\", \"worry\", \"worry\", \"worst\", \"worth\", \"worth\", \"worth\", \"worth\", \"worth\", \"worth\", \"worth\", \"worth\", \"worth\", \"worth\", \"wraps\", \"wtf\", \"wynn\", \"years\", \"years\", \"years\", \"years\", \"years\", \"yellowtail\", \"yelp\", \"yelp\", \"yelp\", \"yelp\", \"yelp\", \"yogurt\", \"york\", \"york\", \"young\", \"yum\", \"yum\", \"yum\", \"yummy\", \"yummy\", \"yummy\", \"yummy\", \"yummy\"]}, \"R\": 30, \"lambda.step\": 0.01, \"plot.opts\": {\"xlab\": \"PC1\", \"ylab\": \"PC2\"}, \"topic.order\": [24, 23, 12, 22, 9, 14, 18, 21, 7, 29, 16, 8, 1, 13, 27, 10, 26, 30, 11, 20, 15, 28, 25, 6, 5, 3, 4, 17, 2, 19]};\n",
       "\n",
       "function LDAvis_load_lib(url, callback){\n",
       "  var s = document.createElement('script');\n",
       "  s.src = url;\n",
       "  s.async = true;\n",
       "  s.onreadystatechange = s.onload = callback;\n",
       "  s.onerror = function(){console.warn(\"failed to load library \" + url);};\n",
       "  document.getElementsByTagName(\"head\")[0].appendChild(s);\n",
       "}\n",
       "\n",
       "if(typeof(LDAvis) !== \"undefined\"){\n",
       "   // already loaded: just create the visualization\n",
       "   !function(LDAvis){\n",
       "       new LDAvis(\"#\" + \"ldavis_el123331142013663443451667087\", ldavis_el123331142013663443451667087_data);\n",
       "   }(LDAvis);\n",
       "}else if(typeof define === \"function\" && define.amd){\n",
       "   // require.js is available: use it to load d3/LDAvis\n",
       "   require.config({paths: {d3: \"https://cdnjs.cloudflare.com/ajax/libs/d3/3.5.5/d3.min\"}});\n",
       "   require([\"d3\"], function(d3){\n",
       "      window.d3 = d3;\n",
       "      LDAvis_load_lib(\"https://cdn.rawgit.com/bmabey/pyLDAvis/files/ldavis.v1.0.0.js\", function(){\n",
       "        new LDAvis(\"#\" + \"ldavis_el123331142013663443451667087\", ldavis_el123331142013663443451667087_data);\n",
       "      });\n",
       "    });\n",
       "}else{\n",
       "    // require.js not available: dynamically load d3 & LDAvis\n",
       "    LDAvis_load_lib(\"https://cdnjs.cloudflare.com/ajax/libs/d3/3.5.5/d3.min.js\", function(){\n",
       "         LDAvis_load_lib(\"https://cdn.rawgit.com/bmabey/pyLDAvis/files/ldavis.v1.0.0.js\", function(){\n",
       "                 new LDAvis(\"#\" + \"ldavis_el123331142013663443451667087\", ldavis_el123331142013663443451667087_data);\n",
       "            })\n",
       "         });\n",
       "}\n",
       "</script>"
      ],
      "text/plain": [
       "PreparedData(topic_coordinates=              x         y  topics  cluster       Freq\n",
       "topic                                                \n",
       "23     0.294302 -0.036617       1        1  33.029650\n",
       "22     0.227528  0.000587       2        1   9.963829\n",
       "11     0.169908  0.180692       3        1   6.332494\n",
       "21     0.264949 -0.064464       4        1   6.264154\n",
       "8      0.147092  0.217478       5        1   5.049478\n",
       "13     0.165261 -0.221583       6        1   3.286764\n",
       "17     0.096269 -0.224925       7        1   3.202894\n",
       "20     0.097972 -0.024367       8        1   3.180274\n",
       "6      0.140598 -0.060438       9        1   2.872896\n",
       "28     0.031350  0.120549      10        1   2.622832\n",
       "15     0.034308 -0.145419      11        1   2.397006\n",
       "7      0.038676  0.023711      12        1   2.232024\n",
       "0      0.077984 -0.027865      13        1   1.710566\n",
       "12     0.010635  0.155487      14        1   1.666908\n",
       "26    -0.045712  0.076401      15        1   1.627689\n",
       "9     -0.043098  0.056837      16        1   1.510296\n",
       "25     0.040121  0.065512      17        1   1.489536\n",
       "29    -0.008949  0.153788      18        1   1.352970\n",
       "10    -0.119066  0.054424      19        1   1.303736\n",
       "19    -0.108709 -0.012380      20        1   1.143226\n",
       "14    -0.157913 -0.044136      21        1   0.943750\n",
       "27    -0.147393  0.008026      22        1   0.936576\n",
       "24    -0.138442  0.063764      23        1   0.928401\n",
       "5     -0.145486 -0.033656      24        1   0.902696\n",
       "4     -0.149688 -0.034623      25        1   0.736553\n",
       "2     -0.159501 -0.041514      26        1   0.714899\n",
       "3     -0.140905 -0.026685      27        1   0.698765\n",
       "16    -0.156298 -0.043598      28        1   0.669276\n",
       "1     -0.148349 -0.105314      29        1   0.621464\n",
       "18    -0.167443 -0.029674      30        1   0.608399, topic_info=      Category           Freq         Term          Total  loglift  logprob\n",
       "term                                                                       \n",
       "10892  Default  178391.000000        great  178391.000000  30.0000  30.0000\n",
       "10671  Default  207423.000000         good  207423.000000  29.0000  29.0000\n",
       "18697  Default  192375.000000        place  192375.000000  28.0000  28.0000\n",
       "22126  Default  127681.000000      service  127681.000000  27.0000  27.0000\n",
       "26694  Default   51449.000000        vegas   51449.000000  26.0000  26.0000\n",
       "18676  Default   47606.000000        pizza   47606.000000  25.0000  25.0000\n",
       "2216   Default   85600.000000         best   85600.000000  24.0000  24.0000\n",
       "14645  Default   86448.000000         love   86448.000000  23.0000  23.0000\n",
       "3347   Default   41698.000000       burger   41698.000000  22.0000  22.0000\n",
       "4323   Default   44960.000000       cheese   44960.000000  21.0000  21.0000\n",
       "24429  Default   30135.000000        sushi   30135.000000  20.0000  20.0000\n",
       "4413   Default   66335.000000      chicken   66335.000000  19.0000  19.0000\n",
       "9950   Default   32817.000000        fries   32817.000000  18.0000  18.0000\n",
       "9942   Default   49096.000000     friendly   49096.000000  17.0000  17.0000\n",
       "2970   Default   30618.000000    breakfast   30618.000000  16.0000  16.0000\n",
       "23669  Default   45825.000000        staff   45825.000000  15.0000  15.0000\n",
       "715    Default   53347.000000      amazing   53347.000000  14.0000  14.0000\n",
       "2062   Default   31829.000000         beer   31829.000000  13.0000  13.0000\n",
       "1582   Default   40994.000000      awesome   40994.000000  12.0000  12.0000\n",
       "14285  Default  127186.000000         like  127186.000000  11.0000  11.0000\n",
       "1820   Default   44046.000000          bar   44046.000000  10.0000  10.0000\n",
       "16704  Default   33687.000000        night   33687.000000   9.0000   9.0000\n",
       "20111  Default   84361.000000       really   84361.000000   8.0000   8.0000\n",
       "3253   Default   27225.000000       buffet   27225.000000   7.0000   7.0000\n",
       "21638  Default   44587.000000        sauce   44587.000000   6.0000   6.0000\n",
       "19307  Default   42419.000000       pretty   42419.000000   5.0000   5.0000\n",
       "12013  Default   30820.000000          hot   30820.000000   4.0000   4.0000\n",
       "4974   Default   24307.000000       coffee   24307.000000   3.0000   3.0000\n",
       "25336  Default  107831.000000         time  107831.000000   2.0000   2.0000\n",
       "9909   Default   47448.000000        fresh   47448.000000   1.0000   1.0000\n",
       "...        ...            ...          ...            ...      ...      ...\n",
       "9725   Topic30    3498.849278      forever    3504.044904   5.1006  -3.3327\n",
       "3451   Topic30    2561.427599      buttery    2566.623817   5.1001  -3.6446\n",
       "16208  Topic30    2424.204102        movie    2429.399718   5.1000  -3.6996\n",
       "11169  Topic30    2088.568199         gyro    2093.763815   5.0996  -3.8486\n",
       "5664   Topic30    1784.410122       corned    1789.605738   5.0992  -4.0060\n",
       "6713   Topic30    1762.111824     delivery    1767.307441   5.0992  -4.0186\n",
       "22550  Topic30    1687.125025         sick    1692.320641   5.0990  -4.0621\n",
       "18601  Topic30    1596.541503         pink    1601.737120   5.0988  -4.1173\n",
       "2208   Topic30    1400.867110        berry    1406.062726   5.0984  -4.2480\n",
       "21629  Topic30    1336.127354      satisfy    1341.322971   5.0982  -4.2953\n",
       "12555  Topic30    1294.227978  inexpensive    1299.423594   5.0981  -4.3272\n",
       "16443  Topic30    1265.183745      napkins    1270.379361   5.0980  -4.3499\n",
       "17991  Topic30    1063.911596        parts    1069.107212   5.0972  -4.5232\n",
       "22936  Topic30     992.513520        smash     997.709136   5.0969  -4.5926\n",
       "9228   Topic30     980.447714        fight     985.643330   5.0968  -4.6049\n",
       "24414  Topic30     951.262656  surrounding     956.458312   5.0966  -4.6351\n",
       "9032   Topic30     907.418289      fashion     912.613906   5.0964  -4.6823\n",
       "15462  Topic30     878.080560   membership     883.276176   5.0962  -4.7151\n",
       "12002  Topic30     871.384357  hospitality     876.579973   5.0962  -4.7228\n",
       "8273   Topic30     858.267492      endless     863.463108   5.0961  -4.7380\n",
       "6209   Topic30     837.129510        curds     842.325126   5.0959  -4.7629\n",
       "24634  Topic30     816.957631          tag     822.153247   5.0958  -4.7873\n",
       "13512  Topic30     791.984403       keller     797.180019   5.0956  -4.8183\n",
       "10390  Topic30     783.762571      genuine     788.958187   5.0955  -4.8288\n",
       "1711   Topic30     767.315359         bake     772.510975   5.0953  -4.8500\n",
       "22374  Topic30     739.242496        shirt     744.438112   5.0951  -4.8872\n",
       "20674  Topic30     702.031939     reserved     707.227555   5.0947  -4.9389\n",
       "16386  Topic30     652.792308         naan     657.987924   5.0942  -5.0116\n",
       "25804  Topic30     618.220538     treasure     623.416154   5.0937  -5.0660\n",
       "22613  Topic30     617.159505   silverware     622.355121   5.0937  -5.0677\n",
       "\n",
       "[1509 rows x 6 columns], token_table=       Topic      Freq         Term\n",
       "term                               \n",
       "51         1  0.340652   absolutely\n",
       "51         2  0.271959   absolutely\n",
       "51         6  0.317421   absolutely\n",
       "51        13  0.064337   absolutely\n",
       "51        17  0.005354   absolutely\n",
       "92        27  0.991576       access\n",
       "122       23  0.994300  accompanied\n",
       "136       13  0.991427      account\n",
       "214        1  0.892963     actually\n",
       "214        3  0.060178     actually\n",
       "214        9  0.034189     actually\n",
       "214       18  0.012364     actually\n",
       "290       24  0.995879        adobo\n",
       "314        8  0.994661        adult\n",
       "315       11  0.993733       adults\n",
       "380        7  0.996281       afraid\n",
       "454        2  0.998677          ahi\n",
       "483        2  0.157937        aioli\n",
       "483       16  0.839007        aioli\n",
       "531       23  0.991815      alaskan\n",
       "560        8  0.997649          ale\n",
       "577       17  0.992957      alfredo\n",
       "646       15  0.997684       almond\n",
       "652       27  0.997436        aloha\n",
       "715        1  0.093968      amazing\n",
       "715        2  0.006823      amazing\n",
       "715        3  0.035409      amazing\n",
       "715        4  0.429801      amazing\n",
       "715        5  0.000037      amazing\n",
       "715        6  0.410813      amazing\n",
       "...      ...       ...          ...\n",
       "27748     12  0.026344        worth\n",
       "27748     13  0.080708        worth\n",
       "27748     17  0.000443        worth\n",
       "27748     18  0.000032        worth\n",
       "27772      3  0.996194        wraps\n",
       "27800     13  0.992758          wtf\n",
       "27812     14  0.998144         wynn\n",
       "27882      1  0.591796        years\n",
       "27882      8  0.132362        years\n",
       "27882     10  0.215967        years\n",
       "27882     17  0.057765        years\n",
       "27882     20  0.001738        years\n",
       "27895     24  0.996277   yellowtail\n",
       "27897      1  0.553966         yelp\n",
       "27897      3  0.110595         yelp\n",
       "27897      8  0.023082         yelp\n",
       "27897     11  0.210711         yelp\n",
       "27897     13  0.101320         yelp\n",
       "27942     15  0.995187       yogurt\n",
       "27959      8  0.000711         york\n",
       "27959     17  0.997578         york\n",
       "27971      7  0.998192        young\n",
       "27996      1  0.502955          yum\n",
       "27996      2  0.095042          yum\n",
       "27996      8  0.401553          yum\n",
       "28017      1  0.225787        yummy\n",
       "28017      2  0.000288        yummy\n",
       "28017      3  0.270990        yummy\n",
       "28017      4  0.466181        yummy\n",
       "28017      5  0.036462        yummy\n",
       "\n",
       "[3015 rows x 3 columns], R=30, lambda_step=0.01, plot_opts={'xlab': 'PC1', 'ylab': 'PC2'}, topic_order=[24, 23, 12, 22, 9, 14, 18, 21, 7, 29, 16, 8, 1, 13, 27, 10, 26, 30, 11, 20, 15, 28, 25, 6, 5, 3, 4, 17, 2, 19])"
      ]
     },
     "execution_count": 185,
     "metadata": {},
     "output_type": "execute_result"
    }
   ],
   "source": [
    "import pyLDAvis\n",
    "import pyLDAvis.sklearn\n",
    "pyLDAvis.enable_notebook()\n",
    "\n",
    "pyLDAvis.sklearn.prepare(lda_tf, dtm_tf, tf_vectorizer)"
   ]
  },
  {
   "cell_type": "code",
   "execution_count": null,
   "metadata": {},
   "outputs": [],
   "source": []
  }
 ],
 "metadata": {
  "kernelspec": {
   "display_name": "Python 3",
   "language": "python",
   "name": "python3"
  },
  "language_info": {
   "codemirror_mode": {
    "name": "ipython",
    "version": 3
   },
   "file_extension": ".py",
   "mimetype": "text/x-python",
   "name": "python",
   "nbconvert_exporter": "python",
   "pygments_lexer": "ipython3",
   "version": "3.6.5"
  }
 },
 "nbformat": 4,
 "nbformat_minor": 2
}
